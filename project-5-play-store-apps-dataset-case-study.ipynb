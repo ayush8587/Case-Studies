{
 "cells": [
  {
   "cell_type": "code",
   "execution_count": 1,
   "id": "31ff4656",
   "metadata": {
    "_cell_guid": "b1076dfc-b9ad-4769-8c92-a6c4dae69d19",
    "_uuid": "8f2839f25d086af736a60e9eeb907d3b93b6e0e5",
    "execution": {
     "iopub.execute_input": "2023-08-05T15:20:37.790505Z",
     "iopub.status.busy": "2023-08-05T15:20:37.790022Z",
     "iopub.status.idle": "2023-08-05T15:20:37.814138Z",
     "shell.execute_reply": "2023-08-05T15:20:37.812574Z"
    },
    "papermill": {
     "duration": 0.043499,
     "end_time": "2023-08-05T15:20:37.816900",
     "exception": false,
     "start_time": "2023-08-05T15:20:37.773401",
     "status": "completed"
    },
    "tags": []
   },
   "outputs": [
    {
     "name": "stdout",
     "output_type": "stream",
     "text": [
      "/kaggle/input/google-play-store-apps/googleplaystore.csv\n",
      "/kaggle/input/google-play-store-apps/license.txt\n",
      "/kaggle/input/google-play-store-apps/googleplaystore_user_reviews.csv\n"
     ]
    }
   ],
   "source": [
    "# This Python 3 environment comes with many helpful analytics libraries installed\n",
    "# It is defined by the kaggle/python Docker image: https://github.com/kaggle/docker-python\n",
    "# For example, here's several helpful packages to load\n",
    "\n",
    "import numpy as np # linear algebra\n",
    "import pandas as pd # data processing, CSV file I/O (e.g. pd.read_csv)\n",
    "\n",
    "# Input data files are available in the read-only \"../input/\" directory\n",
    "# For example, running this (by clicking run or pressing Shift+Enter) will list all files under the input directory\n",
    "\n",
    "import os\n",
    "for dirname, _, filenames in os.walk('/kaggle/input'):\n",
    "    for filename in filenames:\n",
    "        print(os.path.join(dirname, filename))\n",
    "\n",
    "# You can write up to 20GB to the current directory (/kaggle/working/) that gets preserved as output when you create a version using \"Save & Run All\" \n",
    "# You can also write temporary files to /kaggle/temp/, but they won't be saved outside of the current session"
   ]
  },
  {
   "cell_type": "markdown",
   "id": "779fdec2",
   "metadata": {
    "papermill": {
     "duration": 0.013745,
     "end_time": "2023-08-05T15:20:37.844954",
     "exception": false,
     "start_time": "2023-08-05T15:20:37.831209",
     "status": "completed"
    },
    "tags": []
   },
   "source": [
    "Reading the **googleplaystore.csv** into Dataframe(df)."
   ]
  },
  {
   "cell_type": "code",
   "execution_count": 2,
   "id": "6970de07",
   "metadata": {
    "execution": {
     "iopub.execute_input": "2023-08-05T15:20:37.877227Z",
     "iopub.status.busy": "2023-08-05T15:20:37.876774Z",
     "iopub.status.idle": "2023-08-05T15:20:38.019769Z",
     "shell.execute_reply": "2023-08-05T15:20:38.018798Z"
    },
    "papermill": {
     "duration": 0.16208,
     "end_time": "2023-08-05T15:20:38.022771",
     "exception": false,
     "start_time": "2023-08-05T15:20:37.860691",
     "status": "completed"
    },
    "tags": []
   },
   "outputs": [
    {
     "data": {
      "text/html": [
       "<div>\n",
       "<style scoped>\n",
       "    .dataframe tbody tr th:only-of-type {\n",
       "        vertical-align: middle;\n",
       "    }\n",
       "\n",
       "    .dataframe tbody tr th {\n",
       "        vertical-align: top;\n",
       "    }\n",
       "\n",
       "    .dataframe thead th {\n",
       "        text-align: right;\n",
       "    }\n",
       "</style>\n",
       "<table border=\"1\" class=\"dataframe\">\n",
       "  <thead>\n",
       "    <tr style=\"text-align: right;\">\n",
       "      <th></th>\n",
       "      <th>App</th>\n",
       "      <th>Category</th>\n",
       "      <th>Rating</th>\n",
       "      <th>Reviews</th>\n",
       "      <th>Size</th>\n",
       "      <th>Installs</th>\n",
       "      <th>Type</th>\n",
       "      <th>Price</th>\n",
       "      <th>Content Rating</th>\n",
       "      <th>Genres</th>\n",
       "      <th>Last Updated</th>\n",
       "      <th>Current Ver</th>\n",
       "      <th>Android Ver</th>\n",
       "    </tr>\n",
       "  </thead>\n",
       "  <tbody>\n",
       "    <tr>\n",
       "      <th>0</th>\n",
       "      <td>Photo Editor &amp; Candy Camera &amp; Grid &amp; ScrapBook</td>\n",
       "      <td>ART_AND_DESIGN</td>\n",
       "      <td>4.1</td>\n",
       "      <td>159</td>\n",
       "      <td>19M</td>\n",
       "      <td>10,000+</td>\n",
       "      <td>Free</td>\n",
       "      <td>0</td>\n",
       "      <td>Everyone</td>\n",
       "      <td>Art &amp; Design</td>\n",
       "      <td>January 7, 2018</td>\n",
       "      <td>1.0.0</td>\n",
       "      <td>4.0.3 and up</td>\n",
       "    </tr>\n",
       "    <tr>\n",
       "      <th>1</th>\n",
       "      <td>Coloring book moana</td>\n",
       "      <td>ART_AND_DESIGN</td>\n",
       "      <td>3.9</td>\n",
       "      <td>967</td>\n",
       "      <td>14M</td>\n",
       "      <td>500,000+</td>\n",
       "      <td>Free</td>\n",
       "      <td>0</td>\n",
       "      <td>Everyone</td>\n",
       "      <td>Art &amp; Design;Pretend Play</td>\n",
       "      <td>January 15, 2018</td>\n",
       "      <td>2.0.0</td>\n",
       "      <td>4.0.3 and up</td>\n",
       "    </tr>\n",
       "    <tr>\n",
       "      <th>2</th>\n",
       "      <td>U Launcher Lite – FREE Live Cool Themes, Hide ...</td>\n",
       "      <td>ART_AND_DESIGN</td>\n",
       "      <td>4.7</td>\n",
       "      <td>87510</td>\n",
       "      <td>8.7M</td>\n",
       "      <td>5,000,000+</td>\n",
       "      <td>Free</td>\n",
       "      <td>0</td>\n",
       "      <td>Everyone</td>\n",
       "      <td>Art &amp; Design</td>\n",
       "      <td>August 1, 2018</td>\n",
       "      <td>1.2.4</td>\n",
       "      <td>4.0.3 and up</td>\n",
       "    </tr>\n",
       "    <tr>\n",
       "      <th>3</th>\n",
       "      <td>Sketch - Draw &amp; Paint</td>\n",
       "      <td>ART_AND_DESIGN</td>\n",
       "      <td>4.5</td>\n",
       "      <td>215644</td>\n",
       "      <td>25M</td>\n",
       "      <td>50,000,000+</td>\n",
       "      <td>Free</td>\n",
       "      <td>0</td>\n",
       "      <td>Teen</td>\n",
       "      <td>Art &amp; Design</td>\n",
       "      <td>June 8, 2018</td>\n",
       "      <td>Varies with device</td>\n",
       "      <td>4.2 and up</td>\n",
       "    </tr>\n",
       "    <tr>\n",
       "      <th>4</th>\n",
       "      <td>Pixel Draw - Number Art Coloring Book</td>\n",
       "      <td>ART_AND_DESIGN</td>\n",
       "      <td>4.3</td>\n",
       "      <td>967</td>\n",
       "      <td>2.8M</td>\n",
       "      <td>100,000+</td>\n",
       "      <td>Free</td>\n",
       "      <td>0</td>\n",
       "      <td>Everyone</td>\n",
       "      <td>Art &amp; Design;Creativity</td>\n",
       "      <td>June 20, 2018</td>\n",
       "      <td>1.1</td>\n",
       "      <td>4.4 and up</td>\n",
       "    </tr>\n",
       "    <tr>\n",
       "      <th>...</th>\n",
       "      <td>...</td>\n",
       "      <td>...</td>\n",
       "      <td>...</td>\n",
       "      <td>...</td>\n",
       "      <td>...</td>\n",
       "      <td>...</td>\n",
       "      <td>...</td>\n",
       "      <td>...</td>\n",
       "      <td>...</td>\n",
       "      <td>...</td>\n",
       "      <td>...</td>\n",
       "      <td>...</td>\n",
       "      <td>...</td>\n",
       "    </tr>\n",
       "    <tr>\n",
       "      <th>9655</th>\n",
       "      <td>Sya9a Maroc - FR</td>\n",
       "      <td>FAMILY</td>\n",
       "      <td>4.5</td>\n",
       "      <td>38</td>\n",
       "      <td>53M</td>\n",
       "      <td>5,000+</td>\n",
       "      <td>Free</td>\n",
       "      <td>0</td>\n",
       "      <td>Everyone</td>\n",
       "      <td>Education</td>\n",
       "      <td>July 25, 2017</td>\n",
       "      <td>1.48</td>\n",
       "      <td>4.1 and up</td>\n",
       "    </tr>\n",
       "    <tr>\n",
       "      <th>9656</th>\n",
       "      <td>Fr. Mike Schmitz Audio Teachings</td>\n",
       "      <td>FAMILY</td>\n",
       "      <td>5.0</td>\n",
       "      <td>4</td>\n",
       "      <td>3.6M</td>\n",
       "      <td>100+</td>\n",
       "      <td>Free</td>\n",
       "      <td>0</td>\n",
       "      <td>Everyone</td>\n",
       "      <td>Education</td>\n",
       "      <td>July 6, 2018</td>\n",
       "      <td>1.0</td>\n",
       "      <td>4.1 and up</td>\n",
       "    </tr>\n",
       "    <tr>\n",
       "      <th>9657</th>\n",
       "      <td>Parkinson Exercices FR</td>\n",
       "      <td>MEDICAL</td>\n",
       "      <td>NaN</td>\n",
       "      <td>3</td>\n",
       "      <td>9.5M</td>\n",
       "      <td>1,000+</td>\n",
       "      <td>Free</td>\n",
       "      <td>0</td>\n",
       "      <td>Everyone</td>\n",
       "      <td>Medical</td>\n",
       "      <td>January 20, 2017</td>\n",
       "      <td>1.0</td>\n",
       "      <td>2.2 and up</td>\n",
       "    </tr>\n",
       "    <tr>\n",
       "      <th>9658</th>\n",
       "      <td>The SCP Foundation DB fr nn5n</td>\n",
       "      <td>BOOKS_AND_REFERENCE</td>\n",
       "      <td>4.5</td>\n",
       "      <td>114</td>\n",
       "      <td>Varies with device</td>\n",
       "      <td>1,000+</td>\n",
       "      <td>Free</td>\n",
       "      <td>0</td>\n",
       "      <td>Mature 17+</td>\n",
       "      <td>Books &amp; Reference</td>\n",
       "      <td>January 19, 2015</td>\n",
       "      <td>Varies with device</td>\n",
       "      <td>Varies with device</td>\n",
       "    </tr>\n",
       "    <tr>\n",
       "      <th>9659</th>\n",
       "      <td>iHoroscope - 2018 Daily Horoscope &amp; Astrology</td>\n",
       "      <td>LIFESTYLE</td>\n",
       "      <td>4.5</td>\n",
       "      <td>398307</td>\n",
       "      <td>19M</td>\n",
       "      <td>10,000,000+</td>\n",
       "      <td>Free</td>\n",
       "      <td>0</td>\n",
       "      <td>Everyone</td>\n",
       "      <td>Lifestyle</td>\n",
       "      <td>July 25, 2018</td>\n",
       "      <td>Varies with device</td>\n",
       "      <td>Varies with device</td>\n",
       "    </tr>\n",
       "  </tbody>\n",
       "</table>\n",
       "<p>9660 rows × 13 columns</p>\n",
       "</div>"
      ],
      "text/plain": [
       "                                                    App             Category  \\\n",
       "0        Photo Editor & Candy Camera & Grid & ScrapBook       ART_AND_DESIGN   \n",
       "1                                   Coloring book moana       ART_AND_DESIGN   \n",
       "2     U Launcher Lite – FREE Live Cool Themes, Hide ...       ART_AND_DESIGN   \n",
       "3                                 Sketch - Draw & Paint       ART_AND_DESIGN   \n",
       "4                 Pixel Draw - Number Art Coloring Book       ART_AND_DESIGN   \n",
       "...                                                 ...                  ...   \n",
       "9655                                   Sya9a Maroc - FR               FAMILY   \n",
       "9656                   Fr. Mike Schmitz Audio Teachings               FAMILY   \n",
       "9657                             Parkinson Exercices FR              MEDICAL   \n",
       "9658                      The SCP Foundation DB fr nn5n  BOOKS_AND_REFERENCE   \n",
       "9659      iHoroscope - 2018 Daily Horoscope & Astrology            LIFESTYLE   \n",
       "\n",
       "      Rating Reviews                Size     Installs  Type Price  \\\n",
       "0        4.1     159                 19M      10,000+  Free     0   \n",
       "1        3.9     967                 14M     500,000+  Free     0   \n",
       "2        4.7   87510                8.7M   5,000,000+  Free     0   \n",
       "3        4.5  215644                 25M  50,000,000+  Free     0   \n",
       "4        4.3     967                2.8M     100,000+  Free     0   \n",
       "...      ...     ...                 ...          ...   ...   ...   \n",
       "9655     4.5      38                 53M       5,000+  Free     0   \n",
       "9656     5.0       4                3.6M         100+  Free     0   \n",
       "9657     NaN       3                9.5M       1,000+  Free     0   \n",
       "9658     4.5     114  Varies with device       1,000+  Free     0   \n",
       "9659     4.5  398307                 19M  10,000,000+  Free     0   \n",
       "\n",
       "     Content Rating                     Genres      Last Updated  \\\n",
       "0          Everyone               Art & Design   January 7, 2018   \n",
       "1          Everyone  Art & Design;Pretend Play  January 15, 2018   \n",
       "2          Everyone               Art & Design    August 1, 2018   \n",
       "3              Teen               Art & Design      June 8, 2018   \n",
       "4          Everyone    Art & Design;Creativity     June 20, 2018   \n",
       "...             ...                        ...               ...   \n",
       "9655       Everyone                  Education     July 25, 2017   \n",
       "9656       Everyone                  Education      July 6, 2018   \n",
       "9657       Everyone                    Medical  January 20, 2017   \n",
       "9658     Mature 17+          Books & Reference  January 19, 2015   \n",
       "9659       Everyone                  Lifestyle     July 25, 2018   \n",
       "\n",
       "             Current Ver         Android Ver  \n",
       "0                  1.0.0        4.0.3 and up  \n",
       "1                  2.0.0        4.0.3 and up  \n",
       "2                  1.2.4        4.0.3 and up  \n",
       "3     Varies with device          4.2 and up  \n",
       "4                    1.1          4.4 and up  \n",
       "...                  ...                 ...  \n",
       "9655                1.48          4.1 and up  \n",
       "9656                 1.0          4.1 and up  \n",
       "9657                 1.0          2.2 and up  \n",
       "9658  Varies with device  Varies with device  \n",
       "9659  Varies with device  Varies with device  \n",
       "\n",
       "[9660 rows x 13 columns]"
      ]
     },
     "execution_count": 2,
     "metadata": {},
     "output_type": "execute_result"
    }
   ],
   "source": [
    "df=pd.read_csv(\"/kaggle/input/google-play-store-apps/googleplaystore.csv\")\n",
    "df.drop_duplicates(subset=['App'],keep=\"first\",inplace=True)\n",
    "df.reset_index(drop=True)"
   ]
  },
  {
   "cell_type": "markdown",
   "id": "a54e547a",
   "metadata": {
    "papermill": {
     "duration": 0.01594,
     "end_time": "2023-08-05T15:20:38.054326",
     "exception": false,
     "start_time": "2023-08-05T15:20:38.038386",
     "status": "completed"
    },
    "tags": []
   },
   "source": [
    "# 1. **Display Top 5 Rows of The Dataset**"
   ]
  },
  {
   "cell_type": "code",
   "execution_count": 3,
   "id": "7847e9fd",
   "metadata": {
    "execution": {
     "iopub.execute_input": "2023-08-05T15:20:38.087575Z",
     "iopub.status.busy": "2023-08-05T15:20:38.087130Z",
     "iopub.status.idle": "2023-08-05T15:20:38.107774Z",
     "shell.execute_reply": "2023-08-05T15:20:38.106803Z"
    },
    "papermill": {
     "duration": 0.039847,
     "end_time": "2023-08-05T15:20:38.110036",
     "exception": false,
     "start_time": "2023-08-05T15:20:38.070189",
     "status": "completed"
    },
    "tags": []
   },
   "outputs": [
    {
     "data": {
      "text/html": [
       "<div>\n",
       "<style scoped>\n",
       "    .dataframe tbody tr th:only-of-type {\n",
       "        vertical-align: middle;\n",
       "    }\n",
       "\n",
       "    .dataframe tbody tr th {\n",
       "        vertical-align: top;\n",
       "    }\n",
       "\n",
       "    .dataframe thead th {\n",
       "        text-align: right;\n",
       "    }\n",
       "</style>\n",
       "<table border=\"1\" class=\"dataframe\">\n",
       "  <thead>\n",
       "    <tr style=\"text-align: right;\">\n",
       "      <th></th>\n",
       "      <th>App</th>\n",
       "      <th>Category</th>\n",
       "      <th>Rating</th>\n",
       "      <th>Reviews</th>\n",
       "      <th>Size</th>\n",
       "      <th>Installs</th>\n",
       "      <th>Type</th>\n",
       "      <th>Price</th>\n",
       "      <th>Content Rating</th>\n",
       "      <th>Genres</th>\n",
       "      <th>Last Updated</th>\n",
       "      <th>Current Ver</th>\n",
       "      <th>Android Ver</th>\n",
       "    </tr>\n",
       "  </thead>\n",
       "  <tbody>\n",
       "    <tr>\n",
       "      <th>0</th>\n",
       "      <td>Photo Editor &amp; Candy Camera &amp; Grid &amp; ScrapBook</td>\n",
       "      <td>ART_AND_DESIGN</td>\n",
       "      <td>4.1</td>\n",
       "      <td>159</td>\n",
       "      <td>19M</td>\n",
       "      <td>10,000+</td>\n",
       "      <td>Free</td>\n",
       "      <td>0</td>\n",
       "      <td>Everyone</td>\n",
       "      <td>Art &amp; Design</td>\n",
       "      <td>January 7, 2018</td>\n",
       "      <td>1.0.0</td>\n",
       "      <td>4.0.3 and up</td>\n",
       "    </tr>\n",
       "    <tr>\n",
       "      <th>1</th>\n",
       "      <td>Coloring book moana</td>\n",
       "      <td>ART_AND_DESIGN</td>\n",
       "      <td>3.9</td>\n",
       "      <td>967</td>\n",
       "      <td>14M</td>\n",
       "      <td>500,000+</td>\n",
       "      <td>Free</td>\n",
       "      <td>0</td>\n",
       "      <td>Everyone</td>\n",
       "      <td>Art &amp; Design;Pretend Play</td>\n",
       "      <td>January 15, 2018</td>\n",
       "      <td>2.0.0</td>\n",
       "      <td>4.0.3 and up</td>\n",
       "    </tr>\n",
       "    <tr>\n",
       "      <th>2</th>\n",
       "      <td>U Launcher Lite – FREE Live Cool Themes, Hide ...</td>\n",
       "      <td>ART_AND_DESIGN</td>\n",
       "      <td>4.7</td>\n",
       "      <td>87510</td>\n",
       "      <td>8.7M</td>\n",
       "      <td>5,000,000+</td>\n",
       "      <td>Free</td>\n",
       "      <td>0</td>\n",
       "      <td>Everyone</td>\n",
       "      <td>Art &amp; Design</td>\n",
       "      <td>August 1, 2018</td>\n",
       "      <td>1.2.4</td>\n",
       "      <td>4.0.3 and up</td>\n",
       "    </tr>\n",
       "    <tr>\n",
       "      <th>3</th>\n",
       "      <td>Sketch - Draw &amp; Paint</td>\n",
       "      <td>ART_AND_DESIGN</td>\n",
       "      <td>4.5</td>\n",
       "      <td>215644</td>\n",
       "      <td>25M</td>\n",
       "      <td>50,000,000+</td>\n",
       "      <td>Free</td>\n",
       "      <td>0</td>\n",
       "      <td>Teen</td>\n",
       "      <td>Art &amp; Design</td>\n",
       "      <td>June 8, 2018</td>\n",
       "      <td>Varies with device</td>\n",
       "      <td>4.2 and up</td>\n",
       "    </tr>\n",
       "    <tr>\n",
       "      <th>4</th>\n",
       "      <td>Pixel Draw - Number Art Coloring Book</td>\n",
       "      <td>ART_AND_DESIGN</td>\n",
       "      <td>4.3</td>\n",
       "      <td>967</td>\n",
       "      <td>2.8M</td>\n",
       "      <td>100,000+</td>\n",
       "      <td>Free</td>\n",
       "      <td>0</td>\n",
       "      <td>Everyone</td>\n",
       "      <td>Art &amp; Design;Creativity</td>\n",
       "      <td>June 20, 2018</td>\n",
       "      <td>1.1</td>\n",
       "      <td>4.4 and up</td>\n",
       "    </tr>\n",
       "  </tbody>\n",
       "</table>\n",
       "</div>"
      ],
      "text/plain": [
       "                                                 App        Category  Rating  \\\n",
       "0     Photo Editor & Candy Camera & Grid & ScrapBook  ART_AND_DESIGN     4.1   \n",
       "1                                Coloring book moana  ART_AND_DESIGN     3.9   \n",
       "2  U Launcher Lite – FREE Live Cool Themes, Hide ...  ART_AND_DESIGN     4.7   \n",
       "3                              Sketch - Draw & Paint  ART_AND_DESIGN     4.5   \n",
       "4              Pixel Draw - Number Art Coloring Book  ART_AND_DESIGN     4.3   \n",
       "\n",
       "  Reviews  Size     Installs  Type Price Content Rating  \\\n",
       "0     159   19M      10,000+  Free     0       Everyone   \n",
       "1     967   14M     500,000+  Free     0       Everyone   \n",
       "2   87510  8.7M   5,000,000+  Free     0       Everyone   \n",
       "3  215644   25M  50,000,000+  Free     0           Teen   \n",
       "4     967  2.8M     100,000+  Free     0       Everyone   \n",
       "\n",
       "                      Genres      Last Updated         Current Ver  \\\n",
       "0               Art & Design   January 7, 2018               1.0.0   \n",
       "1  Art & Design;Pretend Play  January 15, 2018               2.0.0   \n",
       "2               Art & Design    August 1, 2018               1.2.4   \n",
       "3               Art & Design      June 8, 2018  Varies with device   \n",
       "4    Art & Design;Creativity     June 20, 2018                 1.1   \n",
       "\n",
       "    Android Ver  \n",
       "0  4.0.3 and up  \n",
       "1  4.0.3 and up  \n",
       "2  4.0.3 and up  \n",
       "3    4.2 and up  \n",
       "4    4.4 and up  "
      ]
     },
     "execution_count": 3,
     "metadata": {},
     "output_type": "execute_result"
    }
   ],
   "source": [
    "df.head()"
   ]
  },
  {
   "cell_type": "markdown",
   "id": "94253a4d",
   "metadata": {
    "papermill": {
     "duration": 0.015745,
     "end_time": "2023-08-05T15:20:38.141359",
     "exception": false,
     "start_time": "2023-08-05T15:20:38.125614",
     "status": "completed"
    },
    "tags": []
   },
   "source": [
    "# 2. **Check the Last 3 Rows of The Dataset**"
   ]
  },
  {
   "cell_type": "code",
   "execution_count": 4,
   "id": "2e85f3c0",
   "metadata": {
    "execution": {
     "iopub.execute_input": "2023-08-05T15:20:38.174751Z",
     "iopub.status.busy": "2023-08-05T15:20:38.173921Z",
     "iopub.status.idle": "2023-08-05T15:20:38.192645Z",
     "shell.execute_reply": "2023-08-05T15:20:38.191190Z"
    },
    "papermill": {
     "duration": 0.038352,
     "end_time": "2023-08-05T15:20:38.195150",
     "exception": false,
     "start_time": "2023-08-05T15:20:38.156798",
     "status": "completed"
    },
    "tags": []
   },
   "outputs": [
    {
     "data": {
      "text/html": [
       "<div>\n",
       "<style scoped>\n",
       "    .dataframe tbody tr th:only-of-type {\n",
       "        vertical-align: middle;\n",
       "    }\n",
       "\n",
       "    .dataframe tbody tr th {\n",
       "        vertical-align: top;\n",
       "    }\n",
       "\n",
       "    .dataframe thead th {\n",
       "        text-align: right;\n",
       "    }\n",
       "</style>\n",
       "<table border=\"1\" class=\"dataframe\">\n",
       "  <thead>\n",
       "    <tr style=\"text-align: right;\">\n",
       "      <th></th>\n",
       "      <th>App</th>\n",
       "      <th>Category</th>\n",
       "      <th>Rating</th>\n",
       "      <th>Reviews</th>\n",
       "      <th>Size</th>\n",
       "      <th>Installs</th>\n",
       "      <th>Type</th>\n",
       "      <th>Price</th>\n",
       "      <th>Content Rating</th>\n",
       "      <th>Genres</th>\n",
       "      <th>Last Updated</th>\n",
       "      <th>Current Ver</th>\n",
       "      <th>Android Ver</th>\n",
       "    </tr>\n",
       "  </thead>\n",
       "  <tbody>\n",
       "    <tr>\n",
       "      <th>10838</th>\n",
       "      <td>Parkinson Exercices FR</td>\n",
       "      <td>MEDICAL</td>\n",
       "      <td>NaN</td>\n",
       "      <td>3</td>\n",
       "      <td>9.5M</td>\n",
       "      <td>1,000+</td>\n",
       "      <td>Free</td>\n",
       "      <td>0</td>\n",
       "      <td>Everyone</td>\n",
       "      <td>Medical</td>\n",
       "      <td>January 20, 2017</td>\n",
       "      <td>1.0</td>\n",
       "      <td>2.2 and up</td>\n",
       "    </tr>\n",
       "    <tr>\n",
       "      <th>10839</th>\n",
       "      <td>The SCP Foundation DB fr nn5n</td>\n",
       "      <td>BOOKS_AND_REFERENCE</td>\n",
       "      <td>4.5</td>\n",
       "      <td>114</td>\n",
       "      <td>Varies with device</td>\n",
       "      <td>1,000+</td>\n",
       "      <td>Free</td>\n",
       "      <td>0</td>\n",
       "      <td>Mature 17+</td>\n",
       "      <td>Books &amp; Reference</td>\n",
       "      <td>January 19, 2015</td>\n",
       "      <td>Varies with device</td>\n",
       "      <td>Varies with device</td>\n",
       "    </tr>\n",
       "    <tr>\n",
       "      <th>10840</th>\n",
       "      <td>iHoroscope - 2018 Daily Horoscope &amp; Astrology</td>\n",
       "      <td>LIFESTYLE</td>\n",
       "      <td>4.5</td>\n",
       "      <td>398307</td>\n",
       "      <td>19M</td>\n",
       "      <td>10,000,000+</td>\n",
       "      <td>Free</td>\n",
       "      <td>0</td>\n",
       "      <td>Everyone</td>\n",
       "      <td>Lifestyle</td>\n",
       "      <td>July 25, 2018</td>\n",
       "      <td>Varies with device</td>\n",
       "      <td>Varies with device</td>\n",
       "    </tr>\n",
       "  </tbody>\n",
       "</table>\n",
       "</div>"
      ],
      "text/plain": [
       "                                                 App             Category  \\\n",
       "10838                         Parkinson Exercices FR              MEDICAL   \n",
       "10839                  The SCP Foundation DB fr nn5n  BOOKS_AND_REFERENCE   \n",
       "10840  iHoroscope - 2018 Daily Horoscope & Astrology            LIFESTYLE   \n",
       "\n",
       "       Rating Reviews                Size     Installs  Type Price  \\\n",
       "10838     NaN       3                9.5M       1,000+  Free     0   \n",
       "10839     4.5     114  Varies with device       1,000+  Free     0   \n",
       "10840     4.5  398307                 19M  10,000,000+  Free     0   \n",
       "\n",
       "      Content Rating             Genres      Last Updated         Current Ver  \\\n",
       "10838       Everyone            Medical  January 20, 2017                 1.0   \n",
       "10839     Mature 17+  Books & Reference  January 19, 2015  Varies with device   \n",
       "10840       Everyone          Lifestyle     July 25, 2018  Varies with device   \n",
       "\n",
       "              Android Ver  \n",
       "10838          2.2 and up  \n",
       "10839  Varies with device  \n",
       "10840  Varies with device  "
      ]
     },
     "execution_count": 4,
     "metadata": {},
     "output_type": "execute_result"
    }
   ],
   "source": [
    "df.tail(3)"
   ]
  },
  {
   "cell_type": "markdown",
   "id": "4c41cd01",
   "metadata": {
    "papermill": {
     "duration": 0.015218,
     "end_time": "2023-08-05T15:20:38.226318",
     "exception": false,
     "start_time": "2023-08-05T15:20:38.211100",
     "status": "completed"
    },
    "tags": []
   },
   "source": [
    "# 3. **Find Shape of Our Dataset (Number of Rows & Number of Columns)**"
   ]
  },
  {
   "cell_type": "code",
   "execution_count": 5,
   "id": "75f6eb8e",
   "metadata": {
    "execution": {
     "iopub.execute_input": "2023-08-05T15:20:38.259892Z",
     "iopub.status.busy": "2023-08-05T15:20:38.259032Z",
     "iopub.status.idle": "2023-08-05T15:20:38.266088Z",
     "shell.execute_reply": "2023-08-05T15:20:38.264803Z"
    },
    "papermill": {
     "duration": 0.026848,
     "end_time": "2023-08-05T15:20:38.268709",
     "exception": false,
     "start_time": "2023-08-05T15:20:38.241861",
     "status": "completed"
    },
    "tags": []
   },
   "outputs": [
    {
     "name": "stdout",
     "output_type": "stream",
     "text": [
      "Rows are : 9660 Columns are: 13\n"
     ]
    }
   ],
   "source": [
    "print(\"Rows are :\",df.shape[0],\"Columns are:\",df.shape[1])"
   ]
  },
  {
   "cell_type": "markdown",
   "id": "a8023076",
   "metadata": {
    "papermill": {
     "duration": 0.01577,
     "end_time": "2023-08-05T15:20:38.300408",
     "exception": false,
     "start_time": "2023-08-05T15:20:38.284638",
     "status": "completed"
    },
    "tags": []
   },
   "source": [
    "# 4. **Get Information About Our Dataset Like Total Number Rows, Total Number of Columns, Datatypes of Each Column And Memory Requirement**"
   ]
  },
  {
   "cell_type": "code",
   "execution_count": 6,
   "id": "19149e7c",
   "metadata": {
    "execution": {
     "iopub.execute_input": "2023-08-05T15:20:38.334086Z",
     "iopub.status.busy": "2023-08-05T15:20:38.333549Z",
     "iopub.status.idle": "2023-08-05T15:20:38.398489Z",
     "shell.execute_reply": "2023-08-05T15:20:38.397508Z"
    },
    "papermill": {
     "duration": 0.084863,
     "end_time": "2023-08-05T15:20:38.400798",
     "exception": false,
     "start_time": "2023-08-05T15:20:38.315935",
     "status": "completed"
    },
    "tags": []
   },
   "outputs": [
    {
     "name": "stdout",
     "output_type": "stream",
     "text": [
      "<class 'pandas.core.frame.DataFrame'>\n",
      "Int64Index: 9660 entries, 0 to 10840\n",
      "Data columns (total 13 columns):\n",
      " #   Column          Non-Null Count  Dtype  \n",
      "---  ------          --------------  -----  \n",
      " 0   App             9660 non-null   object \n",
      " 1   Category        9660 non-null   object \n",
      " 2   Rating          8197 non-null   float64\n",
      " 3   Reviews         9660 non-null   object \n",
      " 4   Size            9660 non-null   object \n",
      " 5   Installs        9660 non-null   object \n",
      " 6   Type            9659 non-null   object \n",
      " 7   Price           9660 non-null   object \n",
      " 8   Content Rating  9659 non-null   object \n",
      " 9   Genres          9660 non-null   object \n",
      " 10  Last Updated    9660 non-null   object \n",
      " 11  Current Ver     9652 non-null   object \n",
      " 12  Android Ver     9657 non-null   object \n",
      "dtypes: float64(1), object(12)\n",
      "memory usage: 1.0+ MB\n"
     ]
    }
   ],
   "source": [
    "df.info()"
   ]
  },
  {
   "cell_type": "markdown",
   "id": "fc431931",
   "metadata": {
    "papermill": {
     "duration": 0.015403,
     "end_time": "2023-08-05T15:20:38.431852",
     "exception": false,
     "start_time": "2023-08-05T15:20:38.416449",
     "status": "completed"
    },
    "tags": []
   },
   "source": [
    "# 5. **Get Overall Statistics About The Dataframe**"
   ]
  },
  {
   "cell_type": "code",
   "execution_count": 7,
   "id": "4b7f7bd8",
   "metadata": {
    "execution": {
     "iopub.execute_input": "2023-08-05T15:20:38.466286Z",
     "iopub.status.busy": "2023-08-05T15:20:38.465500Z",
     "iopub.status.idle": "2023-08-05T15:20:38.557657Z",
     "shell.execute_reply": "2023-08-05T15:20:38.556443Z"
    },
    "papermill": {
     "duration": 0.112944,
     "end_time": "2023-08-05T15:20:38.560317",
     "exception": false,
     "start_time": "2023-08-05T15:20:38.447373",
     "status": "completed"
    },
    "tags": []
   },
   "outputs": [
    {
     "data": {
      "text/html": [
       "<div>\n",
       "<style scoped>\n",
       "    .dataframe tbody tr th:only-of-type {\n",
       "        vertical-align: middle;\n",
       "    }\n",
       "\n",
       "    .dataframe tbody tr th {\n",
       "        vertical-align: top;\n",
       "    }\n",
       "\n",
       "    .dataframe thead th {\n",
       "        text-align: right;\n",
       "    }\n",
       "</style>\n",
       "<table border=\"1\" class=\"dataframe\">\n",
       "  <thead>\n",
       "    <tr style=\"text-align: right;\">\n",
       "      <th></th>\n",
       "      <th>App</th>\n",
       "      <th>Category</th>\n",
       "      <th>Rating</th>\n",
       "      <th>Reviews</th>\n",
       "      <th>Size</th>\n",
       "      <th>Installs</th>\n",
       "      <th>Type</th>\n",
       "      <th>Price</th>\n",
       "      <th>Content Rating</th>\n",
       "      <th>Genres</th>\n",
       "      <th>Last Updated</th>\n",
       "      <th>Current Ver</th>\n",
       "      <th>Android Ver</th>\n",
       "    </tr>\n",
       "  </thead>\n",
       "  <tbody>\n",
       "    <tr>\n",
       "      <th>count</th>\n",
       "      <td>9660</td>\n",
       "      <td>9660</td>\n",
       "      <td>8197.000000</td>\n",
       "      <td>9660</td>\n",
       "      <td>9660</td>\n",
       "      <td>9660</td>\n",
       "      <td>9659</td>\n",
       "      <td>9660</td>\n",
       "      <td>9659</td>\n",
       "      <td>9660</td>\n",
       "      <td>9660</td>\n",
       "      <td>9652</td>\n",
       "      <td>9657</td>\n",
       "    </tr>\n",
       "    <tr>\n",
       "      <th>unique</th>\n",
       "      <td>9660</td>\n",
       "      <td>34</td>\n",
       "      <td>NaN</td>\n",
       "      <td>5331</td>\n",
       "      <td>462</td>\n",
       "      <td>22</td>\n",
       "      <td>3</td>\n",
       "      <td>93</td>\n",
       "      <td>6</td>\n",
       "      <td>119</td>\n",
       "      <td>1378</td>\n",
       "      <td>2818</td>\n",
       "      <td>33</td>\n",
       "    </tr>\n",
       "    <tr>\n",
       "      <th>top</th>\n",
       "      <td>Photo Editor &amp; Candy Camera &amp; Grid &amp; ScrapBook</td>\n",
       "      <td>FAMILY</td>\n",
       "      <td>NaN</td>\n",
       "      <td>0</td>\n",
       "      <td>Varies with device</td>\n",
       "      <td>1,000,000+</td>\n",
       "      <td>Free</td>\n",
       "      <td>0</td>\n",
       "      <td>Everyone</td>\n",
       "      <td>Tools</td>\n",
       "      <td>August 3, 2018</td>\n",
       "      <td>Varies with device</td>\n",
       "      <td>4.1 and up</td>\n",
       "    </tr>\n",
       "    <tr>\n",
       "      <th>freq</th>\n",
       "      <td>1</td>\n",
       "      <td>1832</td>\n",
       "      <td>NaN</td>\n",
       "      <td>593</td>\n",
       "      <td>1227</td>\n",
       "      <td>1417</td>\n",
       "      <td>8902</td>\n",
       "      <td>8903</td>\n",
       "      <td>7903</td>\n",
       "      <td>826</td>\n",
       "      <td>252</td>\n",
       "      <td>1055</td>\n",
       "      <td>2202</td>\n",
       "    </tr>\n",
       "    <tr>\n",
       "      <th>mean</th>\n",
       "      <td>NaN</td>\n",
       "      <td>NaN</td>\n",
       "      <td>4.175052</td>\n",
       "      <td>NaN</td>\n",
       "      <td>NaN</td>\n",
       "      <td>NaN</td>\n",
       "      <td>NaN</td>\n",
       "      <td>NaN</td>\n",
       "      <td>NaN</td>\n",
       "      <td>NaN</td>\n",
       "      <td>NaN</td>\n",
       "      <td>NaN</td>\n",
       "      <td>NaN</td>\n",
       "    </tr>\n",
       "    <tr>\n",
       "      <th>std</th>\n",
       "      <td>NaN</td>\n",
       "      <td>NaN</td>\n",
       "      <td>0.561026</td>\n",
       "      <td>NaN</td>\n",
       "      <td>NaN</td>\n",
       "      <td>NaN</td>\n",
       "      <td>NaN</td>\n",
       "      <td>NaN</td>\n",
       "      <td>NaN</td>\n",
       "      <td>NaN</td>\n",
       "      <td>NaN</td>\n",
       "      <td>NaN</td>\n",
       "      <td>NaN</td>\n",
       "    </tr>\n",
       "    <tr>\n",
       "      <th>min</th>\n",
       "      <td>NaN</td>\n",
       "      <td>NaN</td>\n",
       "      <td>1.000000</td>\n",
       "      <td>NaN</td>\n",
       "      <td>NaN</td>\n",
       "      <td>NaN</td>\n",
       "      <td>NaN</td>\n",
       "      <td>NaN</td>\n",
       "      <td>NaN</td>\n",
       "      <td>NaN</td>\n",
       "      <td>NaN</td>\n",
       "      <td>NaN</td>\n",
       "      <td>NaN</td>\n",
       "    </tr>\n",
       "    <tr>\n",
       "      <th>25%</th>\n",
       "      <td>NaN</td>\n",
       "      <td>NaN</td>\n",
       "      <td>4.000000</td>\n",
       "      <td>NaN</td>\n",
       "      <td>NaN</td>\n",
       "      <td>NaN</td>\n",
       "      <td>NaN</td>\n",
       "      <td>NaN</td>\n",
       "      <td>NaN</td>\n",
       "      <td>NaN</td>\n",
       "      <td>NaN</td>\n",
       "      <td>NaN</td>\n",
       "      <td>NaN</td>\n",
       "    </tr>\n",
       "    <tr>\n",
       "      <th>50%</th>\n",
       "      <td>NaN</td>\n",
       "      <td>NaN</td>\n",
       "      <td>4.300000</td>\n",
       "      <td>NaN</td>\n",
       "      <td>NaN</td>\n",
       "      <td>NaN</td>\n",
       "      <td>NaN</td>\n",
       "      <td>NaN</td>\n",
       "      <td>NaN</td>\n",
       "      <td>NaN</td>\n",
       "      <td>NaN</td>\n",
       "      <td>NaN</td>\n",
       "      <td>NaN</td>\n",
       "    </tr>\n",
       "    <tr>\n",
       "      <th>75%</th>\n",
       "      <td>NaN</td>\n",
       "      <td>NaN</td>\n",
       "      <td>4.500000</td>\n",
       "      <td>NaN</td>\n",
       "      <td>NaN</td>\n",
       "      <td>NaN</td>\n",
       "      <td>NaN</td>\n",
       "      <td>NaN</td>\n",
       "      <td>NaN</td>\n",
       "      <td>NaN</td>\n",
       "      <td>NaN</td>\n",
       "      <td>NaN</td>\n",
       "      <td>NaN</td>\n",
       "    </tr>\n",
       "    <tr>\n",
       "      <th>max</th>\n",
       "      <td>NaN</td>\n",
       "      <td>NaN</td>\n",
       "      <td>19.000000</td>\n",
       "      <td>NaN</td>\n",
       "      <td>NaN</td>\n",
       "      <td>NaN</td>\n",
       "      <td>NaN</td>\n",
       "      <td>NaN</td>\n",
       "      <td>NaN</td>\n",
       "      <td>NaN</td>\n",
       "      <td>NaN</td>\n",
       "      <td>NaN</td>\n",
       "      <td>NaN</td>\n",
       "    </tr>\n",
       "  </tbody>\n",
       "</table>\n",
       "</div>"
      ],
      "text/plain": [
       "                                                   App Category       Rating  \\\n",
       "count                                             9660     9660  8197.000000   \n",
       "unique                                            9660       34          NaN   \n",
       "top     Photo Editor & Candy Camera & Grid & ScrapBook   FAMILY          NaN   \n",
       "freq                                                 1     1832          NaN   \n",
       "mean                                               NaN      NaN     4.175052   \n",
       "std                                                NaN      NaN     0.561026   \n",
       "min                                                NaN      NaN     1.000000   \n",
       "25%                                                NaN      NaN     4.000000   \n",
       "50%                                                NaN      NaN     4.300000   \n",
       "75%                                                NaN      NaN     4.500000   \n",
       "max                                                NaN      NaN    19.000000   \n",
       "\n",
       "       Reviews                Size    Installs  Type Price Content Rating  \\\n",
       "count     9660                9660        9660  9659  9660           9659   \n",
       "unique    5331                 462          22     3    93              6   \n",
       "top          0  Varies with device  1,000,000+  Free     0       Everyone   \n",
       "freq       593                1227        1417  8902  8903           7903   \n",
       "mean       NaN                 NaN         NaN   NaN   NaN            NaN   \n",
       "std        NaN                 NaN         NaN   NaN   NaN            NaN   \n",
       "min        NaN                 NaN         NaN   NaN   NaN            NaN   \n",
       "25%        NaN                 NaN         NaN   NaN   NaN            NaN   \n",
       "50%        NaN                 NaN         NaN   NaN   NaN            NaN   \n",
       "75%        NaN                 NaN         NaN   NaN   NaN            NaN   \n",
       "max        NaN                 NaN         NaN   NaN   NaN            NaN   \n",
       "\n",
       "       Genres    Last Updated         Current Ver Android Ver  \n",
       "count    9660            9660                9652        9657  \n",
       "unique    119            1378                2818          33  \n",
       "top     Tools  August 3, 2018  Varies with device  4.1 and up  \n",
       "freq      826             252                1055        2202  \n",
       "mean      NaN             NaN                 NaN         NaN  \n",
       "std       NaN             NaN                 NaN         NaN  \n",
       "min       NaN             NaN                 NaN         NaN  \n",
       "25%       NaN             NaN                 NaN         NaN  \n",
       "50%       NaN             NaN                 NaN         NaN  \n",
       "75%       NaN             NaN                 NaN         NaN  \n",
       "max       NaN             NaN                 NaN         NaN  "
      ]
     },
     "execution_count": 7,
     "metadata": {},
     "output_type": "execute_result"
    }
   ],
   "source": [
    "df.describe(include='all')"
   ]
  },
  {
   "cell_type": "markdown",
   "id": "dbd96708",
   "metadata": {
    "papermill": {
     "duration": 0.016608,
     "end_time": "2023-08-05T15:20:38.593553",
     "exception": false,
     "start_time": "2023-08-05T15:20:38.576945",
     "status": "completed"
    },
    "tags": []
   },
   "source": [
    "# 6. **Total Number of App Titles Contain Astrology**"
   ]
  },
  {
   "cell_type": "code",
   "execution_count": 8,
   "id": "46b894aa",
   "metadata": {
    "execution": {
     "iopub.execute_input": "2023-08-05T15:20:38.629786Z",
     "iopub.status.busy": "2023-08-05T15:20:38.629031Z",
     "iopub.status.idle": "2023-08-05T15:20:38.651190Z",
     "shell.execute_reply": "2023-08-05T15:20:38.649932Z"
    },
    "papermill": {
     "duration": 0.043429,
     "end_time": "2023-08-05T15:20:38.653797",
     "exception": false,
     "start_time": "2023-08-05T15:20:38.610368",
     "status": "completed"
    },
    "tags": []
   },
   "outputs": [
    {
     "name": "stdout",
     "output_type": "stream",
     "text": [
      "Total Number of App Titles Contain Astrology\n"
     ]
    },
    {
     "data": {
      "text/plain": [
       "3"
      ]
     },
     "execution_count": 8,
     "metadata": {},
     "output_type": "execute_result"
    }
   ],
   "source": [
    "print(\"Total Number of App Titles Contain Astrology\")\n",
    "df['App'].str.contains('Astrology',case=False).sum()"
   ]
  },
  {
   "cell_type": "markdown",
   "id": "6db8cd37",
   "metadata": {
    "papermill": {
     "duration": 0.016512,
     "end_time": "2023-08-05T15:20:38.687348",
     "exception": false,
     "start_time": "2023-08-05T15:20:38.670836",
     "status": "completed"
    },
    "tags": []
   },
   "source": [
    "# 7. **Find Average App Rating**"
   ]
  },
  {
   "cell_type": "code",
   "execution_count": 9,
   "id": "8417c1e5",
   "metadata": {
    "execution": {
     "iopub.execute_input": "2023-08-05T15:20:38.724010Z",
     "iopub.status.busy": "2023-08-05T15:20:38.723227Z",
     "iopub.status.idle": "2023-08-05T15:20:38.732609Z",
     "shell.execute_reply": "2023-08-05T15:20:38.731430Z"
    },
    "papermill": {
     "duration": 0.030738,
     "end_time": "2023-08-05T15:20:38.735053",
     "exception": false,
     "start_time": "2023-08-05T15:20:38.704315",
     "status": "completed"
    },
    "tags": []
   },
   "outputs": [
    {
     "name": "stdout",
     "output_type": "stream",
     "text": [
      "Average App Rating\n"
     ]
    },
    {
     "data": {
      "text/plain": [
       "4.17505184823716"
      ]
     },
     "execution_count": 9,
     "metadata": {},
     "output_type": "execute_result"
    }
   ],
   "source": [
    "print(\"Average App Rating\")\n",
    "df['Rating'].mean()"
   ]
  },
  {
   "cell_type": "markdown",
   "id": "8c5d834c",
   "metadata": {
    "papermill": {
     "duration": 0.017263,
     "end_time": "2023-08-05T15:20:38.769982",
     "exception": false,
     "start_time": "2023-08-05T15:20:38.752719",
     "status": "completed"
    },
    "tags": []
   },
   "source": [
    "# 8. **Find Total Number of Unique Category**"
   ]
  },
  {
   "cell_type": "code",
   "execution_count": 10,
   "id": "58ff2b0a",
   "metadata": {
    "execution": {
     "iopub.execute_input": "2023-08-05T15:20:38.807021Z",
     "iopub.status.busy": "2023-08-05T15:20:38.806247Z",
     "iopub.status.idle": "2023-08-05T15:20:38.815950Z",
     "shell.execute_reply": "2023-08-05T15:20:38.814813Z"
    },
    "papermill": {
     "duration": 0.031055,
     "end_time": "2023-08-05T15:20:38.818309",
     "exception": false,
     "start_time": "2023-08-05T15:20:38.787254",
     "status": "completed"
    },
    "tags": []
   },
   "outputs": [
    {
     "name": "stdout",
     "output_type": "stream",
     "text": [
      "Total Number of Unique Category\n"
     ]
    },
    {
     "data": {
      "text/plain": [
       "34"
      ]
     },
     "execution_count": 10,
     "metadata": {},
     "output_type": "execute_result"
    }
   ],
   "source": [
    "print(\"Total Number of Unique Category\")\n",
    "df['Category'].unique().size"
   ]
  },
  {
   "cell_type": "markdown",
   "id": "c32c8cd3",
   "metadata": {
    "papermill": {
     "duration": 0.017114,
     "end_time": "2023-08-05T15:20:38.852928",
     "exception": false,
     "start_time": "2023-08-05T15:20:38.835814",
     "status": "completed"
    },
    "tags": []
   },
   "source": [
    "# 9. **Which Category Getting The Highest Average Rating?**"
   ]
  },
  {
   "cell_type": "code",
   "execution_count": 11,
   "id": "c6c22428",
   "metadata": {
    "execution": {
     "iopub.execute_input": "2023-08-05T15:20:38.891851Z",
     "iopub.status.busy": "2023-08-05T15:20:38.891094Z",
     "iopub.status.idle": "2023-08-05T15:20:38.905940Z",
     "shell.execute_reply": "2023-08-05T15:20:38.904799Z"
    },
    "papermill": {
     "duration": 0.037437,
     "end_time": "2023-08-05T15:20:38.908567",
     "exception": false,
     "start_time": "2023-08-05T15:20:38.871130",
     "status": "completed"
    },
    "tags": []
   },
   "outputs": [
    {
     "data": {
      "text/plain": [
       "Category\n",
       "1.9                    19.000000\n",
       "EVENTS                  4.435556\n",
       "EDUCATION               4.364407\n",
       "ART_AND_DESIGN          4.357377\n",
       "BOOKS_AND_REFERENCE     4.344970\n",
       "PERSONALIZATION         4.332215\n",
       "PARENTING               4.300000\n",
       "BEAUTY                  4.278571\n",
       "GAME                    4.247368\n",
       "SOCIAL                  4.247291\n",
       "WEATHER                 4.243056\n",
       "HEALTH_AND_FITNESS      4.243033\n",
       "SHOPPING                4.230000\n",
       "SPORTS                  4.216154\n",
       "AUTO_AND_VEHICLES       4.190411\n",
       "PRODUCTIVITY            4.183389\n",
       "COMICS                  4.181481\n",
       "FAMILY                  4.179664\n",
       "LIBRARIES_AND_DEMO      4.178125\n",
       "FOOD_AND_DRINK          4.172340\n",
       "MEDICAL                 4.166552\n",
       "PHOTOGRAPHY             4.157414\n",
       "HOUSE_AND_HOME          4.150000\n",
       "ENTERTAINMENT           4.135294\n",
       "NEWS_AND_MAGAZINES      4.121569\n",
       "COMMUNICATION           4.121484\n",
       "FINANCE                 4.115563\n",
       "BUSINESS                4.098479\n",
       "LIFESTYLE               4.093355\n",
       "TRAVEL_AND_LOCAL        4.069519\n",
       "VIDEO_PLAYERS           4.044595\n",
       "TOOLS                   4.039554\n",
       "MAPS_AND_NAVIGATION     4.036441\n",
       "DATING                  3.970149\n",
       "Name: Rating, dtype: float64"
      ]
     },
     "execution_count": 11,
     "metadata": {},
     "output_type": "execute_result"
    }
   ],
   "source": [
    "df.groupby('Category')['Rating'].mean().sort_values(ascending=False)"
   ]
  },
  {
   "cell_type": "markdown",
   "id": "7c4ba720",
   "metadata": {
    "papermill": {
     "duration": 0.017518,
     "end_time": "2023-08-05T15:20:38.943798",
     "exception": false,
     "start_time": "2023-08-05T15:20:38.926280",
     "status": "completed"
    },
    "tags": []
   },
   "source": [
    "Since 1.9 is not a Category so we ignore that  which implies that 'EVENTS' category has the highest average rating."
   ]
  },
  {
   "cell_type": "markdown",
   "id": "9381e059",
   "metadata": {
    "papermill": {
     "duration": 0.017214,
     "end_time": "2023-08-05T15:20:38.980213",
     "exception": false,
     "start_time": "2023-08-05T15:20:38.962999",
     "status": "completed"
    },
    "tags": []
   },
   "source": [
    "# 10. **Find Total Number of App having 5 Star Rating**"
   ]
  },
  {
   "cell_type": "code",
   "execution_count": 12,
   "id": "1d2f1967",
   "metadata": {
    "execution": {
     "iopub.execute_input": "2023-08-05T15:20:39.020515Z",
     "iopub.status.busy": "2023-08-05T15:20:39.019717Z",
     "iopub.status.idle": "2023-08-05T15:20:39.029052Z",
     "shell.execute_reply": "2023-08-05T15:20:39.027827Z"
    },
    "papermill": {
     "duration": 0.033673,
     "end_time": "2023-08-05T15:20:39.031508",
     "exception": false,
     "start_time": "2023-08-05T15:20:38.997835",
     "status": "completed"
    },
    "tags": []
   },
   "outputs": [
    {
     "data": {
      "text/plain": [
       "271"
      ]
     },
     "execution_count": 12,
     "metadata": {},
     "output_type": "execute_result"
    }
   ],
   "source": [
    "len(df[df['Rating']==5])"
   ]
  },
  {
   "cell_type": "markdown",
   "id": "6d7b31b5",
   "metadata": {
    "papermill": {
     "duration": 0.018054,
     "end_time": "2023-08-05T15:20:39.067437",
     "exception": false,
     "start_time": "2023-08-05T15:20:39.049383",
     "status": "completed"
    },
    "tags": []
   },
   "source": [
    "# 11. **Find Average Value of Reviews**"
   ]
  },
  {
   "cell_type": "code",
   "execution_count": 13,
   "id": "773c7ad2",
   "metadata": {
    "execution": {
     "iopub.execute_input": "2023-08-05T15:20:39.106590Z",
     "iopub.status.busy": "2023-08-05T15:20:39.105919Z",
     "iopub.status.idle": "2023-08-05T15:20:39.114313Z",
     "shell.execute_reply": "2023-08-05T15:20:39.113273Z"
    },
    "papermill": {
     "duration": 0.031329,
     "end_time": "2023-08-05T15:20:39.116702",
     "exception": false,
     "start_time": "2023-08-05T15:20:39.085373",
     "status": "completed"
    },
    "tags": []
   },
   "outputs": [],
   "source": [
    "df['Reviews'].replace({'3.0M':3.0},inplace=True) #Because 3.0M is str type which cant be converts into float ."
   ]
  },
  {
   "cell_type": "code",
   "execution_count": 14,
   "id": "5f87c3ce",
   "metadata": {
    "execution": {
     "iopub.execute_input": "2023-08-05T15:20:39.154387Z",
     "iopub.status.busy": "2023-08-05T15:20:39.153753Z",
     "iopub.status.idle": "2023-08-05T15:20:39.162421Z",
     "shell.execute_reply": "2023-08-05T15:20:39.161506Z"
    },
    "papermill": {
     "duration": 0.030308,
     "end_time": "2023-08-05T15:20:39.164890",
     "exception": false,
     "start_time": "2023-08-05T15:20:39.134582",
     "status": "completed"
    },
    "tags": []
   },
   "outputs": [],
   "source": [
    "df['Reviews']=df['Reviews'].astype('float') #Changing Reviews Datatype as Float."
   ]
  },
  {
   "cell_type": "code",
   "execution_count": 15,
   "id": "4fc56810",
   "metadata": {
    "execution": {
     "iopub.execute_input": "2023-08-05T15:20:39.201380Z",
     "iopub.status.busy": "2023-08-05T15:20:39.200974Z",
     "iopub.status.idle": "2023-08-05T15:20:39.209227Z",
     "shell.execute_reply": "2023-08-05T15:20:39.208072Z"
    },
    "papermill": {
     "duration": 0.029249,
     "end_time": "2023-08-05T15:20:39.211481",
     "exception": false,
     "start_time": "2023-08-05T15:20:39.182232",
     "status": "completed"
    },
    "tags": []
   },
   "outputs": [
    {
     "data": {
      "text/plain": [
       "216570.14254658384"
      ]
     },
     "execution_count": 15,
     "metadata": {},
     "output_type": "execute_result"
    }
   ],
   "source": [
    "df['Reviews'].mean()"
   ]
  },
  {
   "cell_type": "markdown",
   "id": "5eb20c47",
   "metadata": {
    "papermill": {
     "duration": 0.017164,
     "end_time": "2023-08-05T15:20:39.246003",
     "exception": false,
     "start_time": "2023-08-05T15:20:39.228839",
     "status": "completed"
    },
    "tags": []
   },
   "source": [
    "# 12. **Find Total Number of Free and Paid Apps**"
   ]
  },
  {
   "cell_type": "code",
   "execution_count": 16,
   "id": "4192044c",
   "metadata": {
    "execution": {
     "iopub.execute_input": "2023-08-05T15:20:39.282831Z",
     "iopub.status.busy": "2023-08-05T15:20:39.282159Z",
     "iopub.status.idle": "2023-08-05T15:20:39.292157Z",
     "shell.execute_reply": "2023-08-05T15:20:39.290960Z"
    },
    "papermill": {
     "duration": 0.030966,
     "end_time": "2023-08-05T15:20:39.294384",
     "exception": false,
     "start_time": "2023-08-05T15:20:39.263418",
     "status": "completed"
    },
    "tags": []
   },
   "outputs": [
    {
     "data": {
      "text/plain": [
       "Free    8902\n",
       "Paid     756\n",
       "0          1\n",
       "Name: Type, dtype: int64"
      ]
     },
     "execution_count": 16,
     "metadata": {},
     "output_type": "execute_result"
    }
   ],
   "source": [
    "df['Type'].value_counts()"
   ]
  },
  {
   "cell_type": "markdown",
   "id": "64df9ec3",
   "metadata": {
    "papermill": {
     "duration": 0.016943,
     "end_time": "2023-08-05T15:20:39.328672",
     "exception": false,
     "start_time": "2023-08-05T15:20:39.311729",
     "status": "completed"
    },
    "tags": []
   },
   "source": [
    "Since '0' is not a Valid Type So we just drop that particular record by converting it to NaN(Not a Number)."
   ]
  },
  {
   "cell_type": "code",
   "execution_count": 17,
   "id": "825e0e78",
   "metadata": {
    "execution": {
     "iopub.execute_input": "2023-08-05T15:20:39.365576Z",
     "iopub.status.busy": "2023-08-05T15:20:39.365132Z",
     "iopub.status.idle": "2023-08-05T15:20:39.375990Z",
     "shell.execute_reply": "2023-08-05T15:20:39.374809Z"
    },
    "papermill": {
     "duration": 0.032721,
     "end_time": "2023-08-05T15:20:39.378757",
     "exception": false,
     "start_time": "2023-08-05T15:20:39.346036",
     "status": "completed"
    },
    "tags": []
   },
   "outputs": [],
   "source": [
    "df['Type'].replace({'0':np.NaN},inplace=True)\n",
    "df['Type'].dropna(inplace=True)"
   ]
  },
  {
   "cell_type": "code",
   "execution_count": 18,
   "id": "7af20841",
   "metadata": {
    "execution": {
     "iopub.execute_input": "2023-08-05T15:20:39.417912Z",
     "iopub.status.busy": "2023-08-05T15:20:39.417421Z",
     "iopub.status.idle": "2023-08-05T15:20:39.429934Z",
     "shell.execute_reply": "2023-08-05T15:20:39.428282Z"
    },
    "papermill": {
     "duration": 0.035225,
     "end_time": "2023-08-05T15:20:39.432633",
     "exception": false,
     "start_time": "2023-08-05T15:20:39.397408",
     "status": "completed"
    },
    "tags": []
   },
   "outputs": [
    {
     "data": {
      "text/plain": [
       "Free    8902\n",
       "Paid     756\n",
       "Name: Type, dtype: int64"
      ]
     },
     "execution_count": 18,
     "metadata": {},
     "output_type": "execute_result"
    }
   ],
   "source": [
    "df['Type'].value_counts()"
   ]
  },
  {
   "cell_type": "markdown",
   "id": "5f181ed9",
   "metadata": {
    "papermill": {
     "duration": 0.019396,
     "end_time": "2023-08-05T15:20:39.471608",
     "exception": false,
     "start_time": "2023-08-05T15:20:39.452212",
     "status": "completed"
    },
    "tags": []
   },
   "source": [
    "# 13. **Which App Has Maximum Reviews?**"
   ]
  },
  {
   "cell_type": "code",
   "execution_count": 19,
   "id": "8c365709",
   "metadata": {
    "execution": {
     "iopub.execute_input": "2023-08-05T15:20:39.512363Z",
     "iopub.status.busy": "2023-08-05T15:20:39.511924Z",
     "iopub.status.idle": "2023-08-05T15:20:39.520951Z",
     "shell.execute_reply": "2023-08-05T15:20:39.519468Z"
    },
    "papermill": {
     "duration": 0.032942,
     "end_time": "2023-08-05T15:20:39.524110",
     "exception": false,
     "start_time": "2023-08-05T15:20:39.491168",
     "status": "completed"
    },
    "tags": []
   },
   "outputs": [
    {
     "name": "stdout",
     "output_type": "stream",
     "text": [
      "Facebook has maximum Reviews\n"
     ]
    }
   ],
   "source": [
    "Highly_Reviewed_App=df[df['Reviews'].max()==df['Reviews']]['App']\n",
    "print(Highly_Reviewed_App.values[0],\"has maximum Reviews\")"
   ]
  },
  {
   "cell_type": "markdown",
   "id": "faf75f84",
   "metadata": {
    "papermill": {
     "duration": 0.018369,
     "end_time": "2023-08-05T15:20:39.560824",
     "exception": false,
     "start_time": "2023-08-05T15:20:39.542455",
     "status": "completed"
    },
    "tags": []
   },
   "source": [
    "# 14. **Display Top 5 Apps Having Highest Reviews**"
   ]
  },
  {
   "cell_type": "code",
   "execution_count": 20,
   "id": "62e45266",
   "metadata": {
    "execution": {
     "iopub.execute_input": "2023-08-05T15:20:39.599840Z",
     "iopub.status.busy": "2023-08-05T15:20:39.599319Z",
     "iopub.status.idle": "2023-08-05T15:20:39.612584Z",
     "shell.execute_reply": "2023-08-05T15:20:39.611219Z"
    },
    "papermill": {
     "duration": 0.036243,
     "end_time": "2023-08-05T15:20:39.615510",
     "exception": false,
     "start_time": "2023-08-05T15:20:39.579267",
     "status": "completed"
    },
    "tags": []
   },
   "outputs": [
    {
     "data": {
      "text/plain": [
       "3272    Share Music & Transfer Files - Xender\n",
       "372                        Puffin Web Browser\n",
       "3273                                App vault\n",
       "371     Google Duo - High Quality Video Calls\n",
       "2137                         Cute Pet Puppies\n",
       "Name: App, dtype: object"
      ]
     },
     "execution_count": 20,
     "metadata": {},
     "output_type": "execute_result"
    }
   ],
   "source": [
    "idx=df['Reviews'].sort_values(ascending=False).head().index\n",
    "df.iloc[idx]['App']"
   ]
  },
  {
   "cell_type": "markdown",
   "id": "aec1b1f6",
   "metadata": {
    "papermill": {
     "duration": 0.018831,
     "end_time": "2023-08-05T15:20:39.653370",
     "exception": false,
     "start_time": "2023-08-05T15:20:39.634539",
     "status": "completed"
    },
    "tags": []
   },
   "source": [
    "# 15. **Find Average Rating of Free and Paid Apps**"
   ]
  },
  {
   "cell_type": "code",
   "execution_count": 21,
   "id": "85967d0e",
   "metadata": {
    "execution": {
     "iopub.execute_input": "2023-08-05T15:20:39.694363Z",
     "iopub.status.busy": "2023-08-05T15:20:39.693917Z",
     "iopub.status.idle": "2023-08-05T15:20:39.706469Z",
     "shell.execute_reply": "2023-08-05T15:20:39.705566Z"
    },
    "papermill": {
     "duration": 0.035439,
     "end_time": "2023-08-05T15:20:39.708792",
     "exception": false,
     "start_time": "2023-08-05T15:20:39.673353",
     "status": "completed"
    },
    "tags": []
   },
   "outputs": [
    {
     "data": {
      "text/plain": [
       "Type\n",
       "Free    4.166372\n",
       "Paid    4.259603\n",
       "Name: Rating, dtype: float64"
      ]
     },
     "execution_count": 21,
     "metadata": {},
     "output_type": "execute_result"
    }
   ],
   "source": [
    "df.groupby('Type')['Rating'].mean()"
   ]
  },
  {
   "cell_type": "markdown",
   "id": "ec5b8121",
   "metadata": {
    "papermill": {
     "duration": 0.018525,
     "end_time": "2023-08-05T15:20:39.745986",
     "exception": false,
     "start_time": "2023-08-05T15:20:39.727461",
     "status": "completed"
    },
    "tags": []
   },
   "source": [
    "# 16. **Display Top  5 Apps Having Maximum Installs**"
   ]
  },
  {
   "cell_type": "code",
   "execution_count": 22,
   "id": "a84b8497",
   "metadata": {
    "execution": {
     "iopub.execute_input": "2023-08-05T15:20:39.785456Z",
     "iopub.status.busy": "2023-08-05T15:20:39.785011Z",
     "iopub.status.idle": "2023-08-05T15:20:39.795014Z",
     "shell.execute_reply": "2023-08-05T15:20:39.793701Z"
    },
    "papermill": {
     "duration": 0.032714,
     "end_time": "2023-08-05T15:20:39.797518",
     "exception": false,
     "start_time": "2023-08-05T15:20:39.764804",
     "status": "completed"
    },
    "tags": []
   },
   "outputs": [
    {
     "data": {
      "text/plain": [
       "0            10,000+\n",
       "1           500,000+\n",
       "2         5,000,000+\n",
       "3        50,000,000+\n",
       "4           100,000+\n",
       "            ...     \n",
       "10836         5,000+\n",
       "10837           100+\n",
       "10838         1,000+\n",
       "10839         1,000+\n",
       "10840    10,000,000+\n",
       "Name: Installs, Length: 9660, dtype: object"
      ]
     },
     "execution_count": 22,
     "metadata": {},
     "output_type": "execute_result"
    }
   ],
   "source": [
    "df['Installs']"
   ]
  },
  {
   "cell_type": "markdown",
   "id": "6d93943d",
   "metadata": {
    "papermill": {
     "duration": 0.019166,
     "end_time": "2023-08-05T15:20:39.836117",
     "exception": false,
     "start_time": "2023-08-05T15:20:39.816951",
     "status": "completed"
    },
    "tags": []
   },
   "source": [
    "First we have to remove the ',' and '+' from the data."
   ]
  },
  {
   "cell_type": "code",
   "execution_count": 23,
   "id": "a7b68ec0",
   "metadata": {
    "execution": {
     "iopub.execute_input": "2023-08-05T15:20:39.876900Z",
     "iopub.status.busy": "2023-08-05T15:20:39.876419Z",
     "iopub.status.idle": "2023-08-05T15:20:39.890639Z",
     "shell.execute_reply": "2023-08-05T15:20:39.889698Z"
    },
    "papermill": {
     "duration": 0.037498,
     "end_time": "2023-08-05T15:20:39.893198",
     "exception": false,
     "start_time": "2023-08-05T15:20:39.855700",
     "status": "completed"
    },
    "tags": []
   },
   "outputs": [],
   "source": [
    "df['Installs_1']=df['Installs'].str.replace(',','')"
   ]
  },
  {
   "cell_type": "code",
   "execution_count": 24,
   "id": "b2c91904",
   "metadata": {
    "execution": {
     "iopub.execute_input": "2023-08-05T15:20:39.932785Z",
     "iopub.status.busy": "2023-08-05T15:20:39.932334Z",
     "iopub.status.idle": "2023-08-05T15:20:39.948004Z",
     "shell.execute_reply": "2023-08-05T15:20:39.946361Z"
    },
    "papermill": {
     "duration": 0.038811,
     "end_time": "2023-08-05T15:20:39.950935",
     "exception": false,
     "start_time": "2023-08-05T15:20:39.912124",
     "status": "completed"
    },
    "tags": []
   },
   "outputs": [
    {
     "name": "stderr",
     "output_type": "stream",
     "text": [
      "/tmp/ipykernel_20/909352723.py:1: FutureWarning: The default value of regex will change from True to False in a future version. In addition, single character regular expressions will *not* be treated as literal strings when regex=True.\n",
      "  df['Installs_1']=df['Installs_1'].str.replace('+','')\n"
     ]
    }
   ],
   "source": [
    "df['Installs_1']=df['Installs_1'].str.replace('+','')"
   ]
  },
  {
   "cell_type": "code",
   "execution_count": 25,
   "id": "0d903cd7",
   "metadata": {
    "execution": {
     "iopub.execute_input": "2023-08-05T15:20:39.994941Z",
     "iopub.status.busy": "2023-08-05T15:20:39.994284Z",
     "iopub.status.idle": "2023-08-05T15:20:40.009545Z",
     "shell.execute_reply": "2023-08-05T15:20:40.008306Z"
    },
    "papermill": {
     "duration": 0.040431,
     "end_time": "2023-08-05T15:20:40.012243",
     "exception": false,
     "start_time": "2023-08-05T15:20:39.971812",
     "status": "completed"
    },
    "tags": []
   },
   "outputs": [
    {
     "data": {
      "text/plain": [
       "0           10000\n",
       "1          500000\n",
       "2         5000000\n",
       "3        50000000\n",
       "4          100000\n",
       "           ...   \n",
       "10836        5000\n",
       "10837         100\n",
       "10838        1000\n",
       "10839        1000\n",
       "10840    10000000\n",
       "Name: Installs_1, Length: 9660, dtype: object"
      ]
     },
     "execution_count": 25,
     "metadata": {},
     "output_type": "execute_result"
    }
   ],
   "source": [
    "df['Installs_1']"
   ]
  },
  {
   "cell_type": "code",
   "execution_count": 26,
   "id": "178671ca",
   "metadata": {
    "execution": {
     "iopub.execute_input": "2023-08-05T15:20:40.060376Z",
     "iopub.status.busy": "2023-08-05T15:20:40.059467Z",
     "iopub.status.idle": "2023-08-05T15:20:40.079213Z",
     "shell.execute_reply": "2023-08-05T15:20:40.078043Z"
    },
    "papermill": {
     "duration": 0.043059,
     "end_time": "2023-08-05T15:20:40.081671",
     "exception": false,
     "start_time": "2023-08-05T15:20:40.038612",
     "status": "completed"
    },
    "tags": []
   },
   "outputs": [],
   "source": [
    "df['Installs_1']=df['Installs_1'].str.replace('Free','0')"
   ]
  },
  {
   "cell_type": "code",
   "execution_count": 27,
   "id": "f1699ff3",
   "metadata": {
    "execution": {
     "iopub.execute_input": "2023-08-05T15:20:40.121905Z",
     "iopub.status.busy": "2023-08-05T15:20:40.120901Z",
     "iopub.status.idle": "2023-08-05T15:20:40.130042Z",
     "shell.execute_reply": "2023-08-05T15:20:40.128556Z"
    },
    "papermill": {
     "duration": 0.032739,
     "end_time": "2023-08-05T15:20:40.132939",
     "exception": false,
     "start_time": "2023-08-05T15:20:40.100200",
     "status": "completed"
    },
    "tags": []
   },
   "outputs": [
    {
     "data": {
      "text/plain": [
       "0           10000\n",
       "1          500000\n",
       "2         5000000\n",
       "3        50000000\n",
       "4          100000\n",
       "           ...   \n",
       "10836        5000\n",
       "10837         100\n",
       "10838        1000\n",
       "10839        1000\n",
       "10840    10000000\n",
       "Name: Installs_1, Length: 9660, dtype: object"
      ]
     },
     "execution_count": 27,
     "metadata": {},
     "output_type": "execute_result"
    }
   ],
   "source": [
    "df['Installs_1']"
   ]
  },
  {
   "cell_type": "code",
   "execution_count": 28,
   "id": "9da32a25",
   "metadata": {
    "execution": {
     "iopub.execute_input": "2023-08-05T15:20:40.179789Z",
     "iopub.status.busy": "2023-08-05T15:20:40.179363Z",
     "iopub.status.idle": "2023-08-05T15:20:40.186374Z",
     "shell.execute_reply": "2023-08-05T15:20:40.185215Z"
    },
    "papermill": {
     "duration": 0.03064,
     "end_time": "2023-08-05T15:20:40.188876",
     "exception": false,
     "start_time": "2023-08-05T15:20:40.158236",
     "status": "completed"
    },
    "tags": []
   },
   "outputs": [],
   "source": [
    "df['Installs_1']=df['Installs_1'].astype(int)"
   ]
  },
  {
   "cell_type": "code",
   "execution_count": 29,
   "id": "bcd65c94",
   "metadata": {
    "execution": {
     "iopub.execute_input": "2023-08-05T15:20:40.235066Z",
     "iopub.status.busy": "2023-08-05T15:20:40.234283Z",
     "iopub.status.idle": "2023-08-05T15:20:40.243536Z",
     "shell.execute_reply": "2023-08-05T15:20:40.242559Z"
    },
    "papermill": {
     "duration": 0.033748,
     "end_time": "2023-08-05T15:20:40.245856",
     "exception": false,
     "start_time": "2023-08-05T15:20:40.212108",
     "status": "completed"
    },
    "tags": []
   },
   "outputs": [
    {
     "data": {
      "text/plain": [
       "336     1000000000\n",
       "152     1000000000\n",
       "1654    1000000000\n",
       "3117    1000000000\n",
       "340     1000000000\n",
       "Name: Installs_1, dtype: int64"
      ]
     },
     "execution_count": 29,
     "metadata": {},
     "output_type": "execute_result"
    }
   ],
   "source": [
    "df['Installs_1'].sort_values(ascending=False).head()"
   ]
  },
  {
   "cell_type": "markdown",
   "id": "7c1d1218",
   "metadata": {
    "papermill": {
     "duration": 0.018983,
     "end_time": "2023-08-05T15:20:40.284965",
     "exception": false,
     "start_time": "2023-08-05T15:20:40.265982",
     "status": "completed"
    },
    "tags": []
   },
   "source": [
    "Now we can perform any computation on it."
   ]
  },
  {
   "cell_type": "code",
   "execution_count": 30,
   "id": "b7df5e04",
   "metadata": {
    "execution": {
     "iopub.execute_input": "2023-08-05T15:20:40.326718Z",
     "iopub.status.busy": "2023-08-05T15:20:40.325951Z",
     "iopub.status.idle": "2023-08-05T15:20:40.332322Z",
     "shell.execute_reply": "2023-08-05T15:20:40.331449Z"
    },
    "papermill": {
     "duration": 0.030203,
     "end_time": "2023-08-05T15:20:40.334726",
     "exception": false,
     "start_time": "2023-08-05T15:20:40.304523",
     "status": "completed"
    },
    "tags": []
   },
   "outputs": [],
   "source": [
    "idx=df['Installs_1'].sort_values(ascending=False).head().index"
   ]
  },
  {
   "cell_type": "code",
   "execution_count": 31,
   "id": "8d8e35ab",
   "metadata": {
    "execution": {
     "iopub.execute_input": "2023-08-05T15:20:40.378376Z",
     "iopub.status.busy": "2023-08-05T15:20:40.377546Z",
     "iopub.status.idle": "2023-08-05T15:20:40.400427Z",
     "shell.execute_reply": "2023-08-05T15:20:40.399286Z"
    },
    "papermill": {
     "duration": 0.048607,
     "end_time": "2023-08-05T15:20:40.402867",
     "exception": false,
     "start_time": "2023-08-05T15:20:40.354260",
     "status": "completed"
    },
    "tags": []
   },
   "outputs": [
    {
     "data": {
      "text/html": [
       "<div>\n",
       "<style scoped>\n",
       "    .dataframe tbody tr th:only-of-type {\n",
       "        vertical-align: middle;\n",
       "    }\n",
       "\n",
       "    .dataframe tbody tr th {\n",
       "        vertical-align: top;\n",
       "    }\n",
       "\n",
       "    .dataframe thead th {\n",
       "        text-align: right;\n",
       "    }\n",
       "</style>\n",
       "<table border=\"1\" class=\"dataframe\">\n",
       "  <thead>\n",
       "    <tr style=\"text-align: right;\">\n",
       "      <th></th>\n",
       "      <th>App</th>\n",
       "      <th>Category</th>\n",
       "      <th>Rating</th>\n",
       "      <th>Reviews</th>\n",
       "      <th>Size</th>\n",
       "      <th>Installs</th>\n",
       "      <th>Type</th>\n",
       "      <th>Price</th>\n",
       "      <th>Content Rating</th>\n",
       "      <th>Genres</th>\n",
       "      <th>Last Updated</th>\n",
       "      <th>Current Ver</th>\n",
       "      <th>Android Ver</th>\n",
       "      <th>Installs_1</th>\n",
       "    </tr>\n",
       "  </thead>\n",
       "  <tbody>\n",
       "    <tr>\n",
       "      <th>336</th>\n",
       "      <td>WhatsApp Messenger</td>\n",
       "      <td>COMMUNICATION</td>\n",
       "      <td>4.4</td>\n",
       "      <td>69119316.0</td>\n",
       "      <td>Varies with device</td>\n",
       "      <td>1,000,000,000+</td>\n",
       "      <td>Free</td>\n",
       "      <td>0</td>\n",
       "      <td>Everyone</td>\n",
       "      <td>Communication</td>\n",
       "      <td>August 3, 2018</td>\n",
       "      <td>Varies with device</td>\n",
       "      <td>Varies with device</td>\n",
       "      <td>1000000000</td>\n",
       "    </tr>\n",
       "    <tr>\n",
       "      <th>152</th>\n",
       "      <td>Google Play Books</td>\n",
       "      <td>BOOKS_AND_REFERENCE</td>\n",
       "      <td>3.9</td>\n",
       "      <td>1433233.0</td>\n",
       "      <td>Varies with device</td>\n",
       "      <td>1,000,000,000+</td>\n",
       "      <td>Free</td>\n",
       "      <td>0</td>\n",
       "      <td>Teen</td>\n",
       "      <td>Books &amp; Reference</td>\n",
       "      <td>August 3, 2018</td>\n",
       "      <td>Varies with device</td>\n",
       "      <td>Varies with device</td>\n",
       "      <td>1000000000</td>\n",
       "    </tr>\n",
       "    <tr>\n",
       "      <th>1654</th>\n",
       "      <td>Subway Surfers</td>\n",
       "      <td>GAME</td>\n",
       "      <td>4.5</td>\n",
       "      <td>27722264.0</td>\n",
       "      <td>76M</td>\n",
       "      <td>1,000,000,000+</td>\n",
       "      <td>Free</td>\n",
       "      <td>0</td>\n",
       "      <td>Everyone 10+</td>\n",
       "      <td>Arcade</td>\n",
       "      <td>July 12, 2018</td>\n",
       "      <td>1.90.0</td>\n",
       "      <td>4.1 and up</td>\n",
       "      <td>1000000000</td>\n",
       "    </tr>\n",
       "    <tr>\n",
       "      <th>3117</th>\n",
       "      <td>Maps - Navigate &amp; Explore</td>\n",
       "      <td>TRAVEL_AND_LOCAL</td>\n",
       "      <td>4.3</td>\n",
       "      <td>9235155.0</td>\n",
       "      <td>Varies with device</td>\n",
       "      <td>1,000,000,000+</td>\n",
       "      <td>Free</td>\n",
       "      <td>0</td>\n",
       "      <td>Everyone</td>\n",
       "      <td>Travel &amp; Local</td>\n",
       "      <td>July 31, 2018</td>\n",
       "      <td>Varies with device</td>\n",
       "      <td>Varies with device</td>\n",
       "      <td>1000000000</td>\n",
       "    </tr>\n",
       "    <tr>\n",
       "      <th>340</th>\n",
       "      <td>Gmail</td>\n",
       "      <td>COMMUNICATION</td>\n",
       "      <td>4.3</td>\n",
       "      <td>4604324.0</td>\n",
       "      <td>Varies with device</td>\n",
       "      <td>1,000,000,000+</td>\n",
       "      <td>Free</td>\n",
       "      <td>0</td>\n",
       "      <td>Everyone</td>\n",
       "      <td>Communication</td>\n",
       "      <td>August 2, 2018</td>\n",
       "      <td>Varies with device</td>\n",
       "      <td>Varies with device</td>\n",
       "      <td>1000000000</td>\n",
       "    </tr>\n",
       "  </tbody>\n",
       "</table>\n",
       "</div>"
      ],
      "text/plain": [
       "                            App             Category  Rating     Reviews  \\\n",
       "336          WhatsApp Messenger        COMMUNICATION     4.4  69119316.0   \n",
       "152           Google Play Books  BOOKS_AND_REFERENCE     3.9   1433233.0   \n",
       "1654             Subway Surfers                 GAME     4.5  27722264.0   \n",
       "3117  Maps - Navigate & Explore     TRAVEL_AND_LOCAL     4.3   9235155.0   \n",
       "340                       Gmail        COMMUNICATION     4.3   4604324.0   \n",
       "\n",
       "                    Size        Installs  Type Price Content Rating  \\\n",
       "336   Varies with device  1,000,000,000+  Free     0       Everyone   \n",
       "152   Varies with device  1,000,000,000+  Free     0           Teen   \n",
       "1654                 76M  1,000,000,000+  Free     0   Everyone 10+   \n",
       "3117  Varies with device  1,000,000,000+  Free     0       Everyone   \n",
       "340   Varies with device  1,000,000,000+  Free     0       Everyone   \n",
       "\n",
       "                 Genres    Last Updated         Current Ver  \\\n",
       "336       Communication  August 3, 2018  Varies with device   \n",
       "152   Books & Reference  August 3, 2018  Varies with device   \n",
       "1654             Arcade   July 12, 2018              1.90.0   \n",
       "3117     Travel & Local   July 31, 2018  Varies with device   \n",
       "340       Communication  August 2, 2018  Varies with device   \n",
       "\n",
       "             Android Ver  Installs_1  \n",
       "336   Varies with device  1000000000  \n",
       "152   Varies with device  1000000000  \n",
       "1654          4.1 and up  1000000000  \n",
       "3117  Varies with device  1000000000  \n",
       "340   Varies with device  1000000000  "
      ]
     },
     "execution_count": 31,
     "metadata": {},
     "output_type": "execute_result"
    }
   ],
   "source": [
    "df.loc[idx]"
   ]
  }
 ],
 "metadata": {
  "kernelspec": {
   "display_name": "Python 3",
   "language": "python",
   "name": "python3"
  },
  "language_info": {
   "codemirror_mode": {
    "name": "ipython",
    "version": 3
   },
   "file_extension": ".py",
   "mimetype": "text/x-python",
   "name": "python",
   "nbconvert_exporter": "python",
   "pygments_lexer": "ipython3",
   "version": "3.10.12"
  },
  "papermill": {
   "default_parameters": {},
   "duration": 15.058938,
   "end_time": "2023-08-05T15:20:41.344725",
   "environment_variables": {},
   "exception": null,
   "input_path": "__notebook__.ipynb",
   "output_path": "__notebook__.ipynb",
   "parameters": {},
   "start_time": "2023-08-05T15:20:26.285787",
   "version": "2.4.0"
  }
 },
 "nbformat": 4,
 "nbformat_minor": 5
}
