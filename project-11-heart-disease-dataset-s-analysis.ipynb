{
 "cells": [
  {
   "cell_type": "code",
   "execution_count": 1,
   "id": "0e541213",
   "metadata": {
    "_cell_guid": "b1076dfc-b9ad-4769-8c92-a6c4dae69d19",
    "_uuid": "8f2839f25d086af736a60e9eeb907d3b93b6e0e5",
    "execution": {
     "iopub.execute_input": "2023-08-10T17:43:35.172986Z",
     "iopub.status.busy": "2023-08-10T17:43:35.172591Z",
     "iopub.status.idle": "2023-08-10T17:43:35.195733Z",
     "shell.execute_reply": "2023-08-10T17:43:35.194872Z"
    },
    "papermill": {
     "duration": 0.043567,
     "end_time": "2023-08-10T17:43:35.198139",
     "exception": false,
     "start_time": "2023-08-10T17:43:35.154572",
     "status": "completed"
    },
    "tags": []
   },
   "outputs": [
    {
     "name": "stdout",
     "output_type": "stream",
     "text": [
      "/kaggle/input/heart-disease-dataset/heart.csv\n"
     ]
    }
   ],
   "source": [
    "# This Python 3 environment comes with many helpful analytics libraries installed\n",
    "# It is defined by the kaggle/python Docker image: https://github.com/kaggle/docker-python\n",
    "# For example, here's several helpful packages to load\n",
    "\n",
    "import numpy as np # linear algebra\n",
    "import pandas as pd # data processing, CSV file I/O (e.g. pd.read_csv)\n",
    "import matplotlib.pyplot as plt\n",
    "%matplotlib inline\n",
    "# Input data files are available in the read-only \"../input/\" directory\n",
    "# For example, running this (by clicking run or pressing Shift+Enter) will list all files under the input directory\n",
    "\n",
    "import os\n",
    "for dirname, _, filenames in os.walk('/kaggle/input'):\n",
    "    for filename in filenames:\n",
    "        print(os.path.join(dirname, filename))\n",
    "\n",
    "# You can write up to 20GB to the current directory (/kaggle/working/) that gets preserved as output when you create a version using \"Save & Run All\" \n",
    "# You can also write temporary files to /kaggle/temp/, but they won't be saved outside of the current session"
   ]
  },
  {
   "cell_type": "markdown",
   "id": "c0e25b87",
   "metadata": {
    "papermill": {
     "duration": 0.016782,
     "end_time": "2023-08-10T17:43:35.230714",
     "exception": false,
     "start_time": "2023-08-10T17:43:35.213932",
     "status": "completed"
    },
    "tags": []
   },
   "source": [
    "# **1. Import The Dataset**"
   ]
  },
  {
   "cell_type": "code",
   "execution_count": 2,
   "id": "036aaa44",
   "metadata": {
    "execution": {
     "iopub.execute_input": "2023-08-10T17:43:35.263991Z",
     "iopub.status.busy": "2023-08-10T17:43:35.263562Z",
     "iopub.status.idle": "2023-08-10T17:43:35.288913Z",
     "shell.execute_reply": "2023-08-10T17:43:35.287631Z"
    },
    "papermill": {
     "duration": 0.045425,
     "end_time": "2023-08-10T17:43:35.291764",
     "exception": false,
     "start_time": "2023-08-10T17:43:35.246339",
     "status": "completed"
    },
    "tags": []
   },
   "outputs": [],
   "source": [
    "data=pd.read_csv(\"/kaggle/input/heart-disease-dataset/heart.csv\")"
   ]
  },
  {
   "cell_type": "markdown",
   "id": "5fabd570",
   "metadata": {
    "papermill": {
     "duration": 0.015545,
     "end_time": "2023-08-10T17:43:35.325013",
     "exception": false,
     "start_time": "2023-08-10T17:43:35.309468",
     "status": "completed"
    },
    "tags": []
   },
   "source": [
    "# **2. Display Top 5 Rows of The Dataset**"
   ]
  },
  {
   "cell_type": "code",
   "execution_count": 3,
   "id": "f2a45a67",
   "metadata": {
    "execution": {
     "iopub.execute_input": "2023-08-10T17:43:35.358505Z",
     "iopub.status.busy": "2023-08-10T17:43:35.358105Z",
     "iopub.status.idle": "2023-08-10T17:43:35.384870Z",
     "shell.execute_reply": "2023-08-10T17:43:35.383681Z"
    },
    "papermill": {
     "duration": 0.046921,
     "end_time": "2023-08-10T17:43:35.387605",
     "exception": false,
     "start_time": "2023-08-10T17:43:35.340684",
     "status": "completed"
    },
    "tags": []
   },
   "outputs": [
    {
     "data": {
      "text/html": [
       "<div>\n",
       "<style scoped>\n",
       "    .dataframe tbody tr th:only-of-type {\n",
       "        vertical-align: middle;\n",
       "    }\n",
       "\n",
       "    .dataframe tbody tr th {\n",
       "        vertical-align: top;\n",
       "    }\n",
       "\n",
       "    .dataframe thead th {\n",
       "        text-align: right;\n",
       "    }\n",
       "</style>\n",
       "<table border=\"1\" class=\"dataframe\">\n",
       "  <thead>\n",
       "    <tr style=\"text-align: right;\">\n",
       "      <th></th>\n",
       "      <th>age</th>\n",
       "      <th>sex</th>\n",
       "      <th>cp</th>\n",
       "      <th>trestbps</th>\n",
       "      <th>chol</th>\n",
       "      <th>fbs</th>\n",
       "      <th>restecg</th>\n",
       "      <th>thalach</th>\n",
       "      <th>exang</th>\n",
       "      <th>oldpeak</th>\n",
       "      <th>slope</th>\n",
       "      <th>ca</th>\n",
       "      <th>thal</th>\n",
       "      <th>target</th>\n",
       "    </tr>\n",
       "  </thead>\n",
       "  <tbody>\n",
       "    <tr>\n",
       "      <th>0</th>\n",
       "      <td>52</td>\n",
       "      <td>1</td>\n",
       "      <td>0</td>\n",
       "      <td>125</td>\n",
       "      <td>212</td>\n",
       "      <td>0</td>\n",
       "      <td>1</td>\n",
       "      <td>168</td>\n",
       "      <td>0</td>\n",
       "      <td>1.0</td>\n",
       "      <td>2</td>\n",
       "      <td>2</td>\n",
       "      <td>3</td>\n",
       "      <td>0</td>\n",
       "    </tr>\n",
       "    <tr>\n",
       "      <th>1</th>\n",
       "      <td>53</td>\n",
       "      <td>1</td>\n",
       "      <td>0</td>\n",
       "      <td>140</td>\n",
       "      <td>203</td>\n",
       "      <td>1</td>\n",
       "      <td>0</td>\n",
       "      <td>155</td>\n",
       "      <td>1</td>\n",
       "      <td>3.1</td>\n",
       "      <td>0</td>\n",
       "      <td>0</td>\n",
       "      <td>3</td>\n",
       "      <td>0</td>\n",
       "    </tr>\n",
       "    <tr>\n",
       "      <th>2</th>\n",
       "      <td>70</td>\n",
       "      <td>1</td>\n",
       "      <td>0</td>\n",
       "      <td>145</td>\n",
       "      <td>174</td>\n",
       "      <td>0</td>\n",
       "      <td>1</td>\n",
       "      <td>125</td>\n",
       "      <td>1</td>\n",
       "      <td>2.6</td>\n",
       "      <td>0</td>\n",
       "      <td>0</td>\n",
       "      <td>3</td>\n",
       "      <td>0</td>\n",
       "    </tr>\n",
       "    <tr>\n",
       "      <th>3</th>\n",
       "      <td>61</td>\n",
       "      <td>1</td>\n",
       "      <td>0</td>\n",
       "      <td>148</td>\n",
       "      <td>203</td>\n",
       "      <td>0</td>\n",
       "      <td>1</td>\n",
       "      <td>161</td>\n",
       "      <td>0</td>\n",
       "      <td>0.0</td>\n",
       "      <td>2</td>\n",
       "      <td>1</td>\n",
       "      <td>3</td>\n",
       "      <td>0</td>\n",
       "    </tr>\n",
       "    <tr>\n",
       "      <th>4</th>\n",
       "      <td>62</td>\n",
       "      <td>0</td>\n",
       "      <td>0</td>\n",
       "      <td>138</td>\n",
       "      <td>294</td>\n",
       "      <td>1</td>\n",
       "      <td>1</td>\n",
       "      <td>106</td>\n",
       "      <td>0</td>\n",
       "      <td>1.9</td>\n",
       "      <td>1</td>\n",
       "      <td>3</td>\n",
       "      <td>2</td>\n",
       "      <td>0</td>\n",
       "    </tr>\n",
       "  </tbody>\n",
       "</table>\n",
       "</div>"
      ],
      "text/plain": [
       "   age  sex  cp  trestbps  chol  fbs  restecg  thalach  exang  oldpeak  slope  \\\n",
       "0   52    1   0       125   212    0        1      168      0      1.0      2   \n",
       "1   53    1   0       140   203    1        0      155      1      3.1      0   \n",
       "2   70    1   0       145   174    0        1      125      1      2.6      0   \n",
       "3   61    1   0       148   203    0        1      161      0      0.0      2   \n",
       "4   62    0   0       138   294    1        1      106      0      1.9      1   \n",
       "\n",
       "   ca  thal  target  \n",
       "0   2     3       0  \n",
       "1   0     3       0  \n",
       "2   0     3       0  \n",
       "3   1     3       0  \n",
       "4   3     2       0  "
      ]
     },
     "execution_count": 3,
     "metadata": {},
     "output_type": "execute_result"
    }
   ],
   "source": [
    "data.head()"
   ]
  },
  {
   "cell_type": "markdown",
   "id": "32e4f5a2",
   "metadata": {
    "papermill": {
     "duration": 0.015677,
     "end_time": "2023-08-10T17:43:35.419389",
     "exception": false,
     "start_time": "2023-08-10T17:43:35.403712",
     "status": "completed"
    },
    "tags": []
   },
   "source": [
    "# **3. Check The Last 5 Rows of The Dataset**"
   ]
  },
  {
   "cell_type": "code",
   "execution_count": 4,
   "id": "4e5dbc5b",
   "metadata": {
    "execution": {
     "iopub.execute_input": "2023-08-10T17:43:35.454956Z",
     "iopub.status.busy": "2023-08-10T17:43:35.454201Z",
     "iopub.status.idle": "2023-08-10T17:43:35.470287Z",
     "shell.execute_reply": "2023-08-10T17:43:35.469075Z"
    },
    "papermill": {
     "duration": 0.03691,
     "end_time": "2023-08-10T17:43:35.472844",
     "exception": false,
     "start_time": "2023-08-10T17:43:35.435934",
     "status": "completed"
    },
    "tags": []
   },
   "outputs": [
    {
     "data": {
      "text/html": [
       "<div>\n",
       "<style scoped>\n",
       "    .dataframe tbody tr th:only-of-type {\n",
       "        vertical-align: middle;\n",
       "    }\n",
       "\n",
       "    .dataframe tbody tr th {\n",
       "        vertical-align: top;\n",
       "    }\n",
       "\n",
       "    .dataframe thead th {\n",
       "        text-align: right;\n",
       "    }\n",
       "</style>\n",
       "<table border=\"1\" class=\"dataframe\">\n",
       "  <thead>\n",
       "    <tr style=\"text-align: right;\">\n",
       "      <th></th>\n",
       "      <th>age</th>\n",
       "      <th>sex</th>\n",
       "      <th>cp</th>\n",
       "      <th>trestbps</th>\n",
       "      <th>chol</th>\n",
       "      <th>fbs</th>\n",
       "      <th>restecg</th>\n",
       "      <th>thalach</th>\n",
       "      <th>exang</th>\n",
       "      <th>oldpeak</th>\n",
       "      <th>slope</th>\n",
       "      <th>ca</th>\n",
       "      <th>thal</th>\n",
       "      <th>target</th>\n",
       "    </tr>\n",
       "  </thead>\n",
       "  <tbody>\n",
       "    <tr>\n",
       "      <th>1020</th>\n",
       "      <td>59</td>\n",
       "      <td>1</td>\n",
       "      <td>1</td>\n",
       "      <td>140</td>\n",
       "      <td>221</td>\n",
       "      <td>0</td>\n",
       "      <td>1</td>\n",
       "      <td>164</td>\n",
       "      <td>1</td>\n",
       "      <td>0.0</td>\n",
       "      <td>2</td>\n",
       "      <td>0</td>\n",
       "      <td>2</td>\n",
       "      <td>1</td>\n",
       "    </tr>\n",
       "    <tr>\n",
       "      <th>1021</th>\n",
       "      <td>60</td>\n",
       "      <td>1</td>\n",
       "      <td>0</td>\n",
       "      <td>125</td>\n",
       "      <td>258</td>\n",
       "      <td>0</td>\n",
       "      <td>0</td>\n",
       "      <td>141</td>\n",
       "      <td>1</td>\n",
       "      <td>2.8</td>\n",
       "      <td>1</td>\n",
       "      <td>1</td>\n",
       "      <td>3</td>\n",
       "      <td>0</td>\n",
       "    </tr>\n",
       "    <tr>\n",
       "      <th>1022</th>\n",
       "      <td>47</td>\n",
       "      <td>1</td>\n",
       "      <td>0</td>\n",
       "      <td>110</td>\n",
       "      <td>275</td>\n",
       "      <td>0</td>\n",
       "      <td>0</td>\n",
       "      <td>118</td>\n",
       "      <td>1</td>\n",
       "      <td>1.0</td>\n",
       "      <td>1</td>\n",
       "      <td>1</td>\n",
       "      <td>2</td>\n",
       "      <td>0</td>\n",
       "    </tr>\n",
       "    <tr>\n",
       "      <th>1023</th>\n",
       "      <td>50</td>\n",
       "      <td>0</td>\n",
       "      <td>0</td>\n",
       "      <td>110</td>\n",
       "      <td>254</td>\n",
       "      <td>0</td>\n",
       "      <td>0</td>\n",
       "      <td>159</td>\n",
       "      <td>0</td>\n",
       "      <td>0.0</td>\n",
       "      <td>2</td>\n",
       "      <td>0</td>\n",
       "      <td>2</td>\n",
       "      <td>1</td>\n",
       "    </tr>\n",
       "    <tr>\n",
       "      <th>1024</th>\n",
       "      <td>54</td>\n",
       "      <td>1</td>\n",
       "      <td>0</td>\n",
       "      <td>120</td>\n",
       "      <td>188</td>\n",
       "      <td>0</td>\n",
       "      <td>1</td>\n",
       "      <td>113</td>\n",
       "      <td>0</td>\n",
       "      <td>1.4</td>\n",
       "      <td>1</td>\n",
       "      <td>1</td>\n",
       "      <td>3</td>\n",
       "      <td>0</td>\n",
       "    </tr>\n",
       "  </tbody>\n",
       "</table>\n",
       "</div>"
      ],
      "text/plain": [
       "      age  sex  cp  trestbps  chol  fbs  restecg  thalach  exang  oldpeak  \\\n",
       "1020   59    1   1       140   221    0        1      164      1      0.0   \n",
       "1021   60    1   0       125   258    0        0      141      1      2.8   \n",
       "1022   47    1   0       110   275    0        0      118      1      1.0   \n",
       "1023   50    0   0       110   254    0        0      159      0      0.0   \n",
       "1024   54    1   0       120   188    0        1      113      0      1.4   \n",
       "\n",
       "      slope  ca  thal  target  \n",
       "1020      2   0     2       1  \n",
       "1021      1   1     3       0  \n",
       "1022      1   1     2       0  \n",
       "1023      2   0     2       1  \n",
       "1024      1   1     3       0  "
      ]
     },
     "execution_count": 4,
     "metadata": {},
     "output_type": "execute_result"
    }
   ],
   "source": [
    "data.tail()"
   ]
  },
  {
   "cell_type": "markdown",
   "id": "28aa3d7f",
   "metadata": {
    "papermill": {
     "duration": 0.016313,
     "end_time": "2023-08-10T17:43:35.505410",
     "exception": false,
     "start_time": "2023-08-10T17:43:35.489097",
     "status": "completed"
    },
    "tags": []
   },
   "source": [
    "# **4. Find Shape of Our Dataset (Number of Rows And Number of Columns)**"
   ]
  },
  {
   "cell_type": "code",
   "execution_count": 5,
   "id": "851d0898",
   "metadata": {
    "execution": {
     "iopub.execute_input": "2023-08-10T17:43:35.540865Z",
     "iopub.status.busy": "2023-08-10T17:43:35.540454Z",
     "iopub.status.idle": "2023-08-10T17:43:35.546824Z",
     "shell.execute_reply": "2023-08-10T17:43:35.545565Z"
    },
    "papermill": {
     "duration": 0.027343,
     "end_time": "2023-08-10T17:43:35.549326",
     "exception": false,
     "start_time": "2023-08-10T17:43:35.521983",
     "status": "completed"
    },
    "tags": []
   },
   "outputs": [
    {
     "name": "stdout",
     "output_type": "stream",
     "text": [
      "Number of Rows: 1025\n",
      "Number of Columns: 14\n"
     ]
    }
   ],
   "source": [
    "print(\"Number of Rows:\",data.shape[0])\n",
    "print(\"Number of Columns:\",data.shape[1])"
   ]
  },
  {
   "cell_type": "markdown",
   "id": "ffc43157",
   "metadata": {
    "papermill": {
     "duration": 0.016073,
     "end_time": "2023-08-10T17:43:35.581727",
     "exception": false,
     "start_time": "2023-08-10T17:43:35.565654",
     "status": "completed"
    },
    "tags": []
   },
   "source": [
    "# **5. Get Information About Our Dataset Like Total Number Rows, Total Number of Columns, Datatypes of Each Column And Memory Requirement**"
   ]
  },
  {
   "cell_type": "code",
   "execution_count": 6,
   "id": "a626be81",
   "metadata": {
    "execution": {
     "iopub.execute_input": "2023-08-10T17:43:35.618410Z",
     "iopub.status.busy": "2023-08-10T17:43:35.617072Z",
     "iopub.status.idle": "2023-08-10T17:43:35.644222Z",
     "shell.execute_reply": "2023-08-10T17:43:35.642736Z"
    },
    "papermill": {
     "duration": 0.048454,
     "end_time": "2023-08-10T17:43:35.646936",
     "exception": false,
     "start_time": "2023-08-10T17:43:35.598482",
     "status": "completed"
    },
    "tags": []
   },
   "outputs": [
    {
     "name": "stdout",
     "output_type": "stream",
     "text": [
      "<class 'pandas.core.frame.DataFrame'>\n",
      "RangeIndex: 1025 entries, 0 to 1024\n",
      "Data columns (total 14 columns):\n",
      " #   Column    Non-Null Count  Dtype  \n",
      "---  ------    --------------  -----  \n",
      " 0   age       1025 non-null   int64  \n",
      " 1   sex       1025 non-null   int64  \n",
      " 2   cp        1025 non-null   int64  \n",
      " 3   trestbps  1025 non-null   int64  \n",
      " 4   chol      1025 non-null   int64  \n",
      " 5   fbs       1025 non-null   int64  \n",
      " 6   restecg   1025 non-null   int64  \n",
      " 7   thalach   1025 non-null   int64  \n",
      " 8   exang     1025 non-null   int64  \n",
      " 9   oldpeak   1025 non-null   float64\n",
      " 10  slope     1025 non-null   int64  \n",
      " 11  ca        1025 non-null   int64  \n",
      " 12  thal      1025 non-null   int64  \n",
      " 13  target    1025 non-null   int64  \n",
      "dtypes: float64(1), int64(13)\n",
      "memory usage: 112.2 KB\n"
     ]
    }
   ],
   "source": [
    "data.info()"
   ]
  },
  {
   "cell_type": "markdown",
   "id": "4c39e569",
   "metadata": {
    "papermill": {
     "duration": 0.015988,
     "end_time": "2023-08-10T17:43:35.680192",
     "exception": false,
     "start_time": "2023-08-10T17:43:35.664204",
     "status": "completed"
    },
    "tags": []
   },
   "source": [
    "# **6. Check Null Values In The Dataset**"
   ]
  },
  {
   "cell_type": "code",
   "execution_count": 7,
   "id": "def527bc",
   "metadata": {
    "execution": {
     "iopub.execute_input": "2023-08-10T17:43:35.716571Z",
     "iopub.status.busy": "2023-08-10T17:43:35.715724Z",
     "iopub.status.idle": "2023-08-10T17:43:35.725007Z",
     "shell.execute_reply": "2023-08-10T17:43:35.723800Z"
    },
    "papermill": {
     "duration": 0.030347,
     "end_time": "2023-08-10T17:43:35.727543",
     "exception": false,
     "start_time": "2023-08-10T17:43:35.697196",
     "status": "completed"
    },
    "tags": []
   },
   "outputs": [
    {
     "data": {
      "text/plain": [
       "age         0\n",
       "sex         0\n",
       "cp          0\n",
       "trestbps    0\n",
       "chol        0\n",
       "fbs         0\n",
       "restecg     0\n",
       "thalach     0\n",
       "exang       0\n",
       "oldpeak     0\n",
       "slope       0\n",
       "ca          0\n",
       "thal        0\n",
       "target      0\n",
       "dtype: int64"
      ]
     },
     "execution_count": 7,
     "metadata": {},
     "output_type": "execute_result"
    }
   ],
   "source": [
    "data.isnull().sum()"
   ]
  },
  {
   "cell_type": "markdown",
   "id": "139a73d5",
   "metadata": {
    "papermill": {
     "duration": 0.016423,
     "end_time": "2023-08-10T17:43:35.760963",
     "exception": false,
     "start_time": "2023-08-10T17:43:35.744540",
     "status": "completed"
    },
    "tags": []
   },
   "source": [
    "*There is no null value present in the Dataset*"
   ]
  },
  {
   "cell_type": "markdown",
   "id": "5dca459b",
   "metadata": {
    "papermill": {
     "duration": 0.016197,
     "end_time": "2023-08-10T17:43:35.793705",
     "exception": false,
     "start_time": "2023-08-10T17:43:35.777508",
     "status": "completed"
    },
    "tags": []
   },
   "source": [
    "# **7. Check For Duplicate Data and Drop Them**"
   ]
  },
  {
   "cell_type": "code",
   "execution_count": 8,
   "id": "e9aa2603",
   "metadata": {
    "execution": {
     "iopub.execute_input": "2023-08-10T17:43:35.829783Z",
     "iopub.status.busy": "2023-08-10T17:43:35.828815Z",
     "iopub.status.idle": "2023-08-10T17:43:35.842052Z",
     "shell.execute_reply": "2023-08-10T17:43:35.840796Z"
    },
    "papermill": {
     "duration": 0.034138,
     "end_time": "2023-08-10T17:43:35.844445",
     "exception": false,
     "start_time": "2023-08-10T17:43:35.810307",
     "status": "completed"
    },
    "tags": []
   },
   "outputs": [
    {
     "data": {
      "text/plain": [
       "723"
      ]
     },
     "execution_count": 8,
     "metadata": {},
     "output_type": "execute_result"
    }
   ],
   "source": [
    "data.duplicated().sum()"
   ]
  },
  {
   "cell_type": "code",
   "execution_count": 9,
   "id": "ab288556",
   "metadata": {
    "execution": {
     "iopub.execute_input": "2023-08-10T17:43:35.880870Z",
     "iopub.status.busy": "2023-08-10T17:43:35.880189Z",
     "iopub.status.idle": "2023-08-10T17:43:35.888994Z",
     "shell.execute_reply": "2023-08-10T17:43:35.887884Z"
    },
    "papermill": {
     "duration": 0.030009,
     "end_time": "2023-08-10T17:43:35.891597",
     "exception": false,
     "start_time": "2023-08-10T17:43:35.861588",
     "status": "completed"
    },
    "tags": []
   },
   "outputs": [],
   "source": [
    "data.drop_duplicates(inplace=True)"
   ]
  },
  {
   "cell_type": "code",
   "execution_count": 10,
   "id": "361ea9cd",
   "metadata": {
    "execution": {
     "iopub.execute_input": "2023-08-10T17:43:35.928280Z",
     "iopub.status.busy": "2023-08-10T17:43:35.927845Z",
     "iopub.status.idle": "2023-08-10T17:43:35.939024Z",
     "shell.execute_reply": "2023-08-10T17:43:35.937808Z"
    },
    "papermill": {
     "duration": 0.032812,
     "end_time": "2023-08-10T17:43:35.941635",
     "exception": false,
     "start_time": "2023-08-10T17:43:35.908823",
     "status": "completed"
    },
    "tags": []
   },
   "outputs": [
    {
     "data": {
      "text/plain": [
       "0"
      ]
     },
     "execution_count": 10,
     "metadata": {},
     "output_type": "execute_result"
    }
   ],
   "source": [
    "data.duplicated().sum()"
   ]
  },
  {
   "cell_type": "code",
   "execution_count": 11,
   "id": "da88ec08",
   "metadata": {
    "execution": {
     "iopub.execute_input": "2023-08-10T17:43:35.979180Z",
     "iopub.status.busy": "2023-08-10T17:43:35.978743Z",
     "iopub.status.idle": "2023-08-10T17:43:35.985700Z",
     "shell.execute_reply": "2023-08-10T17:43:35.984745Z"
    },
    "papermill": {
     "duration": 0.028559,
     "end_time": "2023-08-10T17:43:35.987931",
     "exception": false,
     "start_time": "2023-08-10T17:43:35.959372",
     "status": "completed"
    },
    "tags": []
   },
   "outputs": [
    {
     "data": {
      "text/plain": [
       "(302, 14)"
      ]
     },
     "execution_count": 11,
     "metadata": {},
     "output_type": "execute_result"
    }
   ],
   "source": [
    "data.shape"
   ]
  },
  {
   "cell_type": "markdown",
   "id": "7511926f",
   "metadata": {
    "papermill": {
     "duration": 0.016838,
     "end_time": "2023-08-10T17:43:36.021897",
     "exception": false,
     "start_time": "2023-08-10T17:43:36.005059",
     "status": "completed"
    },
    "tags": []
   },
   "source": [
    "# **8. Get Overall Statistics About The Dataset**"
   ]
  },
  {
   "cell_type": "code",
   "execution_count": 12,
   "id": "2311c0ca",
   "metadata": {
    "execution": {
     "iopub.execute_input": "2023-08-10T17:43:36.058680Z",
     "iopub.status.busy": "2023-08-10T17:43:36.057425Z",
     "iopub.status.idle": "2023-08-10T17:43:36.119287Z",
     "shell.execute_reply": "2023-08-10T17:43:36.117953Z"
    },
    "papermill": {
     "duration": 0.082991,
     "end_time": "2023-08-10T17:43:36.122002",
     "exception": false,
     "start_time": "2023-08-10T17:43:36.039011",
     "status": "completed"
    },
    "tags": []
   },
   "outputs": [
    {
     "data": {
      "text/html": [
       "<div>\n",
       "<style scoped>\n",
       "    .dataframe tbody tr th:only-of-type {\n",
       "        vertical-align: middle;\n",
       "    }\n",
       "\n",
       "    .dataframe tbody tr th {\n",
       "        vertical-align: top;\n",
       "    }\n",
       "\n",
       "    .dataframe thead th {\n",
       "        text-align: right;\n",
       "    }\n",
       "</style>\n",
       "<table border=\"1\" class=\"dataframe\">\n",
       "  <thead>\n",
       "    <tr style=\"text-align: right;\">\n",
       "      <th></th>\n",
       "      <th>age</th>\n",
       "      <th>sex</th>\n",
       "      <th>cp</th>\n",
       "      <th>trestbps</th>\n",
       "      <th>chol</th>\n",
       "      <th>fbs</th>\n",
       "      <th>restecg</th>\n",
       "      <th>thalach</th>\n",
       "      <th>exang</th>\n",
       "      <th>oldpeak</th>\n",
       "      <th>slope</th>\n",
       "      <th>ca</th>\n",
       "      <th>thal</th>\n",
       "      <th>target</th>\n",
       "    </tr>\n",
       "  </thead>\n",
       "  <tbody>\n",
       "    <tr>\n",
       "      <th>count</th>\n",
       "      <td>302.00000</td>\n",
       "      <td>302.000000</td>\n",
       "      <td>302.000000</td>\n",
       "      <td>302.000000</td>\n",
       "      <td>302.000000</td>\n",
       "      <td>302.000000</td>\n",
       "      <td>302.000000</td>\n",
       "      <td>302.000000</td>\n",
       "      <td>302.000000</td>\n",
       "      <td>302.000000</td>\n",
       "      <td>302.000000</td>\n",
       "      <td>302.000000</td>\n",
       "      <td>302.000000</td>\n",
       "      <td>302.000000</td>\n",
       "    </tr>\n",
       "    <tr>\n",
       "      <th>mean</th>\n",
       "      <td>54.42053</td>\n",
       "      <td>0.682119</td>\n",
       "      <td>0.963576</td>\n",
       "      <td>131.602649</td>\n",
       "      <td>246.500000</td>\n",
       "      <td>0.149007</td>\n",
       "      <td>0.526490</td>\n",
       "      <td>149.569536</td>\n",
       "      <td>0.327815</td>\n",
       "      <td>1.043046</td>\n",
       "      <td>1.397351</td>\n",
       "      <td>0.718543</td>\n",
       "      <td>2.314570</td>\n",
       "      <td>0.543046</td>\n",
       "    </tr>\n",
       "    <tr>\n",
       "      <th>std</th>\n",
       "      <td>9.04797</td>\n",
       "      <td>0.466426</td>\n",
       "      <td>1.032044</td>\n",
       "      <td>17.563394</td>\n",
       "      <td>51.753489</td>\n",
       "      <td>0.356686</td>\n",
       "      <td>0.526027</td>\n",
       "      <td>22.903527</td>\n",
       "      <td>0.470196</td>\n",
       "      <td>1.161452</td>\n",
       "      <td>0.616274</td>\n",
       "      <td>1.006748</td>\n",
       "      <td>0.613026</td>\n",
       "      <td>0.498970</td>\n",
       "    </tr>\n",
       "    <tr>\n",
       "      <th>min</th>\n",
       "      <td>29.00000</td>\n",
       "      <td>0.000000</td>\n",
       "      <td>0.000000</td>\n",
       "      <td>94.000000</td>\n",
       "      <td>126.000000</td>\n",
       "      <td>0.000000</td>\n",
       "      <td>0.000000</td>\n",
       "      <td>71.000000</td>\n",
       "      <td>0.000000</td>\n",
       "      <td>0.000000</td>\n",
       "      <td>0.000000</td>\n",
       "      <td>0.000000</td>\n",
       "      <td>0.000000</td>\n",
       "      <td>0.000000</td>\n",
       "    </tr>\n",
       "    <tr>\n",
       "      <th>25%</th>\n",
       "      <td>48.00000</td>\n",
       "      <td>0.000000</td>\n",
       "      <td>0.000000</td>\n",
       "      <td>120.000000</td>\n",
       "      <td>211.000000</td>\n",
       "      <td>0.000000</td>\n",
       "      <td>0.000000</td>\n",
       "      <td>133.250000</td>\n",
       "      <td>0.000000</td>\n",
       "      <td>0.000000</td>\n",
       "      <td>1.000000</td>\n",
       "      <td>0.000000</td>\n",
       "      <td>2.000000</td>\n",
       "      <td>0.000000</td>\n",
       "    </tr>\n",
       "    <tr>\n",
       "      <th>50%</th>\n",
       "      <td>55.50000</td>\n",
       "      <td>1.000000</td>\n",
       "      <td>1.000000</td>\n",
       "      <td>130.000000</td>\n",
       "      <td>240.500000</td>\n",
       "      <td>0.000000</td>\n",
       "      <td>1.000000</td>\n",
       "      <td>152.500000</td>\n",
       "      <td>0.000000</td>\n",
       "      <td>0.800000</td>\n",
       "      <td>1.000000</td>\n",
       "      <td>0.000000</td>\n",
       "      <td>2.000000</td>\n",
       "      <td>1.000000</td>\n",
       "    </tr>\n",
       "    <tr>\n",
       "      <th>75%</th>\n",
       "      <td>61.00000</td>\n",
       "      <td>1.000000</td>\n",
       "      <td>2.000000</td>\n",
       "      <td>140.000000</td>\n",
       "      <td>274.750000</td>\n",
       "      <td>0.000000</td>\n",
       "      <td>1.000000</td>\n",
       "      <td>166.000000</td>\n",
       "      <td>1.000000</td>\n",
       "      <td>1.600000</td>\n",
       "      <td>2.000000</td>\n",
       "      <td>1.000000</td>\n",
       "      <td>3.000000</td>\n",
       "      <td>1.000000</td>\n",
       "    </tr>\n",
       "    <tr>\n",
       "      <th>max</th>\n",
       "      <td>77.00000</td>\n",
       "      <td>1.000000</td>\n",
       "      <td>3.000000</td>\n",
       "      <td>200.000000</td>\n",
       "      <td>564.000000</td>\n",
       "      <td>1.000000</td>\n",
       "      <td>2.000000</td>\n",
       "      <td>202.000000</td>\n",
       "      <td>1.000000</td>\n",
       "      <td>6.200000</td>\n",
       "      <td>2.000000</td>\n",
       "      <td>4.000000</td>\n",
       "      <td>3.000000</td>\n",
       "      <td>1.000000</td>\n",
       "    </tr>\n",
       "  </tbody>\n",
       "</table>\n",
       "</div>"
      ],
      "text/plain": [
       "             age         sex          cp    trestbps        chol         fbs  \\\n",
       "count  302.00000  302.000000  302.000000  302.000000  302.000000  302.000000   \n",
       "mean    54.42053    0.682119    0.963576  131.602649  246.500000    0.149007   \n",
       "std      9.04797    0.466426    1.032044   17.563394   51.753489    0.356686   \n",
       "min     29.00000    0.000000    0.000000   94.000000  126.000000    0.000000   \n",
       "25%     48.00000    0.000000    0.000000  120.000000  211.000000    0.000000   \n",
       "50%     55.50000    1.000000    1.000000  130.000000  240.500000    0.000000   \n",
       "75%     61.00000    1.000000    2.000000  140.000000  274.750000    0.000000   \n",
       "max     77.00000    1.000000    3.000000  200.000000  564.000000    1.000000   \n",
       "\n",
       "          restecg     thalach       exang     oldpeak       slope          ca  \\\n",
       "count  302.000000  302.000000  302.000000  302.000000  302.000000  302.000000   \n",
       "mean     0.526490  149.569536    0.327815    1.043046    1.397351    0.718543   \n",
       "std      0.526027   22.903527    0.470196    1.161452    0.616274    1.006748   \n",
       "min      0.000000   71.000000    0.000000    0.000000    0.000000    0.000000   \n",
       "25%      0.000000  133.250000    0.000000    0.000000    1.000000    0.000000   \n",
       "50%      1.000000  152.500000    0.000000    0.800000    1.000000    0.000000   \n",
       "75%      1.000000  166.000000    1.000000    1.600000    2.000000    1.000000   \n",
       "max      2.000000  202.000000    1.000000    6.200000    2.000000    4.000000   \n",
       "\n",
       "             thal      target  \n",
       "count  302.000000  302.000000  \n",
       "mean     2.314570    0.543046  \n",
       "std      0.613026    0.498970  \n",
       "min      0.000000    0.000000  \n",
       "25%      2.000000    0.000000  \n",
       "50%      2.000000    1.000000  \n",
       "75%      3.000000    1.000000  \n",
       "max      3.000000    1.000000  "
      ]
     },
     "execution_count": 12,
     "metadata": {},
     "output_type": "execute_result"
    }
   ],
   "source": [
    "data.describe()"
   ]
  },
  {
   "cell_type": "markdown",
   "id": "38d64aab",
   "metadata": {
    "papermill": {
     "duration": 0.017723,
     "end_time": "2023-08-10T17:43:36.157542",
     "exception": false,
     "start_time": "2023-08-10T17:43:36.139819",
     "status": "completed"
    },
    "tags": []
   },
   "source": [
    "# **9. Draw Correlation Matrix**"
   ]
  },
  {
   "cell_type": "code",
   "execution_count": 13,
   "id": "545c1e96",
   "metadata": {
    "execution": {
     "iopub.execute_input": "2023-08-10T17:43:36.194462Z",
     "iopub.status.busy": "2023-08-10T17:43:36.194024Z",
     "iopub.status.idle": "2023-08-10T17:43:36.222594Z",
     "shell.execute_reply": "2023-08-10T17:43:36.221652Z"
    },
    "papermill": {
     "duration": 0.049793,
     "end_time": "2023-08-10T17:43:36.224796",
     "exception": false,
     "start_time": "2023-08-10T17:43:36.175003",
     "status": "completed"
    },
    "tags": []
   },
   "outputs": [
    {
     "data": {
      "text/html": [
       "<div>\n",
       "<style scoped>\n",
       "    .dataframe tbody tr th:only-of-type {\n",
       "        vertical-align: middle;\n",
       "    }\n",
       "\n",
       "    .dataframe tbody tr th {\n",
       "        vertical-align: top;\n",
       "    }\n",
       "\n",
       "    .dataframe thead th {\n",
       "        text-align: right;\n",
       "    }\n",
       "</style>\n",
       "<table border=\"1\" class=\"dataframe\">\n",
       "  <thead>\n",
       "    <tr style=\"text-align: right;\">\n",
       "      <th></th>\n",
       "      <th>age</th>\n",
       "      <th>sex</th>\n",
       "      <th>cp</th>\n",
       "      <th>trestbps</th>\n",
       "      <th>chol</th>\n",
       "      <th>fbs</th>\n",
       "      <th>restecg</th>\n",
       "      <th>thalach</th>\n",
       "      <th>exang</th>\n",
       "      <th>oldpeak</th>\n",
       "      <th>slope</th>\n",
       "      <th>ca</th>\n",
       "      <th>thal</th>\n",
       "      <th>target</th>\n",
       "    </tr>\n",
       "  </thead>\n",
       "  <tbody>\n",
       "    <tr>\n",
       "      <th>age</th>\n",
       "      <td>1.000000</td>\n",
       "      <td>-0.094962</td>\n",
       "      <td>-0.063107</td>\n",
       "      <td>0.283121</td>\n",
       "      <td>0.207216</td>\n",
       "      <td>0.119492</td>\n",
       "      <td>-0.111590</td>\n",
       "      <td>-0.395235</td>\n",
       "      <td>0.093216</td>\n",
       "      <td>0.206040</td>\n",
       "      <td>-0.164124</td>\n",
       "      <td>0.302261</td>\n",
       "      <td>0.065317</td>\n",
       "      <td>-0.221476</td>\n",
       "    </tr>\n",
       "    <tr>\n",
       "      <th>sex</th>\n",
       "      <td>-0.094962</td>\n",
       "      <td>1.000000</td>\n",
       "      <td>-0.051740</td>\n",
       "      <td>-0.057647</td>\n",
       "      <td>-0.195571</td>\n",
       "      <td>0.046022</td>\n",
       "      <td>-0.060351</td>\n",
       "      <td>-0.046439</td>\n",
       "      <td>0.143460</td>\n",
       "      <td>0.098322</td>\n",
       "      <td>-0.032990</td>\n",
       "      <td>0.113060</td>\n",
       "      <td>0.211452</td>\n",
       "      <td>-0.283609</td>\n",
       "    </tr>\n",
       "    <tr>\n",
       "      <th>cp</th>\n",
       "      <td>-0.063107</td>\n",
       "      <td>-0.051740</td>\n",
       "      <td>1.000000</td>\n",
       "      <td>0.046486</td>\n",
       "      <td>-0.072682</td>\n",
       "      <td>0.096018</td>\n",
       "      <td>0.041561</td>\n",
       "      <td>0.293367</td>\n",
       "      <td>-0.392937</td>\n",
       "      <td>-0.146692</td>\n",
       "      <td>0.116854</td>\n",
       "      <td>-0.195356</td>\n",
       "      <td>-0.160370</td>\n",
       "      <td>0.432080</td>\n",
       "    </tr>\n",
       "    <tr>\n",
       "      <th>trestbps</th>\n",
       "      <td>0.283121</td>\n",
       "      <td>-0.057647</td>\n",
       "      <td>0.046486</td>\n",
       "      <td>1.000000</td>\n",
       "      <td>0.125256</td>\n",
       "      <td>0.178125</td>\n",
       "      <td>-0.115367</td>\n",
       "      <td>-0.048023</td>\n",
       "      <td>0.068526</td>\n",
       "      <td>0.194600</td>\n",
       "      <td>-0.122873</td>\n",
       "      <td>0.099248</td>\n",
       "      <td>0.062870</td>\n",
       "      <td>-0.146269</td>\n",
       "    </tr>\n",
       "    <tr>\n",
       "      <th>chol</th>\n",
       "      <td>0.207216</td>\n",
       "      <td>-0.195571</td>\n",
       "      <td>-0.072682</td>\n",
       "      <td>0.125256</td>\n",
       "      <td>1.000000</td>\n",
       "      <td>0.011428</td>\n",
       "      <td>-0.147602</td>\n",
       "      <td>-0.005308</td>\n",
       "      <td>0.064099</td>\n",
       "      <td>0.050086</td>\n",
       "      <td>0.000417</td>\n",
       "      <td>0.086878</td>\n",
       "      <td>0.096810</td>\n",
       "      <td>-0.081437</td>\n",
       "    </tr>\n",
       "    <tr>\n",
       "      <th>fbs</th>\n",
       "      <td>0.119492</td>\n",
       "      <td>0.046022</td>\n",
       "      <td>0.096018</td>\n",
       "      <td>0.178125</td>\n",
       "      <td>0.011428</td>\n",
       "      <td>1.000000</td>\n",
       "      <td>-0.083081</td>\n",
       "      <td>-0.007169</td>\n",
       "      <td>0.024729</td>\n",
       "      <td>0.004514</td>\n",
       "      <td>-0.058654</td>\n",
       "      <td>0.144935</td>\n",
       "      <td>-0.032752</td>\n",
       "      <td>-0.026826</td>\n",
       "    </tr>\n",
       "    <tr>\n",
       "      <th>restecg</th>\n",
       "      <td>-0.111590</td>\n",
       "      <td>-0.060351</td>\n",
       "      <td>0.041561</td>\n",
       "      <td>-0.115367</td>\n",
       "      <td>-0.147602</td>\n",
       "      <td>-0.083081</td>\n",
       "      <td>1.000000</td>\n",
       "      <td>0.041210</td>\n",
       "      <td>-0.068807</td>\n",
       "      <td>-0.056251</td>\n",
       "      <td>0.090402</td>\n",
       "      <td>-0.083112</td>\n",
       "      <td>-0.010473</td>\n",
       "      <td>0.134874</td>\n",
       "    </tr>\n",
       "    <tr>\n",
       "      <th>thalach</th>\n",
       "      <td>-0.395235</td>\n",
       "      <td>-0.046439</td>\n",
       "      <td>0.293367</td>\n",
       "      <td>-0.048023</td>\n",
       "      <td>-0.005308</td>\n",
       "      <td>-0.007169</td>\n",
       "      <td>0.041210</td>\n",
       "      <td>1.000000</td>\n",
       "      <td>-0.377411</td>\n",
       "      <td>-0.342201</td>\n",
       "      <td>0.384754</td>\n",
       "      <td>-0.228311</td>\n",
       "      <td>-0.094910</td>\n",
       "      <td>0.419955</td>\n",
       "    </tr>\n",
       "    <tr>\n",
       "      <th>exang</th>\n",
       "      <td>0.093216</td>\n",
       "      <td>0.143460</td>\n",
       "      <td>-0.392937</td>\n",
       "      <td>0.068526</td>\n",
       "      <td>0.064099</td>\n",
       "      <td>0.024729</td>\n",
       "      <td>-0.068807</td>\n",
       "      <td>-0.377411</td>\n",
       "      <td>1.000000</td>\n",
       "      <td>0.286766</td>\n",
       "      <td>-0.256106</td>\n",
       "      <td>0.125377</td>\n",
       "      <td>0.205826</td>\n",
       "      <td>-0.435601</td>\n",
       "    </tr>\n",
       "    <tr>\n",
       "      <th>oldpeak</th>\n",
       "      <td>0.206040</td>\n",
       "      <td>0.098322</td>\n",
       "      <td>-0.146692</td>\n",
       "      <td>0.194600</td>\n",
       "      <td>0.050086</td>\n",
       "      <td>0.004514</td>\n",
       "      <td>-0.056251</td>\n",
       "      <td>-0.342201</td>\n",
       "      <td>0.286766</td>\n",
       "      <td>1.000000</td>\n",
       "      <td>-0.576314</td>\n",
       "      <td>0.236560</td>\n",
       "      <td>0.209090</td>\n",
       "      <td>-0.429146</td>\n",
       "    </tr>\n",
       "    <tr>\n",
       "      <th>slope</th>\n",
       "      <td>-0.164124</td>\n",
       "      <td>-0.032990</td>\n",
       "      <td>0.116854</td>\n",
       "      <td>-0.122873</td>\n",
       "      <td>0.000417</td>\n",
       "      <td>-0.058654</td>\n",
       "      <td>0.090402</td>\n",
       "      <td>0.384754</td>\n",
       "      <td>-0.256106</td>\n",
       "      <td>-0.576314</td>\n",
       "      <td>1.000000</td>\n",
       "      <td>-0.092236</td>\n",
       "      <td>-0.103314</td>\n",
       "      <td>0.343940</td>\n",
       "    </tr>\n",
       "    <tr>\n",
       "      <th>ca</th>\n",
       "      <td>0.302261</td>\n",
       "      <td>0.113060</td>\n",
       "      <td>-0.195356</td>\n",
       "      <td>0.099248</td>\n",
       "      <td>0.086878</td>\n",
       "      <td>0.144935</td>\n",
       "      <td>-0.083112</td>\n",
       "      <td>-0.228311</td>\n",
       "      <td>0.125377</td>\n",
       "      <td>0.236560</td>\n",
       "      <td>-0.092236</td>\n",
       "      <td>1.000000</td>\n",
       "      <td>0.160085</td>\n",
       "      <td>-0.408992</td>\n",
       "    </tr>\n",
       "    <tr>\n",
       "      <th>thal</th>\n",
       "      <td>0.065317</td>\n",
       "      <td>0.211452</td>\n",
       "      <td>-0.160370</td>\n",
       "      <td>0.062870</td>\n",
       "      <td>0.096810</td>\n",
       "      <td>-0.032752</td>\n",
       "      <td>-0.010473</td>\n",
       "      <td>-0.094910</td>\n",
       "      <td>0.205826</td>\n",
       "      <td>0.209090</td>\n",
       "      <td>-0.103314</td>\n",
       "      <td>0.160085</td>\n",
       "      <td>1.000000</td>\n",
       "      <td>-0.343101</td>\n",
       "    </tr>\n",
       "    <tr>\n",
       "      <th>target</th>\n",
       "      <td>-0.221476</td>\n",
       "      <td>-0.283609</td>\n",
       "      <td>0.432080</td>\n",
       "      <td>-0.146269</td>\n",
       "      <td>-0.081437</td>\n",
       "      <td>-0.026826</td>\n",
       "      <td>0.134874</td>\n",
       "      <td>0.419955</td>\n",
       "      <td>-0.435601</td>\n",
       "      <td>-0.429146</td>\n",
       "      <td>0.343940</td>\n",
       "      <td>-0.408992</td>\n",
       "      <td>-0.343101</td>\n",
       "      <td>1.000000</td>\n",
       "    </tr>\n",
       "  </tbody>\n",
       "</table>\n",
       "</div>"
      ],
      "text/plain": [
       "               age       sex        cp  trestbps      chol       fbs  \\\n",
       "age       1.000000 -0.094962 -0.063107  0.283121  0.207216  0.119492   \n",
       "sex      -0.094962  1.000000 -0.051740 -0.057647 -0.195571  0.046022   \n",
       "cp       -0.063107 -0.051740  1.000000  0.046486 -0.072682  0.096018   \n",
       "trestbps  0.283121 -0.057647  0.046486  1.000000  0.125256  0.178125   \n",
       "chol      0.207216 -0.195571 -0.072682  0.125256  1.000000  0.011428   \n",
       "fbs       0.119492  0.046022  0.096018  0.178125  0.011428  1.000000   \n",
       "restecg  -0.111590 -0.060351  0.041561 -0.115367 -0.147602 -0.083081   \n",
       "thalach  -0.395235 -0.046439  0.293367 -0.048023 -0.005308 -0.007169   \n",
       "exang     0.093216  0.143460 -0.392937  0.068526  0.064099  0.024729   \n",
       "oldpeak   0.206040  0.098322 -0.146692  0.194600  0.050086  0.004514   \n",
       "slope    -0.164124 -0.032990  0.116854 -0.122873  0.000417 -0.058654   \n",
       "ca        0.302261  0.113060 -0.195356  0.099248  0.086878  0.144935   \n",
       "thal      0.065317  0.211452 -0.160370  0.062870  0.096810 -0.032752   \n",
       "target   -0.221476 -0.283609  0.432080 -0.146269 -0.081437 -0.026826   \n",
       "\n",
       "           restecg   thalach     exang   oldpeak     slope        ca  \\\n",
       "age      -0.111590 -0.395235  0.093216  0.206040 -0.164124  0.302261   \n",
       "sex      -0.060351 -0.046439  0.143460  0.098322 -0.032990  0.113060   \n",
       "cp        0.041561  0.293367 -0.392937 -0.146692  0.116854 -0.195356   \n",
       "trestbps -0.115367 -0.048023  0.068526  0.194600 -0.122873  0.099248   \n",
       "chol     -0.147602 -0.005308  0.064099  0.050086  0.000417  0.086878   \n",
       "fbs      -0.083081 -0.007169  0.024729  0.004514 -0.058654  0.144935   \n",
       "restecg   1.000000  0.041210 -0.068807 -0.056251  0.090402 -0.083112   \n",
       "thalach   0.041210  1.000000 -0.377411 -0.342201  0.384754 -0.228311   \n",
       "exang    -0.068807 -0.377411  1.000000  0.286766 -0.256106  0.125377   \n",
       "oldpeak  -0.056251 -0.342201  0.286766  1.000000 -0.576314  0.236560   \n",
       "slope     0.090402  0.384754 -0.256106 -0.576314  1.000000 -0.092236   \n",
       "ca       -0.083112 -0.228311  0.125377  0.236560 -0.092236  1.000000   \n",
       "thal     -0.010473 -0.094910  0.205826  0.209090 -0.103314  0.160085   \n",
       "target    0.134874  0.419955 -0.435601 -0.429146  0.343940 -0.408992   \n",
       "\n",
       "              thal    target  \n",
       "age       0.065317 -0.221476  \n",
       "sex       0.211452 -0.283609  \n",
       "cp       -0.160370  0.432080  \n",
       "trestbps  0.062870 -0.146269  \n",
       "chol      0.096810 -0.081437  \n",
       "fbs      -0.032752 -0.026826  \n",
       "restecg  -0.010473  0.134874  \n",
       "thalach  -0.094910  0.419955  \n",
       "exang     0.205826 -0.435601  \n",
       "oldpeak   0.209090 -0.429146  \n",
       "slope    -0.103314  0.343940  \n",
       "ca        0.160085 -0.408992  \n",
       "thal      1.000000 -0.343101  \n",
       "target   -0.343101  1.000000  "
      ]
     },
     "execution_count": 13,
     "metadata": {},
     "output_type": "execute_result"
    }
   ],
   "source": [
    "data.corr()"
   ]
  },
  {
   "cell_type": "markdown",
   "id": "f81e7bb9",
   "metadata": {
    "papermill": {
     "duration": 0.01779,
     "end_time": "2023-08-10T17:43:36.261761",
     "exception": false,
     "start_time": "2023-08-10T17:43:36.243971",
     "status": "completed"
    },
    "tags": []
   },
   "source": [
    "# **10. How Many People Have Heart Disease, And How Many Don't Have Heart Disease In This Dataset?**"
   ]
  },
  {
   "cell_type": "code",
   "execution_count": 14,
   "id": "d476c1df",
   "metadata": {
    "execution": {
     "iopub.execute_input": "2023-08-10T17:43:36.299881Z",
     "iopub.status.busy": "2023-08-10T17:43:36.299185Z",
     "iopub.status.idle": "2023-08-10T17:43:36.306210Z",
     "shell.execute_reply": "2023-08-10T17:43:36.305358Z"
    },
    "papermill": {
     "duration": 0.028703,
     "end_time": "2023-08-10T17:43:36.308565",
     "exception": false,
     "start_time": "2023-08-10T17:43:36.279862",
     "status": "completed"
    },
    "tags": []
   },
   "outputs": [],
   "source": [
    "heart_disease=data['target'].value_counts()\n",
    "heart_disease.index=['Disease','No-Disease']"
   ]
  },
  {
   "cell_type": "code",
   "execution_count": 15,
   "id": "e03ce7ef",
   "metadata": {
    "execution": {
     "iopub.execute_input": "2023-08-10T17:43:36.347482Z",
     "iopub.status.busy": "2023-08-10T17:43:36.346404Z",
     "iopub.status.idle": "2023-08-10T17:43:36.641309Z",
     "shell.execute_reply": "2023-08-10T17:43:36.640054Z"
    },
    "papermill": {
     "duration": 0.317065,
     "end_time": "2023-08-10T17:43:36.643982",
     "exception": false,
     "start_time": "2023-08-10T17:43:36.326917",
     "status": "completed"
    },
    "tags": []
   },
   "outputs": [
    {
     "data": {
      "image/png": "[encoded data removed]",
      "text/plain": [
       "<Figure size 640x480 with 1 Axes>"
      ]
     },
     "metadata": {},
     "output_type": "display_data"
    }
   ],
   "source": [
    "ax=heart_disease.plot(kind='bar',color=['red','green'])\n",
    "plt.xlabel('Heart Disease')\n",
    "plt.ylabel('Count')\n",
    "plt.show()"
   ]
  },
  {
   "cell_type": "markdown",
   "id": "a0b9224c",
   "metadata": {
    "papermill": {
     "duration": 0.018076,
     "end_time": "2023-08-10T17:43:36.680926",
     "exception": false,
     "start_time": "2023-08-10T17:43:36.662850",
     "status": "completed"
    },
    "tags": []
   },
   "source": [
    "# **11. Find Count of  Male & Female in this Dataset**"
   ]
  },
  {
   "cell_type": "code",
   "execution_count": 16,
   "id": "a0e9646d",
   "metadata": {
    "execution": {
     "iopub.execute_input": "2023-08-10T17:43:36.719756Z",
     "iopub.status.busy": "2023-08-10T17:43:36.719333Z",
     "iopub.status.idle": "2023-08-10T17:43:36.726146Z",
     "shell.execute_reply": "2023-08-10T17:43:36.724973Z"
    },
    "papermill": {
     "duration": 0.029209,
     "end_time": "2023-08-10T17:43:36.728731",
     "exception": false,
     "start_time": "2023-08-10T17:43:36.699522",
     "status": "completed"
    },
    "tags": []
   },
   "outputs": [],
   "source": [
    "gender=data['sex'].value_counts()\n",
    "index=['Male','Female']\n",
    "gender.index=index"
   ]
  },
  {
   "cell_type": "code",
   "execution_count": 17,
   "id": "6176b4b0",
   "metadata": {
    "execution": {
     "iopub.execute_input": "2023-08-10T17:43:36.768850Z",
     "iopub.status.busy": "2023-08-10T17:43:36.768427Z",
     "iopub.status.idle": "2023-08-10T17:43:36.776923Z",
     "shell.execute_reply": "2023-08-10T17:43:36.775712Z"
    },
    "papermill": {
     "duration": 0.031314,
     "end_time": "2023-08-10T17:43:36.779553",
     "exception": false,
     "start_time": "2023-08-10T17:43:36.748239",
     "status": "completed"
    },
    "tags": []
   },
   "outputs": [
    {
     "data": {
      "text/plain": [
       "Male      206\n",
       "Female     96\n",
       "Name: sex, dtype: int64"
      ]
     },
     "execution_count": 17,
     "metadata": {},
     "output_type": "execute_result"
    }
   ],
   "source": [
    "gender"
   ]
  },
  {
   "cell_type": "code",
   "execution_count": 18,
   "id": "115a33ea",
   "metadata": {
    "execution": {
     "iopub.execute_input": "2023-08-10T17:43:36.818933Z",
     "iopub.status.busy": "2023-08-10T17:43:36.818121Z",
     "iopub.status.idle": "2023-08-10T17:43:37.056549Z",
     "shell.execute_reply": "2023-08-10T17:43:37.055315Z"
    },
    "papermill": {
     "duration": 0.260885,
     "end_time": "2023-08-10T17:43:37.058991",
     "exception": false,
     "start_time": "2023-08-10T17:43:36.798106",
     "status": "completed"
    },
    "tags": []
   },
   "outputs": [
    {
     "data": {
      "image/png": "[encoded data removed]",
      "text/plain": [
       "<Figure size 640x480 with 1 Axes>"
      ]
     },
     "metadata": {},
     "output_type": "display_data"
    }
   ],
   "source": [
    "ax=gender.plot(kind='bar',color=['red','pink'])\n",
    "plt.xlabel('Gender')\n",
    "plt.ylabel('Count')\n",
    "plt.show()"
   ]
  },
  {
   "cell_type": "markdown",
   "id": "08ff9dc4",
   "metadata": {
    "papermill": {
     "duration": 0.018693,
     "end_time": "2023-08-10T17:43:37.096436",
     "exception": false,
     "start_time": "2023-08-10T17:43:37.077743",
     "status": "completed"
    },
    "tags": []
   },
   "source": [
    "# **12. Find Gender Distribution According to The Target Variable**"
   ]
  },
  {
   "cell_type": "code",
   "execution_count": 19,
   "id": "a6b6509e",
   "metadata": {
    "execution": {
     "iopub.execute_input": "2023-08-10T17:43:37.135809Z",
     "iopub.status.busy": "2023-08-10T17:43:37.135421Z",
     "iopub.status.idle": "2023-08-10T17:43:37.147477Z",
     "shell.execute_reply": "2023-08-10T17:43:37.146511Z"
    },
    "papermill": {
     "duration": 0.034397,
     "end_time": "2023-08-10T17:43:37.149634",
     "exception": false,
     "start_time": "2023-08-10T17:43:37.115237",
     "status": "completed"
    },
    "tags": []
   },
   "outputs": [
    {
     "data": {
      "text/plain": [
       "sex  target\n",
       "1    0         114\n",
       "     1          92\n",
       "0    1          72\n",
       "     0          24\n",
       "dtype: int64"
      ]
     },
     "execution_count": 19,
     "metadata": {},
     "output_type": "execute_result"
    }
   ],
   "source": [
    "s=data[['sex','target']].value_counts()\n",
    "s"
   ]
  },
  {
   "cell_type": "code",
   "execution_count": 20,
   "id": "a3f3d317",
   "metadata": {
    "execution": {
     "iopub.execute_input": "2023-08-10T17:43:37.189421Z",
     "iopub.status.busy": "2023-08-10T17:43:37.188675Z",
     "iopub.status.idle": "2023-08-10T17:43:37.194225Z",
     "shell.execute_reply": "2023-08-10T17:43:37.193420Z"
    },
    "papermill": {
     "duration": 0.027902,
     "end_time": "2023-08-10T17:43:37.196474",
     "exception": false,
     "start_time": "2023-08-10T17:43:37.168572",
     "status": "completed"
    },
    "tags": []
   },
   "outputs": [],
   "source": [
    "s={\n",
    "    'sex':[1,1,0,0],\n",
    "    'target':[0,1,1,0],\n",
    "    'count':[114,92,72,24]\n",
    "}\n",
    "df=pd.DataFrame(s)"
   ]
  },
  {
   "cell_type": "code",
   "execution_count": 21,
   "id": "2da6ede8",
   "metadata": {
    "execution": {
     "iopub.execute_input": "2023-08-10T17:43:37.236649Z",
     "iopub.status.busy": "2023-08-10T17:43:37.235821Z",
     "iopub.status.idle": "2023-08-10T17:43:37.244530Z",
     "shell.execute_reply": "2023-08-10T17:43:37.243577Z"
    },
    "papermill": {
     "duration": 0.031642,
     "end_time": "2023-08-10T17:43:37.247157",
     "exception": false,
     "start_time": "2023-08-10T17:43:37.215515",
     "status": "completed"
    },
    "tags": []
   },
   "outputs": [],
   "source": [
    "pivot_df=df.pivot(index='sex',columns='target',values='count')"
   ]
  },
  {
   "cell_type": "code",
   "execution_count": 22,
   "id": "1097ca79",
   "metadata": {
    "execution": {
     "iopub.execute_input": "2023-08-10T17:43:37.287372Z",
     "iopub.status.busy": "2023-08-10T17:43:37.286570Z",
     "iopub.status.idle": "2023-08-10T17:43:37.546819Z",
     "shell.execute_reply": "2023-08-10T17:43:37.545150Z"
    },
    "papermill": {
     "duration": 0.283428,
     "end_time": "2023-08-10T17:43:37.549492",
     "exception": false,
     "start_time": "2023-08-10T17:43:37.266064",
     "status": "completed"
    },
    "tags": []
   },
   "outputs": [
    {
     "data": {
      "image/png": "[encoded data removed]",
      "text/plain": [
       "<Figure size 640x480 with 1 Axes>"
      ]
     },
     "metadata": {},
     "output_type": "display_data"
    }
   ],
   "source": [
    "pivot_df.plot(kind='bar')\n",
    "plt.xticks([1,0],['Male','Female'])\n",
    "plt.legend(labels=['No-Disease','Disease'])\n",
    "plt.xlabel('sex')\n",
    "plt.ylabel('No. of Person')\n",
    "plt.show()"
   ]
  },
  {
   "cell_type": "markdown",
   "id": "4828af69",
   "metadata": {
    "papermill": {
     "duration": 0.019626,
     "end_time": "2023-08-10T17:43:37.588527",
     "exception": false,
     "start_time": "2023-08-10T17:43:37.568901",
     "status": "completed"
    },
    "tags": []
   },
   "source": [
    "# **13. Check Age Distribution In The Dataset**"
   ]
  },
  {
   "cell_type": "code",
   "execution_count": 23,
   "id": "11c5004d",
   "metadata": {
    "execution": {
     "iopub.execute_input": "2023-08-10T17:43:37.630268Z",
     "iopub.status.busy": "2023-08-10T17:43:37.629619Z",
     "iopub.status.idle": "2023-08-10T17:43:37.896909Z",
     "shell.execute_reply": "2023-08-10T17:43:37.895826Z"
    },
    "papermill": {
     "duration": 0.291165,
     "end_time": "2023-08-10T17:43:37.899416",
     "exception": false,
     "start_time": "2023-08-10T17:43:37.608251",
     "status": "completed"
    },
    "tags": []
   },
   "outputs": [
    {
     "data": {
      "image/png": "[encoded data removed]",
      "text/plain": [
       "<Figure size 640x480 with 1 Axes>"
      ]
     },
     "metadata": {},
     "output_type": "display_data"
    }
   ],
   "source": [
    "data['age'].hist(bins=20)\n",
    "plt.xlabel('Age')\n",
    "plt.ylabel('No. of Person')\n",
    "plt.show()"
   ]
  },
  {
   "cell_type": "markdown",
   "id": "49ea06aa",
   "metadata": {
    "papermill": {
     "duration": 0.019642,
     "end_time": "2023-08-10T17:43:37.938862",
     "exception": false,
     "start_time": "2023-08-10T17:43:37.919220",
     "status": "completed"
    },
    "tags": []
   },
   "source": [
    "# **14. Check Chest Pain Type**"
   ]
  },
  {
   "cell_type": "code",
   "execution_count": 24,
   "id": "a8115941",
   "metadata": {
    "execution": {
     "iopub.execute_input": "2023-08-10T17:43:37.979640Z",
     "iopub.status.busy": "2023-08-10T17:43:37.979246Z",
     "iopub.status.idle": "2023-08-10T17:43:37.986587Z",
     "shell.execute_reply": "2023-08-10T17:43:37.985420Z"
    },
    "papermill": {
     "duration": 0.030416,
     "end_time": "2023-08-10T17:43:37.988844",
     "exception": false,
     "start_time": "2023-08-10T17:43:37.958428",
     "status": "completed"
    },
    "tags": []
   },
   "outputs": [
    {
     "data": {
      "text/plain": [
       "Index(['age', 'sex', 'cp', 'trestbps', 'chol', 'fbs', 'restecg', 'thalach',\n",
       "       'exang', 'oldpeak', 'slope', 'ca', 'thal', 'target'],\n",
       "      dtype='object')"
      ]
     },
     "execution_count": 24,
     "metadata": {},
     "output_type": "execute_result"
    }
   ],
   "source": [
    "data.columns"
   ]
  },
  {
   "cell_type": "code",
   "execution_count": 25,
   "id": "a6700cd8",
   "metadata": {
    "execution": {
     "iopub.execute_input": "2023-08-10T17:43:38.030071Z",
     "iopub.status.busy": "2023-08-10T17:43:38.029690Z",
     "iopub.status.idle": "2023-08-10T17:43:38.407330Z",
     "shell.execute_reply": "2023-08-10T17:43:38.405996Z"
    },
    "papermill": {
     "duration": 0.401568,
     "end_time": "2023-08-10T17:43:38.410174",
     "exception": false,
     "start_time": "2023-08-10T17:43:38.008606",
     "status": "completed"
    },
    "tags": []
   },
   "outputs": [
    {
     "data": {
      "image/png": "[encoded data removed]",
      "text/plain": [
       "<Figure size 640x480 with 1 Axes>"
      ]
     },
     "metadata": {},
     "output_type": "display_data"
    }
   ],
   "source": [
    "data['cp'].value_counts().plot(kind='bar')\n",
    "plt.xticks([0,1,2,3],[\"typical angina\",\"atypical angina\",\"non-anginal pain\",\"asymptomatic\"],rotation=0)\n",
    "plt.xlabel('Chest Pain Type')\n",
    "plt.ylabel('No. of Person')\n",
    "plt.show()"
   ]
  },
  {
   "cell_type": "markdown",
   "id": "d63730c1",
   "metadata": {
    "papermill": {
     "duration": 0.020319,
     "end_time": "2023-08-10T17:43:38.452118",
     "exception": false,
     "start_time": "2023-08-10T17:43:38.431799",
     "status": "completed"
    },
    "tags": []
   },
   "source": [
    "# **15. Show The Chest Pain Distribution As Per Target Variable**"
   ]
  },
  {
   "cell_type": "code",
   "execution_count": 26,
   "id": "c4db34a3",
   "metadata": {
    "execution": {
     "iopub.execute_input": "2023-08-10T17:43:38.494838Z",
     "iopub.status.busy": "2023-08-10T17:43:38.494378Z",
     "iopub.status.idle": "2023-08-10T17:43:38.504242Z",
     "shell.execute_reply": "2023-08-10T17:43:38.502761Z"
    },
    "papermill": {
     "duration": 0.034621,
     "end_time": "2023-08-10T17:43:38.507033",
     "exception": false,
     "start_time": "2023-08-10T17:43:38.472412",
     "status": "completed"
    },
    "tags": []
   },
   "outputs": [],
   "source": [
    "df=pd.DataFrame(data[['cp','target']].value_counts())\n",
    "df.reset_index(inplace=True)"
   ]
  },
  {
   "cell_type": "code",
   "execution_count": 27,
   "id": "2da48799",
   "metadata": {
    "execution": {
     "iopub.execute_input": "2023-08-10T17:43:38.550031Z",
     "iopub.status.busy": "2023-08-10T17:43:38.549397Z",
     "iopub.status.idle": "2023-08-10T17:43:38.556934Z",
     "shell.execute_reply": "2023-08-10T17:43:38.555687Z"
    },
    "papermill": {
     "duration": 0.031895,
     "end_time": "2023-08-10T17:43:38.559548",
     "exception": false,
     "start_time": "2023-08-10T17:43:38.527653",
     "status": "completed"
    },
    "tags": []
   },
   "outputs": [],
   "source": [
    "df=df.pivot(index='cp',columns='target',values=0)"
   ]
  },
  {
   "cell_type": "code",
   "execution_count": 28,
   "id": "14b1e732",
   "metadata": {
    "execution": {
     "iopub.execute_input": "2023-08-10T17:43:38.601544Z",
     "iopub.status.busy": "2023-08-10T17:43:38.601089Z",
     "iopub.status.idle": "2023-08-10T17:43:38.877873Z",
     "shell.execute_reply": "2023-08-10T17:43:38.876678Z"
    },
    "papermill": {
     "duration": 0.300573,
     "end_time": "2023-08-10T17:43:38.880301",
     "exception": false,
     "start_time": "2023-08-10T17:43:38.579728",
     "status": "completed"
    },
    "tags": []
   },
   "outputs": [
    {
     "data": {
      "image/png": "[encoded data removed]",
      "text/plain": [
       "<Figure size 640x480 with 1 Axes>"
      ]
     },
     "metadata": {},
     "output_type": "display_data"
    }
   ],
   "source": [
    "df.plot(kind='bar')\n",
    "plt.xticks([0,1,2,3],[\"typical angina\",\"atypical angina\",\"non-anginal pain\",\"asymptomatic\"],rotation=0)\n",
    "plt.xlabel('Chest Pain Type')\n",
    "plt.ylabel('No. of Person')\n",
    "plt.legend(labels=['No-Disease','Disease'])\n",
    "plt.show()"
   ]
  },
  {
   "cell_type": "markdown",
   "id": "8617ee3e",
   "metadata": {
    "papermill": {
     "duration": 0.020556,
     "end_time": "2023-08-10T17:43:38.921999",
     "exception": false,
     "start_time": "2023-08-10T17:43:38.901443",
     "status": "completed"
    },
    "tags": []
   },
   "source": [
    "# **16. Show Fasting Blood Sugar Distribution According To Target Variable**"
   ]
  },
  {
   "cell_type": "code",
   "execution_count": 29,
   "id": "4c61f5dd",
   "metadata": {
    "execution": {
     "iopub.execute_input": "2023-08-10T17:43:38.965069Z",
     "iopub.status.busy": "2023-08-10T17:43:38.964623Z",
     "iopub.status.idle": "2023-08-10T17:43:38.972203Z",
     "shell.execute_reply": "2023-08-10T17:43:38.971082Z"
    },
    "papermill": {
     "duration": 0.032206,
     "end_time": "2023-08-10T17:43:38.974725",
     "exception": false,
     "start_time": "2023-08-10T17:43:38.942519",
     "status": "completed"
    },
    "tags": []
   },
   "outputs": [
    {
     "data": {
      "text/plain": [
       "Index(['age', 'sex', 'cp', 'trestbps', 'chol', 'fbs', 'restecg', 'thalach',\n",
       "       'exang', 'oldpeak', 'slope', 'ca', 'thal', 'target'],\n",
       "      dtype='object')"
      ]
     },
     "execution_count": 29,
     "metadata": {},
     "output_type": "execute_result"
    }
   ],
   "source": [
    "data.columns"
   ]
  },
  {
   "cell_type": "code",
   "execution_count": 30,
   "id": "cb882f0a",
   "metadata": {
    "execution": {
     "iopub.execute_input": "2023-08-10T17:43:39.020933Z",
     "iopub.status.busy": "2023-08-10T17:43:39.020232Z",
     "iopub.status.idle": "2023-08-10T17:43:39.029625Z",
     "shell.execute_reply": "2023-08-10T17:43:39.028562Z"
    },
    "papermill": {
     "duration": 0.036554,
     "end_time": "2023-08-10T17:43:39.032069",
     "exception": false,
     "start_time": "2023-08-10T17:43:38.995515",
     "status": "completed"
    },
    "tags": []
   },
   "outputs": [],
   "source": [
    "df=pd.DataFrame(data[['fbs','target']].value_counts())\n",
    "df.reset_index(inplace=True)"
   ]
  },
  {
   "cell_type": "code",
   "execution_count": 31,
   "id": "c2a2ae3c",
   "metadata": {
    "execution": {
     "iopub.execute_input": "2023-08-10T17:43:39.076279Z",
     "iopub.status.busy": "2023-08-10T17:43:39.075397Z",
     "iopub.status.idle": "2023-08-10T17:43:39.083022Z",
     "shell.execute_reply": "2023-08-10T17:43:39.082092Z"
    },
    "papermill": {
     "duration": 0.032959,
     "end_time": "2023-08-10T17:43:39.085762",
     "exception": false,
     "start_time": "2023-08-10T17:43:39.052803",
     "status": "completed"
    },
    "tags": []
   },
   "outputs": [],
   "source": [
    "df=df.pivot(index='fbs',columns='target',values=0)"
   ]
  },
  {
   "cell_type": "code",
   "execution_count": 32,
   "id": "bb65717c",
   "metadata": {
    "execution": {
     "iopub.execute_input": "2023-08-10T17:43:39.130996Z",
     "iopub.status.busy": "2023-08-10T17:43:39.130153Z",
     "iopub.status.idle": "2023-08-10T17:43:39.404527Z",
     "shell.execute_reply": "2023-08-10T17:43:39.403347Z"
    },
    "papermill": {
     "duration": 0.299971,
     "end_time": "2023-08-10T17:43:39.407012",
     "exception": false,
     "start_time": "2023-08-10T17:43:39.107041",
     "status": "completed"
    },
    "tags": []
   },
   "outputs": [
    {
     "data": {
      "image/png": "[encoded data removed]",
      "text/plain": [
       "<Figure size 640x480 with 1 Axes>"
      ]
     },
     "metadata": {},
     "output_type": "display_data"
    }
   ],
   "source": [
    "df.plot(kind='bar')\n",
    "plt.xticks([0,1],[\"<120 mg/dl\",\">120 mg/dl\"],rotation=0)\n",
    "plt.xlabel('Fasting Blood Sugar')\n",
    "plt.ylabel('No. of Person')\n",
    "plt.legend(labels=['No-Disease','Disease'])\n",
    "plt.show()"
   ]
  },
  {
   "cell_type": "markdown",
   "id": "84bf0be0",
   "metadata": {
    "papermill": {
     "duration": 0.020815,
     "end_time": "2023-08-10T17:43:39.448842",
     "exception": false,
     "start_time": "2023-08-10T17:43:39.428027",
     "status": "completed"
    },
    "tags": []
   },
   "source": [
    "# **17.  Check Resting Blood Pressure Distribution**"
   ]
  },
  {
   "cell_type": "code",
   "execution_count": 33,
   "id": "c91e1a5a",
   "metadata": {
    "execution": {
     "iopub.execute_input": "2023-08-10T17:43:39.494561Z",
     "iopub.status.busy": "2023-08-10T17:43:39.493450Z",
     "iopub.status.idle": "2023-08-10T17:43:39.773804Z",
     "shell.execute_reply": "2023-08-10T17:43:39.772690Z"
    },
    "papermill": {
     "duration": 0.305719,
     "end_time": "2023-08-10T17:43:39.776112",
     "exception": false,
     "start_time": "2023-08-10T17:43:39.470393",
     "status": "completed"
    },
    "tags": []
   },
   "outputs": [
    {
     "data": {
      "image/png": "[encoded data removed]",
      "text/plain": [
       "<Figure size 640x480 with 1 Axes>"
      ]
     },
     "metadata": {},
     "output_type": "display_data"
    }
   ],
   "source": [
    "data['trestbps'].hist()\n",
    "plt.xlabel('Resting Blood Pressure (mmHg)')\n",
    "plt.ylabel('No. of Person')\n",
    "plt.show()"
   ]
  },
  {
   "cell_type": "markdown",
   "id": "bf89387c",
   "metadata": {
    "papermill": {
     "duration": 0.02135,
     "end_time": "2023-08-10T17:43:39.818789",
     "exception": false,
     "start_time": "2023-08-10T17:43:39.797439",
     "status": "completed"
    },
    "tags": []
   },
   "source": [
    "# **18. Show Distribution of Serum cholesterol**"
   ]
  },
  {
   "cell_type": "code",
   "execution_count": 34,
   "id": "3f4195dd",
   "metadata": {
    "execution": {
     "iopub.execute_input": "2023-08-10T17:43:39.863939Z",
     "iopub.status.busy": "2023-08-10T17:43:39.863295Z",
     "iopub.status.idle": "2023-08-10T17:43:39.870185Z",
     "shell.execute_reply": "2023-08-10T17:43:39.869234Z"
    },
    "papermill": {
     "duration": 0.032041,
     "end_time": "2023-08-10T17:43:39.872326",
     "exception": false,
     "start_time": "2023-08-10T17:43:39.840285",
     "status": "completed"
    },
    "tags": []
   },
   "outputs": [
    {
     "data": {
      "text/plain": [
       "Index(['age', 'sex', 'cp', 'trestbps', 'chol', 'fbs', 'restecg', 'thalach',\n",
       "       'exang', 'oldpeak', 'slope', 'ca', 'thal', 'target'],\n",
       "      dtype='object')"
      ]
     },
     "execution_count": 34,
     "metadata": {},
     "output_type": "execute_result"
    }
   ],
   "source": [
    "data.columns"
   ]
  },
  {
   "cell_type": "code",
   "execution_count": 35,
   "id": "1caf43ec",
   "metadata": {
    "execution": {
     "iopub.execute_input": "2023-08-10T17:43:39.917876Z",
     "iopub.status.busy": "2023-08-10T17:43:39.917170Z",
     "iopub.status.idle": "2023-08-10T17:43:40.171952Z",
     "shell.execute_reply": "2023-08-10T17:43:40.170840Z"
    },
    "papermill": {
     "duration": 0.280571,
     "end_time": "2023-08-10T17:43:40.174436",
     "exception": false,
     "start_time": "2023-08-10T17:43:39.893865",
     "status": "completed"
    },
    "tags": []
   },
   "outputs": [
    {
     "data": {
      "image/png": "[encoded data removed]",
      "text/plain": [
       "<Figure size 640x480 with 1 Axes>"
      ]
     },
     "metadata": {},
     "output_type": "display_data"
    }
   ],
   "source": [
    "data['chol'].hist()\n",
    "plt.xlabel('Serum cholestoral (mg/dl)')\n",
    "plt.ylabel('No. of Person')\n",
    "plt.show()"
   ]
  },
  {
   "cell_type": "markdown",
   "id": "6a787530",
   "metadata": {
    "papermill": {
     "duration": 0.023581,
     "end_time": "2023-08-10T17:43:40.220865",
     "exception": false,
     "start_time": "2023-08-10T17:43:40.197284",
     "status": "completed"
    },
    "tags": []
   },
   "source": [
    "# **19. Plot Continuous Variables**"
   ]
  },
  {
   "cell_type": "code",
   "execution_count": 36,
   "id": "91b60236",
   "metadata": {
    "execution": {
     "iopub.execute_input": "2023-08-10T17:43:40.267890Z",
     "iopub.status.busy": "2023-08-10T17:43:40.267172Z",
     "iopub.status.idle": "2023-08-10T17:43:40.273057Z",
     "shell.execute_reply": "2023-08-10T17:43:40.272313Z"
    },
    "papermill": {
     "duration": 0.031523,
     "end_time": "2023-08-10T17:43:40.275329",
     "exception": false,
     "start_time": "2023-08-10T17:43:40.243806",
     "status": "completed"
    },
    "tags": []
   },
   "outputs": [],
   "source": [
    "cont_var=[]\n",
    "for column in data.columns:\n",
    "    if data[column].nunique() >10:\n",
    "        cont_var.append(column)"
   ]
  },
  {
   "cell_type": "code",
   "execution_count": 37,
   "id": "c3cb4ba1",
   "metadata": {
    "execution": {
     "iopub.execute_input": "2023-08-10T17:43:40.326568Z",
     "iopub.status.busy": "2023-08-10T17:43:40.325882Z",
     "iopub.status.idle": "2023-08-10T17:43:41.609061Z",
     "shell.execute_reply": "2023-08-10T17:43:41.607533Z"
    },
    "papermill": {
     "duration": 1.313559,
     "end_time": "2023-08-10T17:43:41.611783",
     "exception": false,
     "start_time": "2023-08-10T17:43:40.298224",
     "status": "completed"
    },
    "tags": []
   },
   "outputs": [
    {
     "data": {
      "image/png": "[encoded data removed]",
      "text/plain": [
       "<Figure size 1000x600 with 6 Axes>"
      ]
     },
     "metadata": {},
     "output_type": "display_data"
    }
   ],
   "source": [
    "data.hist(cont_var,figsize=(10,6))\n",
    "plt.tight_layout()\n",
    "plt.show()"
   ]
  }
 ],
 "metadata": {
  "kernelspec": {
   "display_name": "Python 3",
   "language": "python",
   "name": "python3"
  },
  "language_info": {
   "codemirror_mode": {
    "name": "ipython",
    "version": 3
   },
   "file_extension": ".py",
   "mimetype": "text/x-python",
   "name": "python",
   "nbconvert_exporter": "python",
   "pygments_lexer": "ipython3",
   "version": "3.10.12"
  },
  "papermill": {
   "default_parameters": {},
   "duration": 18.996018,
   "end_time": "2023-08-10T17:43:42.558524",
   "environment_variables": {},
   "exception": null,
   "input_path": "__notebook__.ipynb",
   "output_path": "__notebook__.ipynb",
   "parameters": {},
   "start_time": "2023-08-10T17:43:23.562506",
   "version": "2.4.0"
  }
 },
 "nbformat": 4,
 "nbformat_minor": 5
}
