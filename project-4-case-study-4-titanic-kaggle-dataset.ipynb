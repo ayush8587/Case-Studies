{
 "cells": [
  {
   "cell_type": "code",
   "execution_count": 1,
   "id": "f659f7ca",
   "metadata": {
    "_cell_guid": "b1076dfc-b9ad-4769-8c92-a6c4dae69d19",
    "_uuid": "8f2839f25d086af736a60e9eeb907d3b93b6e0e5",
    "execution": {
     "iopub.execute_input": "2023-08-05T07:43:52.470388Z",
     "iopub.status.busy": "2023-08-05T07:43:52.469876Z",
     "iopub.status.idle": "2023-08-05T07:43:52.488055Z",
     "shell.execute_reply": "2023-08-05T07:43:52.486838Z"
    },
    "papermill": {
     "duration": 0.041854,
     "end_time": "2023-08-05T07:43:52.490370",
     "exception": false,
     "start_time": "2023-08-05T07:43:52.448516",
     "status": "completed"
    },
    "tags": []
   },
   "outputs": [
    {
     "name": "stdout",
     "output_type": "stream",
     "text": [
      "/kaggle/input/titanic/train.csv\n",
      "/kaggle/input/titanic/test.csv\n",
      "/kaggle/input/titanic/gender_submission.csv\n"
     ]
    }
   ],
   "source": [
    "# This Python 3 environment comes with many helpful analytics libraries installed\n",
    "# It is defined by the kaggle/python Docker image: https://github.com/kaggle/docker-python\n",
    "# For example, here's several helpful packages to load\n",
    "\n",
    "import numpy as np # linear algebra\n",
    "import pandas as pd # data processing, CSV file I/O (e.g. pd.read_csv)\n",
    "import matplotlib.pyplot as plt\n",
    "# Input data files are available in the read-only \"../input/\" directory\n",
    "# For example, running this (by clicking run or pressing Shift+Enter) will list all files under the input directory\n",
    "\n",
    "import os\n",
    "for dirname, _, filenames in os.walk('/kaggle/input'):\n",
    "    for filename in filenames:\n",
    "        print(os.path.join(dirname, filename))\n",
    "\n",
    "# You can write up to 20GB to the current directory (/kaggle/working/) that gets preserved as output when you create a version using \"Save & Run All\" \n",
    "# You can also write temporary files to /kaggle/temp/, but they won't be saved outside of the current session"
   ]
  },
  {
   "cell_type": "markdown",
   "id": "fabd53ea",
   "metadata": {
    "papermill": {
     "duration": 0.018991,
     "end_time": "2023-08-05T07:43:52.528502",
     "exception": false,
     "start_time": "2023-08-05T07:43:52.509511",
     "status": "completed"
    },
    "tags": []
   },
   "source": [
    "Reading the Dataset"
   ]
  },
  {
   "cell_type": "code",
   "execution_count": 2,
   "id": "0dfd47ed",
   "metadata": {
    "execution": {
     "iopub.execute_input": "2023-08-05T07:43:52.568324Z",
     "iopub.status.busy": "2023-08-05T07:43:52.567948Z",
     "iopub.status.idle": "2023-08-05T07:43:52.591321Z",
     "shell.execute_reply": "2023-08-05T07:43:52.590103Z"
    },
    "papermill": {
     "duration": 0.046821,
     "end_time": "2023-08-05T07:43:52.594169",
     "exception": false,
     "start_time": "2023-08-05T07:43:52.547348",
     "status": "completed"
    },
    "tags": []
   },
   "outputs": [],
   "source": [
    "df=pd.read_csv(\"/kaggle/input/titanic/train.csv\")"
   ]
  },
  {
   "cell_type": "markdown",
   "id": "9700e659",
   "metadata": {
    "papermill": {
     "duration": 0.019059,
     "end_time": "2023-08-05T07:43:52.632513",
     "exception": false,
     "start_time": "2023-08-05T07:43:52.613454",
     "status": "completed"
    },
    "tags": []
   },
   "source": [
    " Features of the dataset: \n",
    "\n",
    "- survival - Survival (0 = No; 1 = Yes)\n",
    "- class - Passenger Class (1 = 1st; 2 = 2nd; 3 = 3rd)\n",
    "- name - Name\n",
    "- sex - Sex\n",
    "- age - Age\n",
    "- sibsp - Number of Siblings/Spouses Aboard\n",
    "- parch - Number of Parents/Children Aboard\n",
    "- ticket - Ticket Number\n",
    "- fare - Passenger Fare\n",
    "- cabin - Cabin\n",
    "- embarked - Port of Embarkation (C = Cherbourg; Q = Queenstown; S = Southampton)"
   ]
  },
  {
   "cell_type": "markdown",
   "id": "d6a4c442",
   "metadata": {
    "papermill": {
     "duration": 0.019263,
     "end_time": "2023-08-05T07:43:52.670536",
     "exception": false,
     "start_time": "2023-08-05T07:43:52.651273",
     "status": "completed"
    },
    "tags": []
   },
   "source": [
    "# 1. **Display Top 5 Rows of The Dataset**"
   ]
  },
  {
   "cell_type": "code",
   "execution_count": 3,
   "id": "ec18b896",
   "metadata": {
    "execution": {
     "iopub.execute_input": "2023-08-05T07:43:52.711065Z",
     "iopub.status.busy": "2023-08-05T07:43:52.710650Z",
     "iopub.status.idle": "2023-08-05T07:43:52.737533Z",
     "shell.execute_reply": "2023-08-05T07:43:52.736430Z"
    },
    "papermill": {
     "duration": 0.049945,
     "end_time": "2023-08-05T07:43:52.740079",
     "exception": false,
     "start_time": "2023-08-05T07:43:52.690134",
     "status": "completed"
    },
    "tags": []
   },
   "outputs": [
    {
     "data": {
      "text/html": [
       "<div>\n",
       "<style scoped>\n",
       "    .dataframe tbody tr th:only-of-type {\n",
       "        vertical-align: middle;\n",
       "    }\n",
       "\n",
       "    .dataframe tbody tr th {\n",
       "        vertical-align: top;\n",
       "    }\n",
       "\n",
       "    .dataframe thead th {\n",
       "        text-align: right;\n",
       "    }\n",
       "</style>\n",
       "<table border=\"1\" class=\"dataframe\">\n",
       "  <thead>\n",
       "    <tr style=\"text-align: right;\">\n",
       "      <th></th>\n",
       "      <th>PassengerId</th>\n",
       "      <th>Survived</th>\n",
       "      <th>Pclass</th>\n",
       "      <th>Name</th>\n",
       "      <th>Sex</th>\n",
       "      <th>Age</th>\n",
       "      <th>SibSp</th>\n",
       "      <th>Parch</th>\n",
       "      <th>Ticket</th>\n",
       "      <th>Fare</th>\n",
       "      <th>Cabin</th>\n",
       "      <th>Embarked</th>\n",
       "    </tr>\n",
       "  </thead>\n",
       "  <tbody>\n",
       "    <tr>\n",
       "      <th>0</th>\n",
       "      <td>1</td>\n",
       "      <td>0</td>\n",
       "      <td>3</td>\n",
       "      <td>Braund, Mr. Owen Harris</td>\n",
       "      <td>male</td>\n",
       "      <td>22.0</td>\n",
       "      <td>1</td>\n",
       "      <td>0</td>\n",
       "      <td>A/5 21171</td>\n",
       "      <td>7.2500</td>\n",
       "      <td>NaN</td>\n",
       "      <td>S</td>\n",
       "    </tr>\n",
       "    <tr>\n",
       "      <th>1</th>\n",
       "      <td>2</td>\n",
       "      <td>1</td>\n",
       "      <td>1</td>\n",
       "      <td>Cumings, Mrs. John Bradley (Florence Briggs Th...</td>\n",
       "      <td>female</td>\n",
       "      <td>38.0</td>\n",
       "      <td>1</td>\n",
       "      <td>0</td>\n",
       "      <td>PC 17599</td>\n",
       "      <td>71.2833</td>\n",
       "      <td>C85</td>\n",
       "      <td>C</td>\n",
       "    </tr>\n",
       "    <tr>\n",
       "      <th>2</th>\n",
       "      <td>3</td>\n",
       "      <td>1</td>\n",
       "      <td>3</td>\n",
       "      <td>Heikkinen, Miss. Laina</td>\n",
       "      <td>female</td>\n",
       "      <td>26.0</td>\n",
       "      <td>0</td>\n",
       "      <td>0</td>\n",
       "      <td>STON/O2. 3101282</td>\n",
       "      <td>7.9250</td>\n",
       "      <td>NaN</td>\n",
       "      <td>S</td>\n",
       "    </tr>\n",
       "    <tr>\n",
       "      <th>3</th>\n",
       "      <td>4</td>\n",
       "      <td>1</td>\n",
       "      <td>1</td>\n",
       "      <td>Futrelle, Mrs. Jacques Heath (Lily May Peel)</td>\n",
       "      <td>female</td>\n",
       "      <td>35.0</td>\n",
       "      <td>1</td>\n",
       "      <td>0</td>\n",
       "      <td>113803</td>\n",
       "      <td>53.1000</td>\n",
       "      <td>C123</td>\n",
       "      <td>S</td>\n",
       "    </tr>\n",
       "    <tr>\n",
       "      <th>4</th>\n",
       "      <td>5</td>\n",
       "      <td>0</td>\n",
       "      <td>3</td>\n",
       "      <td>Allen, Mr. William Henry</td>\n",
       "      <td>male</td>\n",
       "      <td>35.0</td>\n",
       "      <td>0</td>\n",
       "      <td>0</td>\n",
       "      <td>373450</td>\n",
       "      <td>8.0500</td>\n",
       "      <td>NaN</td>\n",
       "      <td>S</td>\n",
       "    </tr>\n",
       "  </tbody>\n",
       "</table>\n",
       "</div>"
      ],
      "text/plain": [
       "   PassengerId  Survived  Pclass  \\\n",
       "0            1         0       3   \n",
       "1            2         1       1   \n",
       "2            3         1       3   \n",
       "3            4         1       1   \n",
       "4            5         0       3   \n",
       "\n",
       "                                                Name     Sex   Age  SibSp  \\\n",
       "0                            Braund, Mr. Owen Harris    male  22.0      1   \n",
       "1  Cumings, Mrs. John Bradley (Florence Briggs Th...  female  38.0      1   \n",
       "2                             Heikkinen, Miss. Laina  female  26.0      0   \n",
       "3       Futrelle, Mrs. Jacques Heath (Lily May Peel)  female  35.0      1   \n",
       "4                           Allen, Mr. William Henry    male  35.0      0   \n",
       "\n",
       "   Parch            Ticket     Fare Cabin Embarked  \n",
       "0      0         A/5 21171   7.2500   NaN        S  \n",
       "1      0          PC 17599  71.2833   C85        C  \n",
       "2      0  STON/O2. 3101282   7.9250   NaN        S  \n",
       "3      0            113803  53.1000  C123        S  \n",
       "4      0            373450   8.0500   NaN        S  "
      ]
     },
     "execution_count": 3,
     "metadata": {},
     "output_type": "execute_result"
    }
   ],
   "source": [
    "df.head()"
   ]
  },
  {
   "cell_type": "markdown",
   "id": "aa37e72c",
   "metadata": {
    "papermill": {
     "duration": 0.019055,
     "end_time": "2023-08-05T07:43:52.778378",
     "exception": false,
     "start_time": "2023-08-05T07:43:52.759323",
     "status": "completed"
    },
    "tags": []
   },
   "source": [
    "# 2. **Check the Last 3 Rows of The Dataset**"
   ]
  },
  {
   "cell_type": "code",
   "execution_count": 4,
   "id": "09db94f0",
   "metadata": {
    "execution": {
     "iopub.execute_input": "2023-08-05T07:43:52.818628Z",
     "iopub.status.busy": "2023-08-05T07:43:52.818207Z",
     "iopub.status.idle": "2023-08-05T07:43:52.835785Z",
     "shell.execute_reply": "2023-08-05T07:43:52.834537Z"
    },
    "papermill": {
     "duration": 0.040759,
     "end_time": "2023-08-05T07:43:52.838147",
     "exception": false,
     "start_time": "2023-08-05T07:43:52.797388",
     "status": "completed"
    },
    "tags": []
   },
   "outputs": [
    {
     "data": {
      "text/html": [
       "<div>\n",
       "<style scoped>\n",
       "    .dataframe tbody tr th:only-of-type {\n",
       "        vertical-align: middle;\n",
       "    }\n",
       "\n",
       "    .dataframe tbody tr th {\n",
       "        vertical-align: top;\n",
       "    }\n",
       "\n",
       "    .dataframe thead th {\n",
       "        text-align: right;\n",
       "    }\n",
       "</style>\n",
       "<table border=\"1\" class=\"dataframe\">\n",
       "  <thead>\n",
       "    <tr style=\"text-align: right;\">\n",
       "      <th></th>\n",
       "      <th>PassengerId</th>\n",
       "      <th>Survived</th>\n",
       "      <th>Pclass</th>\n",
       "      <th>Name</th>\n",
       "      <th>Sex</th>\n",
       "      <th>Age</th>\n",
       "      <th>SibSp</th>\n",
       "      <th>Parch</th>\n",
       "      <th>Ticket</th>\n",
       "      <th>Fare</th>\n",
       "      <th>Cabin</th>\n",
       "      <th>Embarked</th>\n",
       "    </tr>\n",
       "  </thead>\n",
       "  <tbody>\n",
       "    <tr>\n",
       "      <th>888</th>\n",
       "      <td>889</td>\n",
       "      <td>0</td>\n",
       "      <td>3</td>\n",
       "      <td>Johnston, Miss. Catherine Helen \"Carrie\"</td>\n",
       "      <td>female</td>\n",
       "      <td>NaN</td>\n",
       "      <td>1</td>\n",
       "      <td>2</td>\n",
       "      <td>W./C. 6607</td>\n",
       "      <td>23.45</td>\n",
       "      <td>NaN</td>\n",
       "      <td>S</td>\n",
       "    </tr>\n",
       "    <tr>\n",
       "      <th>889</th>\n",
       "      <td>890</td>\n",
       "      <td>1</td>\n",
       "      <td>1</td>\n",
       "      <td>Behr, Mr. Karl Howell</td>\n",
       "      <td>male</td>\n",
       "      <td>26.0</td>\n",
       "      <td>0</td>\n",
       "      <td>0</td>\n",
       "      <td>111369</td>\n",
       "      <td>30.00</td>\n",
       "      <td>C148</td>\n",
       "      <td>C</td>\n",
       "    </tr>\n",
       "    <tr>\n",
       "      <th>890</th>\n",
       "      <td>891</td>\n",
       "      <td>0</td>\n",
       "      <td>3</td>\n",
       "      <td>Dooley, Mr. Patrick</td>\n",
       "      <td>male</td>\n",
       "      <td>32.0</td>\n",
       "      <td>0</td>\n",
       "      <td>0</td>\n",
       "      <td>370376</td>\n",
       "      <td>7.75</td>\n",
       "      <td>NaN</td>\n",
       "      <td>Q</td>\n",
       "    </tr>\n",
       "  </tbody>\n",
       "</table>\n",
       "</div>"
      ],
      "text/plain": [
       "     PassengerId  Survived  Pclass                                      Name  \\\n",
       "888          889         0       3  Johnston, Miss. Catherine Helen \"Carrie\"   \n",
       "889          890         1       1                     Behr, Mr. Karl Howell   \n",
       "890          891         0       3                       Dooley, Mr. Patrick   \n",
       "\n",
       "        Sex   Age  SibSp  Parch      Ticket   Fare Cabin Embarked  \n",
       "888  female   NaN      1      2  W./C. 6607  23.45   NaN        S  \n",
       "889    male  26.0      0      0      111369  30.00  C148        C  \n",
       "890    male  32.0      0      0      370376   7.75   NaN        Q  "
      ]
     },
     "execution_count": 4,
     "metadata": {},
     "output_type": "execute_result"
    }
   ],
   "source": [
    "df.tail(3)"
   ]
  },
  {
   "cell_type": "markdown",
   "id": "f143f440",
   "metadata": {
    "papermill": {
     "duration": 0.021124,
     "end_time": "2023-08-05T07:43:52.879387",
     "exception": false,
     "start_time": "2023-08-05T07:43:52.858263",
     "status": "completed"
    },
    "tags": []
   },
   "source": [
    "# 3. **Find Shape of Our Dataset (Number of Rows & Number of Columns)**"
   ]
  },
  {
   "cell_type": "code",
   "execution_count": 5,
   "id": "5f97aab1",
   "metadata": {
    "execution": {
     "iopub.execute_input": "2023-08-05T07:43:52.920306Z",
     "iopub.status.busy": "2023-08-05T07:43:52.919891Z",
     "iopub.status.idle": "2023-08-05T07:43:52.925863Z",
     "shell.execute_reply": "2023-08-05T07:43:52.924764Z"
    },
    "papermill": {
     "duration": 0.029173,
     "end_time": "2023-08-05T07:43:52.928324",
     "exception": false,
     "start_time": "2023-08-05T07:43:52.899151",
     "status": "completed"
    },
    "tags": []
   },
   "outputs": [
    {
     "name": "stdout",
     "output_type": "stream",
     "text": [
      "Number of Rows 891\n",
      "Number of Columns 12\n"
     ]
    }
   ],
   "source": [
    "print(\"Number of Rows\",df.shape[0])\n",
    "print(\"Number of Columns\",df.shape[1])"
   ]
  },
  {
   "cell_type": "markdown",
   "id": "c3fa15d2",
   "metadata": {
    "papermill": {
     "duration": 0.019761,
     "end_time": "2023-08-05T07:43:52.967823",
     "exception": false,
     "start_time": "2023-08-05T07:43:52.948062",
     "status": "completed"
    },
    "tags": []
   },
   "source": [
    "# 4. **Get Information About Our Dataset Like Total Number Rows, Total Number of Columns, Datatypes of Each Column And Memory Requirement**"
   ]
  },
  {
   "cell_type": "code",
   "execution_count": 6,
   "id": "71723076",
   "metadata": {
    "execution": {
     "iopub.execute_input": "2023-08-05T07:43:53.009087Z",
     "iopub.status.busy": "2023-08-05T07:43:53.008645Z",
     "iopub.status.idle": "2023-08-05T07:43:53.035898Z",
     "shell.execute_reply": "2023-08-05T07:43:53.034311Z"
    },
    "papermill": {
     "duration": 0.050918,
     "end_time": "2023-08-05T07:43:53.038530",
     "exception": false,
     "start_time": "2023-08-05T07:43:52.987612",
     "status": "completed"
    },
    "tags": []
   },
   "outputs": [
    {
     "name": "stdout",
     "output_type": "stream",
     "text": [
      "<class 'pandas.core.frame.DataFrame'>\n",
      "RangeIndex: 891 entries, 0 to 890\n",
      "Data columns (total 12 columns):\n",
      " #   Column       Non-Null Count  Dtype  \n",
      "---  ------       --------------  -----  \n",
      " 0   PassengerId  891 non-null    int64  \n",
      " 1   Survived     891 non-null    int64  \n",
      " 2   Pclass       891 non-null    int64  \n",
      " 3   Name         891 non-null    object \n",
      " 4   Sex          891 non-null    object \n",
      " 5   Age          714 non-null    float64\n",
      " 6   SibSp        891 non-null    int64  \n",
      " 7   Parch        891 non-null    int64  \n",
      " 8   Ticket       891 non-null    object \n",
      " 9   Fare         891 non-null    float64\n",
      " 10  Cabin        204 non-null    object \n",
      " 11  Embarked     889 non-null    object \n",
      "dtypes: float64(2), int64(5), object(5)\n",
      "memory usage: 83.7+ KB\n"
     ]
    }
   ],
   "source": [
    "df.info()"
   ]
  },
  {
   "cell_type": "markdown",
   "id": "6aa31ffc",
   "metadata": {
    "papermill": {
     "duration": 0.019522,
     "end_time": "2023-08-05T07:43:53.078254",
     "exception": false,
     "start_time": "2023-08-05T07:43:53.058732",
     "status": "completed"
    },
    "tags": []
   },
   "source": [
    "# 5. **Get Overall Statistics About The Dataframe**"
   ]
  },
  {
   "cell_type": "code",
   "execution_count": 7,
   "id": "d56bb1e6",
   "metadata": {
    "execution": {
     "iopub.execute_input": "2023-08-05T07:43:53.122092Z",
     "iopub.status.busy": "2023-08-05T07:43:53.121243Z",
     "iopub.status.idle": "2023-08-05T07:43:53.179782Z",
     "shell.execute_reply": "2023-08-05T07:43:53.178621Z"
    },
    "papermill": {
     "duration": 0.083965,
     "end_time": "2023-08-05T07:43:53.182302",
     "exception": false,
     "start_time": "2023-08-05T07:43:53.098337",
     "status": "completed"
    },
    "tags": []
   },
   "outputs": [
    {
     "data": {
      "text/html": [
       "<div>\n",
       "<style scoped>\n",
       "    .dataframe tbody tr th:only-of-type {\n",
       "        vertical-align: middle;\n",
       "    }\n",
       "\n",
       "    .dataframe tbody tr th {\n",
       "        vertical-align: top;\n",
       "    }\n",
       "\n",
       "    .dataframe thead th {\n",
       "        text-align: right;\n",
       "    }\n",
       "</style>\n",
       "<table border=\"1\" class=\"dataframe\">\n",
       "  <thead>\n",
       "    <tr style=\"text-align: right;\">\n",
       "      <th></th>\n",
       "      <th>PassengerId</th>\n",
       "      <th>Survived</th>\n",
       "      <th>Pclass</th>\n",
       "      <th>Name</th>\n",
       "      <th>Sex</th>\n",
       "      <th>Age</th>\n",
       "      <th>SibSp</th>\n",
       "      <th>Parch</th>\n",
       "      <th>Ticket</th>\n",
       "      <th>Fare</th>\n",
       "      <th>Cabin</th>\n",
       "      <th>Embarked</th>\n",
       "    </tr>\n",
       "  </thead>\n",
       "  <tbody>\n",
       "    <tr>\n",
       "      <th>count</th>\n",
       "      <td>891.000000</td>\n",
       "      <td>891.000000</td>\n",
       "      <td>891.000000</td>\n",
       "      <td>891</td>\n",
       "      <td>891</td>\n",
       "      <td>714.000000</td>\n",
       "      <td>891.000000</td>\n",
       "      <td>891.000000</td>\n",
       "      <td>891</td>\n",
       "      <td>891.000000</td>\n",
       "      <td>204</td>\n",
       "      <td>889</td>\n",
       "    </tr>\n",
       "    <tr>\n",
       "      <th>unique</th>\n",
       "      <td>NaN</td>\n",
       "      <td>NaN</td>\n",
       "      <td>NaN</td>\n",
       "      <td>891</td>\n",
       "      <td>2</td>\n",
       "      <td>NaN</td>\n",
       "      <td>NaN</td>\n",
       "      <td>NaN</td>\n",
       "      <td>681</td>\n",
       "      <td>NaN</td>\n",
       "      <td>147</td>\n",
       "      <td>3</td>\n",
       "    </tr>\n",
       "    <tr>\n",
       "      <th>top</th>\n",
       "      <td>NaN</td>\n",
       "      <td>NaN</td>\n",
       "      <td>NaN</td>\n",
       "      <td>Braund, Mr. Owen Harris</td>\n",
       "      <td>male</td>\n",
       "      <td>NaN</td>\n",
       "      <td>NaN</td>\n",
       "      <td>NaN</td>\n",
       "      <td>347082</td>\n",
       "      <td>NaN</td>\n",
       "      <td>B96 B98</td>\n",
       "      <td>S</td>\n",
       "    </tr>\n",
       "    <tr>\n",
       "      <th>freq</th>\n",
       "      <td>NaN</td>\n",
       "      <td>NaN</td>\n",
       "      <td>NaN</td>\n",
       "      <td>1</td>\n",
       "      <td>577</td>\n",
       "      <td>NaN</td>\n",
       "      <td>NaN</td>\n",
       "      <td>NaN</td>\n",
       "      <td>7</td>\n",
       "      <td>NaN</td>\n",
       "      <td>4</td>\n",
       "      <td>644</td>\n",
       "    </tr>\n",
       "    <tr>\n",
       "      <th>mean</th>\n",
       "      <td>446.000000</td>\n",
       "      <td>0.383838</td>\n",
       "      <td>2.308642</td>\n",
       "      <td>NaN</td>\n",
       "      <td>NaN</td>\n",
       "      <td>29.699118</td>\n",
       "      <td>0.523008</td>\n",
       "      <td>0.381594</td>\n",
       "      <td>NaN</td>\n",
       "      <td>32.204208</td>\n",
       "      <td>NaN</td>\n",
       "      <td>NaN</td>\n",
       "    </tr>\n",
       "    <tr>\n",
       "      <th>std</th>\n",
       "      <td>257.353842</td>\n",
       "      <td>0.486592</td>\n",
       "      <td>0.836071</td>\n",
       "      <td>NaN</td>\n",
       "      <td>NaN</td>\n",
       "      <td>14.526497</td>\n",
       "      <td>1.102743</td>\n",
       "      <td>0.806057</td>\n",
       "      <td>NaN</td>\n",
       "      <td>49.693429</td>\n",
       "      <td>NaN</td>\n",
       "      <td>NaN</td>\n",
       "    </tr>\n",
       "    <tr>\n",
       "      <th>min</th>\n",
       "      <td>1.000000</td>\n",
       "      <td>0.000000</td>\n",
       "      <td>1.000000</td>\n",
       "      <td>NaN</td>\n",
       "      <td>NaN</td>\n",
       "      <td>0.420000</td>\n",
       "      <td>0.000000</td>\n",
       "      <td>0.000000</td>\n",
       "      <td>NaN</td>\n",
       "      <td>0.000000</td>\n",
       "      <td>NaN</td>\n",
       "      <td>NaN</td>\n",
       "    </tr>\n",
       "    <tr>\n",
       "      <th>25%</th>\n",
       "      <td>223.500000</td>\n",
       "      <td>0.000000</td>\n",
       "      <td>2.000000</td>\n",
       "      <td>NaN</td>\n",
       "      <td>NaN</td>\n",
       "      <td>20.125000</td>\n",
       "      <td>0.000000</td>\n",
       "      <td>0.000000</td>\n",
       "      <td>NaN</td>\n",
       "      <td>7.910400</td>\n",
       "      <td>NaN</td>\n",
       "      <td>NaN</td>\n",
       "    </tr>\n",
       "    <tr>\n",
       "      <th>50%</th>\n",
       "      <td>446.000000</td>\n",
       "      <td>0.000000</td>\n",
       "      <td>3.000000</td>\n",
       "      <td>NaN</td>\n",
       "      <td>NaN</td>\n",
       "      <td>28.000000</td>\n",
       "      <td>0.000000</td>\n",
       "      <td>0.000000</td>\n",
       "      <td>NaN</td>\n",
       "      <td>14.454200</td>\n",
       "      <td>NaN</td>\n",
       "      <td>NaN</td>\n",
       "    </tr>\n",
       "    <tr>\n",
       "      <th>75%</th>\n",
       "      <td>668.500000</td>\n",
       "      <td>1.000000</td>\n",
       "      <td>3.000000</td>\n",
       "      <td>NaN</td>\n",
       "      <td>NaN</td>\n",
       "      <td>38.000000</td>\n",
       "      <td>1.000000</td>\n",
       "      <td>0.000000</td>\n",
       "      <td>NaN</td>\n",
       "      <td>31.000000</td>\n",
       "      <td>NaN</td>\n",
       "      <td>NaN</td>\n",
       "    </tr>\n",
       "    <tr>\n",
       "      <th>max</th>\n",
       "      <td>891.000000</td>\n",
       "      <td>1.000000</td>\n",
       "      <td>3.000000</td>\n",
       "      <td>NaN</td>\n",
       "      <td>NaN</td>\n",
       "      <td>80.000000</td>\n",
       "      <td>8.000000</td>\n",
       "      <td>6.000000</td>\n",
       "      <td>NaN</td>\n",
       "      <td>512.329200</td>\n",
       "      <td>NaN</td>\n",
       "      <td>NaN</td>\n",
       "    </tr>\n",
       "  </tbody>\n",
       "</table>\n",
       "</div>"
      ],
      "text/plain": [
       "        PassengerId    Survived      Pclass                     Name   Sex  \\\n",
       "count    891.000000  891.000000  891.000000                      891   891   \n",
       "unique          NaN         NaN         NaN                      891     2   \n",
       "top             NaN         NaN         NaN  Braund, Mr. Owen Harris  male   \n",
       "freq            NaN         NaN         NaN                        1   577   \n",
       "mean     446.000000    0.383838    2.308642                      NaN   NaN   \n",
       "std      257.353842    0.486592    0.836071                      NaN   NaN   \n",
       "min        1.000000    0.000000    1.000000                      NaN   NaN   \n",
       "25%      223.500000    0.000000    2.000000                      NaN   NaN   \n",
       "50%      446.000000    0.000000    3.000000                      NaN   NaN   \n",
       "75%      668.500000    1.000000    3.000000                      NaN   NaN   \n",
       "max      891.000000    1.000000    3.000000                      NaN   NaN   \n",
       "\n",
       "               Age       SibSp       Parch  Ticket        Fare    Cabin  \\\n",
       "count   714.000000  891.000000  891.000000     891  891.000000      204   \n",
       "unique         NaN         NaN         NaN     681         NaN      147   \n",
       "top            NaN         NaN         NaN  347082         NaN  B96 B98   \n",
       "freq           NaN         NaN         NaN       7         NaN        4   \n",
       "mean     29.699118    0.523008    0.381594     NaN   32.204208      NaN   \n",
       "std      14.526497    1.102743    0.806057     NaN   49.693429      NaN   \n",
       "min       0.420000    0.000000    0.000000     NaN    0.000000      NaN   \n",
       "25%      20.125000    0.000000    0.000000     NaN    7.910400      NaN   \n",
       "50%      28.000000    0.000000    0.000000     NaN   14.454200      NaN   \n",
       "75%      38.000000    1.000000    0.000000     NaN   31.000000      NaN   \n",
       "max      80.000000    8.000000    6.000000     NaN  512.329200      NaN   \n",
       "\n",
       "       Embarked  \n",
       "count       889  \n",
       "unique        3  \n",
       "top           S  \n",
       "freq        644  \n",
       "mean        NaN  \n",
       "std         NaN  \n",
       "min         NaN  \n",
       "25%         NaN  \n",
       "50%         NaN  \n",
       "75%         NaN  \n",
       "max         NaN  "
      ]
     },
     "execution_count": 7,
     "metadata": {},
     "output_type": "execute_result"
    }
   ],
   "source": [
    "df.describe(include=\"all\")"
   ]
  },
  {
   "cell_type": "markdown",
   "id": "59400a23",
   "metadata": {
    "papermill": {
     "duration": 0.019586,
     "end_time": "2023-08-05T07:43:53.222615",
     "exception": false,
     "start_time": "2023-08-05T07:43:53.203029",
     "status": "completed"
    },
    "tags": []
   },
   "source": [
    "# 6. **Data Filtering**"
   ]
  },
  {
   "cell_type": "code",
   "execution_count": 8,
   "id": "28c9b922",
   "metadata": {
    "execution": {
     "iopub.execute_input": "2023-08-05T07:43:53.264656Z",
     "iopub.status.busy": "2023-08-05T07:43:53.264284Z",
     "iopub.status.idle": "2023-08-05T07:43:53.282929Z",
     "shell.execute_reply": "2023-08-05T07:43:53.281723Z"
    },
    "papermill": {
     "duration": 0.042422,
     "end_time": "2023-08-05T07:43:53.285305",
     "exception": false,
     "start_time": "2023-08-05T07:43:53.242883",
     "status": "completed"
    },
    "tags": []
   },
   "outputs": [
    {
     "data": {
      "text/html": [
       "<div>\n",
       "<style scoped>\n",
       "    .dataframe tbody tr th:only-of-type {\n",
       "        vertical-align: middle;\n",
       "    }\n",
       "\n",
       "    .dataframe tbody tr th {\n",
       "        vertical-align: top;\n",
       "    }\n",
       "\n",
       "    .dataframe thead th {\n",
       "        text-align: right;\n",
       "    }\n",
       "</style>\n",
       "<table border=\"1\" class=\"dataframe\">\n",
       "  <thead>\n",
       "    <tr style=\"text-align: right;\">\n",
       "      <th></th>\n",
       "      <th>PassengerId</th>\n",
       "      <th>Survived</th>\n",
       "      <th>Pclass</th>\n",
       "      <th>Name</th>\n",
       "      <th>Sex</th>\n",
       "      <th>Age</th>\n",
       "      <th>SibSp</th>\n",
       "      <th>Parch</th>\n",
       "      <th>Ticket</th>\n",
       "      <th>Fare</th>\n",
       "      <th>Cabin</th>\n",
       "      <th>Embarked</th>\n",
       "    </tr>\n",
       "  </thead>\n",
       "  <tbody>\n",
       "    <tr>\n",
       "      <th>1</th>\n",
       "      <td>2</td>\n",
       "      <td>1</td>\n",
       "      <td>1</td>\n",
       "      <td>Cumings, Mrs. John Bradley (Florence Briggs Th...</td>\n",
       "      <td>female</td>\n",
       "      <td>38.0</td>\n",
       "      <td>1</td>\n",
       "      <td>0</td>\n",
       "      <td>PC 17599</td>\n",
       "      <td>71.2833</td>\n",
       "      <td>C85</td>\n",
       "      <td>C</td>\n",
       "    </tr>\n",
       "    <tr>\n",
       "      <th>2</th>\n",
       "      <td>3</td>\n",
       "      <td>1</td>\n",
       "      <td>3</td>\n",
       "      <td>Heikkinen, Miss. Laina</td>\n",
       "      <td>female</td>\n",
       "      <td>26.0</td>\n",
       "      <td>0</td>\n",
       "      <td>0</td>\n",
       "      <td>STON/O2. 3101282</td>\n",
       "      <td>7.9250</td>\n",
       "      <td>NaN</td>\n",
       "      <td>S</td>\n",
       "    </tr>\n",
       "    <tr>\n",
       "      <th>3</th>\n",
       "      <td>4</td>\n",
       "      <td>1</td>\n",
       "      <td>1</td>\n",
       "      <td>Futrelle, Mrs. Jacques Heath (Lily May Peel)</td>\n",
       "      <td>female</td>\n",
       "      <td>35.0</td>\n",
       "      <td>1</td>\n",
       "      <td>0</td>\n",
       "      <td>113803</td>\n",
       "      <td>53.1000</td>\n",
       "      <td>C123</td>\n",
       "      <td>S</td>\n",
       "    </tr>\n",
       "    <tr>\n",
       "      <th>8</th>\n",
       "      <td>9</td>\n",
       "      <td>1</td>\n",
       "      <td>3</td>\n",
       "      <td>Johnson, Mrs. Oscar W (Elisabeth Vilhelmina Berg)</td>\n",
       "      <td>female</td>\n",
       "      <td>27.0</td>\n",
       "      <td>0</td>\n",
       "      <td>2</td>\n",
       "      <td>347742</td>\n",
       "      <td>11.1333</td>\n",
       "      <td>NaN</td>\n",
       "      <td>S</td>\n",
       "    </tr>\n",
       "    <tr>\n",
       "      <th>9</th>\n",
       "      <td>10</td>\n",
       "      <td>1</td>\n",
       "      <td>2</td>\n",
       "      <td>Nasser, Mrs. Nicholas (Adele Achem)</td>\n",
       "      <td>female</td>\n",
       "      <td>14.0</td>\n",
       "      <td>1</td>\n",
       "      <td>0</td>\n",
       "      <td>237736</td>\n",
       "      <td>30.0708</td>\n",
       "      <td>NaN</td>\n",
       "      <td>C</td>\n",
       "    </tr>\n",
       "  </tbody>\n",
       "</table>\n",
       "</div>"
      ],
      "text/plain": [
       "   PassengerId  Survived  Pclass  \\\n",
       "1            2         1       1   \n",
       "2            3         1       3   \n",
       "3            4         1       1   \n",
       "8            9         1       3   \n",
       "9           10         1       2   \n",
       "\n",
       "                                                Name     Sex   Age  SibSp  \\\n",
       "1  Cumings, Mrs. John Bradley (Florence Briggs Th...  female  38.0      1   \n",
       "2                             Heikkinen, Miss. Laina  female  26.0      0   \n",
       "3       Futrelle, Mrs. Jacques Heath (Lily May Peel)  female  35.0      1   \n",
       "8  Johnson, Mrs. Oscar W (Elisabeth Vilhelmina Berg)  female  27.0      0   \n",
       "9                Nasser, Mrs. Nicholas (Adele Achem)  female  14.0      1   \n",
       "\n",
       "   Parch            Ticket     Fare Cabin Embarked  \n",
       "1      0          PC 17599  71.2833   C85        C  \n",
       "2      0  STON/O2. 3101282   7.9250   NaN        S  \n",
       "3      0            113803  53.1000  C123        S  \n",
       "8      2            347742  11.1333   NaN        S  \n",
       "9      0            237736  30.0708   NaN        C  "
      ]
     },
     "execution_count": 8,
     "metadata": {},
     "output_type": "execute_result"
    }
   ],
   "source": [
    "df[df['Survived']==1].head()"
   ]
  },
  {
   "cell_type": "markdown",
   "id": "ec55c372",
   "metadata": {
    "papermill": {
     "duration": 0.019853,
     "end_time": "2023-08-05T07:43:53.327117",
     "exception": false,
     "start_time": "2023-08-05T07:43:53.307264",
     "status": "completed"
    },
    "tags": []
   },
   "source": [
    "Details of Person Survived on Titanic"
   ]
  },
  {
   "cell_type": "code",
   "execution_count": 9,
   "id": "47a5bc42",
   "metadata": {
    "execution": {
     "iopub.execute_input": "2023-08-05T07:43:53.369796Z",
     "iopub.status.busy": "2023-08-05T07:43:53.369348Z",
     "iopub.status.idle": "2023-08-05T07:43:53.387244Z",
     "shell.execute_reply": "2023-08-05T07:43:53.386128Z"
    },
    "papermill": {
     "duration": 0.041916,
     "end_time": "2023-08-05T07:43:53.389751",
     "exception": false,
     "start_time": "2023-08-05T07:43:53.347835",
     "status": "completed"
    },
    "tags": []
   },
   "outputs": [
    {
     "data": {
      "text/html": [
       "<div>\n",
       "<style scoped>\n",
       "    .dataframe tbody tr th:only-of-type {\n",
       "        vertical-align: middle;\n",
       "    }\n",
       "\n",
       "    .dataframe tbody tr th {\n",
       "        vertical-align: top;\n",
       "    }\n",
       "\n",
       "    .dataframe thead th {\n",
       "        text-align: right;\n",
       "    }\n",
       "</style>\n",
       "<table border=\"1\" class=\"dataframe\">\n",
       "  <thead>\n",
       "    <tr style=\"text-align: right;\">\n",
       "      <th></th>\n",
       "      <th>Name</th>\n",
       "      <th>Age</th>\n",
       "      <th>PassengerId</th>\n",
       "    </tr>\n",
       "  </thead>\n",
       "  <tbody>\n",
       "    <tr>\n",
       "      <th>17</th>\n",
       "      <td>Williams, Mr. Charles Eugene</td>\n",
       "      <td>NaN</td>\n",
       "      <td>18</td>\n",
       "    </tr>\n",
       "    <tr>\n",
       "      <th>21</th>\n",
       "      <td>Beesley, Mr. Lawrence</td>\n",
       "      <td>34.0</td>\n",
       "      <td>22</td>\n",
       "    </tr>\n",
       "    <tr>\n",
       "      <th>23</th>\n",
       "      <td>Sloper, Mr. William Thompson</td>\n",
       "      <td>28.0</td>\n",
       "      <td>24</td>\n",
       "    </tr>\n",
       "    <tr>\n",
       "      <th>36</th>\n",
       "      <td>Mamee, Mr. Hanna</td>\n",
       "      <td>NaN</td>\n",
       "      <td>37</td>\n",
       "    </tr>\n",
       "    <tr>\n",
       "      <th>55</th>\n",
       "      <td>Woolner, Mr. Hugh</td>\n",
       "      <td>NaN</td>\n",
       "      <td>56</td>\n",
       "    </tr>\n",
       "    <tr>\n",
       "      <th>...</th>\n",
       "      <td>...</td>\n",
       "      <td>...</td>\n",
       "      <td>...</td>\n",
       "    </tr>\n",
       "    <tr>\n",
       "      <th>838</th>\n",
       "      <td>Chip, Mr. Chang</td>\n",
       "      <td>32.0</td>\n",
       "      <td>839</td>\n",
       "    </tr>\n",
       "    <tr>\n",
       "      <th>839</th>\n",
       "      <td>Marechal, Mr. Pierre</td>\n",
       "      <td>NaN</td>\n",
       "      <td>840</td>\n",
       "    </tr>\n",
       "    <tr>\n",
       "      <th>857</th>\n",
       "      <td>Daly, Mr. Peter Denis</td>\n",
       "      <td>51.0</td>\n",
       "      <td>858</td>\n",
       "    </tr>\n",
       "    <tr>\n",
       "      <th>869</th>\n",
       "      <td>Johnson, Master. Harold Theodor</td>\n",
       "      <td>4.0</td>\n",
       "      <td>870</td>\n",
       "    </tr>\n",
       "    <tr>\n",
       "      <th>889</th>\n",
       "      <td>Behr, Mr. Karl Howell</td>\n",
       "      <td>26.0</td>\n",
       "      <td>890</td>\n",
       "    </tr>\n",
       "  </tbody>\n",
       "</table>\n",
       "<p>109 rows × 3 columns</p>\n",
       "</div>"
      ],
      "text/plain": [
       "                                Name   Age  PassengerId\n",
       "17      Williams, Mr. Charles Eugene   NaN           18\n",
       "21             Beesley, Mr. Lawrence  34.0           22\n",
       "23      Sloper, Mr. William Thompson  28.0           24\n",
       "36                  Mamee, Mr. Hanna   NaN           37\n",
       "55                 Woolner, Mr. Hugh   NaN           56\n",
       "..                               ...   ...          ...\n",
       "838                  Chip, Mr. Chang  32.0          839\n",
       "839             Marechal, Mr. Pierre   NaN          840\n",
       "857           Daly, Mr. Peter Denis   51.0          858\n",
       "869  Johnson, Master. Harold Theodor   4.0          870\n",
       "889            Behr, Mr. Karl Howell  26.0          890\n",
       "\n",
       "[109 rows x 3 columns]"
      ]
     },
     "execution_count": 9,
     "metadata": {},
     "output_type": "execute_result"
    }
   ],
   "source": [
    "df[(df['Survived']==1) & (df['Sex']=='male')][['Name','Age','PassengerId']]"
   ]
  },
  {
   "cell_type": "markdown",
   "id": "3a1fedef",
   "metadata": {
    "papermill": {
     "duration": 0.020368,
     "end_time": "2023-08-05T07:43:53.431106",
     "exception": false,
     "start_time": "2023-08-05T07:43:53.410738",
     "status": "completed"
    },
    "tags": []
   },
   "source": [
    "Details of Males Survived on Titanic"
   ]
  },
  {
   "cell_type": "markdown",
   "id": "34c69219",
   "metadata": {
    "papermill": {
     "duration": 0.020179,
     "end_time": "2023-08-05T07:43:53.471954",
     "exception": false,
     "start_time": "2023-08-05T07:43:53.451775",
     "status": "completed"
    },
    "tags": []
   },
   "source": [
    "# 7. **Check Null Values In The Dataset**"
   ]
  },
  {
   "cell_type": "code",
   "execution_count": 10,
   "id": "47518b9f",
   "metadata": {
    "execution": {
     "iopub.execute_input": "2023-08-05T07:43:53.515194Z",
     "iopub.status.busy": "2023-08-05T07:43:53.514776Z",
     "iopub.status.idle": "2023-08-05T07:43:53.522208Z",
     "shell.execute_reply": "2023-08-05T07:43:53.521352Z"
    },
    "papermill": {
     "duration": 0.031574,
     "end_time": "2023-08-05T07:43:53.524175",
     "exception": false,
     "start_time": "2023-08-05T07:43:53.492601",
     "status": "completed"
    },
    "tags": []
   },
   "outputs": [],
   "source": [
    "new_df=df.isnull().sum()"
   ]
  },
  {
   "cell_type": "code",
   "execution_count": 11,
   "id": "583d5106",
   "metadata": {
    "execution": {
     "iopub.execute_input": "2023-08-05T07:43:53.567599Z",
     "iopub.status.busy": "2023-08-05T07:43:53.567212Z",
     "iopub.status.idle": "2023-08-05T07:43:53.955348Z",
     "shell.execute_reply": "2023-08-05T07:43:53.954194Z"
    },
    "papermill": {
     "duration": 0.412791,
     "end_time": "2023-08-05T07:43:53.957947",
     "exception": false,
     "start_time": "2023-08-05T07:43:53.545156",
     "status": "completed"
    },
    "tags": []
   },
   "outputs": [
    {
     "data": {
      "text/plain": [
       "Text(0.5, 1.0, 'Count Of NULL Values in the DataSet')"
      ]
     },
     "execution_count": 11,
     "metadata": {},
     "output_type": "execute_result"
    },
    {
     "data": {
      "image/png": "[encoded data removed]",
      "text/plain": [
       "<Figure size 500x300 with 1 Axes>"
      ]
     },
     "metadata": {},
     "output_type": "display_data"
    }
   ],
   "source": [
    "fig,ax=plt.subplots(figsize=(5,3))\n",
    "ax.barh(new_df.index,new_df.values)\n",
    "ax.set_title('Count Of NULL Values in the DataSet')"
   ]
  },
  {
   "cell_type": "markdown",
   "id": "ab9ff55b",
   "metadata": {
    "papermill": {
     "duration": 0.020994,
     "end_time": "2023-08-05T07:43:54.000849",
     "exception": false,
     "start_time": "2023-08-05T07:43:53.979855",
     "status": "completed"
    },
    "tags": []
   },
   "source": [
    "# 8. **Drop the Column**"
   ]
  },
  {
   "cell_type": "code",
   "execution_count": 12,
   "id": "3b4afd16",
   "metadata": {
    "execution": {
     "iopub.execute_input": "2023-08-05T07:43:54.045134Z",
     "iopub.status.busy": "2023-08-05T07:43:54.044762Z",
     "iopub.status.idle": "2023-08-05T07:43:54.050658Z",
     "shell.execute_reply": "2023-08-05T07:43:54.049594Z"
    },
    "papermill": {
     "duration": 0.030992,
     "end_time": "2023-08-05T07:43:54.053153",
     "exception": false,
     "start_time": "2023-08-05T07:43:54.022161",
     "status": "completed"
    },
    "tags": []
   },
   "outputs": [],
   "source": [
    "df.drop('Cabin',axis=1,inplace=True)"
   ]
  },
  {
   "cell_type": "code",
   "execution_count": 13,
   "id": "aa7df350",
   "metadata": {
    "execution": {
     "iopub.execute_input": "2023-08-05T07:43:54.097680Z",
     "iopub.status.busy": "2023-08-05T07:43:54.097284Z",
     "iopub.status.idle": "2023-08-05T07:43:54.110137Z",
     "shell.execute_reply": "2023-08-05T07:43:54.108998Z"
    },
    "papermill": {
     "duration": 0.037724,
     "end_time": "2023-08-05T07:43:54.112291",
     "exception": false,
     "start_time": "2023-08-05T07:43:54.074567",
     "status": "completed"
    },
    "tags": []
   },
   "outputs": [
    {
     "data": {
      "text/plain": [
       "PassengerId      0\n",
       "Survived         0\n",
       "Pclass           0\n",
       "Name             0\n",
       "Sex              0\n",
       "Age            177\n",
       "SibSp            0\n",
       "Parch            0\n",
       "Ticket           0\n",
       "Fare             0\n",
       "Embarked         2\n",
       "dtype: int64"
      ]
     },
     "execution_count": 13,
     "metadata": {},
     "output_type": "execute_result"
    }
   ],
   "source": [
    "df.isnull().sum()"
   ]
  },
  {
   "cell_type": "markdown",
   "id": "fe2c3422",
   "metadata": {
    "papermill": {
     "duration": 0.021159,
     "end_time": "2023-08-05T07:43:54.155147",
     "exception": false,
     "start_time": "2023-08-05T07:43:54.133988",
     "status": "completed"
    },
    "tags": []
   },
   "source": [
    "# 9. **Handle Missing Values**"
   ]
  },
  {
   "cell_type": "code",
   "execution_count": 14,
   "id": "00b33a27",
   "metadata": {
    "execution": {
     "iopub.execute_input": "2023-08-05T07:43:54.201095Z",
     "iopub.status.busy": "2023-08-05T07:43:54.200292Z",
     "iopub.status.idle": "2023-08-05T07:43:54.208482Z",
     "shell.execute_reply": "2023-08-05T07:43:54.207630Z"
    },
    "papermill": {
     "duration": 0.033215,
     "end_time": "2023-08-05T07:43:54.210614",
     "exception": false,
     "start_time": "2023-08-05T07:43:54.177399",
     "status": "completed"
    },
    "tags": []
   },
   "outputs": [
    {
     "data": {
      "text/plain": [
       "0    S\n",
       "Name: Embarked, dtype: object"
      ]
     },
     "execution_count": 14,
     "metadata": {},
     "output_type": "execute_result"
    }
   ],
   "source": [
    "df['Embarked'].mode()"
   ]
  },
  {
   "cell_type": "code",
   "execution_count": 15,
   "id": "96468216",
   "metadata": {
    "execution": {
     "iopub.execute_input": "2023-08-05T07:43:54.256298Z",
     "iopub.status.busy": "2023-08-05T07:43:54.255892Z",
     "iopub.status.idle": "2023-08-05T07:43:54.261723Z",
     "shell.execute_reply": "2023-08-05T07:43:54.260672Z"
    },
    "papermill": {
     "duration": 0.0314,
     "end_time": "2023-08-05T07:43:54.264269",
     "exception": false,
     "start_time": "2023-08-05T07:43:54.232869",
     "status": "completed"
    },
    "tags": []
   },
   "outputs": [],
   "source": [
    "df['Embarked'].fillna('S',inplace=True)"
   ]
  },
  {
   "cell_type": "code",
   "execution_count": 16,
   "id": "dfa305eb",
   "metadata": {
    "execution": {
     "iopub.execute_input": "2023-08-05T07:43:54.309535Z",
     "iopub.status.busy": "2023-08-05T07:43:54.309159Z",
     "iopub.status.idle": "2023-08-05T07:43:54.316858Z",
     "shell.execute_reply": "2023-08-05T07:43:54.315773Z"
    },
    "papermill": {
     "duration": 0.032874,
     "end_time": "2023-08-05T07:43:54.319162",
     "exception": false,
     "start_time": "2023-08-05T07:43:54.286288",
     "status": "completed"
    },
    "tags": []
   },
   "outputs": [
    {
     "data": {
      "text/plain": [
       "0"
      ]
     },
     "execution_count": 16,
     "metadata": {},
     "output_type": "execute_result"
    }
   ],
   "source": [
    "df['Embarked'].isnull().sum()"
   ]
  },
  {
   "cell_type": "code",
   "execution_count": 17,
   "id": "e99071b8",
   "metadata": {
    "execution": {
     "iopub.execute_input": "2023-08-05T07:43:54.364175Z",
     "iopub.status.busy": "2023-08-05T07:43:54.363775Z",
     "iopub.status.idle": "2023-08-05T07:43:54.371132Z",
     "shell.execute_reply": "2023-08-05T07:43:54.370057Z"
    },
    "papermill": {
     "duration": 0.032354,
     "end_time": "2023-08-05T07:43:54.373334",
     "exception": false,
     "start_time": "2023-08-05T07:43:54.340980",
     "status": "completed"
    },
    "tags": []
   },
   "outputs": [],
   "source": [
    "df['Age'].interpolate(method=\"ffill\",inplace=True)"
   ]
  },
  {
   "cell_type": "code",
   "execution_count": 18,
   "id": "9a27ac8d",
   "metadata": {
    "execution": {
     "iopub.execute_input": "2023-08-05T07:43:54.418835Z",
     "iopub.status.busy": "2023-08-05T07:43:54.418389Z",
     "iopub.status.idle": "2023-08-05T07:43:54.427275Z",
     "shell.execute_reply": "2023-08-05T07:43:54.426199Z"
    },
    "papermill": {
     "duration": 0.0345,
     "end_time": "2023-08-05T07:43:54.429736",
     "exception": false,
     "start_time": "2023-08-05T07:43:54.395236",
     "status": "completed"
    },
    "tags": []
   },
   "outputs": [
    {
     "data": {
      "text/plain": [
       "0      22.0\n",
       "1      38.0\n",
       "2      26.0\n",
       "3      35.0\n",
       "4      35.0\n",
       "       ... \n",
       "886    27.0\n",
       "887    19.0\n",
       "888    19.0\n",
       "889    26.0\n",
       "890    32.0\n",
       "Name: Age, Length: 891, dtype: float64"
      ]
     },
     "execution_count": 18,
     "metadata": {},
     "output_type": "execute_result"
    }
   ],
   "source": [
    "df['Age']"
   ]
  },
  {
   "cell_type": "code",
   "execution_count": 19,
   "id": "e638dc93",
   "metadata": {
    "execution": {
     "iopub.execute_input": "2023-08-05T07:43:54.475282Z",
     "iopub.status.busy": "2023-08-05T07:43:54.474861Z",
     "iopub.status.idle": "2023-08-05T07:43:54.485883Z",
     "shell.execute_reply": "2023-08-05T07:43:54.484751Z"
    },
    "papermill": {
     "duration": 0.036597,
     "end_time": "2023-08-05T07:43:54.488256",
     "exception": false,
     "start_time": "2023-08-05T07:43:54.451659",
     "status": "completed"
    },
    "tags": []
   },
   "outputs": [
    {
     "data": {
      "text/plain": [
       "PassengerId    0\n",
       "Survived       0\n",
       "Pclass         0\n",
       "Name           0\n",
       "Sex            0\n",
       "Age            0\n",
       "SibSp          0\n",
       "Parch          0\n",
       "Ticket         0\n",
       "Fare           0\n",
       "Embarked       0\n",
       "dtype: int64"
      ]
     },
     "execution_count": 19,
     "metadata": {},
     "output_type": "execute_result"
    }
   ],
   "source": [
    "df.isnull().sum()"
   ]
  },
  {
   "cell_type": "markdown",
   "id": "d384d552",
   "metadata": {
    "papermill": {
     "duration": 0.021728,
     "end_time": "2023-08-05T07:43:54.532271",
     "exception": false,
     "start_time": "2023-08-05T07:43:54.510543",
     "status": "completed"
    },
    "tags": []
   },
   "source": [
    "# 10. **Categorical Data Encoding**"
   ]
  },
  {
   "cell_type": "code",
   "execution_count": 20,
   "id": "4cd3faf4",
   "metadata": {
    "execution": {
     "iopub.execute_input": "2023-08-05T07:43:54.578359Z",
     "iopub.status.busy": "2023-08-05T07:43:54.577539Z",
     "iopub.status.idle": "2023-08-05T07:43:54.585319Z",
     "shell.execute_reply": "2023-08-05T07:43:54.584234Z"
    },
    "papermill": {
     "duration": 0.03331,
     "end_time": "2023-08-05T07:43:54.587663",
     "exception": false,
     "start_time": "2023-08-05T07:43:54.554353",
     "status": "completed"
    },
    "tags": []
   },
   "outputs": [
    {
     "data": {
      "text/plain": [
       "array(['male', 'female'], dtype=object)"
      ]
     },
     "execution_count": 20,
     "metadata": {},
     "output_type": "execute_result"
    }
   ],
   "source": [
    "df['Sex'].unique()"
   ]
  },
  {
   "cell_type": "code",
   "execution_count": 21,
   "id": "3110939a",
   "metadata": {
    "execution": {
     "iopub.execute_input": "2023-08-05T07:43:54.634264Z",
     "iopub.status.busy": "2023-08-05T07:43:54.633847Z",
     "iopub.status.idle": "2023-08-05T07:43:54.650868Z",
     "shell.execute_reply": "2023-08-05T07:43:54.649754Z"
    },
    "papermill": {
     "duration": 0.043055,
     "end_time": "2023-08-05T07:43:54.653171",
     "exception": false,
     "start_time": "2023-08-05T07:43:54.610116",
     "status": "completed"
    },
    "tags": []
   },
   "outputs": [
    {
     "data": {
      "text/html": [
       "<div>\n",
       "<style scoped>\n",
       "    .dataframe tbody tr th:only-of-type {\n",
       "        vertical-align: middle;\n",
       "    }\n",
       "\n",
       "    .dataframe tbody tr th {\n",
       "        vertical-align: top;\n",
       "    }\n",
       "\n",
       "    .dataframe thead th {\n",
       "        text-align: right;\n",
       "    }\n",
       "</style>\n",
       "<table border=\"1\" class=\"dataframe\">\n",
       "  <thead>\n",
       "    <tr style=\"text-align: right;\">\n",
       "      <th></th>\n",
       "      <th>PassengerId</th>\n",
       "      <th>Survived</th>\n",
       "      <th>Pclass</th>\n",
       "      <th>Name</th>\n",
       "      <th>Sex</th>\n",
       "      <th>Age</th>\n",
       "      <th>SibSp</th>\n",
       "      <th>Parch</th>\n",
       "      <th>Ticket</th>\n",
       "      <th>Fare</th>\n",
       "      <th>Embarked</th>\n",
       "      <th>Gender</th>\n",
       "    </tr>\n",
       "  </thead>\n",
       "  <tbody>\n",
       "    <tr>\n",
       "      <th>0</th>\n",
       "      <td>1</td>\n",
       "      <td>0</td>\n",
       "      <td>3</td>\n",
       "      <td>Braund, Mr. Owen Harris</td>\n",
       "      <td>male</td>\n",
       "      <td>22.0</td>\n",
       "      <td>1</td>\n",
       "      <td>0</td>\n",
       "      <td>A/5 21171</td>\n",
       "      <td>7.25</td>\n",
       "      <td>S</td>\n",
       "      <td>1</td>\n",
       "    </tr>\n",
       "  </tbody>\n",
       "</table>\n",
       "</div>"
      ],
      "text/plain": [
       "   PassengerId  Survived  Pclass                     Name   Sex   Age  SibSp  \\\n",
       "0            1         0       3  Braund, Mr. Owen Harris  male  22.0      1   \n",
       "\n",
       "   Parch     Ticket  Fare Embarked  Gender  \n",
       "0      0  A/5 21171  7.25        S       1  "
      ]
     },
     "execution_count": 21,
     "metadata": {},
     "output_type": "execute_result"
    }
   ],
   "source": [
    "df['Gender']=df['Sex'].map({'male':1,'female':0})\n",
    "df.head(1)"
   ]
  },
  {
   "cell_type": "code",
   "execution_count": 22,
   "id": "0f0bbbb7",
   "metadata": {
    "execution": {
     "iopub.execute_input": "2023-08-05T07:43:54.700917Z",
     "iopub.status.busy": "2023-08-05T07:43:54.700482Z",
     "iopub.status.idle": "2023-08-05T07:43:54.706429Z",
     "shell.execute_reply": "2023-08-05T07:43:54.705313Z"
    },
    "papermill": {
     "duration": 0.032526,
     "end_time": "2023-08-05T07:43:54.708679",
     "exception": false,
     "start_time": "2023-08-05T07:43:54.676153",
     "status": "completed"
    },
    "tags": []
   },
   "outputs": [],
   "source": [
    "df.insert(5,'Encoded_Sex',df['Gender'])"
   ]
  },
  {
   "cell_type": "code",
   "execution_count": 23,
   "id": "acf7c470",
   "metadata": {
    "execution": {
     "iopub.execute_input": "2023-08-05T07:43:54.755597Z",
     "iopub.status.busy": "2023-08-05T07:43:54.755241Z",
     "iopub.status.idle": "2023-08-05T07:43:54.771692Z",
     "shell.execute_reply": "2023-08-05T07:43:54.770792Z"
    },
    "papermill": {
     "duration": 0.042902,
     "end_time": "2023-08-05T07:43:54.774052",
     "exception": false,
     "start_time": "2023-08-05T07:43:54.731150",
     "status": "completed"
    },
    "tags": []
   },
   "outputs": [
    {
     "data": {
      "text/html": [
       "<div>\n",
       "<style scoped>\n",
       "    .dataframe tbody tr th:only-of-type {\n",
       "        vertical-align: middle;\n",
       "    }\n",
       "\n",
       "    .dataframe tbody tr th {\n",
       "        vertical-align: top;\n",
       "    }\n",
       "\n",
       "    .dataframe thead th {\n",
       "        text-align: right;\n",
       "    }\n",
       "</style>\n",
       "<table border=\"1\" class=\"dataframe\">\n",
       "  <thead>\n",
       "    <tr style=\"text-align: right;\">\n",
       "      <th></th>\n",
       "      <th>PassengerId</th>\n",
       "      <th>Survived</th>\n",
       "      <th>Pclass</th>\n",
       "      <th>Name</th>\n",
       "      <th>Sex</th>\n",
       "      <th>Encoded_Sex</th>\n",
       "      <th>Age</th>\n",
       "      <th>SibSp</th>\n",
       "      <th>Parch</th>\n",
       "      <th>Ticket</th>\n",
       "      <th>Fare</th>\n",
       "      <th>Embarked</th>\n",
       "      <th>Gender</th>\n",
       "    </tr>\n",
       "  </thead>\n",
       "  <tbody>\n",
       "    <tr>\n",
       "      <th>0</th>\n",
       "      <td>1</td>\n",
       "      <td>0</td>\n",
       "      <td>3</td>\n",
       "      <td>Braund, Mr. Owen Harris</td>\n",
       "      <td>male</td>\n",
       "      <td>1</td>\n",
       "      <td>22.0</td>\n",
       "      <td>1</td>\n",
       "      <td>0</td>\n",
       "      <td>A/5 21171</td>\n",
       "      <td>7.25</td>\n",
       "      <td>S</td>\n",
       "      <td>1</td>\n",
       "    </tr>\n",
       "  </tbody>\n",
       "</table>\n",
       "</div>"
      ],
      "text/plain": [
       "   PassengerId  Survived  Pclass                     Name   Sex  Encoded_Sex  \\\n",
       "0            1         0       3  Braund, Mr. Owen Harris  male            1   \n",
       "\n",
       "    Age  SibSp  Parch     Ticket  Fare Embarked  Gender  \n",
       "0  22.0      1      0  A/5 21171  7.25        S       1  "
      ]
     },
     "execution_count": 23,
     "metadata": {},
     "output_type": "execute_result"
    }
   ],
   "source": [
    "df.head(1)"
   ]
  },
  {
   "cell_type": "code",
   "execution_count": 24,
   "id": "05b96920",
   "metadata": {
    "execution": {
     "iopub.execute_input": "2023-08-05T07:43:54.822189Z",
     "iopub.status.busy": "2023-08-05T07:43:54.821263Z",
     "iopub.status.idle": "2023-08-05T07:43:54.828190Z",
     "shell.execute_reply": "2023-08-05T07:43:54.827208Z"
    },
    "papermill": {
     "duration": 0.033999,
     "end_time": "2023-08-05T07:43:54.830735",
     "exception": false,
     "start_time": "2023-08-05T07:43:54.796736",
     "status": "completed"
    },
    "tags": []
   },
   "outputs": [],
   "source": [
    "df.drop('Gender',axis=1,inplace=True)"
   ]
  },
  {
   "cell_type": "code",
   "execution_count": 25,
   "id": "f9a423f0",
   "metadata": {
    "execution": {
     "iopub.execute_input": "2023-08-05T07:43:54.879788Z",
     "iopub.status.busy": "2023-08-05T07:43:54.878990Z",
     "iopub.status.idle": "2023-08-05T07:43:54.894221Z",
     "shell.execute_reply": "2023-08-05T07:43:54.893008Z"
    },
    "papermill": {
     "duration": 0.042322,
     "end_time": "2023-08-05T07:43:54.896606",
     "exception": false,
     "start_time": "2023-08-05T07:43:54.854284",
     "status": "completed"
    },
    "tags": []
   },
   "outputs": [
    {
     "data": {
      "text/html": [
       "<div>\n",
       "<style scoped>\n",
       "    .dataframe tbody tr th:only-of-type {\n",
       "        vertical-align: middle;\n",
       "    }\n",
       "\n",
       "    .dataframe tbody tr th {\n",
       "        vertical-align: top;\n",
       "    }\n",
       "\n",
       "    .dataframe thead th {\n",
       "        text-align: right;\n",
       "    }\n",
       "</style>\n",
       "<table border=\"1\" class=\"dataframe\">\n",
       "  <thead>\n",
       "    <tr style=\"text-align: right;\">\n",
       "      <th></th>\n",
       "      <th>PassengerId</th>\n",
       "      <th>Survived</th>\n",
       "      <th>Pclass</th>\n",
       "      <th>Name</th>\n",
       "      <th>Sex</th>\n",
       "      <th>Encoded_Sex</th>\n",
       "      <th>Age</th>\n",
       "      <th>SibSp</th>\n",
       "      <th>Parch</th>\n",
       "      <th>Ticket</th>\n",
       "      <th>Fare</th>\n",
       "      <th>Embarked</th>\n",
       "    </tr>\n",
       "  </thead>\n",
       "  <tbody>\n",
       "    <tr>\n",
       "      <th>0</th>\n",
       "      <td>1</td>\n",
       "      <td>0</td>\n",
       "      <td>3</td>\n",
       "      <td>Braund, Mr. Owen Harris</td>\n",
       "      <td>male</td>\n",
       "      <td>1</td>\n",
       "      <td>22.0</td>\n",
       "      <td>1</td>\n",
       "      <td>0</td>\n",
       "      <td>A/5 21171</td>\n",
       "      <td>7.25</td>\n",
       "      <td>S</td>\n",
       "    </tr>\n",
       "  </tbody>\n",
       "</table>\n",
       "</div>"
      ],
      "text/plain": [
       "   PassengerId  Survived  Pclass                     Name   Sex  Encoded_Sex  \\\n",
       "0            1         0       3  Braund, Mr. Owen Harris  male            1   \n",
       "\n",
       "    Age  SibSp  Parch     Ticket  Fare Embarked  \n",
       "0  22.0      1      0  A/5 21171  7.25        S  "
      ]
     },
     "execution_count": 25,
     "metadata": {},
     "output_type": "execute_result"
    }
   ],
   "source": [
    "df.head(1)"
   ]
  },
  {
   "cell_type": "markdown",
   "id": "ac06a9e5",
   "metadata": {
    "papermill": {
     "duration": 0.022718,
     "end_time": "2023-08-05T07:43:54.942967",
     "exception": false,
     "start_time": "2023-08-05T07:43:54.920249",
     "status": "completed"
    },
    "tags": []
   },
   "source": [
    "# **Univariate Analysis**"
   ]
  },
  {
   "cell_type": "markdown",
   "id": "35e9f057",
   "metadata": {
    "papermill": {
     "duration": 0.023225,
     "end_time": "2023-08-05T07:43:54.989339",
     "exception": false,
     "start_time": "2023-08-05T07:43:54.966114",
     "status": "completed"
    },
    "tags": []
   },
   "source": [
    "# 11. **How Many People Survived And How Many Died?**"
   ]
  },
  {
   "cell_type": "code",
   "execution_count": 26,
   "id": "e69aaa60",
   "metadata": {
    "execution": {
     "iopub.execute_input": "2023-08-05T07:43:55.037004Z",
     "iopub.status.busy": "2023-08-05T07:43:55.036592Z",
     "iopub.status.idle": "2023-08-05T07:43:55.042999Z",
     "shell.execute_reply": "2023-08-05T07:43:55.041839Z"
    },
    "papermill": {
     "duration": 0.033156,
     "end_time": "2023-08-05T07:43:55.045464",
     "exception": false,
     "start_time": "2023-08-05T07:43:55.012308",
     "status": "completed"
    },
    "tags": []
   },
   "outputs": [],
   "source": [
    "Survival=df['Survived'].value_counts()\n",
    "Survival.index=['Died','Survived']"
   ]
  },
  {
   "cell_type": "code",
   "execution_count": 27,
   "id": "dc1fd058",
   "metadata": {
    "execution": {
     "iopub.execute_input": "2023-08-05T07:43:55.093653Z",
     "iopub.status.busy": "2023-08-05T07:43:55.092518Z",
     "iopub.status.idle": "2023-08-05T07:43:55.099791Z",
     "shell.execute_reply": "2023-08-05T07:43:55.098790Z"
    },
    "papermill": {
     "duration": 0.033474,
     "end_time": "2023-08-05T07:43:55.101974",
     "exception": false,
     "start_time": "2023-08-05T07:43:55.068500",
     "status": "completed"
    },
    "tags": []
   },
   "outputs": [
    {
     "data": {
      "text/plain": [
       "Died        549\n",
       "Survived    342\n",
       "Name: Survived, dtype: int64"
      ]
     },
     "execution_count": 27,
     "metadata": {},
     "output_type": "execute_result"
    }
   ],
   "source": [
    "Survival"
   ]
  },
  {
   "cell_type": "code",
   "execution_count": 28,
   "id": "65735100",
   "metadata": {
    "execution": {
     "iopub.execute_input": "2023-08-05T07:43:55.153188Z",
     "iopub.status.busy": "2023-08-05T07:43:55.151902Z",
     "iopub.status.idle": "2023-08-05T07:43:55.158928Z",
     "shell.execute_reply": "2023-08-05T07:43:55.158135Z"
    },
    "papermill": {
     "duration": 0.033762,
     "end_time": "2023-08-05T07:43:55.161234",
     "exception": false,
     "start_time": "2023-08-05T07:43:55.127472",
     "status": "completed"
    },
    "tags": []
   },
   "outputs": [],
   "source": [
    "died=df['Survived'].value_counts().values[0]\n",
    "survived=df['Survived'].value_counts().values[1]"
   ]
  },
  {
   "cell_type": "code",
   "execution_count": 29,
   "id": "3ddaab50",
   "metadata": {
    "execution": {
     "iopub.execute_input": "2023-08-05T07:43:55.209896Z",
     "iopub.status.busy": "2023-08-05T07:43:55.209443Z",
     "iopub.status.idle": "2023-08-05T07:43:55.215086Z",
     "shell.execute_reply": "2023-08-05T07:43:55.213960Z"
    },
    "papermill": {
     "duration": 0.034022,
     "end_time": "2023-08-05T07:43:55.218524",
     "exception": false,
     "start_time": "2023-08-05T07:43:55.184502",
     "status": "completed"
    },
    "tags": []
   },
   "outputs": [
    {
     "name": "stdout",
     "output_type": "stream",
     "text": [
      "342 people Survived while 549 people died.\n"
     ]
    }
   ],
   "source": [
    "print(survived,\"people Survived while\",died,\"people died.\")"
   ]
  },
  {
   "cell_type": "code",
   "execution_count": 30,
   "id": "3839568a",
   "metadata": {
    "execution": {
     "iopub.execute_input": "2023-08-05T07:43:55.267460Z",
     "iopub.status.busy": "2023-08-05T07:43:55.267069Z",
     "iopub.status.idle": "2023-08-05T07:43:55.475759Z",
     "shell.execute_reply": "2023-08-05T07:43:55.474652Z"
    },
    "papermill": {
     "duration": 0.235739,
     "end_time": "2023-08-05T07:43:55.478050",
     "exception": false,
     "start_time": "2023-08-05T07:43:55.242311",
     "status": "completed"
    },
    "tags": []
   },
   "outputs": [
    {
     "data": {
      "text/plain": [
       "<BarContainer object of 2 artists>"
      ]
     },
     "execution_count": 30,
     "metadata": {},
     "output_type": "execute_result"
    },
    {
     "data": {
      "image/png": "[encoded data removed]",
      "text/plain": [
       "<Figure size 200x500 with 1 Axes>"
      ]
     },
     "metadata": {},
     "output_type": "display_data"
    }
   ],
   "source": [
    "fig,ax=plt.subplots(figsize=(2,5))\n",
    "ax.set_xlabel('Survival')\n",
    "ax.bar(Survival.index,Survival.values)"
   ]
  },
  {
   "cell_type": "markdown",
   "id": "c8ff65ce",
   "metadata": {
    "papermill": {
     "duration": 0.023167,
     "end_time": "2023-08-05T07:43:55.525002",
     "exception": false,
     "start_time": "2023-08-05T07:43:55.501835",
     "status": "completed"
    },
    "tags": []
   },
   "source": [
    "# 12. **How Many Passengers Were In First Class, Second Class, and Third Class?**"
   ]
  },
  {
   "cell_type": "code",
   "execution_count": 31,
   "id": "7793ad38",
   "metadata": {
    "execution": {
     "iopub.execute_input": "2023-08-05T07:43:55.574300Z",
     "iopub.status.busy": "2023-08-05T07:43:55.573880Z",
     "iopub.status.idle": "2023-08-05T07:43:55.580835Z",
     "shell.execute_reply": "2023-08-05T07:43:55.579749Z"
    },
    "papermill": {
     "duration": 0.034447,
     "end_time": "2023-08-05T07:43:55.583124",
     "exception": false,
     "start_time": "2023-08-05T07:43:55.548677",
     "status": "completed"
    },
    "tags": []
   },
   "outputs": [],
   "source": [
    "x=df['Pclass'].value_counts().index\n",
    "y=df['Pclass'].value_counts().values"
   ]
  },
  {
   "cell_type": "code",
   "execution_count": 32,
   "id": "122fa0d6",
   "metadata": {
    "execution": {
     "iopub.execute_input": "2023-08-05T07:43:55.633184Z",
     "iopub.status.busy": "2023-08-05T07:43:55.632771Z",
     "iopub.status.idle": "2023-08-05T07:43:55.875931Z",
     "shell.execute_reply": "2023-08-05T07:43:55.874716Z"
    },
    "papermill": {
     "duration": 0.271487,
     "end_time": "2023-08-05T07:43:55.878518",
     "exception": false,
     "start_time": "2023-08-05T07:43:55.607031",
     "status": "completed"
    },
    "tags": []
   },
   "outputs": [
    {
     "data": {
      "text/plain": [
       "<BarContainer object of 3 artists>"
      ]
     },
     "execution_count": 32,
     "metadata": {},
     "output_type": "execute_result"
    },
    {
     "data": {
      "image/png": "[encoded data removed]",
      "text/plain": [
       "<Figure size 300x500 with 1 Axes>"
      ]
     },
     "metadata": {},
     "output_type": "display_data"
    }
   ],
   "source": [
    "fig,ax=plt.subplots(figsize=(3,5))\n",
    "ax.set_xlabel('Passenger Class')\n",
    "ax.bar(x,y)"
   ]
  },
  {
   "cell_type": "markdown",
   "id": "7e474626",
   "metadata": {
    "papermill": {
     "duration": 0.023794,
     "end_time": "2023-08-05T07:43:55.926919",
     "exception": false,
     "start_time": "2023-08-05T07:43:55.903125",
     "status": "completed"
    },
    "tags": []
   },
   "source": [
    "# 13. **Number of Male And Female Passengers**"
   ]
  },
  {
   "cell_type": "code",
   "execution_count": 33,
   "id": "66f23d50",
   "metadata": {
    "execution": {
     "iopub.execute_input": "2023-08-05T07:43:55.977556Z",
     "iopub.status.busy": "2023-08-05T07:43:55.977135Z",
     "iopub.status.idle": "2023-08-05T07:43:55.983404Z",
     "shell.execute_reply": "2023-08-05T07:43:55.982611Z"
    },
    "papermill": {
     "duration": 0.033852,
     "end_time": "2023-08-05T07:43:55.985466",
     "exception": false,
     "start_time": "2023-08-05T07:43:55.951614",
     "status": "completed"
    },
    "tags": []
   },
   "outputs": [],
   "source": [
    "Gender=df['Sex'].value_counts()"
   ]
  },
  {
   "cell_type": "code",
   "execution_count": 34,
   "id": "c83922c1",
   "metadata": {
    "execution": {
     "iopub.execute_input": "2023-08-05T07:43:56.037122Z",
     "iopub.status.busy": "2023-08-05T07:43:56.036028Z",
     "iopub.status.idle": "2023-08-05T07:43:56.252135Z",
     "shell.execute_reply": "2023-08-05T07:43:56.250990Z"
    },
    "papermill": {
     "duration": 0.244177,
     "end_time": "2023-08-05T07:43:56.254596",
     "exception": false,
     "start_time": "2023-08-05T07:43:56.010419",
     "status": "completed"
    },
    "tags": []
   },
   "outputs": [
    {
     "data": {
      "text/plain": [
       "<BarContainer object of 2 artists>"
      ]
     },
     "execution_count": 34,
     "metadata": {},
     "output_type": "execute_result"
    },
    {
     "data": {
      "image/png": "[encoded data removed]",
      "text/plain": [
       "<Figure size 200x500 with 1 Axes>"
      ]
     },
     "metadata": {},
     "output_type": "display_data"
    }
   ],
   "source": [
    "fig,ax=plt.subplots(figsize=(2,5))\n",
    "ax.set_xlabel('Gender')\n",
    "ax.bar(Gender.index,Gender.values)"
   ]
  },
  {
   "cell_type": "markdown",
   "id": "8e8c59a3",
   "metadata": {
    "papermill": {
     "duration": 0.024287,
     "end_time": "2023-08-05T07:43:56.303607",
     "exception": false,
     "start_time": "2023-08-05T07:43:56.279320",
     "status": "completed"
    },
    "tags": []
   },
   "source": [
    "# **Bivariate Analysis**"
   ]
  },
  {
   "cell_type": "markdown",
   "id": "c0db6fd9",
   "metadata": {
    "papermill": {
     "duration": 0.024414,
     "end_time": "2023-08-05T07:43:56.352845",
     "exception": false,
     "start_time": "2023-08-05T07:43:56.328431",
     "status": "completed"
    },
    "tags": []
   },
   "source": [
    "# 14. **Who Has Better Chance of Survival Male or Female?**"
   ]
  },
  {
   "cell_type": "code",
   "execution_count": 35,
   "id": "f90c5651",
   "metadata": {
    "execution": {
     "iopub.execute_input": "2023-08-05T07:43:56.405556Z",
     "iopub.status.busy": "2023-08-05T07:43:56.405129Z",
     "iopub.status.idle": "2023-08-05T07:43:56.413431Z",
     "shell.execute_reply": "2023-08-05T07:43:56.412303Z"
    },
    "papermill": {
     "duration": 0.038058,
     "end_time": "2023-08-05T07:43:56.415551",
     "exception": false,
     "start_time": "2023-08-05T07:43:56.377493",
     "status": "completed"
    },
    "tags": []
   },
   "outputs": [],
   "source": [
    "chance=df.groupby('Sex')['Survived'].mean()"
   ]
  },
  {
   "cell_type": "code",
   "execution_count": 36,
   "id": "47868d6a",
   "metadata": {
    "execution": {
     "iopub.execute_input": "2023-08-05T07:43:56.466530Z",
     "iopub.status.busy": "2023-08-05T07:43:56.466132Z",
     "iopub.status.idle": "2023-08-05T07:43:56.833890Z",
     "shell.execute_reply": "2023-08-05T07:43:56.832568Z"
    },
    "papermill": {
     "duration": 0.396292,
     "end_time": "2023-08-05T07:43:56.836442",
     "exception": false,
     "start_time": "2023-08-05T07:43:56.440150",
     "status": "completed"
    },
    "tags": []
   },
   "outputs": [
    {
     "data": {
      "text/plain": [
       "<BarContainer object of 2 artists>"
      ]
     },
     "execution_count": 36,
     "metadata": {},
     "output_type": "execute_result"
    },
    {
     "data": {
      "image/png": "[encoded data removed]",
      "text/plain": [
       "<Figure size 200x500 with 1 Axes>"
      ]
     },
     "metadata": {},
     "output_type": "display_data"
    }
   ],
   "source": [
    "fig,ax=plt.subplots(figsize=(2,5))\n",
    "ax.set_xlabel('Gender')\n",
    "ax.set_ylabel('Chances of Survival')\n",
    "ax.bar(chance.index,chance.values)"
   ]
  },
  {
   "cell_type": "markdown",
   "id": "31a36d48",
   "metadata": {
    "papermill": {
     "duration": 0.024665,
     "end_time": "2023-08-05T07:43:56.886072",
     "exception": false,
     "start_time": "2023-08-05T07:43:56.861407",
     "status": "completed"
    },
    "tags": []
   },
   "source": [
    "Females has more Chances of Survival than Male"
   ]
  },
  {
   "cell_type": "markdown",
   "id": "64321d13",
   "metadata": {
    "papermill": {
     "duration": 0.024584,
     "end_time": "2023-08-05T07:43:56.935686",
     "exception": false,
     "start_time": "2023-08-05T07:43:56.911102",
     "status": "completed"
    },
    "tags": []
   },
   "source": [
    "# 15. **Which Passenger Class Has Better Chance of Survival (First, Second, Or Third Class)?**"
   ]
  },
  {
   "cell_type": "code",
   "execution_count": 37,
   "id": "ee671e40",
   "metadata": {
    "execution": {
     "iopub.execute_input": "2023-08-05T07:43:56.987958Z",
     "iopub.status.busy": "2023-08-05T07:43:56.987525Z",
     "iopub.status.idle": "2023-08-05T07:43:56.998653Z",
     "shell.execute_reply": "2023-08-05T07:43:56.997548Z"
    },
    "papermill": {
     "duration": 0.040154,
     "end_time": "2023-08-05T07:43:57.000886",
     "exception": false,
     "start_time": "2023-08-05T07:43:56.960732",
     "status": "completed"
    },
    "tags": []
   },
   "outputs": [
    {
     "data": {
      "text/plain": [
       "Pclass\n",
       "1    0.629630\n",
       "2    0.472826\n",
       "3    0.242363\n",
       "Name: Survived, dtype: float64"
      ]
     },
     "execution_count": 37,
     "metadata": {},
     "output_type": "execute_result"
    }
   ],
   "source": [
    "Class=df.groupby('Pclass')['Survived'].mean()\n",
    "Class"
   ]
  },
  {
   "cell_type": "code",
   "execution_count": 38,
   "id": "5c9b8341",
   "metadata": {
    "execution": {
     "iopub.execute_input": "2023-08-05T07:43:57.053443Z",
     "iopub.status.busy": "2023-08-05T07:43:57.052790Z",
     "iopub.status.idle": "2023-08-05T07:43:57.313247Z",
     "shell.execute_reply": "2023-08-05T07:43:57.312134Z"
    },
    "papermill": {
     "duration": 0.290066,
     "end_time": "2023-08-05T07:43:57.316174",
     "exception": false,
     "start_time": "2023-08-05T07:43:57.026108",
     "status": "completed"
    },
    "tags": []
   },
   "outputs": [
    {
     "data": {
      "text/plain": [
       "<BarContainer object of 3 artists>"
      ]
     },
     "execution_count": 38,
     "metadata": {},
     "output_type": "execute_result"
    },
    {
     "data": {
      "image/png": "[encoded data removed]",
      "text/plain": [
       "<Figure size 300x500 with 1 Axes>"
      ]
     },
     "metadata": {},
     "output_type": "display_data"
    }
   ],
   "source": [
    "fig,ax=plt.subplots(figsize=(3,5))\n",
    "ax.set_xlabel('Passenger Class')\n",
    "ax.set_ylabel('Chances of Survival')\n",
    "ax.bar(Class.index,Class.values)"
   ]
  },
  {
   "cell_type": "markdown",
   "id": "0a382924",
   "metadata": {
    "papermill": {
     "duration": 0.025307,
     "end_time": "2023-08-05T07:43:57.367669",
     "exception": false,
     "start_time": "2023-08-05T07:43:57.342362",
     "status": "completed"
    },
    "tags": []
   },
   "source": [
    "Passengers in 1st Class have more chances of Survival than other Classes."
   ]
  },
  {
   "cell_type": "markdown",
   "id": "492730f8",
   "metadata": {
    "papermill": {
     "duration": 0.025213,
     "end_time": "2023-08-05T07:43:57.419240",
     "exception": false,
     "start_time": "2023-08-05T07:43:57.394027",
     "status": "completed"
    },
    "tags": []
   },
   "source": [
    "# **Feature Engineering**"
   ]
  },
  {
   "cell_type": "markdown",
   "id": "4da266e8",
   "metadata": {
    "papermill": {
     "duration": 0.025681,
     "end_time": "2023-08-05T07:43:57.471353",
     "exception": false,
     "start_time": "2023-08-05T07:43:57.445672",
     "status": "completed"
    },
    "tags": []
   },
   "source": [
    "Feature Engineering is the process of using domain knowledge to extract features from raw data via data mining techniques. So, these features can be use to increase the performance of machine learning algorithm's."
   ]
  },
  {
   "cell_type": "markdown",
   "id": "fb083d0e",
   "metadata": {
    "papermill": {
     "duration": 0.025289,
     "end_time": "2023-08-05T07:43:57.523120",
     "exception": false,
     "start_time": "2023-08-05T07:43:57.497831",
     "status": "completed"
    },
    "tags": []
   },
   "source": [
    "# Examples"
   ]
  },
  {
   "cell_type": "markdown",
   "id": "9f7c43d1",
   "metadata": {
    "papermill": {
     "duration": 0.02523,
     "end_time": "2023-08-05T07:43:57.573982",
     "exception": false,
     "start_time": "2023-08-05T07:43:57.548752",
     "status": "completed"
    },
    "tags": []
   },
   "source": [
    "**Determine Person's Family Size**"
   ]
  },
  {
   "cell_type": "code",
   "execution_count": 39,
   "id": "1e509601",
   "metadata": {
    "execution": {
     "iopub.execute_input": "2023-08-05T07:43:57.627265Z",
     "iopub.status.busy": "2023-08-05T07:43:57.626845Z",
     "iopub.status.idle": "2023-08-05T07:43:57.632660Z",
     "shell.execute_reply": "2023-08-05T07:43:57.631870Z"
    },
    "papermill": {
     "duration": 0.034576,
     "end_time": "2023-08-05T07:43:57.634664",
     "exception": false,
     "start_time": "2023-08-05T07:43:57.600088",
     "status": "completed"
    },
    "tags": []
   },
   "outputs": [],
   "source": [
    "#for this we use SibSp and Parch Columns and stores in new column named as Family Size\n",
    "df['Family_Size']=df['SibSp'] + df['Parch']"
   ]
  },
  {
   "cell_type": "code",
   "execution_count": 40,
   "id": "a11be384",
   "metadata": {
    "execution": {
     "iopub.execute_input": "2023-08-05T07:43:57.687869Z",
     "iopub.status.busy": "2023-08-05T07:43:57.687398Z",
     "iopub.status.idle": "2023-08-05T07:43:57.702965Z",
     "shell.execute_reply": "2023-08-05T07:43:57.701782Z"
    },
    "papermill": {
     "duration": 0.045129,
     "end_time": "2023-08-05T07:43:57.705601",
     "exception": false,
     "start_time": "2023-08-05T07:43:57.660472",
     "status": "completed"
    },
    "tags": []
   },
   "outputs": [
    {
     "data": {
      "text/html": [
       "<div>\n",
       "<style scoped>\n",
       "    .dataframe tbody tr th:only-of-type {\n",
       "        vertical-align: middle;\n",
       "    }\n",
       "\n",
       "    .dataframe tbody tr th {\n",
       "        vertical-align: top;\n",
       "    }\n",
       "\n",
       "    .dataframe thead th {\n",
       "        text-align: right;\n",
       "    }\n",
       "</style>\n",
       "<table border=\"1\" class=\"dataframe\">\n",
       "  <thead>\n",
       "    <tr style=\"text-align: right;\">\n",
       "      <th></th>\n",
       "      <th>PassengerId</th>\n",
       "      <th>Survived</th>\n",
       "      <th>Pclass</th>\n",
       "      <th>Name</th>\n",
       "      <th>Sex</th>\n",
       "      <th>Encoded_Sex</th>\n",
       "      <th>Age</th>\n",
       "      <th>SibSp</th>\n",
       "      <th>Parch</th>\n",
       "      <th>Ticket</th>\n",
       "      <th>Fare</th>\n",
       "      <th>Embarked</th>\n",
       "      <th>Family_Size</th>\n",
       "    </tr>\n",
       "  </thead>\n",
       "  <tbody>\n",
       "    <tr>\n",
       "      <th>0</th>\n",
       "      <td>1</td>\n",
       "      <td>0</td>\n",
       "      <td>3</td>\n",
       "      <td>Braund, Mr. Owen Harris</td>\n",
       "      <td>male</td>\n",
       "      <td>1</td>\n",
       "      <td>22.0</td>\n",
       "      <td>1</td>\n",
       "      <td>0</td>\n",
       "      <td>A/5 21171</td>\n",
       "      <td>7.25</td>\n",
       "      <td>S</td>\n",
       "      <td>1</td>\n",
       "    </tr>\n",
       "  </tbody>\n",
       "</table>\n",
       "</div>"
      ],
      "text/plain": [
       "   PassengerId  Survived  Pclass                     Name   Sex  Encoded_Sex  \\\n",
       "0            1         0       3  Braund, Mr. Owen Harris  male            1   \n",
       "\n",
       "    Age  SibSp  Parch     Ticket  Fare Embarked  Family_Size  \n",
       "0  22.0      1      0  A/5 21171  7.25        S            1  "
      ]
     },
     "execution_count": 40,
     "metadata": {},
     "output_type": "execute_result"
    }
   ],
   "source": [
    "df.head(1)"
   ]
  },
  {
   "cell_type": "markdown",
   "id": "711fccad",
   "metadata": {
    "papermill": {
     "duration": 0.025396,
     "end_time": "2023-08-05T07:43:57.757137",
     "exception": false,
     "start_time": "2023-08-05T07:43:57.731741",
     "status": "completed"
    },
    "tags": []
   },
   "source": [
    "New Column with name Family Size is added to the dataset that signifies the size of person's family excluding himself/herself."
   ]
  },
  {
   "cell_type": "markdown",
   "id": "ca9418ce",
   "metadata": {
    "papermill": {
     "duration": 0.025727,
     "end_time": "2023-08-05T07:43:57.808725",
     "exception": false,
     "start_time": "2023-08-05T07:43:57.782998",
     "status": "completed"
    },
    "tags": []
   },
   "source": [
    "**Determine Fair per Person**"
   ]
  },
  {
   "cell_type": "code",
   "execution_count": 41,
   "id": "4ca3610d",
   "metadata": {
    "execution": {
     "iopub.execute_input": "2023-08-05T07:43:57.862453Z",
     "iopub.status.busy": "2023-08-05T07:43:57.862067Z",
     "iopub.status.idle": "2023-08-05T07:43:57.869142Z",
     "shell.execute_reply": "2023-08-05T07:43:57.867943Z"
    },
    "papermill": {
     "duration": 0.037232,
     "end_time": "2023-08-05T07:43:57.871573",
     "exception": false,
     "start_time": "2023-08-05T07:43:57.834341",
     "status": "completed"
    },
    "tags": []
   },
   "outputs": [],
   "source": [
    "#for this we use Fare and Family Size Columns and stores in new column named as Fare per person.\n",
    "df['Fare per Person']=df['Fare'] / (df['Family_Size'] + 1)"
   ]
  },
  {
   "cell_type": "code",
   "execution_count": 42,
   "id": "7b1a3e52",
   "metadata": {
    "execution": {
     "iopub.execute_input": "2023-08-05T07:43:57.926076Z",
     "iopub.status.busy": "2023-08-05T07:43:57.925642Z",
     "iopub.status.idle": "2023-08-05T07:43:57.942366Z",
     "shell.execute_reply": "2023-08-05T07:43:57.941185Z"
    },
    "papermill": {
     "duration": 0.046848,
     "end_time": "2023-08-05T07:43:57.944931",
     "exception": false,
     "start_time": "2023-08-05T07:43:57.898083",
     "status": "completed"
    },
    "tags": []
   },
   "outputs": [
    {
     "data": {
      "text/html": [
       "<div>\n",
       "<style scoped>\n",
       "    .dataframe tbody tr th:only-of-type {\n",
       "        vertical-align: middle;\n",
       "    }\n",
       "\n",
       "    .dataframe tbody tr th {\n",
       "        vertical-align: top;\n",
       "    }\n",
       "\n",
       "    .dataframe thead th {\n",
       "        text-align: right;\n",
       "    }\n",
       "</style>\n",
       "<table border=\"1\" class=\"dataframe\">\n",
       "  <thead>\n",
       "    <tr style=\"text-align: right;\">\n",
       "      <th></th>\n",
       "      <th>PassengerId</th>\n",
       "      <th>Survived</th>\n",
       "      <th>Pclass</th>\n",
       "      <th>Name</th>\n",
       "      <th>Sex</th>\n",
       "      <th>Encoded_Sex</th>\n",
       "      <th>Age</th>\n",
       "      <th>SibSp</th>\n",
       "      <th>Parch</th>\n",
       "      <th>Ticket</th>\n",
       "      <th>Fare</th>\n",
       "      <th>Embarked</th>\n",
       "      <th>Family_Size</th>\n",
       "      <th>Fare per Person</th>\n",
       "    </tr>\n",
       "  </thead>\n",
       "  <tbody>\n",
       "    <tr>\n",
       "      <th>0</th>\n",
       "      <td>1</td>\n",
       "      <td>0</td>\n",
       "      <td>3</td>\n",
       "      <td>Braund, Mr. Owen Harris</td>\n",
       "      <td>male</td>\n",
       "      <td>1</td>\n",
       "      <td>22.0</td>\n",
       "      <td>1</td>\n",
       "      <td>0</td>\n",
       "      <td>A/5 21171</td>\n",
       "      <td>7.25</td>\n",
       "      <td>S</td>\n",
       "      <td>1</td>\n",
       "      <td>3.625</td>\n",
       "    </tr>\n",
       "  </tbody>\n",
       "</table>\n",
       "</div>"
      ],
      "text/plain": [
       "   PassengerId  Survived  Pclass                     Name   Sex  Encoded_Sex  \\\n",
       "0            1         0       3  Braund, Mr. Owen Harris  male            1   \n",
       "\n",
       "    Age  SibSp  Parch     Ticket  Fare Embarked  Family_Size  Fare per Person  \n",
       "0  22.0      1      0  A/5 21171  7.25        S            1            3.625  "
      ]
     },
     "execution_count": 42,
     "metadata": {},
     "output_type": "execute_result"
    }
   ],
   "source": [
    "df.head(1)"
   ]
  },
  {
   "cell_type": "markdown",
   "id": "9558d662",
   "metadata": {
    "papermill": {
     "duration": 0.026771,
     "end_time": "2023-08-05T07:43:57.998035",
     "exception": false,
     "start_time": "2023-08-05T07:43:57.971264",
     "status": "completed"
    },
    "tags": []
   },
   "source": [
    "New Column with name Fare per Person is added to the dataset that signifies the Fare per head."
   ]
  }
 ],
 "metadata": {
  "kernelspec": {
   "display_name": "Python 3",
   "language": "python",
   "name": "python3"
  },
  "language_info": {
   "codemirror_mode": {
    "name": "ipython",
    "version": 3
   },
   "file_extension": ".py",
   "mimetype": "text/x-python",
   "name": "python",
   "nbconvert_exporter": "python",
   "pygments_lexer": "ipython3",
   "version": "3.10.12"
  },
  "papermill": {
   "default_parameters": {},
   "duration": 17.657859,
   "end_time": "2023-08-05T07:43:58.946581",
   "environment_variables": {},
   "exception": null,
   "input_path": "__notebook__.ipynb",
   "output_path": "__notebook__.ipynb",
   "parameters": {},
   "start_time": "2023-08-05T07:43:41.288722",
   "version": "2.4.0"
  }
 },
 "nbformat": 4,
 "nbformat_minor": 5
}
