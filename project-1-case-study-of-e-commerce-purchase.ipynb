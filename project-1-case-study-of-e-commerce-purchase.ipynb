{
 "cells": [
  {
   "cell_type": "code",
   "execution_count": 1,
   "id": "ec3a0890",
   "metadata": {
    "_cell_guid": "b1076dfc-b9ad-4769-8c92-a6c4dae69d19",
    "_uuid": "8f2839f25d086af736a60e9eeb907d3b93b6e0e5",
    "execution": {
     "iopub.execute_input": "2023-08-03T17:39:51.266076Z",
     "iopub.status.busy": "2023-08-03T17:39:51.265157Z",
     "iopub.status.idle": "2023-08-03T17:39:51.291656Z",
     "shell.execute_reply": "2023-08-03T17:39:51.290661Z"
    },
    "papermill": {
     "duration": 0.043835,
     "end_time": "2023-08-03T17:39:51.294456",
     "exception": false,
     "start_time": "2023-08-03T17:39:51.250621",
     "status": "completed"
    },
    "tags": []
   },
   "outputs": [
    {
     "name": "stdout",
     "output_type": "stream",
     "text": [
      "/kaggle/input/ecommerce-purchases/Ecommerce Purchases\n"
     ]
    }
   ],
   "source": [
    "# This Python 3 environment comes with many helpful analytics libraries installed\n",
    "# It is defined by the kaggle/python Docker image: https://github.com/kaggle/docker-python\n",
    "# For example, here's several helpful packages to load\n",
    "\n",
    "import numpy as np # linear algebra\n",
    "import pandas as pd # data processing, CSV file I/O (e.g. pd.read_csv)\n",
    "\n",
    "# Input data files are available in the read-only \"../input/\" directory\n",
    "# For example, running this (by clicking run or pressing Shift+Enter) will list all files under the input directory\n",
    "\n",
    "import os\n",
    "for dirname, _, filenames in os.walk('/kaggle/input'):\n",
    "    for filename in filenames:\n",
    "        print(os.path.join(dirname, filename))\n",
    "\n",
    "# You can write up to 20GB to the current directory (/kaggle/working/) that gets preserved as output when you create a version using \"Save & Run All\" \n",
    "# You can also write temporary files to /kaggle/temp/, but they won't be saved outside of the current session"
   ]
  },
  {
   "cell_type": "code",
   "execution_count": 2,
   "id": "d830b4e5",
   "metadata": {
    "_kg_hide-input": false,
    "_kg_hide-output": false,
    "execution": {
     "iopub.execute_input": "2023-08-03T17:39:51.320408Z",
     "iopub.status.busy": "2023-08-03T17:39:51.319941Z",
     "iopub.status.idle": "2023-08-03T17:39:51.477732Z",
     "shell.execute_reply": "2023-08-03T17:39:51.476523Z"
    },
    "papermill": {
     "duration": 0.173629,
     "end_time": "2023-08-03T17:39:51.480339",
     "exception": false,
     "start_time": "2023-08-03T17:39:51.306710",
     "status": "completed"
    },
    "tags": []
   },
   "outputs": [
    {
     "data": {
      "text/html": [
       "<div>\n",
       "<style scoped>\n",
       "    .dataframe tbody tr th:only-of-type {\n",
       "        vertical-align: middle;\n",
       "    }\n",
       "\n",
       "    .dataframe tbody tr th {\n",
       "        vertical-align: top;\n",
       "    }\n",
       "\n",
       "    .dataframe thead th {\n",
       "        text-align: right;\n",
       "    }\n",
       "</style>\n",
       "<table border=\"1\" class=\"dataframe\">\n",
       "  <thead>\n",
       "    <tr style=\"text-align: right;\">\n",
       "      <th></th>\n",
       "      <th>Address</th>\n",
       "      <th>Lot</th>\n",
       "      <th>AM or PM</th>\n",
       "      <th>Browser Info</th>\n",
       "      <th>Company</th>\n",
       "      <th>Credit Card</th>\n",
       "      <th>CC Exp Date</th>\n",
       "      <th>CC Security Code</th>\n",
       "      <th>CC Provider</th>\n",
       "      <th>Email</th>\n",
       "      <th>Job</th>\n",
       "      <th>IP Address</th>\n",
       "      <th>Language</th>\n",
       "      <th>Purchase Price</th>\n",
       "    </tr>\n",
       "  </thead>\n",
       "  <tbody>\n",
       "    <tr>\n",
       "      <th>0</th>\n",
       "      <td>16629 Pace Camp Apt. 448\\nAlexisborough, NE 77...</td>\n",
       "      <td>46 in</td>\n",
       "      <td>PM</td>\n",
       "      <td>Opera/9.56.(X11; Linux x86_64; sl-SI) Presto/2...</td>\n",
       "      <td>Martinez-Herman</td>\n",
       "      <td>6011929061123406</td>\n",
       "      <td>02/20</td>\n",
       "      <td>900</td>\n",
       "      <td>JCB 16 digit</td>\n",
       "      <td>pdunlap@yahoo.com</td>\n",
       "      <td>Scientist, product/process development</td>\n",
       "      <td>149.146.147.205</td>\n",
       "      <td>el</td>\n",
       "      <td>98.14</td>\n",
       "    </tr>\n",
       "    <tr>\n",
       "      <th>1</th>\n",
       "      <td>9374 Jasmine Spurs Suite 508\\nSouth John, TN 8...</td>\n",
       "      <td>28 rn</td>\n",
       "      <td>PM</td>\n",
       "      <td>Opera/8.93.(Windows 98; Win 9x 4.90; en-US) Pr...</td>\n",
       "      <td>Fletcher, Richards and Whitaker</td>\n",
       "      <td>3337758169645356</td>\n",
       "      <td>11/18</td>\n",
       "      <td>561</td>\n",
       "      <td>Mastercard</td>\n",
       "      <td>anthony41@reed.com</td>\n",
       "      <td>Drilling engineer</td>\n",
       "      <td>15.160.41.51</td>\n",
       "      <td>fr</td>\n",
       "      <td>70.73</td>\n",
       "    </tr>\n",
       "    <tr>\n",
       "      <th>2</th>\n",
       "      <td>Unit 0065 Box 5052\\nDPO AP 27450</td>\n",
       "      <td>94 vE</td>\n",
       "      <td>PM</td>\n",
       "      <td>Mozilla/5.0 (compatible; MSIE 9.0; Windows NT ...</td>\n",
       "      <td>Simpson, Williams and Pham</td>\n",
       "      <td>675957666125</td>\n",
       "      <td>08/19</td>\n",
       "      <td>699</td>\n",
       "      <td>JCB 16 digit</td>\n",
       "      <td>amymiller@morales-harrison.com</td>\n",
       "      <td>Customer service manager</td>\n",
       "      <td>132.207.160.22</td>\n",
       "      <td>de</td>\n",
       "      <td>0.95</td>\n",
       "    </tr>\n",
       "    <tr>\n",
       "      <th>3</th>\n",
       "      <td>7780 Julia Fords\\nNew Stacy, WA 45798</td>\n",
       "      <td>36 vm</td>\n",
       "      <td>PM</td>\n",
       "      <td>Mozilla/5.0 (Macintosh; Intel Mac OS X 10_8_0 ...</td>\n",
       "      <td>Williams, Marshall and Buchanan</td>\n",
       "      <td>6011578504430710</td>\n",
       "      <td>02/24</td>\n",
       "      <td>384</td>\n",
       "      <td>Discover</td>\n",
       "      <td>brent16@olson-robinson.info</td>\n",
       "      <td>Drilling engineer</td>\n",
       "      <td>30.250.74.19</td>\n",
       "      <td>es</td>\n",
       "      <td>78.04</td>\n",
       "    </tr>\n",
       "    <tr>\n",
       "      <th>4</th>\n",
       "      <td>23012 Munoz Drive Suite 337\\nNew Cynthia, TX 5...</td>\n",
       "      <td>20 IE</td>\n",
       "      <td>AM</td>\n",
       "      <td>Opera/9.58.(X11; Linux x86_64; it-IT) Presto/2...</td>\n",
       "      <td>Brown, Watson and Andrews</td>\n",
       "      <td>6011456623207998</td>\n",
       "      <td>10/25</td>\n",
       "      <td>678</td>\n",
       "      <td>Diners Club / Carte Blanche</td>\n",
       "      <td>christopherwright@gmail.com</td>\n",
       "      <td>Fine artist</td>\n",
       "      <td>24.140.33.94</td>\n",
       "      <td>es</td>\n",
       "      <td>77.82</td>\n",
       "    </tr>\n",
       "  </tbody>\n",
       "</table>\n",
       "</div>"
      ],
      "text/plain": [
       "                                             Address    Lot AM or PM  \\\n",
       "0  16629 Pace Camp Apt. 448\\nAlexisborough, NE 77...  46 in       PM   \n",
       "1  9374 Jasmine Spurs Suite 508\\nSouth John, TN 8...  28 rn       PM   \n",
       "2                   Unit 0065 Box 5052\\nDPO AP 27450  94 vE       PM   \n",
       "3              7780 Julia Fords\\nNew Stacy, WA 45798  36 vm       PM   \n",
       "4  23012 Munoz Drive Suite 337\\nNew Cynthia, TX 5...  20 IE       AM   \n",
       "\n",
       "                                        Browser Info  \\\n",
       "0  Opera/9.56.(X11; Linux x86_64; sl-SI) Presto/2...   \n",
       "1  Opera/8.93.(Windows 98; Win 9x 4.90; en-US) Pr...   \n",
       "2  Mozilla/5.0 (compatible; MSIE 9.0; Windows NT ...   \n",
       "3  Mozilla/5.0 (Macintosh; Intel Mac OS X 10_8_0 ...   \n",
       "4  Opera/9.58.(X11; Linux x86_64; it-IT) Presto/2...   \n",
       "\n",
       "                           Company       Credit Card CC Exp Date  \\\n",
       "0                  Martinez-Herman  6011929061123406       02/20   \n",
       "1  Fletcher, Richards and Whitaker  3337758169645356       11/18   \n",
       "2       Simpson, Williams and Pham      675957666125       08/19   \n",
       "3  Williams, Marshall and Buchanan  6011578504430710       02/24   \n",
       "4        Brown, Watson and Andrews  6011456623207998       10/25   \n",
       "\n",
       "   CC Security Code                  CC Provider  \\\n",
       "0               900                 JCB 16 digit   \n",
       "1               561                   Mastercard   \n",
       "2               699                 JCB 16 digit   \n",
       "3               384                     Discover   \n",
       "4               678  Diners Club / Carte Blanche   \n",
       "\n",
       "                            Email                                     Job  \\\n",
       "0               pdunlap@yahoo.com  Scientist, product/process development   \n",
       "1              anthony41@reed.com                       Drilling engineer   \n",
       "2  amymiller@morales-harrison.com                Customer service manager   \n",
       "3     brent16@olson-robinson.info                       Drilling engineer   \n",
       "4     christopherwright@gmail.com                             Fine artist   \n",
       "\n",
       "        IP Address Language  Purchase Price  \n",
       "0  149.146.147.205       el           98.14  \n",
       "1     15.160.41.51       fr           70.73  \n",
       "2   132.207.160.22       de            0.95  \n",
       "3     30.250.74.19       es           78.04  \n",
       "4     24.140.33.94       es           77.82  "
      ]
     },
     "execution_count": 2,
     "metadata": {},
     "output_type": "execute_result"
    }
   ],
   "source": [
    "df=pd.read_csv('/kaggle/input/ecommerce-purchases/Ecommerce Purchases')\n",
    "df.head()"
   ]
  },
  {
   "cell_type": "markdown",
   "id": "a5559eb6",
   "metadata": {
    "papermill": {
     "duration": 0.011736,
     "end_time": "2023-08-03T17:39:51.504310",
     "exception": false,
     "start_time": "2023-08-03T17:39:51.492574",
     "status": "completed"
    },
    "tags": []
   },
   "source": [
    "# 1. **Display Top 10 Rows of The Dataset**"
   ]
  },
  {
   "cell_type": "code",
   "execution_count": 3,
   "id": "a7114916",
   "metadata": {
    "execution": {
     "iopub.execute_input": "2023-08-03T17:39:51.530509Z",
     "iopub.status.busy": "2023-08-03T17:39:51.529837Z",
     "iopub.status.idle": "2023-08-03T17:39:51.551822Z",
     "shell.execute_reply": "2023-08-03T17:39:51.550596Z"
    },
    "papermill": {
     "duration": 0.037712,
     "end_time": "2023-08-03T17:39:51.554256",
     "exception": false,
     "start_time": "2023-08-03T17:39:51.516544",
     "status": "completed"
    },
    "tags": []
   },
   "outputs": [
    {
     "data": {
      "text/html": [
       "<div>\n",
       "<style scoped>\n",
       "    .dataframe tbody tr th:only-of-type {\n",
       "        vertical-align: middle;\n",
       "    }\n",
       "\n",
       "    .dataframe tbody tr th {\n",
       "        vertical-align: top;\n",
       "    }\n",
       "\n",
       "    .dataframe thead th {\n",
       "        text-align: right;\n",
       "    }\n",
       "</style>\n",
       "<table border=\"1\" class=\"dataframe\">\n",
       "  <thead>\n",
       "    <tr style=\"text-align: right;\">\n",
       "      <th></th>\n",
       "      <th>Address</th>\n",
       "      <th>Lot</th>\n",
       "      <th>AM or PM</th>\n",
       "      <th>Browser Info</th>\n",
       "      <th>Company</th>\n",
       "      <th>Credit Card</th>\n",
       "      <th>CC Exp Date</th>\n",
       "      <th>CC Security Code</th>\n",
       "      <th>CC Provider</th>\n",
       "      <th>Email</th>\n",
       "      <th>Job</th>\n",
       "      <th>IP Address</th>\n",
       "      <th>Language</th>\n",
       "      <th>Purchase Price</th>\n",
       "    </tr>\n",
       "  </thead>\n",
       "  <tbody>\n",
       "    <tr>\n",
       "      <th>0</th>\n",
       "      <td>16629 Pace Camp Apt. 448\\nAlexisborough, NE 77...</td>\n",
       "      <td>46 in</td>\n",
       "      <td>PM</td>\n",
       "      <td>Opera/9.56.(X11; Linux x86_64; sl-SI) Presto/2...</td>\n",
       "      <td>Martinez-Herman</td>\n",
       "      <td>6011929061123406</td>\n",
       "      <td>02/20</td>\n",
       "      <td>900</td>\n",
       "      <td>JCB 16 digit</td>\n",
       "      <td>pdunlap@yahoo.com</td>\n",
       "      <td>Scientist, product/process development</td>\n",
       "      <td>149.146.147.205</td>\n",
       "      <td>el</td>\n",
       "      <td>98.14</td>\n",
       "    </tr>\n",
       "    <tr>\n",
       "      <th>1</th>\n",
       "      <td>9374 Jasmine Spurs Suite 508\\nSouth John, TN 8...</td>\n",
       "      <td>28 rn</td>\n",
       "      <td>PM</td>\n",
       "      <td>Opera/8.93.(Windows 98; Win 9x 4.90; en-US) Pr...</td>\n",
       "      <td>Fletcher, Richards and Whitaker</td>\n",
       "      <td>3337758169645356</td>\n",
       "      <td>11/18</td>\n",
       "      <td>561</td>\n",
       "      <td>Mastercard</td>\n",
       "      <td>anthony41@reed.com</td>\n",
       "      <td>Drilling engineer</td>\n",
       "      <td>15.160.41.51</td>\n",
       "      <td>fr</td>\n",
       "      <td>70.73</td>\n",
       "    </tr>\n",
       "    <tr>\n",
       "      <th>2</th>\n",
       "      <td>Unit 0065 Box 5052\\nDPO AP 27450</td>\n",
       "      <td>94 vE</td>\n",
       "      <td>PM</td>\n",
       "      <td>Mozilla/5.0 (compatible; MSIE 9.0; Windows NT ...</td>\n",
       "      <td>Simpson, Williams and Pham</td>\n",
       "      <td>675957666125</td>\n",
       "      <td>08/19</td>\n",
       "      <td>699</td>\n",
       "      <td>JCB 16 digit</td>\n",
       "      <td>amymiller@morales-harrison.com</td>\n",
       "      <td>Customer service manager</td>\n",
       "      <td>132.207.160.22</td>\n",
       "      <td>de</td>\n",
       "      <td>0.95</td>\n",
       "    </tr>\n",
       "    <tr>\n",
       "      <th>3</th>\n",
       "      <td>7780 Julia Fords\\nNew Stacy, WA 45798</td>\n",
       "      <td>36 vm</td>\n",
       "      <td>PM</td>\n",
       "      <td>Mozilla/5.0 (Macintosh; Intel Mac OS X 10_8_0 ...</td>\n",
       "      <td>Williams, Marshall and Buchanan</td>\n",
       "      <td>6011578504430710</td>\n",
       "      <td>02/24</td>\n",
       "      <td>384</td>\n",
       "      <td>Discover</td>\n",
       "      <td>brent16@olson-robinson.info</td>\n",
       "      <td>Drilling engineer</td>\n",
       "      <td>30.250.74.19</td>\n",
       "      <td>es</td>\n",
       "      <td>78.04</td>\n",
       "    </tr>\n",
       "    <tr>\n",
       "      <th>4</th>\n",
       "      <td>23012 Munoz Drive Suite 337\\nNew Cynthia, TX 5...</td>\n",
       "      <td>20 IE</td>\n",
       "      <td>AM</td>\n",
       "      <td>Opera/9.58.(X11; Linux x86_64; it-IT) Presto/2...</td>\n",
       "      <td>Brown, Watson and Andrews</td>\n",
       "      <td>6011456623207998</td>\n",
       "      <td>10/25</td>\n",
       "      <td>678</td>\n",
       "      <td>Diners Club / Carte Blanche</td>\n",
       "      <td>christopherwright@gmail.com</td>\n",
       "      <td>Fine artist</td>\n",
       "      <td>24.140.33.94</td>\n",
       "      <td>es</td>\n",
       "      <td>77.82</td>\n",
       "    </tr>\n",
       "    <tr>\n",
       "      <th>5</th>\n",
       "      <td>7502 Powell Mission Apt. 768\\nTravisland, VA 3...</td>\n",
       "      <td>21 XT</td>\n",
       "      <td>PM</td>\n",
       "      <td>Mozilla/5.0 (Macintosh; U; PPC Mac OS X 10_8_5...</td>\n",
       "      <td>Silva-Anderson</td>\n",
       "      <td>30246185196287</td>\n",
       "      <td>07/25</td>\n",
       "      <td>7169</td>\n",
       "      <td>Discover</td>\n",
       "      <td>ynguyen@gmail.com</td>\n",
       "      <td>Fish farm manager</td>\n",
       "      <td>55.96.152.147</td>\n",
       "      <td>ru</td>\n",
       "      <td>25.15</td>\n",
       "    </tr>\n",
       "    <tr>\n",
       "      <th>6</th>\n",
       "      <td>93971 Conway Causeway\\nAndersonburgh, AZ 75107</td>\n",
       "      <td>96 Xt</td>\n",
       "      <td>AM</td>\n",
       "      <td>Mozilla/5.0 (compatible; MSIE 7.0; Windows NT ...</td>\n",
       "      <td>Gibson and Sons</td>\n",
       "      <td>6011398782655569</td>\n",
       "      <td>07/24</td>\n",
       "      <td>714</td>\n",
       "      <td>VISA 16 digit</td>\n",
       "      <td>olivia04@yahoo.com</td>\n",
       "      <td>Dancer</td>\n",
       "      <td>127.252.144.18</td>\n",
       "      <td>de</td>\n",
       "      <td>88.56</td>\n",
       "    </tr>\n",
       "    <tr>\n",
       "      <th>7</th>\n",
       "      <td>260 Rachel Plains Suite 366\\nCastroberg, WV 24...</td>\n",
       "      <td>96 pG</td>\n",
       "      <td>PM</td>\n",
       "      <td>Mozilla/5.0 (X11; Linux i686) AppleWebKit/5350...</td>\n",
       "      <td>Marshall-Collins</td>\n",
       "      <td>561252141909</td>\n",
       "      <td>06/25</td>\n",
       "      <td>256</td>\n",
       "      <td>VISA 13 digit</td>\n",
       "      <td>phillip48@parks.info</td>\n",
       "      <td>Event organiser</td>\n",
       "      <td>224.247.97.150</td>\n",
       "      <td>pt</td>\n",
       "      <td>44.25</td>\n",
       "    </tr>\n",
       "    <tr>\n",
       "      <th>8</th>\n",
       "      <td>2129 Dylan Burg\\nNew Michelle, ME 28650</td>\n",
       "      <td>45 JN</td>\n",
       "      <td>PM</td>\n",
       "      <td>Mozilla/5.0 (Macintosh; U; Intel Mac OS X 10_7...</td>\n",
       "      <td>Galloway and Sons</td>\n",
       "      <td>180041795790001</td>\n",
       "      <td>04/24</td>\n",
       "      <td>899</td>\n",
       "      <td>JCB 16 digit</td>\n",
       "      <td>kdavis@rasmussen.com</td>\n",
       "      <td>Financial manager</td>\n",
       "      <td>146.234.201.229</td>\n",
       "      <td>ru</td>\n",
       "      <td>59.54</td>\n",
       "    </tr>\n",
       "    <tr>\n",
       "      <th>9</th>\n",
       "      <td>3795 Dawson Extensions\\nLake Tinafort, ID 88739</td>\n",
       "      <td>15 Ug</td>\n",
       "      <td>AM</td>\n",
       "      <td>Mozilla/5.0 (X11; Linux i686; rv:1.9.7.20) Gec...</td>\n",
       "      <td>Rivera, Buchanan and Ramirez</td>\n",
       "      <td>4396283918371</td>\n",
       "      <td>01/17</td>\n",
       "      <td>931</td>\n",
       "      <td>American Express</td>\n",
       "      <td>qcoleman@hunt-huerta.com</td>\n",
       "      <td>Forensic scientist</td>\n",
       "      <td>236.198.199.8</td>\n",
       "      <td>zh</td>\n",
       "      <td>95.63</td>\n",
       "    </tr>\n",
       "  </tbody>\n",
       "</table>\n",
       "</div>"
      ],
      "text/plain": [
       "                                             Address    Lot AM or PM  \\\n",
       "0  16629 Pace Camp Apt. 448\\nAlexisborough, NE 77...  46 in       PM   \n",
       "1  9374 Jasmine Spurs Suite 508\\nSouth John, TN 8...  28 rn       PM   \n",
       "2                   Unit 0065 Box 5052\\nDPO AP 27450  94 vE       PM   \n",
       "3              7780 Julia Fords\\nNew Stacy, WA 45798  36 vm       PM   \n",
       "4  23012 Munoz Drive Suite 337\\nNew Cynthia, TX 5...  20 IE       AM   \n",
       "5  7502 Powell Mission Apt. 768\\nTravisland, VA 3...  21 XT       PM   \n",
       "6     93971 Conway Causeway\\nAndersonburgh, AZ 75107  96 Xt       AM   \n",
       "7  260 Rachel Plains Suite 366\\nCastroberg, WV 24...  96 pG       PM   \n",
       "8            2129 Dylan Burg\\nNew Michelle, ME 28650  45 JN       PM   \n",
       "9    3795 Dawson Extensions\\nLake Tinafort, ID 88739  15 Ug       AM   \n",
       "\n",
       "                                        Browser Info  \\\n",
       "0  Opera/9.56.(X11; Linux x86_64; sl-SI) Presto/2...   \n",
       "1  Opera/8.93.(Windows 98; Win 9x 4.90; en-US) Pr...   \n",
       "2  Mozilla/5.0 (compatible; MSIE 9.0; Windows NT ...   \n",
       "3  Mozilla/5.0 (Macintosh; Intel Mac OS X 10_8_0 ...   \n",
       "4  Opera/9.58.(X11; Linux x86_64; it-IT) Presto/2...   \n",
       "5  Mozilla/5.0 (Macintosh; U; PPC Mac OS X 10_8_5...   \n",
       "6  Mozilla/5.0 (compatible; MSIE 7.0; Windows NT ...   \n",
       "7  Mozilla/5.0 (X11; Linux i686) AppleWebKit/5350...   \n",
       "8  Mozilla/5.0 (Macintosh; U; Intel Mac OS X 10_7...   \n",
       "9  Mozilla/5.0 (X11; Linux i686; rv:1.9.7.20) Gec...   \n",
       "\n",
       "                           Company       Credit Card CC Exp Date  \\\n",
       "0                  Martinez-Herman  6011929061123406       02/20   \n",
       "1  Fletcher, Richards and Whitaker  3337758169645356       11/18   \n",
       "2       Simpson, Williams and Pham      675957666125       08/19   \n",
       "3  Williams, Marshall and Buchanan  6011578504430710       02/24   \n",
       "4        Brown, Watson and Andrews  6011456623207998       10/25   \n",
       "5                   Silva-Anderson    30246185196287       07/25   \n",
       "6                  Gibson and Sons  6011398782655569       07/24   \n",
       "7                 Marshall-Collins      561252141909       06/25   \n",
       "8                Galloway and Sons   180041795790001       04/24   \n",
       "9     Rivera, Buchanan and Ramirez     4396283918371       01/17   \n",
       "\n",
       "   CC Security Code                  CC Provider  \\\n",
       "0               900                 JCB 16 digit   \n",
       "1               561                   Mastercard   \n",
       "2               699                 JCB 16 digit   \n",
       "3               384                     Discover   \n",
       "4               678  Diners Club / Carte Blanche   \n",
       "5              7169                     Discover   \n",
       "6               714                VISA 16 digit   \n",
       "7               256                VISA 13 digit   \n",
       "8               899                 JCB 16 digit   \n",
       "9               931             American Express   \n",
       "\n",
       "                            Email                                     Job  \\\n",
       "0               pdunlap@yahoo.com  Scientist, product/process development   \n",
       "1              anthony41@reed.com                       Drilling engineer   \n",
       "2  amymiller@morales-harrison.com                Customer service manager   \n",
       "3     brent16@olson-robinson.info                       Drilling engineer   \n",
       "4     christopherwright@gmail.com                             Fine artist   \n",
       "5               ynguyen@gmail.com                       Fish farm manager   \n",
       "6              olivia04@yahoo.com                                  Dancer   \n",
       "7            phillip48@parks.info                         Event organiser   \n",
       "8            kdavis@rasmussen.com                       Financial manager   \n",
       "9        qcoleman@hunt-huerta.com                      Forensic scientist   \n",
       "\n",
       "        IP Address Language  Purchase Price  \n",
       "0  149.146.147.205       el           98.14  \n",
       "1     15.160.41.51       fr           70.73  \n",
       "2   132.207.160.22       de            0.95  \n",
       "3     30.250.74.19       es           78.04  \n",
       "4     24.140.33.94       es           77.82  \n",
       "5    55.96.152.147       ru           25.15  \n",
       "6   127.252.144.18       de           88.56  \n",
       "7   224.247.97.150       pt           44.25  \n",
       "8  146.234.201.229       ru           59.54  \n",
       "9    236.198.199.8       zh           95.63  "
      ]
     },
     "execution_count": 3,
     "metadata": {},
     "output_type": "execute_result"
    }
   ],
   "source": [
    "df.head(10)"
   ]
  },
  {
   "cell_type": "markdown",
   "id": "610cf301",
   "metadata": {
    "papermill": {
     "duration": 0.012168,
     "end_time": "2023-08-03T17:39:51.580503",
     "exception": false,
     "start_time": "2023-08-03T17:39:51.568335",
     "status": "completed"
    },
    "tags": []
   },
   "source": [
    "# 2. **Check Last 10 Rows of The Dataset**"
   ]
  },
  {
   "cell_type": "code",
   "execution_count": 4,
   "id": "3e1d787b",
   "metadata": {
    "execution": {
     "iopub.execute_input": "2023-08-03T17:39:51.608111Z",
     "iopub.status.busy": "2023-08-03T17:39:51.607010Z",
     "iopub.status.idle": "2023-08-03T17:39:51.629407Z",
     "shell.execute_reply": "2023-08-03T17:39:51.628210Z"
    },
    "papermill": {
     "duration": 0.038866,
     "end_time": "2023-08-03T17:39:51.631875",
     "exception": false,
     "start_time": "2023-08-03T17:39:51.593009",
     "status": "completed"
    },
    "tags": []
   },
   "outputs": [
    {
     "data": {
      "text/html": [
       "<div>\n",
       "<style scoped>\n",
       "    .dataframe tbody tr th:only-of-type {\n",
       "        vertical-align: middle;\n",
       "    }\n",
       "\n",
       "    .dataframe tbody tr th {\n",
       "        vertical-align: top;\n",
       "    }\n",
       "\n",
       "    .dataframe thead th {\n",
       "        text-align: right;\n",
       "    }\n",
       "</style>\n",
       "<table border=\"1\" class=\"dataframe\">\n",
       "  <thead>\n",
       "    <tr style=\"text-align: right;\">\n",
       "      <th></th>\n",
       "      <th>Address</th>\n",
       "      <th>Lot</th>\n",
       "      <th>AM or PM</th>\n",
       "      <th>Browser Info</th>\n",
       "      <th>Company</th>\n",
       "      <th>Credit Card</th>\n",
       "      <th>CC Exp Date</th>\n",
       "      <th>CC Security Code</th>\n",
       "      <th>CC Provider</th>\n",
       "      <th>Email</th>\n",
       "      <th>Job</th>\n",
       "      <th>IP Address</th>\n",
       "      <th>Language</th>\n",
       "      <th>Purchase Price</th>\n",
       "    </tr>\n",
       "  </thead>\n",
       "  <tbody>\n",
       "    <tr>\n",
       "      <th>9990</th>\n",
       "      <td>75731 Molly Springs\\nWest Danielle, VT 96934-5102</td>\n",
       "      <td>93 ty</td>\n",
       "      <td>PM</td>\n",
       "      <td>Mozilla/5.0 (Macintosh; Intel Mac OS X 10_7_4;...</td>\n",
       "      <td>Pace, Vazquez and Richards</td>\n",
       "      <td>869968197049750</td>\n",
       "      <td>04/24</td>\n",
       "      <td>877</td>\n",
       "      <td>JCB 15 digit</td>\n",
       "      <td>andersonmichael@sherman.biz</td>\n",
       "      <td>Early years teacher</td>\n",
       "      <td>54.170.3.185</td>\n",
       "      <td>ru</td>\n",
       "      <td>18.35</td>\n",
       "    </tr>\n",
       "    <tr>\n",
       "      <th>9991</th>\n",
       "      <td>PSC 8165, Box 8498\\nAPO AP 60327-0346</td>\n",
       "      <td>50 dA</td>\n",
       "      <td>AM</td>\n",
       "      <td>Mozilla/5.0 (compatible; MSIE 8.0; Windows NT ...</td>\n",
       "      <td>Snyder Inc</td>\n",
       "      <td>4221582137197481</td>\n",
       "      <td>02/24</td>\n",
       "      <td>969</td>\n",
       "      <td>Voyager</td>\n",
       "      <td>kking@wise-liu.com</td>\n",
       "      <td>IT sales professional</td>\n",
       "      <td>254.25.31.156</td>\n",
       "      <td>el</td>\n",
       "      <td>25.93</td>\n",
       "    </tr>\n",
       "    <tr>\n",
       "      <th>9992</th>\n",
       "      <td>885 Allen Mountains Apt. 230\\nWallhaven, LA 16995</td>\n",
       "      <td>40 vH</td>\n",
       "      <td>PM</td>\n",
       "      <td>Mozilla/5.0 (Macintosh; PPC Mac OS X 10_6_5) A...</td>\n",
       "      <td>Wells Ltd</td>\n",
       "      <td>4664825258997302</td>\n",
       "      <td>10/20</td>\n",
       "      <td>431</td>\n",
       "      <td>Discover</td>\n",
       "      <td>bberry@wright.net</td>\n",
       "      <td>Set designer</td>\n",
       "      <td>174.173.51.32</td>\n",
       "      <td>de</td>\n",
       "      <td>67.96</td>\n",
       "    </tr>\n",
       "    <tr>\n",
       "      <th>9993</th>\n",
       "      <td>7555 Larson Locks Suite 229\\nEllisburgh, MA 34...</td>\n",
       "      <td>72 jg</td>\n",
       "      <td>PM</td>\n",
       "      <td>Mozilla/5.0 (Macintosh; U; Intel Mac OS X 10_8...</td>\n",
       "      <td>Colon and Sons</td>\n",
       "      <td>30025560104631</td>\n",
       "      <td>10/25</td>\n",
       "      <td>629</td>\n",
       "      <td>Maestro</td>\n",
       "      <td>chelseawilliams@lopez.biz</td>\n",
       "      <td>Designer, exhibition/display</td>\n",
       "      <td>177.46.82.128</td>\n",
       "      <td>el</td>\n",
       "      <td>65.61</td>\n",
       "    </tr>\n",
       "    <tr>\n",
       "      <th>9994</th>\n",
       "      <td>6276 Rojas Hollow\\nLake Louis, WY 56410-7837</td>\n",
       "      <td>93 Ex</td>\n",
       "      <td>PM</td>\n",
       "      <td>Opera/9.68.(X11; Linux x86_64; sl-SI) Presto/2...</td>\n",
       "      <td>Ritter-Smith</td>\n",
       "      <td>3112186784121077</td>\n",
       "      <td>01/25</td>\n",
       "      <td>1823</td>\n",
       "      <td>Maestro</td>\n",
       "      <td>iroberts@gmail.com</td>\n",
       "      <td>Education officer, museum</td>\n",
       "      <td>242.44.112.18</td>\n",
       "      <td>zh</td>\n",
       "      <td>31.85</td>\n",
       "    </tr>\n",
       "    <tr>\n",
       "      <th>9995</th>\n",
       "      <td>966 Castaneda Locks\\nWest Juliafurt, CO 96415</td>\n",
       "      <td>92 XI</td>\n",
       "      <td>PM</td>\n",
       "      <td>Mozilla/5.0 (Windows NT 5.1) AppleWebKit/5352 ...</td>\n",
       "      <td>Randall-Sloan</td>\n",
       "      <td>342945015358701</td>\n",
       "      <td>03/22</td>\n",
       "      <td>838</td>\n",
       "      <td>JCB 15 digit</td>\n",
       "      <td>iscott@wade-garner.com</td>\n",
       "      <td>Printmaker</td>\n",
       "      <td>29.73.197.114</td>\n",
       "      <td>it</td>\n",
       "      <td>82.21</td>\n",
       "    </tr>\n",
       "    <tr>\n",
       "      <th>9996</th>\n",
       "      <td>832 Curtis Dam Suite 785\\nNorth Edwardburgh, T...</td>\n",
       "      <td>41 JY</td>\n",
       "      <td>AM</td>\n",
       "      <td>Mozilla/5.0 (compatible; MSIE 9.0; Windows NT ...</td>\n",
       "      <td>Hale, Collins and Wilson</td>\n",
       "      <td>210033169205009</td>\n",
       "      <td>07/25</td>\n",
       "      <td>207</td>\n",
       "      <td>JCB 16 digit</td>\n",
       "      <td>mary85@hotmail.com</td>\n",
       "      <td>Energy engineer</td>\n",
       "      <td>121.133.168.51</td>\n",
       "      <td>pt</td>\n",
       "      <td>25.63</td>\n",
       "    </tr>\n",
       "    <tr>\n",
       "      <th>9997</th>\n",
       "      <td>Unit 4434 Box 6343\\nDPO AE 28026-0283</td>\n",
       "      <td>74 Zh</td>\n",
       "      <td>AM</td>\n",
       "      <td>Mozilla/5.0 (Macintosh; U; Intel Mac OS X 10_7...</td>\n",
       "      <td>Anderson Ltd</td>\n",
       "      <td>6011539787356311</td>\n",
       "      <td>05/21</td>\n",
       "      <td>1</td>\n",
       "      <td>VISA 16 digit</td>\n",
       "      <td>tyler16@gmail.com</td>\n",
       "      <td>Veterinary surgeon</td>\n",
       "      <td>156.210.0.254</td>\n",
       "      <td>el</td>\n",
       "      <td>83.98</td>\n",
       "    </tr>\n",
       "    <tr>\n",
       "      <th>9998</th>\n",
       "      <td>0096 English Rest\\nRoystad, IA 12457</td>\n",
       "      <td>74 cL</td>\n",
       "      <td>PM</td>\n",
       "      <td>Mozilla/5.0 (Macintosh; Intel Mac OS X 10_8_8;...</td>\n",
       "      <td>Cook Inc</td>\n",
       "      <td>180003348082930</td>\n",
       "      <td>11/17</td>\n",
       "      <td>987</td>\n",
       "      <td>American Express</td>\n",
       "      <td>elizabethmoore@reid.net</td>\n",
       "      <td>Local government officer</td>\n",
       "      <td>55.78.26.143</td>\n",
       "      <td>es</td>\n",
       "      <td>38.84</td>\n",
       "    </tr>\n",
       "    <tr>\n",
       "      <th>9999</th>\n",
       "      <td>40674 Barrett Stravenue\\nGrimesville, WI 79682</td>\n",
       "      <td>64 Hr</td>\n",
       "      <td>AM</td>\n",
       "      <td>Mozilla/5.0 (X11; Linux i686; rv:1.9.5.20) Gec...</td>\n",
       "      <td>Greene Inc</td>\n",
       "      <td>4139972901927273</td>\n",
       "      <td>02/19</td>\n",
       "      <td>302</td>\n",
       "      <td>JCB 15 digit</td>\n",
       "      <td>rachelford@vaughn.com</td>\n",
       "      <td>Embryologist, clinical</td>\n",
       "      <td>176.119.198.199</td>\n",
       "      <td>el</td>\n",
       "      <td>67.59</td>\n",
       "    </tr>\n",
       "  </tbody>\n",
       "</table>\n",
       "</div>"
      ],
      "text/plain": [
       "                                                Address    Lot AM or PM  \\\n",
       "9990  75731 Molly Springs\\nWest Danielle, VT 96934-5102  93 ty       PM   \n",
       "9991              PSC 8165, Box 8498\\nAPO AP 60327-0346  50 dA       AM   \n",
       "9992  885 Allen Mountains Apt. 230\\nWallhaven, LA 16995  40 vH       PM   \n",
       "9993  7555 Larson Locks Suite 229\\nEllisburgh, MA 34...  72 jg       PM   \n",
       "9994       6276 Rojas Hollow\\nLake Louis, WY 56410-7837  93 Ex       PM   \n",
       "9995      966 Castaneda Locks\\nWest Juliafurt, CO 96415  92 XI       PM   \n",
       "9996  832 Curtis Dam Suite 785\\nNorth Edwardburgh, T...  41 JY       AM   \n",
       "9997              Unit 4434 Box 6343\\nDPO AE 28026-0283  74 Zh       AM   \n",
       "9998               0096 English Rest\\nRoystad, IA 12457  74 cL       PM   \n",
       "9999     40674 Barrett Stravenue\\nGrimesville, WI 79682  64 Hr       AM   \n",
       "\n",
       "                                           Browser Info  \\\n",
       "9990  Mozilla/5.0 (Macintosh; Intel Mac OS X 10_7_4;...   \n",
       "9991  Mozilla/5.0 (compatible; MSIE 8.0; Windows NT ...   \n",
       "9992  Mozilla/5.0 (Macintosh; PPC Mac OS X 10_6_5) A...   \n",
       "9993  Mozilla/5.0 (Macintosh; U; Intel Mac OS X 10_8...   \n",
       "9994  Opera/9.68.(X11; Linux x86_64; sl-SI) Presto/2...   \n",
       "9995  Mozilla/5.0 (Windows NT 5.1) AppleWebKit/5352 ...   \n",
       "9996  Mozilla/5.0 (compatible; MSIE 9.0; Windows NT ...   \n",
       "9997  Mozilla/5.0 (Macintosh; U; Intel Mac OS X 10_7...   \n",
       "9998  Mozilla/5.0 (Macintosh; Intel Mac OS X 10_8_8;...   \n",
       "9999  Mozilla/5.0 (X11; Linux i686; rv:1.9.5.20) Gec...   \n",
       "\n",
       "                         Company       Credit Card CC Exp Date  \\\n",
       "9990  Pace, Vazquez and Richards   869968197049750       04/24   \n",
       "9991                  Snyder Inc  4221582137197481       02/24   \n",
       "9992                   Wells Ltd  4664825258997302       10/20   \n",
       "9993              Colon and Sons    30025560104631       10/25   \n",
       "9994                Ritter-Smith  3112186784121077       01/25   \n",
       "9995               Randall-Sloan   342945015358701       03/22   \n",
       "9996    Hale, Collins and Wilson   210033169205009       07/25   \n",
       "9997                Anderson Ltd  6011539787356311       05/21   \n",
       "9998                    Cook Inc   180003348082930       11/17   \n",
       "9999                  Greene Inc  4139972901927273       02/19   \n",
       "\n",
       "      CC Security Code       CC Provider                        Email  \\\n",
       "9990               877      JCB 15 digit  andersonmichael@sherman.biz   \n",
       "9991               969           Voyager           kking@wise-liu.com   \n",
       "9992               431          Discover            bberry@wright.net   \n",
       "9993               629           Maestro    chelseawilliams@lopez.biz   \n",
       "9994              1823           Maestro           iroberts@gmail.com   \n",
       "9995               838      JCB 15 digit       iscott@wade-garner.com   \n",
       "9996               207      JCB 16 digit           mary85@hotmail.com   \n",
       "9997                 1     VISA 16 digit            tyler16@gmail.com   \n",
       "9998               987  American Express      elizabethmoore@reid.net   \n",
       "9999               302      JCB 15 digit        rachelford@vaughn.com   \n",
       "\n",
       "                               Job       IP Address Language  Purchase Price  \n",
       "9990           Early years teacher     54.170.3.185       ru           18.35  \n",
       "9991         IT sales professional    254.25.31.156       el           25.93  \n",
       "9992                  Set designer    174.173.51.32       de           67.96  \n",
       "9993  Designer, exhibition/display    177.46.82.128       el           65.61  \n",
       "9994     Education officer, museum    242.44.112.18       zh           31.85  \n",
       "9995                    Printmaker    29.73.197.114       it           82.21  \n",
       "9996               Energy engineer   121.133.168.51       pt           25.63  \n",
       "9997            Veterinary surgeon    156.210.0.254       el           83.98  \n",
       "9998      Local government officer     55.78.26.143       es           38.84  \n",
       "9999        Embryologist, clinical  176.119.198.199       el           67.59  "
      ]
     },
     "execution_count": 4,
     "metadata": {},
     "output_type": "execute_result"
    }
   ],
   "source": [
    "df.tail(10)"
   ]
  },
  {
   "cell_type": "markdown",
   "id": "40baad22",
   "metadata": {
    "papermill": {
     "duration": 0.01272,
     "end_time": "2023-08-03T17:39:51.657765",
     "exception": false,
     "start_time": "2023-08-03T17:39:51.645045",
     "status": "completed"
    },
    "tags": []
   },
   "source": [
    "# 3. **Check Datatype of Each Column**"
   ]
  },
  {
   "cell_type": "code",
   "execution_count": 5,
   "id": "36be63c0",
   "metadata": {
    "execution": {
     "iopub.execute_input": "2023-08-03T17:39:51.685980Z",
     "iopub.status.busy": "2023-08-03T17:39:51.685581Z",
     "iopub.status.idle": "2023-08-03T17:39:51.694059Z",
     "shell.execute_reply": "2023-08-03T17:39:51.692748Z"
    },
    "papermill": {
     "duration": 0.025651,
     "end_time": "2023-08-03T17:39:51.696581",
     "exception": false,
     "start_time": "2023-08-03T17:39:51.670930",
     "status": "completed"
    },
    "tags": []
   },
   "outputs": [
    {
     "data": {
      "text/plain": [
       "Address              object\n",
       "Lot                  object\n",
       "AM or PM             object\n",
       "Browser Info         object\n",
       "Company              object\n",
       "Credit Card           int64\n",
       "CC Exp Date          object\n",
       "CC Security Code      int64\n",
       "CC Provider          object\n",
       "Email                object\n",
       "Job                  object\n",
       "IP Address           object\n",
       "Language             object\n",
       "Purchase Price      float64\n",
       "dtype: object"
      ]
     },
     "execution_count": 5,
     "metadata": {},
     "output_type": "execute_result"
    }
   ],
   "source": [
    "df.dtypes"
   ]
  },
  {
   "cell_type": "markdown",
   "id": "6beb9b8a",
   "metadata": {
    "papermill": {
     "duration": 0.013659,
     "end_time": "2023-08-03T17:39:51.723761",
     "exception": false,
     "start_time": "2023-08-03T17:39:51.710102",
     "status": "completed"
    },
    "tags": []
   },
   "source": [
    "# 4. **Check null values in the dataset** "
   ]
  },
  {
   "cell_type": "code",
   "execution_count": 6,
   "id": "7b7e5452",
   "metadata": {
    "execution": {
     "iopub.execute_input": "2023-08-03T17:39:51.752735Z",
     "iopub.status.busy": "2023-08-03T17:39:51.752338Z",
     "iopub.status.idle": "2023-08-03T17:39:51.800030Z",
     "shell.execute_reply": "2023-08-03T17:39:51.798888Z"
    },
    "papermill": {
     "duration": 0.065439,
     "end_time": "2023-08-03T17:39:51.802769",
     "exception": false,
     "start_time": "2023-08-03T17:39:51.737330",
     "status": "completed"
    },
    "tags": []
   },
   "outputs": [
    {
     "data": {
      "text/plain": [
       "Address             0\n",
       "Lot                 0\n",
       "AM or PM            0\n",
       "Browser Info        0\n",
       "Company             0\n",
       "Credit Card         0\n",
       "CC Exp Date         0\n",
       "CC Security Code    0\n",
       "CC Provider         0\n",
       "Email               0\n",
       "Job                 0\n",
       "IP Address          0\n",
       "Language            0\n",
       "Purchase Price      0\n",
       "dtype: int64"
      ]
     },
     "execution_count": 6,
     "metadata": {},
     "output_type": "execute_result"
    }
   ],
   "source": [
    "df.isnull().sum()"
   ]
  },
  {
   "cell_type": "markdown",
   "id": "8b47131b",
   "metadata": {
    "papermill": {
     "duration": 0.01314,
     "end_time": "2023-08-03T17:39:51.829585",
     "exception": false,
     "start_time": "2023-08-03T17:39:51.816445",
     "status": "completed"
    },
    "tags": []
   },
   "source": [
    "# 5. **How many rows and columns are there in our Dataset?**"
   ]
  },
  {
   "cell_type": "code",
   "execution_count": 7,
   "id": "ec27f6ea",
   "metadata": {
    "execution": {
     "iopub.execute_input": "2023-08-03T17:39:51.858144Z",
     "iopub.status.busy": "2023-08-03T17:39:51.857743Z",
     "iopub.status.idle": "2023-08-03T17:39:51.865219Z",
     "shell.execute_reply": "2023-08-03T17:39:51.864048Z"
    },
    "papermill": {
     "duration": 0.024693,
     "end_time": "2023-08-03T17:39:51.867754",
     "exception": false,
     "start_time": "2023-08-03T17:39:51.843061",
     "status": "completed"
    },
    "tags": []
   },
   "outputs": [
    {
     "data": {
      "text/plain": [
       "(10000, 14)"
      ]
     },
     "execution_count": 7,
     "metadata": {},
     "output_type": "execute_result"
    }
   ],
   "source": [
    "df.shape"
   ]
  },
  {
   "cell_type": "code",
   "execution_count": 8,
   "id": "65b48a98",
   "metadata": {
    "execution": {
     "iopub.execute_input": "2023-08-03T17:39:51.897469Z",
     "iopub.status.busy": "2023-08-03T17:39:51.897059Z",
     "iopub.status.idle": "2023-08-03T17:39:51.903492Z",
     "shell.execute_reply": "2023-08-03T17:39:51.902450Z"
    },
    "papermill": {
     "duration": 0.024333,
     "end_time": "2023-08-03T17:39:51.905924",
     "exception": false,
     "start_time": "2023-08-03T17:39:51.881591",
     "status": "completed"
    },
    "tags": []
   },
   "outputs": [
    {
     "data": {
      "text/plain": [
       "14"
      ]
     },
     "execution_count": 8,
     "metadata": {},
     "output_type": "execute_result"
    }
   ],
   "source": [
    "len(df.columns) #Number of Columns"
   ]
  },
  {
   "cell_type": "code",
   "execution_count": 9,
   "id": "2d33ffe7",
   "metadata": {
    "execution": {
     "iopub.execute_input": "2023-08-03T17:39:51.935246Z",
     "iopub.status.busy": "2023-08-03T17:39:51.934835Z",
     "iopub.status.idle": "2023-08-03T17:39:51.941365Z",
     "shell.execute_reply": "2023-08-03T17:39:51.940417Z"
    },
    "papermill": {
     "duration": 0.023913,
     "end_time": "2023-08-03T17:39:51.943497",
     "exception": false,
     "start_time": "2023-08-03T17:39:51.919584",
     "status": "completed"
    },
    "tags": []
   },
   "outputs": [
    {
     "data": {
      "text/plain": [
       "10000"
      ]
     },
     "execution_count": 9,
     "metadata": {},
     "output_type": "execute_result"
    }
   ],
   "source": [
    "len(df) #Number of Rows"
   ]
  },
  {
   "cell_type": "markdown",
   "id": "dfecf6d4",
   "metadata": {
    "papermill": {
     "duration": 0.013378,
     "end_time": "2023-08-03T17:39:51.970687",
     "exception": false,
     "start_time": "2023-08-03T17:39:51.957309",
     "status": "completed"
    },
    "tags": []
   },
   "source": [
    "# 6. **Highest and Lowest Purchase Prices.**"
   ]
  },
  {
   "cell_type": "code",
   "execution_count": 10,
   "id": "8ce6df8e",
   "metadata": {
    "execution": {
     "iopub.execute_input": "2023-08-03T17:39:52.000016Z",
     "iopub.status.busy": "2023-08-03T17:39:51.999606Z",
     "iopub.status.idle": "2023-08-03T17:39:52.007612Z",
     "shell.execute_reply": "2023-08-03T17:39:52.006421Z"
    },
    "papermill": {
     "duration": 0.025391,
     "end_time": "2023-08-03T17:39:52.009970",
     "exception": false,
     "start_time": "2023-08-03T17:39:51.984579",
     "status": "completed"
    },
    "tags": []
   },
   "outputs": [
    {
     "data": {
      "text/plain": [
       "99.99"
      ]
     },
     "execution_count": 10,
     "metadata": {},
     "output_type": "execute_result"
    }
   ],
   "source": [
    "df['Purchase Price'].max() #Highest Purchase Price"
   ]
  },
  {
   "cell_type": "code",
   "execution_count": 11,
   "id": "117e8308",
   "metadata": {
    "execution": {
     "iopub.execute_input": "2023-08-03T17:39:52.040194Z",
     "iopub.status.busy": "2023-08-03T17:39:52.039234Z",
     "iopub.status.idle": "2023-08-03T17:39:52.047643Z",
     "shell.execute_reply": "2023-08-03T17:39:52.046384Z"
    },
    "papermill": {
     "duration": 0.026404,
     "end_time": "2023-08-03T17:39:52.050373",
     "exception": false,
     "start_time": "2023-08-03T17:39:52.023969",
     "status": "completed"
    },
    "tags": []
   },
   "outputs": [
    {
     "data": {
      "text/plain": [
       "0.0"
      ]
     },
     "execution_count": 11,
     "metadata": {},
     "output_type": "execute_result"
    }
   ],
   "source": [
    "df['Purchase Price'].min() #Lowest Purchase Price"
   ]
  },
  {
   "cell_type": "markdown",
   "id": "d5d64205",
   "metadata": {
    "papermill": {
     "duration": 0.013855,
     "end_time": "2023-08-03T17:39:52.078412",
     "exception": false,
     "start_time": "2023-08-03T17:39:52.064557",
     "status": "completed"
    },
    "tags": []
   },
   "source": [
    "# 7. **Average Purchase Price**"
   ]
  },
  {
   "cell_type": "code",
   "execution_count": 12,
   "id": "14f914ae",
   "metadata": {
    "execution": {
     "iopub.execute_input": "2023-08-03T17:39:52.109107Z",
     "iopub.status.busy": "2023-08-03T17:39:52.108671Z",
     "iopub.status.idle": "2023-08-03T17:39:52.116324Z",
     "shell.execute_reply": "2023-08-03T17:39:52.115190Z"
    },
    "papermill": {
     "duration": 0.025823,
     "end_time": "2023-08-03T17:39:52.118569",
     "exception": false,
     "start_time": "2023-08-03T17:39:52.092746",
     "status": "completed"
    },
    "tags": []
   },
   "outputs": [
    {
     "data": {
      "text/plain": [
       "50.347302"
      ]
     },
     "execution_count": 12,
     "metadata": {},
     "output_type": "execute_result"
    }
   ],
   "source": [
    "df['Purchase Price'].mean() #Average Purchase Price"
   ]
  },
  {
   "cell_type": "markdown",
   "id": "36b0f911",
   "metadata": {
    "papermill": {
     "duration": 0.013811,
     "end_time": "2023-08-03T17:39:52.146682",
     "exception": false,
     "start_time": "2023-08-03T17:39:52.132871",
     "status": "completed"
    },
    "tags": []
   },
   "source": [
    "# 8. **How many people have French 'fr' as their Language?**"
   ]
  },
  {
   "cell_type": "code",
   "execution_count": 13,
   "id": "3c98e4c2",
   "metadata": {
    "execution": {
     "iopub.execute_input": "2023-08-03T17:39:52.176641Z",
     "iopub.status.busy": "2023-08-03T17:39:52.176232Z",
     "iopub.status.idle": "2023-08-03T17:39:52.190844Z",
     "shell.execute_reply": "2023-08-03T17:39:52.189794Z"
    },
    "papermill": {
     "duration": 0.032435,
     "end_time": "2023-08-03T17:39:52.193214",
     "exception": false,
     "start_time": "2023-08-03T17:39:52.160779",
     "status": "completed"
    },
    "tags": []
   },
   "outputs": [
    {
     "data": {
      "text/plain": [
       "1097"
      ]
     },
     "execution_count": 13,
     "metadata": {},
     "output_type": "execute_result"
    }
   ],
   "source": [
    "len(df[df['Language']=='fr'])"
   ]
  },
  {
   "cell_type": "markdown",
   "id": "a88eb2c5",
   "metadata": {
    "papermill": {
     "duration": 0.014057,
     "end_time": "2023-08-03T17:39:52.221715",
     "exception": false,
     "start_time": "2023-08-03T17:39:52.207658",
     "status": "completed"
    },
    "tags": []
   },
   "source": [
    "# 9. **Job Title Contains Engineer**"
   ]
  },
  {
   "cell_type": "code",
   "execution_count": 14,
   "id": "cc6b09b1",
   "metadata": {
    "execution": {
     "iopub.execute_input": "2023-08-03T17:39:52.252345Z",
     "iopub.status.busy": "2023-08-03T17:39:52.251863Z",
     "iopub.status.idle": "2023-08-03T17:39:52.271112Z",
     "shell.execute_reply": "2023-08-03T17:39:52.269971Z"
    },
    "papermill": {
     "duration": 0.037226,
     "end_time": "2023-08-03T17:39:52.273420",
     "exception": false,
     "start_time": "2023-08-03T17:39:52.236194",
     "status": "completed"
    },
    "tags": []
   },
   "outputs": [
    {
     "data": {
      "text/plain": [
       "984"
      ]
     },
     "execution_count": 14,
     "metadata": {},
     "output_type": "execute_result"
    }
   ],
   "source": [
    "len(df[df['Job'].str.contains('engineer', case=False)])"
   ]
  },
  {
   "cell_type": "markdown",
   "id": "0f498850",
   "metadata": {
    "papermill": {
     "duration": 0.014112,
     "end_time": "2023-08-03T17:39:52.302726",
     "exception": false,
     "start_time": "2023-08-03T17:39:52.288614",
     "status": "completed"
    },
    "tags": []
   },
   "source": [
    "# 10. **Find The Email of the person with the following IP Address: 132.207.160.22**"
   ]
  },
  {
   "cell_type": "code",
   "execution_count": 15,
   "id": "8aaea394",
   "metadata": {
    "execution": {
     "iopub.execute_input": "2023-08-03T17:39:52.333566Z",
     "iopub.status.busy": "2023-08-03T17:39:52.333128Z",
     "iopub.status.idle": "2023-08-03T17:39:52.343408Z",
     "shell.execute_reply": "2023-08-03T17:39:52.342591Z"
    },
    "papermill": {
     "duration": 0.028321,
     "end_time": "2023-08-03T17:39:52.345642",
     "exception": false,
     "start_time": "2023-08-03T17:39:52.317321",
     "status": "completed"
    },
    "tags": []
   },
   "outputs": [
    {
     "data": {
      "text/plain": [
       "2    amymiller@morales-harrison.com\n",
       "Name: Email, dtype: object"
      ]
     },
     "execution_count": 15,
     "metadata": {},
     "output_type": "execute_result"
    }
   ],
   "source": [
    "df[df['IP Address']=='132.207.160.22']['Email']"
   ]
  },
  {
   "cell_type": "markdown",
   "id": "2df7e01c",
   "metadata": {
    "papermill": {
     "duration": 0.014242,
     "end_time": "2023-08-03T17:39:52.374567",
     "exception": false,
     "start_time": "2023-08-03T17:39:52.360325",
     "status": "completed"
    },
    "tags": []
   },
   "source": [
    "# 11. **How many People have Mastercard as their Credit Card Provider and made a purchase above 50?**"
   ]
  },
  {
   "cell_type": "code",
   "execution_count": 16,
   "id": "0f18b799",
   "metadata": {
    "execution": {
     "iopub.execute_input": "2023-08-03T17:39:52.405913Z",
     "iopub.status.busy": "2023-08-03T17:39:52.405233Z",
     "iopub.status.idle": "2023-08-03T17:39:52.416781Z",
     "shell.execute_reply": "2023-08-03T17:39:52.415596Z"
    },
    "papermill": {
     "duration": 0.030286,
     "end_time": "2023-08-03T17:39:52.419406",
     "exception": false,
     "start_time": "2023-08-03T17:39:52.389120",
     "status": "completed"
    },
    "tags": []
   },
   "outputs": [
    {
     "data": {
      "text/plain": [
       "405"
      ]
     },
     "execution_count": 16,
     "metadata": {},
     "output_type": "execute_result"
    }
   ],
   "source": [
    "len(df.loc[(df['CC Provider']=='Mastercard') & (df['Purchase Price']>50)])"
   ]
  },
  {
   "cell_type": "markdown",
   "id": "cb9f6a81",
   "metadata": {
    "papermill": {
     "duration": 0.014518,
     "end_time": "2023-08-03T17:39:52.449803",
     "exception": false,
     "start_time": "2023-08-03T17:39:52.435285",
     "status": "completed"
    },
    "tags": []
   },
   "source": [
    "# 12. **Find the email of the person with the following Credit Card Number: 4664825258997302**"
   ]
  },
  {
   "cell_type": "code",
   "execution_count": 17,
   "id": "4f51e8a3",
   "metadata": {
    "execution": {
     "iopub.execute_input": "2023-08-03T17:39:52.482841Z",
     "iopub.status.busy": "2023-08-03T17:39:52.482457Z",
     "iopub.status.idle": "2023-08-03T17:39:52.493669Z",
     "shell.execute_reply": "2023-08-03T17:39:52.492230Z"
    },
    "papermill": {
     "duration": 0.030674,
     "end_time": "2023-08-03T17:39:52.496355",
     "exception": false,
     "start_time": "2023-08-03T17:39:52.465681",
     "status": "completed"
    },
    "tags": []
   },
   "outputs": [
    {
     "data": {
      "text/plain": [
       "9992    bberry@wright.net\n",
       "Name: Email, dtype: object"
      ]
     },
     "execution_count": 17,
     "metadata": {},
     "output_type": "execute_result"
    }
   ],
   "source": [
    "df[df['Credit Card']==4664825258997302]['Email']"
   ]
  },
  {
   "cell_type": "markdown",
   "id": "ac1d722f",
   "metadata": {
    "papermill": {
     "duration": 0.015199,
     "end_time": "2023-08-03T17:39:52.526666",
     "exception": false,
     "start_time": "2023-08-03T17:39:52.511467",
     "status": "completed"
    },
    "tags": []
   },
   "source": [
    "# 13. **How many people purchase during the AM and how many people purchase during PM?**"
   ]
  },
  {
   "cell_type": "code",
   "execution_count": 18,
   "id": "fe0725c3",
   "metadata": {
    "execution": {
     "iopub.execute_input": "2023-08-03T17:39:52.560463Z",
     "iopub.status.busy": "2023-08-03T17:39:52.559452Z",
     "iopub.status.idle": "2023-08-03T17:39:52.571481Z",
     "shell.execute_reply": "2023-08-03T17:39:52.570249Z"
    },
    "papermill": {
     "duration": 0.031499,
     "end_time": "2023-08-03T17:39:52.573849",
     "exception": false,
     "start_time": "2023-08-03T17:39:52.542350",
     "status": "completed"
    },
    "tags": []
   },
   "outputs": [
    {
     "data": {
      "text/plain": [
       "4932"
      ]
     },
     "execution_count": 18,
     "metadata": {},
     "output_type": "execute_result"
    }
   ],
   "source": [
    "len(df[df['AM or PM']=='AM']) # Number of People Purchase during the AM"
   ]
  },
  {
   "cell_type": "code",
   "execution_count": 19,
   "id": "ee3b0bb6",
   "metadata": {
    "execution": {
     "iopub.execute_input": "2023-08-03T17:39:52.607132Z",
     "iopub.status.busy": "2023-08-03T17:39:52.606341Z",
     "iopub.status.idle": "2023-08-03T17:39:52.617881Z",
     "shell.execute_reply": "2023-08-03T17:39:52.616786Z"
    },
    "papermill": {
     "duration": 0.030675,
     "end_time": "2023-08-03T17:39:52.620208",
     "exception": false,
     "start_time": "2023-08-03T17:39:52.589533",
     "status": "completed"
    },
    "tags": []
   },
   "outputs": [
    {
     "data": {
      "text/plain": [
       "5068"
      ]
     },
     "execution_count": 19,
     "metadata": {},
     "output_type": "execute_result"
    }
   ],
   "source": [
    "len(df[df['AM or PM']=='PM']) # Number of People Purchase during the PM"
   ]
  },
  {
   "cell_type": "code",
   "execution_count": 20,
   "id": "4527bbe8",
   "metadata": {
    "execution": {
     "iopub.execute_input": "2023-08-03T17:39:52.653279Z",
     "iopub.status.busy": "2023-08-03T17:39:52.652491Z",
     "iopub.status.idle": "2023-08-03T17:39:52.665739Z",
     "shell.execute_reply": "2023-08-03T17:39:52.664525Z"
    },
    "papermill": {
     "duration": 0.0326,
     "end_time": "2023-08-03T17:39:52.668267",
     "exception": false,
     "start_time": "2023-08-03T17:39:52.635667",
     "status": "completed"
    },
    "tags": []
   },
   "outputs": [
    {
     "data": {
      "text/plain": [
       "PM    5068\n",
       "AM    4932\n",
       "Name: AM or PM, dtype: int64"
      ]
     },
     "execution_count": 20,
     "metadata": {},
     "output_type": "execute_result"
    }
   ],
   "source": [
    "df['AM or PM'].value_counts()"
   ]
  },
  {
   "cell_type": "markdown",
   "id": "c2c54e95",
   "metadata": {
    "papermill": {
     "duration": 0.015099,
     "end_time": "2023-08-03T17:39:52.698955",
     "exception": false,
     "start_time": "2023-08-03T17:39:52.683856",
     "status": "completed"
    },
    "tags": []
   },
   "source": [
    "# 14. **How many people have a credit card that expires in 2020?**"
   ]
  },
  {
   "cell_type": "code",
   "execution_count": 21,
   "id": "ee3bddb8",
   "metadata": {
    "execution": {
     "iopub.execute_input": "2023-08-03T17:39:52.731397Z",
     "iopub.status.busy": "2023-08-03T17:39:52.730985Z",
     "iopub.status.idle": "2023-08-03T17:39:52.746365Z",
     "shell.execute_reply": "2023-08-03T17:39:52.745260Z"
    },
    "papermill": {
     "duration": 0.034623,
     "end_time": "2023-08-03T17:39:52.748923",
     "exception": false,
     "start_time": "2023-08-03T17:39:52.714300",
     "status": "completed"
    },
    "tags": []
   },
   "outputs": [
    {
     "data": {
      "text/plain": [
       "988"
      ]
     },
     "execution_count": 21,
     "metadata": {},
     "output_type": "execute_result"
    }
   ],
   "source": [
    "df['CC Exp Date'].str.contains(\"20$\", regex=True).sum()"
   ]
  },
  {
   "cell_type": "markdown",
   "id": "297cc0e7",
   "metadata": {
    "papermill": {
     "duration": 0.015337,
     "end_time": "2023-08-03T17:39:52.779848",
     "exception": false,
     "start_time": "2023-08-03T17:39:52.764511",
     "status": "completed"
    },
    "tags": []
   },
   "source": [
    "# 15. **What are the top 5 most popular email providers (e.g. gmail.com, yahoo.com, etc...)**"
   ]
  },
  {
   "cell_type": "code",
   "execution_count": 22,
   "id": "497a5626",
   "metadata": {
    "execution": {
     "iopub.execute_input": "2023-08-03T17:39:52.812852Z",
     "iopub.status.busy": "2023-08-03T17:39:52.812450Z",
     "iopub.status.idle": "2023-08-03T17:39:52.841713Z",
     "shell.execute_reply": "2023-08-03T17:39:52.840292Z"
    },
    "papermill": {
     "duration": 0.048869,
     "end_time": "2023-08-03T17:39:52.844388",
     "exception": false,
     "start_time": "2023-08-03T17:39:52.795519",
     "status": "completed"
    },
    "tags": []
   },
   "outputs": [
    {
     "data": {
      "text/plain": [
       "hotmail.com     1638\n",
       "yahoo.com       1616\n",
       "gmail.com       1605\n",
       "smith.com         42\n",
       "williams.com      37\n",
       "dtype: int64"
      ]
     },
     "execution_count": 22,
     "metadata": {},
     "output_type": "execute_result"
    }
   ],
   "source": [
    "def fun():\n",
    "    m={}\n",
    "    for email in df['Email']:\n",
    "        if email.split('@')[1] not in m:\n",
    "            m[email.split('@')[1]]=0\n",
    "        m[email.split('@')[1]]+=1\n",
    "    return m\n",
    "f=pd.Series(fun())\n",
    "f.sort_values(ascending=False,inplace=True)\n",
    "f.head()"
   ]
  },
  {
   "cell_type": "code",
   "execution_count": 23,
   "id": "a1e066b0",
   "metadata": {
    "execution": {
     "iopub.execute_input": "2023-08-03T17:39:52.877908Z",
     "iopub.status.busy": "2023-08-03T17:39:52.877521Z",
     "iopub.status.idle": "2023-08-03T17:39:52.896936Z",
     "shell.execute_reply": "2023-08-03T17:39:52.895755Z"
    },
    "papermill": {
     "duration": 0.039153,
     "end_time": "2023-08-03T17:39:52.899441",
     "exception": false,
     "start_time": "2023-08-03T17:39:52.860288",
     "status": "completed"
    },
    "tags": []
   },
   "outputs": [
    {
     "data": {
      "text/plain": [
       "hotmail.com     1638\n",
       "yahoo.com       1616\n",
       "gmail.com       1605\n",
       "smith.com         42\n",
       "williams.com      37\n",
       "Name: Email, dtype: int64"
      ]
     },
     "execution_count": 23,
     "metadata": {},
     "output_type": "execute_result"
    }
   ],
   "source": [
    "df['Email'].apply(lambda x:x.split('@')[1]).value_counts().head()\n",
    "# Another Method or One Liner"
   ]
  },
  {
   "cell_type": "markdown",
   "id": "1a783cf5",
   "metadata": {
    "papermill": {
     "duration": 0.015504,
     "end_time": "2023-08-03T17:39:52.930989",
     "exception": false,
     "start_time": "2023-08-03T17:39:52.915485",
     "status": "completed"
    },
    "tags": []
   },
   "source": [
    "# **Data Visualization**"
   ]
  },
  {
   "cell_type": "code",
   "execution_count": 24,
   "id": "01195085",
   "metadata": {
    "execution": {
     "iopub.execute_input": "2023-08-03T17:39:52.964626Z",
     "iopub.status.busy": "2023-08-03T17:39:52.964220Z",
     "iopub.status.idle": "2023-08-03T17:39:52.971458Z",
     "shell.execute_reply": "2023-08-03T17:39:52.970274Z"
    },
    "papermill": {
     "duration": 0.026942,
     "end_time": "2023-08-03T17:39:52.973755",
     "exception": false,
     "start_time": "2023-08-03T17:39:52.946813",
     "status": "completed"
    },
    "tags": []
   },
   "outputs": [],
   "source": [
    "import matplotlib.pyplot as plt\n",
    "\n",
    "%matplotlib inline\n",
    "\n",
    "new_df=f.head()\n",
    "x=list(new_df.index)\n",
    "y=list(new_df.values)"
   ]
  },
  {
   "cell_type": "code",
   "execution_count": 25,
   "id": "b9cc83bc",
   "metadata": {
    "execution": {
     "iopub.execute_input": "2023-08-03T17:39:53.009895Z",
     "iopub.status.busy": "2023-08-03T17:39:53.008938Z",
     "iopub.status.idle": "2023-08-03T17:39:53.253447Z",
     "shell.execute_reply": "2023-08-03T17:39:53.251952Z"
    },
    "papermill": {
     "duration": 0.265643,
     "end_time": "2023-08-03T17:39:53.256001",
     "exception": false,
     "start_time": "2023-08-03T17:39:52.990358",
     "status": "completed"
    },
    "tags": []
   },
   "outputs": [
    {
     "data": {
      "image/png": "[encoded data removed]",
      "text/plain": [
       "<Figure size 500x300 with 1 Axes>"
      ]
     },
     "metadata": {},
     "output_type": "display_data"
    }
   ],
   "source": [
    "# plt.xlabel('x label')\n",
    "# plt.ylabel('y label')\n",
    "# plt.title('z label')\n",
    "fig,ax=plt.subplots(figsize=(5,3)) # Create a figure containing a single axes.\n",
    "ax.set_xlabel('Email Providers') #x Axis Label\n",
    "ax.set_ylabel('Counts') #y Axis Label\n",
    "ax.set_title('Top Email Providers') # Title\n",
    "# ax.plot(x,y,color=\"red\") # For Line\n",
    "# ax.scatter(x,y,marker='D') # For Markers\n",
    "ax.bar(x,y) # For Bar Graph\n",
    "# plt.figure('R')\n",
    "# ax.grid(True)\n",
    "plt.show()"
   ]
  }
 ],
 "metadata": {
  "kernelspec": {
   "display_name": "Python 3",
   "language": "python",
   "name": "python3"
  },
  "language_info": {
   "codemirror_mode": {
    "name": "ipython",
    "version": 3
   },
   "file_extension": ".py",
   "mimetype": "text/x-python",
   "name": "python",
   "nbconvert_exporter": "python",
   "pygments_lexer": "ipython3",
   "version": "3.10.12"
  },
  "papermill": {
   "default_parameters": {},
   "duration": 14.487323,
   "end_time": "2023-08-03T17:39:54.195318",
   "environment_variables": {},
   "exception": null,
   "input_path": "__notebook__.ipynb",
   "output_path": "__notebook__.ipynb",
   "parameters": {},
   "start_time": "2023-08-03T17:39:39.707995",
   "version": "2.4.0"
  }
 },
 "nbformat": 4,
 "nbformat_minor": 5
}
