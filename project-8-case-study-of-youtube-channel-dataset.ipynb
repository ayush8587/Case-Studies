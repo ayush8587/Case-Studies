{
 "cells": [
  {
   "cell_type": "code",
   "execution_count": 1,
   "id": "5e13e9bb",
   "metadata": {
    "_cell_guid": "b1076dfc-b9ad-4769-8c92-a6c4dae69d19",
    "_uuid": "8f2839f25d086af736a60e9eeb907d3b93b6e0e5",
    "execution": {
     "iopub.execute_input": "2023-08-07T15:38:47.568153Z",
     "iopub.status.busy": "2023-08-07T15:38:47.567633Z",
     "iopub.status.idle": "2023-08-07T15:38:47.587623Z",
     "shell.execute_reply": "2023-08-07T15:38:47.586389Z"
    },
    "papermill": {
     "duration": 0.037838,
     "end_time": "2023-08-07T15:38:47.590270",
     "exception": false,
     "start_time": "2023-08-07T15:38:47.552432",
     "status": "completed"
    },
    "tags": []
   },
   "outputs": [
    {
     "name": "stdout",
     "output_type": "stream",
     "text": [
      "/kaggle/input/top5000youtubechannels/top-5000-youtube-channels.csv\n"
     ]
    }
   ],
   "source": [
    "# This Python 3 environment comes with many helpful analytics libraries installed\n",
    "# It is defined by the kaggle/python Docker image: https://github.com/kaggle/docker-python\n",
    "# For example, here's several helpful packages to load\n",
    "\n",
    "import numpy as np # linear algebra\n",
    "import pandas as pd # data processing, CSV file I/O (e.g. pd.read_csv)\n",
    "import matplotlib.pyplot as plt\n",
    "%matplotlib inline\n",
    "# Input data files are available in the read-only \"../input/\" directory\n",
    "# For example, running this (by clicking run or pressing Shift+Enter) will list all files under the input directory\n",
    "\n",
    "import os\n",
    "for dirname, _, filenames in os.walk('/kaggle/input'):\n",
    "    for filename in filenames:\n",
    "        print(os.path.join(dirname, filename))\n",
    "\n",
    "# You can write up to 20GB to the current directory (/kaggle/working/) that gets preserved as output when you create a version using \"Save & Run All\" \n",
    "# You can also write temporary files to /kaggle/temp/, but they won't be saved outside of the current session"
   ]
  },
  {
   "cell_type": "markdown",
   "id": "18bf2798",
   "metadata": {
    "papermill": {
     "duration": 0.014067,
     "end_time": "2023-08-07T15:38:47.617381",
     "exception": false,
     "start_time": "2023-08-07T15:38:47.603314",
     "status": "completed"
    },
    "tags": []
   },
   "source": [
    "First we load the Dataset into a Dataframe."
   ]
  },
  {
   "cell_type": "code",
   "execution_count": 2,
   "id": "1aefa52e",
   "metadata": {
    "execution": {
     "iopub.execute_input": "2023-08-07T15:38:47.644878Z",
     "iopub.status.busy": "2023-08-07T15:38:47.644453Z",
     "iopub.status.idle": "2023-08-07T15:38:47.681888Z",
     "shell.execute_reply": "2023-08-07T15:38:47.680597Z"
    },
    "papermill": {
     "duration": 0.054306,
     "end_time": "2023-08-07T15:38:47.684594",
     "exception": false,
     "start_time": "2023-08-07T15:38:47.630288",
     "status": "completed"
    },
    "tags": []
   },
   "outputs": [],
   "source": [
    "df=pd.read_csv(\"/kaggle/input/top5000youtubechannels/top-5000-youtube-channels.csv\")"
   ]
  },
  {
   "cell_type": "markdown",
   "id": "eb3edbbd",
   "metadata": {
    "papermill": {
     "duration": 0.012483,
     "end_time": "2023-08-07T15:38:47.710502",
     "exception": false,
     "start_time": "2023-08-07T15:38:47.698019",
     "status": "completed"
    },
    "tags": []
   },
   "source": [
    "# 1. **Display All Rows Except the Last 5 rows Using Head Method**"
   ]
  },
  {
   "cell_type": "code",
   "execution_count": 3,
   "id": "027ab560",
   "metadata": {
    "execution": {
     "iopub.execute_input": "2023-08-07T15:38:47.738062Z",
     "iopub.status.busy": "2023-08-07T15:38:47.737652Z",
     "iopub.status.idle": "2023-08-07T15:38:47.763341Z",
     "shell.execute_reply": "2023-08-07T15:38:47.762166Z"
    },
    "papermill": {
     "duration": 0.042299,
     "end_time": "2023-08-07T15:38:47.765571",
     "exception": false,
     "start_time": "2023-08-07T15:38:47.723272",
     "status": "completed"
    },
    "tags": []
   },
   "outputs": [
    {
     "data": {
      "text/html": [
       "<div>\n",
       "<style scoped>\n",
       "    .dataframe tbody tr th:only-of-type {\n",
       "        vertical-align: middle;\n",
       "    }\n",
       "\n",
       "    .dataframe tbody tr th {\n",
       "        vertical-align: top;\n",
       "    }\n",
       "\n",
       "    .dataframe thead th {\n",
       "        text-align: right;\n",
       "    }\n",
       "</style>\n",
       "<table border=\"1\" class=\"dataframe\">\n",
       "  <thead>\n",
       "    <tr style=\"text-align: right;\">\n",
       "      <th></th>\n",
       "      <th>Rank</th>\n",
       "      <th>Grade</th>\n",
       "      <th>Channel name</th>\n",
       "      <th>Video Uploads</th>\n",
       "      <th>Subscribers</th>\n",
       "      <th>Video views</th>\n",
       "    </tr>\n",
       "  </thead>\n",
       "  <tbody>\n",
       "    <tr>\n",
       "      <th>0</th>\n",
       "      <td>1st</td>\n",
       "      <td>A++</td>\n",
       "      <td>Zee TV</td>\n",
       "      <td>82757</td>\n",
       "      <td>18752951</td>\n",
       "      <td>20869786591</td>\n",
       "    </tr>\n",
       "    <tr>\n",
       "      <th>1</th>\n",
       "      <td>2nd</td>\n",
       "      <td>A++</td>\n",
       "      <td>T-Series</td>\n",
       "      <td>12661</td>\n",
       "      <td>61196302</td>\n",
       "      <td>47548839843</td>\n",
       "    </tr>\n",
       "    <tr>\n",
       "      <th>2</th>\n",
       "      <td>3rd</td>\n",
       "      <td>A++</td>\n",
       "      <td>Cocomelon - Nursery Rhymes</td>\n",
       "      <td>373</td>\n",
       "      <td>19238251</td>\n",
       "      <td>9793305082</td>\n",
       "    </tr>\n",
       "    <tr>\n",
       "      <th>3</th>\n",
       "      <td>4th</td>\n",
       "      <td>A++</td>\n",
       "      <td>SET India</td>\n",
       "      <td>27323</td>\n",
       "      <td>31180559</td>\n",
       "      <td>22675948293</td>\n",
       "    </tr>\n",
       "    <tr>\n",
       "      <th>4</th>\n",
       "      <td>5th</td>\n",
       "      <td>A++</td>\n",
       "      <td>WWE</td>\n",
       "      <td>36756</td>\n",
       "      <td>32852346</td>\n",
       "      <td>26273668433</td>\n",
       "    </tr>\n",
       "    <tr>\n",
       "      <th>...</th>\n",
       "      <td>...</td>\n",
       "      <td>...</td>\n",
       "      <td>...</td>\n",
       "      <td>...</td>\n",
       "      <td>...</td>\n",
       "      <td>...</td>\n",
       "    </tr>\n",
       "    <tr>\n",
       "      <th>4990</th>\n",
       "      <td>4,991st</td>\n",
       "      <td>B+</td>\n",
       "      <td>Ho Ngoc Ha's Official Channel</td>\n",
       "      <td>208</td>\n",
       "      <td>--</td>\n",
       "      <td>127185704</td>\n",
       "    </tr>\n",
       "    <tr>\n",
       "      <th>4991</th>\n",
       "      <td>4,992nd</td>\n",
       "      <td>B+</td>\n",
       "      <td>Toys to Learn Colors</td>\n",
       "      <td>11</td>\n",
       "      <td>663114</td>\n",
       "      <td>141933264</td>\n",
       "    </tr>\n",
       "    <tr>\n",
       "      <th>4992</th>\n",
       "      <td>4,993rd</td>\n",
       "      <td>B+</td>\n",
       "      <td>КАZКА</td>\n",
       "      <td>25</td>\n",
       "      <td>131766</td>\n",
       "      <td>74304638</td>\n",
       "    </tr>\n",
       "    <tr>\n",
       "      <th>4993</th>\n",
       "      <td>4,994th</td>\n",
       "      <td>B+</td>\n",
       "      <td>United CUBE (CUBE Entertainment…</td>\n",
       "      <td>1055</td>\n",
       "      <td>1586835</td>\n",
       "      <td>371299166</td>\n",
       "    </tr>\n",
       "    <tr>\n",
       "      <th>4994</th>\n",
       "      <td>4,995th</td>\n",
       "      <td>B+</td>\n",
       "      <td>Wings Marathi</td>\n",
       "      <td>1735</td>\n",
       "      <td>1099659</td>\n",
       "      <td>346175699</td>\n",
       "    </tr>\n",
       "  </tbody>\n",
       "</table>\n",
       "<p>4995 rows × 6 columns</p>\n",
       "</div>"
      ],
      "text/plain": [
       "         Rank Grade                      Channel name Video Uploads  \\\n",
       "0         1st  A++                             Zee TV         82757   \n",
       "1         2nd  A++                           T-Series         12661   \n",
       "2         3rd  A++         Cocomelon - Nursery Rhymes           373   \n",
       "3         4th  A++                          SET India         27323   \n",
       "4         5th  A++                                WWE         36756   \n",
       "...       ...   ...                               ...           ...   \n",
       "4990  4,991st   B+      Ho Ngoc Ha's Official Channel           208   \n",
       "4991  4,992nd   B+               Toys to Learn Colors            11   \n",
       "4992  4,993rd   B+                              КАZКА            25   \n",
       "4993  4,994th   B+   United CUBE (CUBE Entertainment…          1055   \n",
       "4994  4,995th   B+                      Wings Marathi          1735   \n",
       "\n",
       "     Subscribers  Video views  \n",
       "0       18752951  20869786591  \n",
       "1       61196302  47548839843  \n",
       "2       19238251   9793305082  \n",
       "3       31180559  22675948293  \n",
       "4       32852346  26273668433  \n",
       "...          ...          ...  \n",
       "4990         --     127185704  \n",
       "4991      663114    141933264  \n",
       "4992      131766     74304638  \n",
       "4993     1586835    371299166  \n",
       "4994     1099659    346175699  \n",
       "\n",
       "[4995 rows x 6 columns]"
      ]
     },
     "execution_count": 3,
     "metadata": {},
     "output_type": "execute_result"
    }
   ],
   "source": [
    "df.head(-5) #negative values is use for this."
   ]
  },
  {
   "cell_type": "markdown",
   "id": "db42405e",
   "metadata": {
    "papermill": {
     "duration": 0.013876,
     "end_time": "2023-08-07T15:38:47.793410",
     "exception": false,
     "start_time": "2023-08-07T15:38:47.779534",
     "status": "completed"
    },
    "tags": []
   },
   "source": [
    "# 2. **Display All Rows Except the First 5 rows Using Tail Method**"
   ]
  },
  {
   "cell_type": "code",
   "execution_count": 4,
   "id": "4aafcb9e",
   "metadata": {
    "execution": {
     "iopub.execute_input": "2023-08-07T15:38:47.822933Z",
     "iopub.status.busy": "2023-08-07T15:38:47.822273Z",
     "iopub.status.idle": "2023-08-07T15:38:47.836353Z",
     "shell.execute_reply": "2023-08-07T15:38:47.835231Z"
    },
    "papermill": {
     "duration": 0.031251,
     "end_time": "2023-08-07T15:38:47.838529",
     "exception": false,
     "start_time": "2023-08-07T15:38:47.807278",
     "status": "completed"
    },
    "tags": []
   },
   "outputs": [
    {
     "data": {
      "text/html": [
       "<div>\n",
       "<style scoped>\n",
       "    .dataframe tbody tr th:only-of-type {\n",
       "        vertical-align: middle;\n",
       "    }\n",
       "\n",
       "    .dataframe tbody tr th {\n",
       "        vertical-align: top;\n",
       "    }\n",
       "\n",
       "    .dataframe thead th {\n",
       "        text-align: right;\n",
       "    }\n",
       "</style>\n",
       "<table border=\"1\" class=\"dataframe\">\n",
       "  <thead>\n",
       "    <tr style=\"text-align: right;\">\n",
       "      <th></th>\n",
       "      <th>Rank</th>\n",
       "      <th>Grade</th>\n",
       "      <th>Channel name</th>\n",
       "      <th>Video Uploads</th>\n",
       "      <th>Subscribers</th>\n",
       "      <th>Video views</th>\n",
       "    </tr>\n",
       "  </thead>\n",
       "  <tbody>\n",
       "    <tr>\n",
       "      <th>5</th>\n",
       "      <td>6th</td>\n",
       "      <td>A++</td>\n",
       "      <td>Movieclips</td>\n",
       "      <td>30243</td>\n",
       "      <td>17149705</td>\n",
       "      <td>16618094724</td>\n",
       "    </tr>\n",
       "    <tr>\n",
       "      <th>6</th>\n",
       "      <td>7th</td>\n",
       "      <td>A++</td>\n",
       "      <td>netd müzik</td>\n",
       "      <td>8500</td>\n",
       "      <td>11373567</td>\n",
       "      <td>23898730764</td>\n",
       "    </tr>\n",
       "    <tr>\n",
       "      <th>7</th>\n",
       "      <td>8th</td>\n",
       "      <td>A++</td>\n",
       "      <td>ABS-CBN Entertainment</td>\n",
       "      <td>100147</td>\n",
       "      <td>12149206</td>\n",
       "      <td>17202609850</td>\n",
       "    </tr>\n",
       "    <tr>\n",
       "      <th>8</th>\n",
       "      <td>9th</td>\n",
       "      <td>A++</td>\n",
       "      <td>Ryan ToysReview</td>\n",
       "      <td>1140</td>\n",
       "      <td>16082927</td>\n",
       "      <td>24518098041</td>\n",
       "    </tr>\n",
       "    <tr>\n",
       "      <th>9</th>\n",
       "      <td>10th</td>\n",
       "      <td>A++</td>\n",
       "      <td>Zee Marathi</td>\n",
       "      <td>74607</td>\n",
       "      <td>2841811</td>\n",
       "      <td>2591830307</td>\n",
       "    </tr>\n",
       "    <tr>\n",
       "      <th>...</th>\n",
       "      <td>...</td>\n",
       "      <td>...</td>\n",
       "      <td>...</td>\n",
       "      <td>...</td>\n",
       "      <td>...</td>\n",
       "      <td>...</td>\n",
       "    </tr>\n",
       "    <tr>\n",
       "      <th>4995</th>\n",
       "      <td>4,996th</td>\n",
       "      <td>B+</td>\n",
       "      <td>Uras Benlioğlu</td>\n",
       "      <td>706</td>\n",
       "      <td>2072942</td>\n",
       "      <td>441202795</td>\n",
       "    </tr>\n",
       "    <tr>\n",
       "      <th>4996</th>\n",
       "      <td>4,997th</td>\n",
       "      <td>B+</td>\n",
       "      <td>HI-TECH MUSIC LTD</td>\n",
       "      <td>797</td>\n",
       "      <td>1055091</td>\n",
       "      <td>377331722</td>\n",
       "    </tr>\n",
       "    <tr>\n",
       "      <th>4997</th>\n",
       "      <td>4,998th</td>\n",
       "      <td>B+</td>\n",
       "      <td>Mastersaint</td>\n",
       "      <td>110</td>\n",
       "      <td>3265735</td>\n",
       "      <td>311758426</td>\n",
       "    </tr>\n",
       "    <tr>\n",
       "      <th>4998</th>\n",
       "      <td>4,999th</td>\n",
       "      <td>B+</td>\n",
       "      <td>Bruce McIntosh</td>\n",
       "      <td>3475</td>\n",
       "      <td>32990</td>\n",
       "      <td>14563764</td>\n",
       "    </tr>\n",
       "    <tr>\n",
       "      <th>4999</th>\n",
       "      <td>5,000th</td>\n",
       "      <td>B+</td>\n",
       "      <td>SehatAQUA</td>\n",
       "      <td>254</td>\n",
       "      <td>21172</td>\n",
       "      <td>73312511</td>\n",
       "    </tr>\n",
       "  </tbody>\n",
       "</table>\n",
       "<p>4995 rows × 6 columns</p>\n",
       "</div>"
      ],
      "text/plain": [
       "         Rank Grade           Channel name Video Uploads Subscribers  \\\n",
       "5         6th  A++              Movieclips         30243    17149705   \n",
       "6         7th  A++              netd müzik          8500    11373567   \n",
       "7         8th  A++   ABS-CBN Entertainment        100147    12149206   \n",
       "8         9th  A++         Ryan ToysReview          1140    16082927   \n",
       "9        10th  A++             Zee Marathi         74607     2841811   \n",
       "...       ...   ...                    ...           ...         ...   \n",
       "4995  4,996th   B+          Uras Benlioğlu           706     2072942   \n",
       "4996  4,997th   B+       HI-TECH MUSIC LTD           797     1055091   \n",
       "4997  4,998th   B+             Mastersaint           110     3265735   \n",
       "4998  4,999th   B+          Bruce McIntosh          3475       32990   \n",
       "4999  5,000th   B+               SehatAQUA           254       21172   \n",
       "\n",
       "      Video views  \n",
       "5     16618094724  \n",
       "6     23898730764  \n",
       "7     17202609850  \n",
       "8     24518098041  \n",
       "9      2591830307  \n",
       "...           ...  \n",
       "4995    441202795  \n",
       "4996    377331722  \n",
       "4997    311758426  \n",
       "4998     14563764  \n",
       "4999     73312511  \n",
       "\n",
       "[4995 rows x 6 columns]"
      ]
     },
     "execution_count": 4,
     "metadata": {},
     "output_type": "execute_result"
    }
   ],
   "source": [
    "df.tail(-5)"
   ]
  },
  {
   "cell_type": "markdown",
   "id": "a6aae29e",
   "metadata": {
    "papermill": {
     "duration": 0.014305,
     "end_time": "2023-08-07T15:38:47.866481",
     "exception": false,
     "start_time": "2023-08-07T15:38:47.852176",
     "status": "completed"
    },
    "tags": []
   },
   "source": [
    "# 3. **Find Shape of Our Dataset (Number of Rows And Number of Columns)**"
   ]
  },
  {
   "cell_type": "code",
   "execution_count": 5,
   "id": "852bbb2f",
   "metadata": {
    "execution": {
     "iopub.execute_input": "2023-08-07T15:38:47.895044Z",
     "iopub.status.busy": "2023-08-07T15:38:47.894626Z",
     "iopub.status.idle": "2023-08-07T15:38:47.900295Z",
     "shell.execute_reply": "2023-08-07T15:38:47.899091Z"
    },
    "papermill": {
     "duration": 0.02269,
     "end_time": "2023-08-07T15:38:47.902490",
     "exception": false,
     "start_time": "2023-08-07T15:38:47.879800",
     "status": "completed"
    },
    "tags": []
   },
   "outputs": [
    {
     "name": "stdout",
     "output_type": "stream",
     "text": [
      "Number of Rows: 5000 Number of Columns: 6\n"
     ]
    }
   ],
   "source": [
    "print(\"Number of Rows:\",df.shape[0],\"Number of Columns:\",df.shape[1])"
   ]
  },
  {
   "cell_type": "markdown",
   "id": "9bca1361",
   "metadata": {
    "papermill": {
     "duration": 0.013256,
     "end_time": "2023-08-07T15:38:47.929164",
     "exception": false,
     "start_time": "2023-08-07T15:38:47.915908",
     "status": "completed"
    },
    "tags": []
   },
   "source": [
    "# 4. **Get Information About Our Dataset Like Total Number Rows, Total Number of Columns, Datatypes of Each Column And Memory Requirement**"
   ]
  },
  {
   "cell_type": "code",
   "execution_count": 6,
   "id": "4180974e",
   "metadata": {
    "execution": {
     "iopub.execute_input": "2023-08-07T15:38:47.957826Z",
     "iopub.status.busy": "2023-08-07T15:38:47.957411Z",
     "iopub.status.idle": "2023-08-07T15:38:47.987315Z",
     "shell.execute_reply": "2023-08-07T15:38:47.986092Z"
    },
    "papermill": {
     "duration": 0.046945,
     "end_time": "2023-08-07T15:38:47.989531",
     "exception": false,
     "start_time": "2023-08-07T15:38:47.942586",
     "status": "completed"
    },
    "tags": []
   },
   "outputs": [
    {
     "name": "stdout",
     "output_type": "stream",
     "text": [
      "<class 'pandas.core.frame.DataFrame'>\n",
      "RangeIndex: 5000 entries, 0 to 4999\n",
      "Data columns (total 6 columns):\n",
      " #   Column         Non-Null Count  Dtype \n",
      "---  ------         --------------  ----- \n",
      " 0   Rank           5000 non-null   object\n",
      " 1   Grade          5000 non-null   object\n",
      " 2   Channel name   5000 non-null   object\n",
      " 3   Video Uploads  5000 non-null   object\n",
      " 4   Subscribers    5000 non-null   object\n",
      " 5   Video views    5000 non-null   int64 \n",
      "dtypes: int64(1), object(5)\n",
      "memory usage: 234.5+ KB\n"
     ]
    }
   ],
   "source": [
    "df.info()"
   ]
  },
  {
   "cell_type": "markdown",
   "id": "8227e894",
   "metadata": {
    "papermill": {
     "duration": 0.013323,
     "end_time": "2023-08-07T15:38:48.016621",
     "exception": false,
     "start_time": "2023-08-07T15:38:48.003298",
     "status": "completed"
    },
    "tags": []
   },
   "source": [
    "# 5. **Get Overall Statistics About The Dataframe**"
   ]
  },
  {
   "cell_type": "code",
   "execution_count": 7,
   "id": "ed2deb17",
   "metadata": {
    "execution": {
     "iopub.execute_input": "2023-08-07T15:38:48.045685Z",
     "iopub.status.busy": "2023-08-07T15:38:48.045248Z",
     "iopub.status.idle": "2023-08-07T15:38:48.050231Z",
     "shell.execute_reply": "2023-08-07T15:38:48.049020Z"
    },
    "papermill": {
     "duration": 0.022153,
     "end_time": "2023-08-07T15:38:48.052338",
     "exception": false,
     "start_time": "2023-08-07T15:38:48.030185",
     "status": "completed"
    },
    "tags": []
   },
   "outputs": [],
   "source": [
    "pd.options.display.float_format='{:.2f}'.format #for converting the exponential data to float which is easy to compute or perform any operation."
   ]
  },
  {
   "cell_type": "code",
   "execution_count": 8,
   "id": "71ed3ccb",
   "metadata": {
    "execution": {
     "iopub.execute_input": "2023-08-07T15:38:48.081289Z",
     "iopub.status.busy": "2023-08-07T15:38:48.080790Z",
     "iopub.status.idle": "2023-08-07T15:38:48.119027Z",
     "shell.execute_reply": "2023-08-07T15:38:48.117917Z"
    },
    "papermill": {
     "duration": 0.055593,
     "end_time": "2023-08-07T15:38:48.121381",
     "exception": false,
     "start_time": "2023-08-07T15:38:48.065788",
     "status": "completed"
    },
    "tags": []
   },
   "outputs": [
    {
     "data": {
      "text/html": [
       "<div>\n",
       "<style scoped>\n",
       "    .dataframe tbody tr th:only-of-type {\n",
       "        vertical-align: middle;\n",
       "    }\n",
       "\n",
       "    .dataframe tbody tr th {\n",
       "        vertical-align: top;\n",
       "    }\n",
       "\n",
       "    .dataframe thead th {\n",
       "        text-align: right;\n",
       "    }\n",
       "</style>\n",
       "<table border=\"1\" class=\"dataframe\">\n",
       "  <thead>\n",
       "    <tr style=\"text-align: right;\">\n",
       "      <th></th>\n",
       "      <th>Rank</th>\n",
       "      <th>Grade</th>\n",
       "      <th>Channel name</th>\n",
       "      <th>Video Uploads</th>\n",
       "      <th>Subscribers</th>\n",
       "      <th>Video views</th>\n",
       "    </tr>\n",
       "  </thead>\n",
       "  <tbody>\n",
       "    <tr>\n",
       "      <th>count</th>\n",
       "      <td>5000</td>\n",
       "      <td>5000</td>\n",
       "      <td>5000</td>\n",
       "      <td>5000</td>\n",
       "      <td>5000</td>\n",
       "      <td>5000.00</td>\n",
       "    </tr>\n",
       "    <tr>\n",
       "      <th>unique</th>\n",
       "      <td>5000</td>\n",
       "      <td>6</td>\n",
       "      <td>4993</td>\n",
       "      <td>2286</td>\n",
       "      <td>4612</td>\n",
       "      <td>NaN</td>\n",
       "    </tr>\n",
       "    <tr>\n",
       "      <th>top</th>\n",
       "      <td>1st</td>\n",
       "      <td>B+</td>\n",
       "      <td>Thơ Nguyễn</td>\n",
       "      <td>26</td>\n",
       "      <td>--</td>\n",
       "      <td>NaN</td>\n",
       "    </tr>\n",
       "    <tr>\n",
       "      <th>freq</th>\n",
       "      <td>1</td>\n",
       "      <td>2956</td>\n",
       "      <td>2</td>\n",
       "      <td>17</td>\n",
       "      <td>387</td>\n",
       "      <td>NaN</td>\n",
       "    </tr>\n",
       "    <tr>\n",
       "      <th>mean</th>\n",
       "      <td>NaN</td>\n",
       "      <td>NaN</td>\n",
       "      <td>NaN</td>\n",
       "      <td>NaN</td>\n",
       "      <td>NaN</td>\n",
       "      <td>1071449400.15</td>\n",
       "    </tr>\n",
       "    <tr>\n",
       "      <th>std</th>\n",
       "      <td>NaN</td>\n",
       "      <td>NaN</td>\n",
       "      <td>NaN</td>\n",
       "      <td>NaN</td>\n",
       "      <td>NaN</td>\n",
       "      <td>2003843972.12</td>\n",
       "    </tr>\n",
       "    <tr>\n",
       "      <th>min</th>\n",
       "      <td>NaN</td>\n",
       "      <td>NaN</td>\n",
       "      <td>NaN</td>\n",
       "      <td>NaN</td>\n",
       "      <td>NaN</td>\n",
       "      <td>75.00</td>\n",
       "    </tr>\n",
       "    <tr>\n",
       "      <th>25%</th>\n",
       "      <td>NaN</td>\n",
       "      <td>NaN</td>\n",
       "      <td>NaN</td>\n",
       "      <td>NaN</td>\n",
       "      <td>NaN</td>\n",
       "      <td>186232945.75</td>\n",
       "    </tr>\n",
       "    <tr>\n",
       "      <th>50%</th>\n",
       "      <td>NaN</td>\n",
       "      <td>NaN</td>\n",
       "      <td>NaN</td>\n",
       "      <td>NaN</td>\n",
       "      <td>NaN</td>\n",
       "      <td>482054780.00</td>\n",
       "    </tr>\n",
       "    <tr>\n",
       "      <th>75%</th>\n",
       "      <td>NaN</td>\n",
       "      <td>NaN</td>\n",
       "      <td>NaN</td>\n",
       "      <td>NaN</td>\n",
       "      <td>NaN</td>\n",
       "      <td>1124367826.75</td>\n",
       "    </tr>\n",
       "    <tr>\n",
       "      <th>max</th>\n",
       "      <td>NaN</td>\n",
       "      <td>NaN</td>\n",
       "      <td>NaN</td>\n",
       "      <td>NaN</td>\n",
       "      <td>NaN</td>\n",
       "      <td>47548839843.00</td>\n",
       "    </tr>\n",
       "  </tbody>\n",
       "</table>\n",
       "</div>"
      ],
      "text/plain": [
       "        Rank Grade Channel name Video Uploads Subscribers    Video views\n",
       "count   5000  5000         5000          5000        5000        5000.00\n",
       "unique  5000     6         4993          2286        4612            NaN\n",
       "top      1st   B+    Thơ Nguyễn            26         --             NaN\n",
       "freq       1  2956            2            17         387            NaN\n",
       "mean     NaN   NaN          NaN           NaN         NaN  1071449400.15\n",
       "std      NaN   NaN          NaN           NaN         NaN  2003843972.12\n",
       "min      NaN   NaN          NaN           NaN         NaN          75.00\n",
       "25%      NaN   NaN          NaN           NaN         NaN   186232945.75\n",
       "50%      NaN   NaN          NaN           NaN         NaN   482054780.00\n",
       "75%      NaN   NaN          NaN           NaN         NaN  1124367826.75\n",
       "max      NaN   NaN          NaN           NaN         NaN 47548839843.00"
      ]
     },
     "execution_count": 8,
     "metadata": {},
     "output_type": "execute_result"
    }
   ],
   "source": [
    "df.describe(include=\"all\")\n"
   ]
  },
  {
   "cell_type": "markdown",
   "id": "acb41e59",
   "metadata": {
    "papermill": {
     "duration": 0.015207,
     "end_time": "2023-08-07T15:38:48.150616",
     "exception": false,
     "start_time": "2023-08-07T15:38:48.135409",
     "status": "completed"
    },
    "tags": []
   },
   "source": [
    "# 6. **Data Cleaning  (Replace '--'  to NaN)**"
   ]
  },
  {
   "cell_type": "code",
   "execution_count": 9,
   "id": "be2bfb85",
   "metadata": {
    "execution": {
     "iopub.execute_input": "2023-08-07T15:38:48.179980Z",
     "iopub.status.busy": "2023-08-07T15:38:48.179522Z",
     "iopub.status.idle": "2023-08-07T15:38:48.216441Z",
     "shell.execute_reply": "2023-08-07T15:38:48.215282Z"
    },
    "papermill": {
     "duration": 0.055238,
     "end_time": "2023-08-07T15:38:48.219586",
     "exception": false,
     "start_time": "2023-08-07T15:38:48.164348",
     "status": "completed"
    },
    "tags": []
   },
   "outputs": [],
   "source": [
    "df.replace('--',np.NaN,regex=True,inplace=True)"
   ]
  },
  {
   "cell_type": "markdown",
   "id": "aeb27f79",
   "metadata": {
    "papermill": {
     "duration": 0.014497,
     "end_time": "2023-08-07T15:38:48.248302",
     "exception": false,
     "start_time": "2023-08-07T15:38:48.233805",
     "status": "completed"
    },
    "tags": []
   },
   "source": [
    "# 7. **Check Null Values In The Dataset**"
   ]
  },
  {
   "cell_type": "code",
   "execution_count": 10,
   "id": "535b3fdb",
   "metadata": {
    "execution": {
     "iopub.execute_input": "2023-08-07T15:38:48.278539Z",
     "iopub.status.busy": "2023-08-07T15:38:48.278097Z",
     "iopub.status.idle": "2023-08-07T15:38:48.291165Z",
     "shell.execute_reply": "2023-08-07T15:38:48.290353Z"
    },
    "papermill": {
     "duration": 0.030548,
     "end_time": "2023-08-07T15:38:48.293083",
     "exception": false,
     "start_time": "2023-08-07T15:38:48.262535",
     "status": "completed"
    },
    "tags": []
   },
   "outputs": [
    {
     "data": {
      "text/plain": [
       "Rank               0\n",
       "Grade              0\n",
       "Channel name       0\n",
       "Video Uploads      6\n",
       "Subscribers      387\n",
       "Video views        0\n",
       "dtype: int64"
      ]
     },
     "execution_count": 10,
     "metadata": {},
     "output_type": "execute_result"
    }
   ],
   "source": [
    "df.isnull().sum()"
   ]
  },
  {
   "cell_type": "code",
   "execution_count": 11,
   "id": "52a016d1",
   "metadata": {
    "execution": {
     "iopub.execute_input": "2023-08-07T15:38:48.323364Z",
     "iopub.status.busy": "2023-08-07T15:38:48.322663Z",
     "iopub.status.idle": "2023-08-07T15:38:48.333443Z",
     "shell.execute_reply": "2023-08-07T15:38:48.332635Z"
    },
    "papermill": {
     "duration": 0.028689,
     "end_time": "2023-08-07T15:38:48.335772",
     "exception": false,
     "start_time": "2023-08-07T15:38:48.307083",
     "status": "completed"
    },
    "tags": []
   },
   "outputs": [],
   "source": [
    "df.dropna(inplace=True)"
   ]
  },
  {
   "cell_type": "code",
   "execution_count": 12,
   "id": "28341944",
   "metadata": {
    "execution": {
     "iopub.execute_input": "2023-08-07T15:38:48.365966Z",
     "iopub.status.busy": "2023-08-07T15:38:48.365243Z",
     "iopub.status.idle": "2023-08-07T15:38:48.377141Z",
     "shell.execute_reply": "2023-08-07T15:38:48.376243Z"
    },
    "papermill": {
     "duration": 0.029507,
     "end_time": "2023-08-07T15:38:48.379289",
     "exception": false,
     "start_time": "2023-08-07T15:38:48.349782",
     "status": "completed"
    },
    "tags": []
   },
   "outputs": [
    {
     "data": {
      "text/plain": [
       "Rank             0\n",
       "Grade            0\n",
       "Channel name     0\n",
       "Video Uploads    0\n",
       "Subscribers      0\n",
       "Video views      0\n",
       "dtype: int64"
      ]
     },
     "execution_count": 12,
     "metadata": {},
     "output_type": "execute_result"
    }
   ],
   "source": [
    "df.isnull().sum()"
   ]
  },
  {
   "cell_type": "markdown",
   "id": "8ade73d3",
   "metadata": {
    "papermill": {
     "duration": 0.013956,
     "end_time": "2023-08-07T15:38:48.407398",
     "exception": false,
     "start_time": "2023-08-07T15:38:48.393442",
     "status": "completed"
    },
    "tags": []
   },
   "source": [
    "# 8. **Data Cleaning [ Rank Column ]**"
   ]
  },
  {
   "cell_type": "code",
   "execution_count": 13,
   "id": "d35603e7",
   "metadata": {
    "execution": {
     "iopub.execute_input": "2023-08-07T15:38:48.437364Z",
     "iopub.status.busy": "2023-08-07T15:38:48.436677Z",
     "iopub.status.idle": "2023-08-07T15:38:48.448329Z",
     "shell.execute_reply": "2023-08-07T15:38:48.447343Z"
    },
    "papermill": {
     "duration": 0.02919,
     "end_time": "2023-08-07T15:38:48.450542",
     "exception": false,
     "start_time": "2023-08-07T15:38:48.421352",
     "status": "completed"
    },
    "tags": []
   },
   "outputs": [
    {
     "data": {
      "text/html": [
       "<div>\n",
       "<style scoped>\n",
       "    .dataframe tbody tr th:only-of-type {\n",
       "        vertical-align: middle;\n",
       "    }\n",
       "\n",
       "    .dataframe tbody tr th {\n",
       "        vertical-align: top;\n",
       "    }\n",
       "\n",
       "    .dataframe thead th {\n",
       "        text-align: right;\n",
       "    }\n",
       "</style>\n",
       "<table border=\"1\" class=\"dataframe\">\n",
       "  <thead>\n",
       "    <tr style=\"text-align: right;\">\n",
       "      <th></th>\n",
       "      <th>Rank</th>\n",
       "      <th>Grade</th>\n",
       "      <th>Channel name</th>\n",
       "      <th>Video Uploads</th>\n",
       "      <th>Subscribers</th>\n",
       "      <th>Video views</th>\n",
       "    </tr>\n",
       "  </thead>\n",
       "  <tbody>\n",
       "    <tr>\n",
       "      <th>0</th>\n",
       "      <td>1st</td>\n",
       "      <td>A++</td>\n",
       "      <td>Zee TV</td>\n",
       "      <td>82757</td>\n",
       "      <td>18752951</td>\n",
       "      <td>20869786591</td>\n",
       "    </tr>\n",
       "    <tr>\n",
       "      <th>1</th>\n",
       "      <td>2nd</td>\n",
       "      <td>A++</td>\n",
       "      <td>T-Series</td>\n",
       "      <td>12661</td>\n",
       "      <td>61196302</td>\n",
       "      <td>47548839843</td>\n",
       "    </tr>\n",
       "    <tr>\n",
       "      <th>2</th>\n",
       "      <td>3rd</td>\n",
       "      <td>A++</td>\n",
       "      <td>Cocomelon - Nursery Rhymes</td>\n",
       "      <td>373</td>\n",
       "      <td>19238251</td>\n",
       "      <td>9793305082</td>\n",
       "    </tr>\n",
       "    <tr>\n",
       "      <th>3</th>\n",
       "      <td>4th</td>\n",
       "      <td>A++</td>\n",
       "      <td>SET India</td>\n",
       "      <td>27323</td>\n",
       "      <td>31180559</td>\n",
       "      <td>22675948293</td>\n",
       "    </tr>\n",
       "    <tr>\n",
       "      <th>4</th>\n",
       "      <td>5th</td>\n",
       "      <td>A++</td>\n",
       "      <td>WWE</td>\n",
       "      <td>36756</td>\n",
       "      <td>32852346</td>\n",
       "      <td>26273668433</td>\n",
       "    </tr>\n",
       "  </tbody>\n",
       "</table>\n",
       "</div>"
      ],
      "text/plain": [
       "  Rank Grade                Channel name Video Uploads Subscribers  \\\n",
       "0  1st  A++                       Zee TV         82757    18752951   \n",
       "1  2nd  A++                     T-Series         12661    61196302   \n",
       "2  3rd  A++   Cocomelon - Nursery Rhymes           373    19238251   \n",
       "3  4th  A++                    SET India         27323    31180559   \n",
       "4  5th  A++                          WWE         36756    32852346   \n",
       "\n",
       "   Video views  \n",
       "0  20869786591  \n",
       "1  47548839843  \n",
       "2   9793305082  \n",
       "3  22675948293  \n",
       "4  26273668433  "
      ]
     },
     "execution_count": 13,
     "metadata": {},
     "output_type": "execute_result"
    }
   ],
   "source": [
    "df.head(5)"
   ]
  },
  {
   "cell_type": "markdown",
   "id": "097aefa6",
   "metadata": {
    "papermill": {
     "duration": 0.013922,
     "end_time": "2023-08-07T15:38:48.478661",
     "exception": false,
     "start_time": "2023-08-07T15:38:48.464739",
     "status": "completed"
    },
    "tags": []
   },
   "source": [
    "we have to remove the string from rank column i.e., 1st->1."
   ]
  },
  {
   "cell_type": "code",
   "execution_count": 14,
   "id": "8f6e3025",
   "metadata": {
    "execution": {
     "iopub.execute_input": "2023-08-07T15:38:48.508972Z",
     "iopub.status.busy": "2023-08-07T15:38:48.508540Z",
     "iopub.status.idle": "2023-08-07T15:38:48.516556Z",
     "shell.execute_reply": "2023-08-07T15:38:48.515398Z"
    },
    "papermill": {
     "duration": 0.026275,
     "end_time": "2023-08-07T15:38:48.519107",
     "exception": false,
     "start_time": "2023-08-07T15:38:48.492832",
     "status": "completed"
    },
    "tags": []
   },
   "outputs": [],
   "source": [
    "df['Rank']=df['Rank'].str[0:-2]"
   ]
  },
  {
   "cell_type": "code",
   "execution_count": 15,
   "id": "bc82109b",
   "metadata": {
    "execution": {
     "iopub.execute_input": "2023-08-07T15:38:48.550721Z",
     "iopub.status.busy": "2023-08-07T15:38:48.550302Z",
     "iopub.status.idle": "2023-08-07T15:38:48.562088Z",
     "shell.execute_reply": "2023-08-07T15:38:48.561179Z"
    },
    "papermill": {
     "duration": 0.030179,
     "end_time": "2023-08-07T15:38:48.564303",
     "exception": false,
     "start_time": "2023-08-07T15:38:48.534124",
     "status": "completed"
    },
    "tags": []
   },
   "outputs": [
    {
     "data": {
      "text/html": [
       "<div>\n",
       "<style scoped>\n",
       "    .dataframe tbody tr th:only-of-type {\n",
       "        vertical-align: middle;\n",
       "    }\n",
       "\n",
       "    .dataframe tbody tr th {\n",
       "        vertical-align: top;\n",
       "    }\n",
       "\n",
       "    .dataframe thead th {\n",
       "        text-align: right;\n",
       "    }\n",
       "</style>\n",
       "<table border=\"1\" class=\"dataframe\">\n",
       "  <thead>\n",
       "    <tr style=\"text-align: right;\">\n",
       "      <th></th>\n",
       "      <th>Rank</th>\n",
       "      <th>Grade</th>\n",
       "      <th>Channel name</th>\n",
       "      <th>Video Uploads</th>\n",
       "      <th>Subscribers</th>\n",
       "      <th>Video views</th>\n",
       "    </tr>\n",
       "  </thead>\n",
       "  <tbody>\n",
       "    <tr>\n",
       "      <th>4995</th>\n",
       "      <td>4,996</td>\n",
       "      <td>B+</td>\n",
       "      <td>Uras Benlioğlu</td>\n",
       "      <td>706</td>\n",
       "      <td>2072942</td>\n",
       "      <td>441202795</td>\n",
       "    </tr>\n",
       "    <tr>\n",
       "      <th>4996</th>\n",
       "      <td>4,997</td>\n",
       "      <td>B+</td>\n",
       "      <td>HI-TECH MUSIC LTD</td>\n",
       "      <td>797</td>\n",
       "      <td>1055091</td>\n",
       "      <td>377331722</td>\n",
       "    </tr>\n",
       "    <tr>\n",
       "      <th>4997</th>\n",
       "      <td>4,998</td>\n",
       "      <td>B+</td>\n",
       "      <td>Mastersaint</td>\n",
       "      <td>110</td>\n",
       "      <td>3265735</td>\n",
       "      <td>311758426</td>\n",
       "    </tr>\n",
       "    <tr>\n",
       "      <th>4998</th>\n",
       "      <td>4,999</td>\n",
       "      <td>B+</td>\n",
       "      <td>Bruce McIntosh</td>\n",
       "      <td>3475</td>\n",
       "      <td>32990</td>\n",
       "      <td>14563764</td>\n",
       "    </tr>\n",
       "    <tr>\n",
       "      <th>4999</th>\n",
       "      <td>5,000</td>\n",
       "      <td>B+</td>\n",
       "      <td>SehatAQUA</td>\n",
       "      <td>254</td>\n",
       "      <td>21172</td>\n",
       "      <td>73312511</td>\n",
       "    </tr>\n",
       "  </tbody>\n",
       "</table>\n",
       "</div>"
      ],
      "text/plain": [
       "       Rank Grade       Channel name Video Uploads Subscribers  Video views\n",
       "4995  4,996   B+      Uras Benlioğlu           706     2072942    441202795\n",
       "4996  4,997   B+   HI-TECH MUSIC LTD           797     1055091    377331722\n",
       "4997  4,998   B+         Mastersaint           110     3265735    311758426\n",
       "4998  4,999   B+      Bruce McIntosh          3475       32990     14563764\n",
       "4999  5,000   B+           SehatAQUA           254       21172     73312511"
      ]
     },
     "execution_count": 15,
     "metadata": {},
     "output_type": "execute_result"
    }
   ],
   "source": [
    "df.tail()"
   ]
  },
  {
   "cell_type": "markdown",
   "id": "6627b015",
   "metadata": {
    "papermill": {
     "duration": 0.014267,
     "end_time": "2023-08-07T15:38:48.593351",
     "exception": false,
     "start_time": "2023-08-07T15:38:48.579084",
     "status": "completed"
    },
    "tags": []
   },
   "source": [
    "Now we also have to remove the ','."
   ]
  },
  {
   "cell_type": "code",
   "execution_count": 16,
   "id": "133736ea",
   "metadata": {
    "execution": {
     "iopub.execute_input": "2023-08-07T15:38:48.624027Z",
     "iopub.status.busy": "2023-08-07T15:38:48.623638Z",
     "iopub.status.idle": "2023-08-07T15:38:48.632121Z",
     "shell.execute_reply": "2023-08-07T15:38:48.630664Z"
    },
    "papermill": {
     "duration": 0.027698,
     "end_time": "2023-08-07T15:38:48.635516",
     "exception": false,
     "start_time": "2023-08-07T15:38:48.607818",
     "status": "completed"
    },
    "tags": []
   },
   "outputs": [],
   "source": [
    "df['Rank']=df['Rank'].str.replace(',','')"
   ]
  },
  {
   "cell_type": "code",
   "execution_count": 17,
   "id": "fd9a5798",
   "metadata": {
    "execution": {
     "iopub.execute_input": "2023-08-07T15:38:48.671277Z",
     "iopub.status.busy": "2023-08-07T15:38:48.670361Z",
     "iopub.status.idle": "2023-08-07T15:38:48.689489Z",
     "shell.execute_reply": "2023-08-07T15:38:48.688318Z"
    },
    "papermill": {
     "duration": 0.040008,
     "end_time": "2023-08-07T15:38:48.691961",
     "exception": false,
     "start_time": "2023-08-07T15:38:48.651953",
     "status": "completed"
    },
    "tags": []
   },
   "outputs": [
    {
     "data": {
      "text/html": [
       "<div>\n",
       "<style scoped>\n",
       "    .dataframe tbody tr th:only-of-type {\n",
       "        vertical-align: middle;\n",
       "    }\n",
       "\n",
       "    .dataframe tbody tr th {\n",
       "        vertical-align: top;\n",
       "    }\n",
       "\n",
       "    .dataframe thead th {\n",
       "        text-align: right;\n",
       "    }\n",
       "</style>\n",
       "<table border=\"1\" class=\"dataframe\">\n",
       "  <thead>\n",
       "    <tr style=\"text-align: right;\">\n",
       "      <th></th>\n",
       "      <th>Rank</th>\n",
       "      <th>Grade</th>\n",
       "      <th>Channel name</th>\n",
       "      <th>Video Uploads</th>\n",
       "      <th>Subscribers</th>\n",
       "      <th>Video views</th>\n",
       "    </tr>\n",
       "  </thead>\n",
       "  <tbody>\n",
       "    <tr>\n",
       "      <th>0</th>\n",
       "      <td>1</td>\n",
       "      <td>A++</td>\n",
       "      <td>Zee TV</td>\n",
       "      <td>82757</td>\n",
       "      <td>18752951</td>\n",
       "      <td>20869786591</td>\n",
       "    </tr>\n",
       "    <tr>\n",
       "      <th>1</th>\n",
       "      <td>2</td>\n",
       "      <td>A++</td>\n",
       "      <td>T-Series</td>\n",
       "      <td>12661</td>\n",
       "      <td>61196302</td>\n",
       "      <td>47548839843</td>\n",
       "    </tr>\n",
       "    <tr>\n",
       "      <th>2</th>\n",
       "      <td>3</td>\n",
       "      <td>A++</td>\n",
       "      <td>Cocomelon - Nursery Rhymes</td>\n",
       "      <td>373</td>\n",
       "      <td>19238251</td>\n",
       "      <td>9793305082</td>\n",
       "    </tr>\n",
       "    <tr>\n",
       "      <th>3</th>\n",
       "      <td>4</td>\n",
       "      <td>A++</td>\n",
       "      <td>SET India</td>\n",
       "      <td>27323</td>\n",
       "      <td>31180559</td>\n",
       "      <td>22675948293</td>\n",
       "    </tr>\n",
       "    <tr>\n",
       "      <th>4</th>\n",
       "      <td>5</td>\n",
       "      <td>A++</td>\n",
       "      <td>WWE</td>\n",
       "      <td>36756</td>\n",
       "      <td>32852346</td>\n",
       "      <td>26273668433</td>\n",
       "    </tr>\n",
       "    <tr>\n",
       "      <th>...</th>\n",
       "      <td>...</td>\n",
       "      <td>...</td>\n",
       "      <td>...</td>\n",
       "      <td>...</td>\n",
       "      <td>...</td>\n",
       "      <td>...</td>\n",
       "    </tr>\n",
       "    <tr>\n",
       "      <th>4995</th>\n",
       "      <td>4996</td>\n",
       "      <td>B+</td>\n",
       "      <td>Uras Benlioğlu</td>\n",
       "      <td>706</td>\n",
       "      <td>2072942</td>\n",
       "      <td>441202795</td>\n",
       "    </tr>\n",
       "    <tr>\n",
       "      <th>4996</th>\n",
       "      <td>4997</td>\n",
       "      <td>B+</td>\n",
       "      <td>HI-TECH MUSIC LTD</td>\n",
       "      <td>797</td>\n",
       "      <td>1055091</td>\n",
       "      <td>377331722</td>\n",
       "    </tr>\n",
       "    <tr>\n",
       "      <th>4997</th>\n",
       "      <td>4998</td>\n",
       "      <td>B+</td>\n",
       "      <td>Mastersaint</td>\n",
       "      <td>110</td>\n",
       "      <td>3265735</td>\n",
       "      <td>311758426</td>\n",
       "    </tr>\n",
       "    <tr>\n",
       "      <th>4998</th>\n",
       "      <td>4999</td>\n",
       "      <td>B+</td>\n",
       "      <td>Bruce McIntosh</td>\n",
       "      <td>3475</td>\n",
       "      <td>32990</td>\n",
       "      <td>14563764</td>\n",
       "    </tr>\n",
       "    <tr>\n",
       "      <th>4999</th>\n",
       "      <td>5000</td>\n",
       "      <td>B+</td>\n",
       "      <td>SehatAQUA</td>\n",
       "      <td>254</td>\n",
       "      <td>21172</td>\n",
       "      <td>73312511</td>\n",
       "    </tr>\n",
       "  </tbody>\n",
       "</table>\n",
       "<p>4610 rows × 6 columns</p>\n",
       "</div>"
      ],
      "text/plain": [
       "      Rank Grade                Channel name Video Uploads Subscribers  \\\n",
       "0        1  A++                       Zee TV         82757    18752951   \n",
       "1        2  A++                     T-Series         12661    61196302   \n",
       "2        3  A++   Cocomelon - Nursery Rhymes           373    19238251   \n",
       "3        4  A++                    SET India         27323    31180559   \n",
       "4        5  A++                          WWE         36756    32852346   \n",
       "...    ...   ...                         ...           ...         ...   \n",
       "4995  4996   B+               Uras Benlioğlu           706     2072942   \n",
       "4996  4997   B+            HI-TECH MUSIC LTD           797     1055091   \n",
       "4997  4998   B+                  Mastersaint           110     3265735   \n",
       "4998  4999   B+               Bruce McIntosh          3475       32990   \n",
       "4999  5000   B+                    SehatAQUA           254       21172   \n",
       "\n",
       "      Video views  \n",
       "0     20869786591  \n",
       "1     47548839843  \n",
       "2      9793305082  \n",
       "3     22675948293  \n",
       "4     26273668433  \n",
       "...           ...  \n",
       "4995    441202795  \n",
       "4996    377331722  \n",
       "4997    311758426  \n",
       "4998     14563764  \n",
       "4999     73312511  \n",
       "\n",
       "[4610 rows x 6 columns]"
      ]
     },
     "execution_count": 17,
     "metadata": {},
     "output_type": "execute_result"
    }
   ],
   "source": [
    "df"
   ]
  },
  {
   "cell_type": "code",
   "execution_count": 18,
   "id": "3014a168",
   "metadata": {
    "execution": {
     "iopub.execute_input": "2023-08-07T15:38:48.723546Z",
     "iopub.status.busy": "2023-08-07T15:38:48.723191Z",
     "iopub.status.idle": "2023-08-07T15:38:48.730185Z",
     "shell.execute_reply": "2023-08-07T15:38:48.728963Z"
    },
    "papermill": {
     "duration": 0.025419,
     "end_time": "2023-08-07T15:38:48.732403",
     "exception": false,
     "start_time": "2023-08-07T15:38:48.706984",
     "status": "completed"
    },
    "tags": []
   },
   "outputs": [
    {
     "data": {
      "text/plain": [
       "dtype('O')"
      ]
     },
     "execution_count": 18,
     "metadata": {},
     "output_type": "execute_result"
    }
   ],
   "source": [
    "df['Rank'].dtypes"
   ]
  },
  {
   "cell_type": "markdown",
   "id": "2f771b7c",
   "metadata": {
    "papermill": {
     "duration": 0.017008,
     "end_time": "2023-08-07T15:38:48.765077",
     "exception": false,
     "start_time": "2023-08-07T15:38:48.748069",
     "status": "completed"
    },
    "tags": []
   },
   "source": [
    "Now we have to convert its datatype to int for further computations."
   ]
  },
  {
   "cell_type": "code",
   "execution_count": 19,
   "id": "e96cb6d0",
   "metadata": {
    "execution": {
     "iopub.execute_input": "2023-08-07T15:38:48.799865Z",
     "iopub.status.busy": "2023-08-07T15:38:48.799011Z",
     "iopub.status.idle": "2023-08-07T15:38:48.805375Z",
     "shell.execute_reply": "2023-08-07T15:38:48.804478Z"
    },
    "papermill": {
     "duration": 0.025385,
     "end_time": "2023-08-07T15:38:48.807662",
     "exception": false,
     "start_time": "2023-08-07T15:38:48.782277",
     "status": "completed"
    },
    "tags": []
   },
   "outputs": [],
   "source": [
    "df['Rank']=df['Rank'].astype(int)"
   ]
  },
  {
   "cell_type": "code",
   "execution_count": 20,
   "id": "1a9f5cb9",
   "metadata": {
    "execution": {
     "iopub.execute_input": "2023-08-07T15:38:48.840214Z",
     "iopub.status.busy": "2023-08-07T15:38:48.839493Z",
     "iopub.status.idle": "2023-08-07T15:38:48.846741Z",
     "shell.execute_reply": "2023-08-07T15:38:48.845433Z"
    },
    "papermill": {
     "duration": 0.026509,
     "end_time": "2023-08-07T15:38:48.849137",
     "exception": false,
     "start_time": "2023-08-07T15:38:48.822628",
     "status": "completed"
    },
    "tags": []
   },
   "outputs": [
    {
     "data": {
      "text/plain": [
       "dtype('int64')"
      ]
     },
     "execution_count": 20,
     "metadata": {},
     "output_type": "execute_result"
    }
   ],
   "source": [
    "df['Rank'].dtypes"
   ]
  },
  {
   "cell_type": "markdown",
   "id": "74cd2805",
   "metadata": {
    "papermill": {
     "duration": 0.017144,
     "end_time": "2023-08-07T15:38:48.881704",
     "exception": false,
     "start_time": "2023-08-07T15:38:48.864560",
     "status": "completed"
    },
    "tags": []
   },
   "source": [
    "# 9. **Data Cleaning [ Video Uploads & Subscribers ]**"
   ]
  },
  {
   "cell_type": "markdown",
   "id": "dee5c28a",
   "metadata": {
    "papermill": {
     "duration": 0.015331,
     "end_time": "2023-08-07T15:38:48.913288",
     "exception": false,
     "start_time": "2023-08-07T15:38:48.897957",
     "status": "completed"
    },
    "tags": []
   },
   "source": [
    "Since both the columns contains numerical values so we convert their datatypes to int."
   ]
  },
  {
   "cell_type": "code",
   "execution_count": 21,
   "id": "4b12b502",
   "metadata": {
    "execution": {
     "iopub.execute_input": "2023-08-07T15:38:48.946529Z",
     "iopub.status.busy": "2023-08-07T15:38:48.945981Z",
     "iopub.status.idle": "2023-08-07T15:38:48.954760Z",
     "shell.execute_reply": "2023-08-07T15:38:48.953896Z"
    },
    "papermill": {
     "duration": 0.028192,
     "end_time": "2023-08-07T15:38:48.956824",
     "exception": false,
     "start_time": "2023-08-07T15:38:48.928632",
     "status": "completed"
    },
    "tags": []
   },
   "outputs": [
    {
     "data": {
      "text/plain": [
       "dtype('O')"
      ]
     },
     "execution_count": 21,
     "metadata": {},
     "output_type": "execute_result"
    }
   ],
   "source": [
    "df['Video Uploads'].dtypes"
   ]
  },
  {
   "cell_type": "code",
   "execution_count": 22,
   "id": "e56c1bd1",
   "metadata": {
    "execution": {
     "iopub.execute_input": "2023-08-07T15:38:48.990301Z",
     "iopub.status.busy": "2023-08-07T15:38:48.989422Z",
     "iopub.status.idle": "2023-08-07T15:38:49.002990Z",
     "shell.execute_reply": "2023-08-07T15:38:49.001690Z"
    },
    "papermill": {
     "duration": 0.033368,
     "end_time": "2023-08-07T15:38:49.005623",
     "exception": false,
     "start_time": "2023-08-07T15:38:48.972255",
     "status": "completed"
    },
    "tags": []
   },
   "outputs": [],
   "source": [
    "df['Video Uploads']=df['Video Uploads'].astype(int)"
   ]
  },
  {
   "cell_type": "code",
   "execution_count": 23,
   "id": "2f877bf7",
   "metadata": {
    "execution": {
     "iopub.execute_input": "2023-08-07T15:38:49.038642Z",
     "iopub.status.busy": "2023-08-07T15:38:49.037699Z",
     "iopub.status.idle": "2023-08-07T15:38:49.046375Z",
     "shell.execute_reply": "2023-08-07T15:38:49.045302Z"
    },
    "papermill": {
     "duration": 0.02736,
     "end_time": "2023-08-07T15:38:49.048558",
     "exception": false,
     "start_time": "2023-08-07T15:38:49.021198",
     "status": "completed"
    },
    "tags": []
   },
   "outputs": [
    {
     "data": {
      "text/plain": [
       "dtype('int64')"
      ]
     },
     "execution_count": 23,
     "metadata": {},
     "output_type": "execute_result"
    }
   ],
   "source": [
    "df['Video Uploads'].dtypes #Datatype changed Successfully."
   ]
  },
  {
   "cell_type": "code",
   "execution_count": 24,
   "id": "96757cee",
   "metadata": {
    "execution": {
     "iopub.execute_input": "2023-08-07T15:38:49.082324Z",
     "iopub.status.busy": "2023-08-07T15:38:49.081502Z",
     "iopub.status.idle": "2023-08-07T15:38:49.089270Z",
     "shell.execute_reply": "2023-08-07T15:38:49.087863Z"
    },
    "papermill": {
     "duration": 0.027553,
     "end_time": "2023-08-07T15:38:49.091656",
     "exception": false,
     "start_time": "2023-08-07T15:38:49.064103",
     "status": "completed"
    },
    "tags": []
   },
   "outputs": [
    {
     "data": {
      "text/plain": [
       "dtype('O')"
      ]
     },
     "execution_count": 24,
     "metadata": {},
     "output_type": "execute_result"
    }
   ],
   "source": [
    "df['Subscribers'].dtypes"
   ]
  },
  {
   "cell_type": "code",
   "execution_count": 25,
   "id": "67ee11b8",
   "metadata": {
    "execution": {
     "iopub.execute_input": "2023-08-07T15:38:49.130035Z",
     "iopub.status.busy": "2023-08-07T15:38:49.128881Z",
     "iopub.status.idle": "2023-08-07T15:38:49.134951Z",
     "shell.execute_reply": "2023-08-07T15:38:49.134156Z"
    },
    "papermill": {
     "duration": 0.025595,
     "end_time": "2023-08-07T15:38:49.137504",
     "exception": false,
     "start_time": "2023-08-07T15:38:49.111909",
     "status": "completed"
    },
    "tags": []
   },
   "outputs": [],
   "source": [
    "df['Subscribers']=df['Subscribers'].astype(int)"
   ]
  },
  {
   "cell_type": "code",
   "execution_count": 26,
   "id": "7a297dc3",
   "metadata": {
    "execution": {
     "iopub.execute_input": "2023-08-07T15:38:49.175514Z",
     "iopub.status.busy": "2023-08-07T15:38:49.175112Z",
     "iopub.status.idle": "2023-08-07T15:38:49.183588Z",
     "shell.execute_reply": "2023-08-07T15:38:49.182487Z"
    },
    "papermill": {
     "duration": 0.027862,
     "end_time": "2023-08-07T15:38:49.185692",
     "exception": false,
     "start_time": "2023-08-07T15:38:49.157830",
     "status": "completed"
    },
    "tags": []
   },
   "outputs": [
    {
     "data": {
      "text/plain": [
       "dtype('int64')"
      ]
     },
     "execution_count": 26,
     "metadata": {},
     "output_type": "execute_result"
    }
   ],
   "source": [
    "df['Subscribers'].dtypes #Datatype changed Successfully."
   ]
  },
  {
   "cell_type": "markdown",
   "id": "ab451446",
   "metadata": {
    "papermill": {
     "duration": 0.015341,
     "end_time": "2023-08-07T15:38:49.217023",
     "exception": false,
     "start_time": "2023-08-07T15:38:49.201682",
     "status": "completed"
    },
    "tags": []
   },
   "source": [
    "# 10. **Data Cleaning [ Grade Column ]**"
   ]
  },
  {
   "cell_type": "code",
   "execution_count": 27,
   "id": "16294d45",
   "metadata": {
    "execution": {
     "iopub.execute_input": "2023-08-07T15:38:49.251888Z",
     "iopub.status.busy": "2023-08-07T15:38:49.251276Z",
     "iopub.status.idle": "2023-08-07T15:38:49.259134Z",
     "shell.execute_reply": "2023-08-07T15:38:49.258088Z"
    },
    "papermill": {
     "duration": 0.028546,
     "end_time": "2023-08-07T15:38:49.261194",
     "exception": false,
     "start_time": "2023-08-07T15:38:49.232648",
     "status": "completed"
    },
    "tags": []
   },
   "outputs": [
    {
     "data": {
      "text/plain": [
       "array(['A++ ', 'A+ ', 'A ', 'A- ', 'B+ '], dtype=object)"
      ]
     },
     "execution_count": 27,
     "metadata": {},
     "output_type": "execute_result"
    }
   ],
   "source": [
    "df['Grade'].unique()"
   ]
  },
  {
   "cell_type": "markdown",
   "id": "e62afa83",
   "metadata": {
    "papermill": {
     "duration": 0.015376,
     "end_time": "2023-08-07T15:38:49.293550",
     "exception": false,
     "start_time": "2023-08-07T15:38:49.278174",
     "status": "completed"
    },
    "tags": []
   },
   "source": [
    "We map these values with corresponding numerical value"
   ]
  },
  {
   "cell_type": "code",
   "execution_count": 28,
   "id": "0afffe87",
   "metadata": {
    "execution": {
     "iopub.execute_input": "2023-08-07T15:38:49.332787Z",
     "iopub.status.busy": "2023-08-07T15:38:49.331978Z",
     "iopub.status.idle": "2023-08-07T15:38:49.340702Z",
     "shell.execute_reply": "2023-08-07T15:38:49.339741Z"
    },
    "papermill": {
     "duration": 0.032831,
     "end_time": "2023-08-07T15:38:49.343445",
     "exception": false,
     "start_time": "2023-08-07T15:38:49.310614",
     "status": "completed"
    },
    "tags": []
   },
   "outputs": [],
   "source": [
    "df['Grade']=df['Grade'].map({'A++ ':5,'A+ ':4,'A ':3,'A- ':2,'B+ ':1})"
   ]
  },
  {
   "cell_type": "code",
   "execution_count": 29,
   "id": "0f51dd52",
   "metadata": {
    "execution": {
     "iopub.execute_input": "2023-08-07T15:38:49.381911Z",
     "iopub.status.busy": "2023-08-07T15:38:49.380769Z",
     "iopub.status.idle": "2023-08-07T15:38:49.388352Z",
     "shell.execute_reply": "2023-08-07T15:38:49.387058Z"
    },
    "papermill": {
     "duration": 0.030115,
     "end_time": "2023-08-07T15:38:49.390748",
     "exception": false,
     "start_time": "2023-08-07T15:38:49.360633",
     "status": "completed"
    },
    "tags": []
   },
   "outputs": [
    {
     "data": {
      "text/plain": [
       "dtype('int64')"
      ]
     },
     "execution_count": 29,
     "metadata": {},
     "output_type": "execute_result"
    }
   ],
   "source": [
    "df['Grade'].dtypes"
   ]
  },
  {
   "cell_type": "markdown",
   "id": "4cb573a0",
   "metadata": {
    "papermill": {
     "duration": 0.015757,
     "end_time": "2023-08-07T15:38:49.422541",
     "exception": false,
     "start_time": "2023-08-07T15:38:49.406784",
     "status": "completed"
    },
    "tags": []
   },
   "source": [
    "# 11. **Find Average Views For Each Channel**"
   ]
  },
  {
   "cell_type": "code",
   "execution_count": 30,
   "id": "504223bf",
   "metadata": {
    "execution": {
     "iopub.execute_input": "2023-08-07T15:38:49.456530Z",
     "iopub.status.busy": "2023-08-07T15:38:49.455724Z",
     "iopub.status.idle": "2023-08-07T15:38:49.461818Z",
     "shell.execute_reply": "2023-08-07T15:38:49.460975Z"
    },
    "papermill": {
     "duration": 0.0257,
     "end_time": "2023-08-07T15:38:49.464117",
     "exception": false,
     "start_time": "2023-08-07T15:38:49.438417",
     "status": "completed"
    },
    "tags": []
   },
   "outputs": [],
   "source": [
    "df['Avg_views']=df['Video views'] / df['Video Uploads']"
   ]
  },
  {
   "cell_type": "code",
   "execution_count": 31,
   "id": "f2a7afb2",
   "metadata": {
    "execution": {
     "iopub.execute_input": "2023-08-07T15:38:49.498417Z",
     "iopub.status.busy": "2023-08-07T15:38:49.497626Z",
     "iopub.status.idle": "2023-08-07T15:38:49.509221Z",
     "shell.execute_reply": "2023-08-07T15:38:49.508174Z"
    },
    "papermill": {
     "duration": 0.031209,
     "end_time": "2023-08-07T15:38:49.511371",
     "exception": false,
     "start_time": "2023-08-07T15:38:49.480162",
     "status": "completed"
    },
    "tags": []
   },
   "outputs": [
    {
     "data": {
      "text/html": [
       "<div>\n",
       "<style scoped>\n",
       "    .dataframe tbody tr th:only-of-type {\n",
       "        vertical-align: middle;\n",
       "    }\n",
       "\n",
       "    .dataframe tbody tr th {\n",
       "        vertical-align: top;\n",
       "    }\n",
       "\n",
       "    .dataframe thead th {\n",
       "        text-align: right;\n",
       "    }\n",
       "</style>\n",
       "<table border=\"1\" class=\"dataframe\">\n",
       "  <thead>\n",
       "    <tr style=\"text-align: right;\">\n",
       "      <th></th>\n",
       "      <th>Rank</th>\n",
       "      <th>Grade</th>\n",
       "      <th>Channel name</th>\n",
       "      <th>Video Uploads</th>\n",
       "      <th>Subscribers</th>\n",
       "      <th>Video views</th>\n",
       "      <th>Avg_views</th>\n",
       "    </tr>\n",
       "  </thead>\n",
       "  <tbody>\n",
       "    <tr>\n",
       "      <th>0</th>\n",
       "      <td>1</td>\n",
       "      <td>5</td>\n",
       "      <td>Zee TV</td>\n",
       "      <td>82757</td>\n",
       "      <td>18752951</td>\n",
       "      <td>20869786591</td>\n",
       "      <td>252181.53</td>\n",
       "    </tr>\n",
       "    <tr>\n",
       "      <th>1</th>\n",
       "      <td>2</td>\n",
       "      <td>5</td>\n",
       "      <td>T-Series</td>\n",
       "      <td>12661</td>\n",
       "      <td>61196302</td>\n",
       "      <td>47548839843</td>\n",
       "      <td>3755535.89</td>\n",
       "    </tr>\n",
       "    <tr>\n",
       "      <th>2</th>\n",
       "      <td>3</td>\n",
       "      <td>5</td>\n",
       "      <td>Cocomelon - Nursery Rhymes</td>\n",
       "      <td>373</td>\n",
       "      <td>19238251</td>\n",
       "      <td>9793305082</td>\n",
       "      <td>26255509.60</td>\n",
       "    </tr>\n",
       "    <tr>\n",
       "      <th>3</th>\n",
       "      <td>4</td>\n",
       "      <td>5</td>\n",
       "      <td>SET India</td>\n",
       "      <td>27323</td>\n",
       "      <td>31180559</td>\n",
       "      <td>22675948293</td>\n",
       "      <td>829921.62</td>\n",
       "    </tr>\n",
       "    <tr>\n",
       "      <th>4</th>\n",
       "      <td>5</td>\n",
       "      <td>5</td>\n",
       "      <td>WWE</td>\n",
       "      <td>36756</td>\n",
       "      <td>32852346</td>\n",
       "      <td>26273668433</td>\n",
       "      <td>714813.05</td>\n",
       "    </tr>\n",
       "  </tbody>\n",
       "</table>\n",
       "</div>"
      ],
      "text/plain": [
       "   Rank  Grade                Channel name  Video Uploads  Subscribers  \\\n",
       "0     1      5                      Zee TV          82757     18752951   \n",
       "1     2      5                    T-Series          12661     61196302   \n",
       "2     3      5  Cocomelon - Nursery Rhymes            373     19238251   \n",
       "3     4      5                   SET India          27323     31180559   \n",
       "4     5      5                         WWE          36756     32852346   \n",
       "\n",
       "   Video views   Avg_views  \n",
       "0  20869786591   252181.53  \n",
       "1  47548839843  3755535.89  \n",
       "2   9793305082 26255509.60  \n",
       "3  22675948293   829921.62  \n",
       "4  26273668433   714813.05  "
      ]
     },
     "execution_count": 31,
     "metadata": {},
     "output_type": "execute_result"
    }
   ],
   "source": [
    "df.head()"
   ]
  },
  {
   "cell_type": "markdown",
   "id": "88445083",
   "metadata": {
    "papermill": {
     "duration": 0.015747,
     "end_time": "2023-08-07T15:38:49.543267",
     "exception": false,
     "start_time": "2023-08-07T15:38:49.527520",
     "status": "completed"
    },
    "tags": []
   },
   "source": [
    "# 12. **Find Out Top Five Channels With Maximum Number of Video Uploads**"
   ]
  },
  {
   "cell_type": "code",
   "execution_count": 32,
   "id": "87319177",
   "metadata": {
    "execution": {
     "iopub.execute_input": "2023-08-07T15:38:49.577128Z",
     "iopub.status.busy": "2023-08-07T15:38:49.576721Z",
     "iopub.status.idle": "2023-08-07T15:38:49.583819Z",
     "shell.execute_reply": "2023-08-07T15:38:49.582935Z"
    },
    "papermill": {
     "duration": 0.026897,
     "end_time": "2023-08-07T15:38:49.586161",
     "exception": false,
     "start_time": "2023-08-07T15:38:49.559264",
     "status": "completed"
    },
    "tags": []
   },
   "outputs": [],
   "source": [
    "top_5=df.sort_values(by='Video Uploads',ascending=False).head()"
   ]
  },
  {
   "cell_type": "code",
   "execution_count": 33,
   "id": "91b1c319",
   "metadata": {
    "execution": {
     "iopub.execute_input": "2023-08-07T15:38:49.621085Z",
     "iopub.status.busy": "2023-08-07T15:38:49.620298Z",
     "iopub.status.idle": "2023-08-07T15:38:49.900090Z",
     "shell.execute_reply": "2023-08-07T15:38:49.898878Z"
    },
    "papermill": {
     "duration": 0.300667,
     "end_time": "2023-08-07T15:38:49.902765",
     "exception": false,
     "start_time": "2023-08-07T15:38:49.602098",
     "status": "completed"
    },
    "tags": []
   },
   "outputs": [
    {
     "data": {
      "image/png": "[encoded data removed]",
      "text/plain": [
       "<Figure size 640x480 with 1 Axes>"
      ]
     },
     "metadata": {},
     "output_type": "display_data"
    }
   ],
   "source": [
    "x=top_5['Channel name']\n",
    "y=top_5['Video Uploads']\n",
    "plt.xlabel('Channel Name')\n",
    "plt.ylabel('Video Uploads')\n",
    "plt.title('Channels With Maximum Number of Video Uploads')\n",
    "plt.bar(x,y)\n",
    "plt.show()"
   ]
  },
  {
   "cell_type": "markdown",
   "id": "e326b580",
   "metadata": {
    "papermill": {
     "duration": 0.017145,
     "end_time": "2023-08-07T15:38:49.936716",
     "exception": false,
     "start_time": "2023-08-07T15:38:49.919571",
     "status": "completed"
    },
    "tags": []
   },
   "source": [
    "# 13. **Find Correlation Matrix**"
   ]
  },
  {
   "cell_type": "code",
   "execution_count": 34,
   "id": "aebf30be",
   "metadata": {
    "execution": {
     "iopub.execute_input": "2023-08-07T15:38:49.977986Z",
     "iopub.status.busy": "2023-08-07T15:38:49.977565Z",
     "iopub.status.idle": "2023-08-07T15:38:49.996559Z",
     "shell.execute_reply": "2023-08-07T15:38:49.995360Z"
    },
    "papermill": {
     "duration": 0.044693,
     "end_time": "2023-08-07T15:38:49.998680",
     "exception": false,
     "start_time": "2023-08-07T15:38:49.953987",
     "status": "completed"
    },
    "tags": []
   },
   "outputs": [
    {
     "name": "stderr",
     "output_type": "stream",
     "text": [
      "/tmp/ipykernel_21/1134722465.py:1: FutureWarning: The default value of numeric_only in DataFrame.corr is deprecated. In a future version, it will default to False. Select only valid columns or specify the value of numeric_only to silence this warning.\n",
      "  df.corr()\n"
     ]
    },
    {
     "data": {
      "text/html": [
       "<div>\n",
       "<style scoped>\n",
       "    .dataframe tbody tr th:only-of-type {\n",
       "        vertical-align: middle;\n",
       "    }\n",
       "\n",
       "    .dataframe tbody tr th {\n",
       "        vertical-align: top;\n",
       "    }\n",
       "\n",
       "    .dataframe thead th {\n",
       "        text-align: right;\n",
       "    }\n",
       "</style>\n",
       "<table border=\"1\" class=\"dataframe\">\n",
       "  <thead>\n",
       "    <tr style=\"text-align: right;\">\n",
       "      <th></th>\n",
       "      <th>Rank</th>\n",
       "      <th>Grade</th>\n",
       "      <th>Video Uploads</th>\n",
       "      <th>Subscribers</th>\n",
       "      <th>Video views</th>\n",
       "      <th>Avg_views</th>\n",
       "    </tr>\n",
       "  </thead>\n",
       "  <tbody>\n",
       "    <tr>\n",
       "      <th>Rank</th>\n",
       "      <td>1.00</td>\n",
       "      <td>-0.87</td>\n",
       "      <td>-0.07</td>\n",
       "      <td>-0.38</td>\n",
       "      <td>-0.40</td>\n",
       "      <td>-0.15</td>\n",
       "    </tr>\n",
       "    <tr>\n",
       "      <th>Grade</th>\n",
       "      <td>-0.87</td>\n",
       "      <td>1.00</td>\n",
       "      <td>0.09</td>\n",
       "      <td>0.43</td>\n",
       "      <td>0.48</td>\n",
       "      <td>0.16</td>\n",
       "    </tr>\n",
       "    <tr>\n",
       "      <th>Video Uploads</th>\n",
       "      <td>-0.07</td>\n",
       "      <td>0.09</td>\n",
       "      <td>1.00</td>\n",
       "      <td>0.01</td>\n",
       "      <td>0.09</td>\n",
       "      <td>-0.06</td>\n",
       "    </tr>\n",
       "    <tr>\n",
       "      <th>Subscribers</th>\n",
       "      <td>-0.38</td>\n",
       "      <td>0.43</td>\n",
       "      <td>0.01</td>\n",
       "      <td>1.00</td>\n",
       "      <td>0.79</td>\n",
       "      <td>0.29</td>\n",
       "    </tr>\n",
       "    <tr>\n",
       "      <th>Video views</th>\n",
       "      <td>-0.40</td>\n",
       "      <td>0.48</td>\n",
       "      <td>0.09</td>\n",
       "      <td>0.79</td>\n",
       "      <td>1.00</td>\n",
       "      <td>0.29</td>\n",
       "    </tr>\n",
       "    <tr>\n",
       "      <th>Avg_views</th>\n",
       "      <td>-0.15</td>\n",
       "      <td>0.16</td>\n",
       "      <td>-0.06</td>\n",
       "      <td>0.29</td>\n",
       "      <td>0.29</td>\n",
       "      <td>1.00</td>\n",
       "    </tr>\n",
       "  </tbody>\n",
       "</table>\n",
       "</div>"
      ],
      "text/plain": [
       "               Rank  Grade  Video Uploads  Subscribers  Video views  Avg_views\n",
       "Rank           1.00  -0.87          -0.07        -0.38        -0.40      -0.15\n",
       "Grade         -0.87   1.00           0.09         0.43         0.48       0.16\n",
       "Video Uploads -0.07   0.09           1.00         0.01         0.09      -0.06\n",
       "Subscribers   -0.38   0.43           0.01         1.00         0.79       0.29\n",
       "Video views   -0.40   0.48           0.09         0.79         1.00       0.29\n",
       "Avg_views     -0.15   0.16          -0.06         0.29         0.29       1.00"
      ]
     },
     "execution_count": 34,
     "metadata": {},
     "output_type": "execute_result"
    }
   ],
   "source": [
    "df.corr()"
   ]
  },
  {
   "cell_type": "markdown",
   "id": "70a114a8",
   "metadata": {
    "papermill": {
     "duration": 0.018831,
     "end_time": "2023-08-07T15:38:50.034509",
     "exception": false,
     "start_time": "2023-08-07T15:38:50.015678",
     "status": "completed"
    },
    "tags": []
   },
   "source": [
    "# 14. **Which Grade Has A Maximum Number of Video Uploads?**"
   ]
  },
  {
   "cell_type": "code",
   "execution_count": 35,
   "id": "952b75f4",
   "metadata": {
    "execution": {
     "iopub.execute_input": "2023-08-07T15:38:50.070250Z",
     "iopub.status.busy": "2023-08-07T15:38:50.068959Z",
     "iopub.status.idle": "2023-08-07T15:38:50.077723Z",
     "shell.execute_reply": "2023-08-07T15:38:50.076474Z"
    },
    "papermill": {
     "duration": 0.029205,
     "end_time": "2023-08-07T15:38:50.080268",
     "exception": false,
     "start_time": "2023-08-07T15:38:50.051063",
     "status": "completed"
    },
    "tags": []
   },
   "outputs": [],
   "source": [
    "grade=df.groupby('Grade')['Video Uploads'].sum().sort_values(ascending=False)"
   ]
  },
  {
   "cell_type": "code",
   "execution_count": 36,
   "id": "d2cb99b7",
   "metadata": {
    "execution": {
     "iopub.execute_input": "2023-08-07T15:38:50.117013Z",
     "iopub.status.busy": "2023-08-07T15:38:50.116606Z",
     "iopub.status.idle": "2023-08-07T15:38:50.657874Z",
     "shell.execute_reply": "2023-08-07T15:38:50.656828Z"
    },
    "papermill": {
     "duration": 0.562125,
     "end_time": "2023-08-07T15:38:50.660560",
     "exception": false,
     "start_time": "2023-08-07T15:38:50.098435",
     "status": "completed"
    },
    "tags": []
   },
   "outputs": [
    {
     "data": {
      "image/png": "[encoded data removed]",
      "text/plain": [
       "<Figure size 1000x600 with 1 Axes>"
      ]
     },
     "metadata": {},
     "output_type": "display_data"
    }
   ],
   "source": [
    "ax=grade.plot(kind='bar',logy=True,figsize=(10,6))\n",
    "plt.xlabel('Grades')\n",
    "plt.ylabel('Video Uploads')\n",
    "plt.title('Grades With Maximum Number of Video Uploads')\n",
    "plt.show()"
   ]
  },
  {
   "cell_type": "markdown",
   "id": "4991e304",
   "metadata": {
    "papermill": {
     "duration": 0.016999,
     "end_time": "2023-08-07T15:38:50.694739",
     "exception": false,
     "start_time": "2023-08-07T15:38:50.677740",
     "status": "completed"
    },
    "tags": []
   },
   "source": [
    "# 15. **Which Grade Has The Highest Average Views?**"
   ]
  },
  {
   "cell_type": "code",
   "execution_count": 37,
   "id": "b024b659",
   "metadata": {
    "execution": {
     "iopub.execute_input": "2023-08-07T15:38:50.731117Z",
     "iopub.status.busy": "2023-08-07T15:38:50.730700Z",
     "iopub.status.idle": "2023-08-07T15:38:50.741543Z",
     "shell.execute_reply": "2023-08-07T15:38:50.740440Z"
    },
    "papermill": {
     "duration": 0.031766,
     "end_time": "2023-08-07T15:38:50.743799",
     "exception": false,
     "start_time": "2023-08-07T15:38:50.712033",
     "status": "completed"
    },
    "tags": []
   },
   "outputs": [
    {
     "data": {
      "text/html": [
       "<div>\n",
       "<style scoped>\n",
       "    .dataframe tbody tr th:only-of-type {\n",
       "        vertical-align: middle;\n",
       "    }\n",
       "\n",
       "    .dataframe tbody tr th {\n",
       "        vertical-align: top;\n",
       "    }\n",
       "\n",
       "    .dataframe thead th {\n",
       "        text-align: right;\n",
       "    }\n",
       "</style>\n",
       "<table border=\"1\" class=\"dataframe\">\n",
       "  <thead>\n",
       "    <tr style=\"text-align: right;\">\n",
       "      <th></th>\n",
       "      <th>Rank</th>\n",
       "      <th>Grade</th>\n",
       "      <th>Channel name</th>\n",
       "      <th>Video Uploads</th>\n",
       "      <th>Subscribers</th>\n",
       "      <th>Video views</th>\n",
       "      <th>Avg_views</th>\n",
       "    </tr>\n",
       "  </thead>\n",
       "  <tbody>\n",
       "    <tr>\n",
       "      <th>0</th>\n",
       "      <td>1</td>\n",
       "      <td>5</td>\n",
       "      <td>Zee TV</td>\n",
       "      <td>82757</td>\n",
       "      <td>18752951</td>\n",
       "      <td>20869786591</td>\n",
       "      <td>252181.53</td>\n",
       "    </tr>\n",
       "  </tbody>\n",
       "</table>\n",
       "</div>"
      ],
      "text/plain": [
       "   Rank  Grade Channel name  Video Uploads  Subscribers  Video views  \\\n",
       "0     1      5       Zee TV          82757     18752951  20869786591   \n",
       "\n",
       "   Avg_views  \n",
       "0  252181.53  "
      ]
     },
     "execution_count": 37,
     "metadata": {},
     "output_type": "execute_result"
    }
   ],
   "source": [
    "df.head(1)"
   ]
  },
  {
   "cell_type": "code",
   "execution_count": 38,
   "id": "7c88e7ea",
   "metadata": {
    "execution": {
     "iopub.execute_input": "2023-08-07T15:38:50.781462Z",
     "iopub.status.busy": "2023-08-07T15:38:50.780750Z",
     "iopub.status.idle": "2023-08-07T15:38:50.787189Z",
     "shell.execute_reply": "2023-08-07T15:38:50.785961Z"
    },
    "papermill": {
     "duration": 0.028077,
     "end_time": "2023-08-07T15:38:50.789690",
     "exception": false,
     "start_time": "2023-08-07T15:38:50.761613",
     "status": "completed"
    },
    "tags": []
   },
   "outputs": [],
   "source": [
    "grade_avg_views=df.groupby('Grade')['Avg_views'].sum().sort_values(ascending=False)"
   ]
  },
  {
   "cell_type": "code",
   "execution_count": 39,
   "id": "e7563916",
   "metadata": {
    "execution": {
     "iopub.execute_input": "2023-08-07T15:38:50.826658Z",
     "iopub.status.busy": "2023-08-07T15:38:50.826255Z",
     "iopub.status.idle": "2023-08-07T15:38:51.314613Z",
     "shell.execute_reply": "2023-08-07T15:38:51.313088Z"
    },
    "papermill": {
     "duration": 0.509928,
     "end_time": "2023-08-07T15:38:51.317144",
     "exception": false,
     "start_time": "2023-08-07T15:38:50.807216",
     "status": "completed"
    },
    "tags": []
   },
   "outputs": [
    {
     "data": {
      "image/png": "[encoded data removed]",
      "text/plain": [
       "<Figure size 1000x600 with 1 Axes>"
      ]
     },
     "metadata": {},
     "output_type": "display_data"
    }
   ],
   "source": [
    "ax=grade_avg_views.plot(kind='bar',logy=True,figsize=(10,6))\n",
    "plt.xlabel('Grades')\n",
    "plt.ylabel('Average Views')\n",
    "plt.title('Grades With Highest Average Views')\n",
    "plt.grid(True)\n",
    "plt.show()"
   ]
  },
  {
   "cell_type": "markdown",
   "id": "afdf7a22",
   "metadata": {
    "papermill": {
     "duration": 0.017493,
     "end_time": "2023-08-07T15:38:51.352319",
     "exception": false,
     "start_time": "2023-08-07T15:38:51.334826",
     "status": "completed"
    },
    "tags": []
   },
   "source": [
    "# 16. **Which Grade Has The Highest Number of Subscribers?**"
   ]
  },
  {
   "cell_type": "code",
   "execution_count": 40,
   "id": "cc053c43",
   "metadata": {
    "execution": {
     "iopub.execute_input": "2023-08-07T15:38:51.389350Z",
     "iopub.status.busy": "2023-08-07T15:38:51.388938Z",
     "iopub.status.idle": "2023-08-07T15:38:51.395756Z",
     "shell.execute_reply": "2023-08-07T15:38:51.394826Z"
    },
    "papermill": {
     "duration": 0.028043,
     "end_time": "2023-08-07T15:38:51.398005",
     "exception": false,
     "start_time": "2023-08-07T15:38:51.369962",
     "status": "completed"
    },
    "tags": []
   },
   "outputs": [],
   "source": [
    "grade_subs=df.groupby('Grade')['Subscribers'].sum().sort_values(ascending=False)"
   ]
  },
  {
   "cell_type": "code",
   "execution_count": 41,
   "id": "d76a2a51",
   "metadata": {
    "execution": {
     "iopub.execute_input": "2023-08-07T15:38:51.436910Z",
     "iopub.status.busy": "2023-08-07T15:38:51.436214Z",
     "iopub.status.idle": "2023-08-07T15:38:51.814803Z",
     "shell.execute_reply": "2023-08-07T15:38:51.813377Z"
    },
    "papermill": {
     "duration": 0.401591,
     "end_time": "2023-08-07T15:38:51.817554",
     "exception": false,
     "start_time": "2023-08-07T15:38:51.415963",
     "status": "completed"
    },
    "tags": []
   },
   "outputs": [
    {
     "data": {
      "image/png": "[encoded data removed]",
      "text/plain": [
       "<Figure size 1000x600 with 1 Axes>"
      ]
     },
     "metadata": {},
     "output_type": "display_data"
    }
   ],
   "source": [
    "ax=grade_subs.plot(kind='bar',logy=True,figsize=(10,6))\n",
    "plt.xlabel('Grades')\n",
    "plt.ylabel('Subscribers')\n",
    "plt.title('Grades With Highest number of Subscribers')\n",
    "plt.show()"
   ]
  },
  {
   "cell_type": "markdown",
   "id": "7c95dca2",
   "metadata": {
    "papermill": {
     "duration": 0.01907,
     "end_time": "2023-08-07T15:38:51.855581",
     "exception": false,
     "start_time": "2023-08-07T15:38:51.836511",
     "status": "completed"
    },
    "tags": []
   },
   "source": [
    "# 17. **Which Grade Has The Highest Video Views**"
   ]
  },
  {
   "cell_type": "code",
   "execution_count": 42,
   "id": "ec0833f9",
   "metadata": {
    "execution": {
     "iopub.execute_input": "2023-08-07T15:38:51.896378Z",
     "iopub.status.busy": "2023-08-07T15:38:51.895661Z",
     "iopub.status.idle": "2023-08-07T15:38:51.903165Z",
     "shell.execute_reply": "2023-08-07T15:38:51.902339Z"
    },
    "papermill": {
     "duration": 0.031546,
     "end_time": "2023-08-07T15:38:51.905355",
     "exception": false,
     "start_time": "2023-08-07T15:38:51.873809",
     "status": "completed"
    },
    "tags": []
   },
   "outputs": [],
   "source": [
    "grade_views=df.groupby('Grade')['Video views'].sum().sort_values(ascending=False)"
   ]
  },
  {
   "cell_type": "code",
   "execution_count": 43,
   "id": "e5a6e463",
   "metadata": {
    "execution": {
     "iopub.execute_input": "2023-08-07T15:38:51.943962Z",
     "iopub.status.busy": "2023-08-07T15:38:51.942898Z",
     "iopub.status.idle": "2023-08-07T15:38:52.190464Z",
     "shell.execute_reply": "2023-08-07T15:38:52.189176Z"
    },
    "papermill": {
     "duration": 0.269541,
     "end_time": "2023-08-07T15:38:52.193047",
     "exception": false,
     "start_time": "2023-08-07T15:38:51.923506",
     "status": "completed"
    },
    "tags": []
   },
   "outputs": [
    {
     "data": {
      "image/png": "[encoded data removed]",
      "text/plain": [
       "<Figure size 1000x600 with 1 Axes>"
      ]
     },
     "metadata": {},
     "output_type": "display_data"
    }
   ],
   "source": [
    "ax=grade_views.plot(kind='bar',figsize=(10,6))\n",
    "plt.xlabel('Grades')\n",
    "plt.ylabel('Video Views')\n",
    "plt.title('Grades With Highest number of Video Views')\n",
    "plt.show()"
   ]
  },
  {
   "cell_type": "markdown",
   "id": "dd6e37ed",
   "metadata": {
    "papermill": {
     "duration": 0.018366,
     "end_time": "2023-08-07T15:38:52.231120",
     "exception": false,
     "start_time": "2023-08-07T15:38:52.212754",
     "status": "completed"
    },
    "tags": []
   },
   "source": [
    "# **Overall Analysis Based on Grade**"
   ]
  },
  {
   "cell_type": "code",
   "execution_count": 44,
   "id": "a7b86e7c",
   "metadata": {
    "execution": {
     "iopub.execute_input": "2023-08-07T15:38:52.269835Z",
     "iopub.status.busy": "2023-08-07T15:38:52.269418Z",
     "iopub.status.idle": "2023-08-07T15:38:52.279986Z",
     "shell.execute_reply": "2023-08-07T15:38:52.279011Z"
    },
    "papermill": {
     "duration": 0.032883,
     "end_time": "2023-08-07T15:38:52.282406",
     "exception": false,
     "start_time": "2023-08-07T15:38:52.249523",
     "status": "completed"
    },
    "tags": []
   },
   "outputs": [
    {
     "name": "stderr",
     "output_type": "stream",
     "text": [
      "/tmp/ipykernel_21/3366762022.py:1: FutureWarning: The default value of numeric_only in DataFrameGroupBy.mean is deprecated. In a future version, numeric_only will default to False. Either specify numeric_only or select only columns which should be valid for the function.\n",
      "  data=df.groupby('Grade').mean()\n"
     ]
    }
   ],
   "source": [
    "data=df.groupby('Grade').mean()"
   ]
  },
  {
   "cell_type": "code",
   "execution_count": 45,
   "id": "5b8cc983",
   "metadata": {
    "execution": {
     "iopub.execute_input": "2023-08-07T15:38:52.321943Z",
     "iopub.status.busy": "2023-08-07T15:38:52.321504Z",
     "iopub.status.idle": "2023-08-07T15:38:52.732655Z",
     "shell.execute_reply": "2023-08-07T15:38:52.731465Z"
    },
    "papermill": {
     "duration": 0.433892,
     "end_time": "2023-08-07T15:38:52.735071",
     "exception": false,
     "start_time": "2023-08-07T15:38:52.301179",
     "status": "completed"
    },
    "tags": []
   },
   "outputs": [
    {
     "data": {
      "image/png": "[encoded data removed]",
      "text/plain": [
       "<Figure size 1000x600 with 1 Axes>"
      ]
     },
     "metadata": {},
     "output_type": "display_data"
    }
   ],
   "source": [
    "ax=data.plot(kind='bar',logy=True,figsize=(10,6))\n",
    "plt.xlabel('Grade')\n",
    "plt.ylabel('Logarithmic Scale')\n",
    "plt.title('Data Visualization by Rank (Grade)')\n",
    "plt.legend(title='Metrics', bbox_to_anchor=(1.05, 1), loc='upper left')\n",
    "plt.show()"
   ]
  }
 ],
 "metadata": {
  "kernelspec": {
   "display_name": "Python 3",
   "language": "python",
   "name": "python3"
  },
  "language_info": {
   "codemirror_mode": {
    "name": "ipython",
    "version": 3
   },
   "file_extension": ".py",
   "mimetype": "text/x-python",
   "name": "python",
   "nbconvert_exporter": "python",
   "pygments_lexer": "ipython3",
   "version": "3.10.12"
  },
  "papermill": {
   "default_parameters": {},
   "duration": 17.19658,
   "end_time": "2023-08-07T15:38:53.677675",
   "environment_variables": {},
   "exception": null,
   "input_path": "__notebook__.ipynb",
   "output_path": "__notebook__.ipynb",
   "parameters": {},
   "start_time": "2023-08-07T15:38:36.481095",
   "version": "2.4.0"
  }
 },
 "nbformat": 4,
 "nbformat_minor": 5
}
